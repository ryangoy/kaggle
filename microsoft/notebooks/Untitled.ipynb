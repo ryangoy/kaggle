{
 "cells": [
  {
   "cell_type": "code",
   "execution_count": 1,
   "metadata": {},
   "outputs": [],
   "source": [
    "import pandas as pd"
   ]
  },
  {
   "cell_type": "code",
   "execution_count": 6,
   "metadata": {},
   "outputs": [],
   "source": [
    "submission = pd.read_csv('/home/ryan/cs/datasets/microsoft/sample_submission.csv')\n",
    "nffm = pd.read_csv('/home/ryan/cs/kaggle/microsoft/notebooks/submissions/nffm.csv')\n",
    "mine = pd.read_csv('/home/ryan/cs/kaggle/microsoft/notebooks/submissions/final_sub.csv')\n",
    "msm = pd.read_csv('/home/ryan/cs/kaggle/microsoft/notebooks/submissions/ms_malware.csv')\n",
    "sb = pd.read_csv('/home/ryan/cs/kaggle/microsoft/notebooks/submissions/super_blend.csv')\n",
    "esv = pd.read_csv('/home/ryan/cs/kaggle/microsoft/notebooks/submissions/ens_sub_v16.csv')\n",
    "submission['HasDetections'] = 0.5*mine['HasDetections'] + 0.25*nffm['HasDetections'] + 0.1*msm['HasDetections'] \\\n",
    "                                +0.1*sb['HasDetections'] + 0.05*esv['HasDetections']\n",
    "submission.to_csv('submissions/averaged3.csv', index=False)"
   ]
  },
  {
   "cell_type": "code",
   "execution_count": null,
   "metadata": {},
   "outputs": [],
   "source": []
  }
 ],
 "metadata": {
  "kernelspec": {
   "display_name": "Python 3",
   "language": "python",
   "name": "python3"
  },
  "language_info": {
   "codemirror_mode": {
    "name": "ipython",
    "version": 3
   },
   "file_extension": ".py",
   "mimetype": "text/x-python",
   "name": "python",
   "nbconvert_exporter": "python",
   "pygments_lexer": "ipython3",
   "version": "3.5.2"
  }
 },
 "nbformat": 4,
 "nbformat_minor": 2
}
