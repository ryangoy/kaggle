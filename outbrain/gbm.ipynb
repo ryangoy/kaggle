{
 "cells": [
  {
   "cell_type": "markdown",
   "metadata": {},
   "source": [
    "# Outbrain advertisement click prediction\n",
    "by Ryan Goy, https://www.linkedin.com/in/goyryan\n",
    "\n",
    "useful links:\n",
    " - [10 minutes to pandas](http://pandas.pydata.org/pandas-docs/version/0.15.2/10min.html)\n",
    " - [EDA graphs](https://www.kaggle.com/anokas/outbrain-click-prediction/outbrain-eda)"
   ]
  },
  {
   "cell_type": "code",
   "execution_count": 1,
   "metadata": {
    "collapsed": true
   },
   "outputs": [],
   "source": [
    "import numpy as np\n",
    "from sklearn.ensemble import GradientBoostingClassifier\n",
    "import pandas as pd\n",
    "import os\n",
    "import gc\n",
    "import matplotlib.pyplot as plt\n",
    "import seaborn as sns\n",
    "import random\n",
    "import time\n",
    "import csv\n",
    "import gc\n",
    "\n",
    "%matplotlib inline"
   ]
  },
  {
   "cell_type": "markdown",
   "metadata": {},
   "source": [
    "### Import Datasets\n",
    "\n",
    "We'll start with importing the minimum amount of data in order to get a MVP for now and add more feature later when we're on the scoreboard. \n",
    "\n",
    " - click_train and clicks_test both have a display_id (the unique context it was displayed in) and an ad_id (the id of an ad it was)\n",
    " - events has information correlating to each display_id\n",
    " - promoted_content has information correlating to each ad_id\n",
    " - documents_meta has information elaborating on the document the ad links (nested in promoted_content)\n",
    " - page_views is the huge dataset with information about the type of people who visit the linked ads\n",
    " - documents_topics, documents_entities, and documents_categories all provide information about the content in the ad\n",
    " \n",
    "Thus, the possible characteristics we can train on are the following:\n",
    "\n",
    " - events: document_id, timestamp, platform, geo_location\n",
    " - promoted_content: document_id, campaign_id, advertiser_id\n",
    " - etc (will deal with other sets later)\n",
    " \n",
    "For now, I'm only using click_train, clicks_test, events, and promoted_content"
   ]
  },
  {
   "cell_type": "code",
   "execution_count": 2,
   "metadata": {
    "collapsed": false
   },
   "outputs": [],
   "source": [
    "clicks_train = pd.read_csv('../data/clicks_train.csv')\n",
    "clicks_test = pd.read_csv('../data/clicks_test.csv')"
   ]
  },
  {
   "cell_type": "code",
   "execution_count": 3,
   "metadata": {
    "collapsed": false
   },
   "outputs": [
    {
     "name": "stdout",
     "output_type": "stream",
     "text": [
      "(87141731, 3)\n",
      "(32225162, 2)\n"
     ]
    }
   ],
   "source": [
    "print clicks_train.shape\n",
    "print clicks_test.shape"
   ]
  },
  {
   "cell_type": "code",
   "execution_count": 4,
   "metadata": {
    "collapsed": false
   },
   "outputs": [
    {
     "name": "stderr",
     "output_type": "stream",
     "text": [
      "/home/ryan/Libraries/anaconda2/envs/tensorflow/lib/python2.7/site-packages/IPython/core/interactiveshell.py:2717: DtypeWarning: Columns (4) have mixed types. Specify dtype option on import or set low_memory=False.\n",
      "  interactivity=interactivity, compiler=compiler, result=result)\n"
     ]
    }
   ],
   "source": [
    "events = pd.read_csv('../data/events.csv')\n",
    "promoted_content = pd.read_csv('../data/promoted_content.csv')\n",
    "documents_metadata = pd.read_csv('../data/documents_meta.csv')\n",
    "documents_topics = pd.read_csv('../data/documents_topics.csv')\n",
    "documents_entities = pd.read_csv('../data/documents_entities.csv')\n",
    "documents_categories = pd.read_csv('../data/documents_categories.csv')"
   ]
  },
  {
   "cell_type": "markdown",
   "metadata": {},
   "source": [
    "### View/investigate datasets\n",
    "\n",
    "also see [this](https://www.kaggle.com/anokas/outbrain-click-prediction/outbrain-eda) for graphs"
   ]
  },
  {
   "cell_type": "code",
   "execution_count": 5,
   "metadata": {
    "collapsed": false
   },
   "outputs": [
    {
     "data": {
      "text/html": [
       "<div>\n",
       "<table border=\"1\" class=\"dataframe\">\n",
       "  <thead>\n",
       "    <tr style=\"text-align: right;\">\n",
       "      <th></th>\n",
       "      <th>display_id</th>\n",
       "      <th>ad_id</th>\n",
       "      <th>clicked</th>\n",
       "    </tr>\n",
       "  </thead>\n",
       "  <tbody>\n",
       "    <tr>\n",
       "      <th>0</th>\n",
       "      <td>1</td>\n",
       "      <td>42337</td>\n",
       "      <td>0</td>\n",
       "    </tr>\n",
       "    <tr>\n",
       "      <th>1</th>\n",
       "      <td>1</td>\n",
       "      <td>139684</td>\n",
       "      <td>0</td>\n",
       "    </tr>\n",
       "    <tr>\n",
       "      <th>2</th>\n",
       "      <td>1</td>\n",
       "      <td>144739</td>\n",
       "      <td>1</td>\n",
       "    </tr>\n",
       "    <tr>\n",
       "      <th>3</th>\n",
       "      <td>1</td>\n",
       "      <td>156824</td>\n",
       "      <td>0</td>\n",
       "    </tr>\n",
       "    <tr>\n",
       "      <th>4</th>\n",
       "      <td>1</td>\n",
       "      <td>279295</td>\n",
       "      <td>0</td>\n",
       "    </tr>\n",
       "  </tbody>\n",
       "</table>\n",
       "</div>"
      ],
      "text/plain": [
       "   display_id   ad_id  clicked\n",
       "0           1   42337        0\n",
       "1           1  139684        0\n",
       "2           1  144739        1\n",
       "3           1  156824        0\n",
       "4           1  279295        0"
      ]
     },
     "execution_count": 5,
     "metadata": {},
     "output_type": "execute_result"
    }
   ],
   "source": [
    "clicks_train.head()"
   ]
  },
  {
   "cell_type": "code",
   "execution_count": 6,
   "metadata": {
    "collapsed": false
   },
   "outputs": [
    {
     "name": "stdout",
     "output_type": "stream",
     "text": [
      "(87141731, 3)\n"
     ]
    }
   ],
   "source": [
    "print clicks_train.shape"
   ]
  },
  {
   "cell_type": "code",
   "execution_count": 7,
   "metadata": {
    "collapsed": false
   },
   "outputs": [
    {
     "data": {
      "text/html": [
       "<div>\n",
       "<table border=\"1\" class=\"dataframe\">\n",
       "  <thead>\n",
       "    <tr style=\"text-align: right;\">\n",
       "      <th></th>\n",
       "      <th>display_id</th>\n",
       "      <th>ad_id</th>\n",
       "    </tr>\n",
       "  </thead>\n",
       "  <tbody>\n",
       "    <tr>\n",
       "      <th>0</th>\n",
       "      <td>16874594</td>\n",
       "      <td>66758</td>\n",
       "    </tr>\n",
       "    <tr>\n",
       "      <th>1</th>\n",
       "      <td>16874594</td>\n",
       "      <td>150083</td>\n",
       "    </tr>\n",
       "    <tr>\n",
       "      <th>2</th>\n",
       "      <td>16874594</td>\n",
       "      <td>162754</td>\n",
       "    </tr>\n",
       "    <tr>\n",
       "      <th>3</th>\n",
       "      <td>16874594</td>\n",
       "      <td>170392</td>\n",
       "    </tr>\n",
       "    <tr>\n",
       "      <th>4</th>\n",
       "      <td>16874594</td>\n",
       "      <td>172888</td>\n",
       "    </tr>\n",
       "  </tbody>\n",
       "</table>\n",
       "</div>"
      ],
      "text/plain": [
       "   display_id   ad_id\n",
       "0    16874594   66758\n",
       "1    16874594  150083\n",
       "2    16874594  162754\n",
       "3    16874594  170392\n",
       "4    16874594  172888"
      ]
     },
     "execution_count": 7,
     "metadata": {},
     "output_type": "execute_result"
    }
   ],
   "source": [
    "clicks_test.head()"
   ]
  },
  {
   "cell_type": "code",
   "execution_count": 8,
   "metadata": {
    "collapsed": false
   },
   "outputs": [
    {
     "name": "stdout",
     "output_type": "stream",
     "text": [
      "(32225162, 2)\n"
     ]
    }
   ],
   "source": [
    "print clicks_test.shape"
   ]
  },
  {
   "cell_type": "code",
   "execution_count": 9,
   "metadata": {
    "collapsed": false
   },
   "outputs": [
    {
     "data": {
      "text/html": [
       "<div>\n",
       "<table border=\"1\" class=\"dataframe\">\n",
       "  <thead>\n",
       "    <tr style=\"text-align: right;\">\n",
       "      <th></th>\n",
       "      <th>display_id</th>\n",
       "      <th>uuid</th>\n",
       "      <th>document_id</th>\n",
       "      <th>timestamp</th>\n",
       "      <th>platform</th>\n",
       "      <th>geo_location</th>\n",
       "    </tr>\n",
       "  </thead>\n",
       "  <tbody>\n",
       "    <tr>\n",
       "      <th>0</th>\n",
       "      <td>1</td>\n",
       "      <td>cb8c55702adb93</td>\n",
       "      <td>379743</td>\n",
       "      <td>61</td>\n",
       "      <td>3</td>\n",
       "      <td>US&gt;SC&gt;519</td>\n",
       "    </tr>\n",
       "    <tr>\n",
       "      <th>1</th>\n",
       "      <td>2</td>\n",
       "      <td>79a85fa78311b9</td>\n",
       "      <td>1794259</td>\n",
       "      <td>81</td>\n",
       "      <td>2</td>\n",
       "      <td>US&gt;CA&gt;807</td>\n",
       "    </tr>\n",
       "    <tr>\n",
       "      <th>2</th>\n",
       "      <td>3</td>\n",
       "      <td>822932ce3d8757</td>\n",
       "      <td>1179111</td>\n",
       "      <td>182</td>\n",
       "      <td>2</td>\n",
       "      <td>US&gt;MI&gt;505</td>\n",
       "    </tr>\n",
       "    <tr>\n",
       "      <th>3</th>\n",
       "      <td>4</td>\n",
       "      <td>85281d0a49f7ac</td>\n",
       "      <td>1777797</td>\n",
       "      <td>234</td>\n",
       "      <td>2</td>\n",
       "      <td>US&gt;WV&gt;564</td>\n",
       "    </tr>\n",
       "    <tr>\n",
       "      <th>4</th>\n",
       "      <td>5</td>\n",
       "      <td>8d0daef4bf5b56</td>\n",
       "      <td>252458</td>\n",
       "      <td>338</td>\n",
       "      <td>2</td>\n",
       "      <td>SG&gt;00</td>\n",
       "    </tr>\n",
       "  </tbody>\n",
       "</table>\n",
       "</div>"
      ],
      "text/plain": [
       "   display_id            uuid  document_id  timestamp platform geo_location\n",
       "0           1  cb8c55702adb93       379743         61        3    US>SC>519\n",
       "1           2  79a85fa78311b9      1794259         81        2    US>CA>807\n",
       "2           3  822932ce3d8757      1179111        182        2    US>MI>505\n",
       "3           4  85281d0a49f7ac      1777797        234        2    US>WV>564\n",
       "4           5  8d0daef4bf5b56       252458        338        2        SG>00"
      ]
     },
     "execution_count": 9,
     "metadata": {},
     "output_type": "execute_result"
    }
   ],
   "source": [
    "events.head()"
   ]
  },
  {
   "cell_type": "code",
   "execution_count": 10,
   "metadata": {
    "collapsed": false
   },
   "outputs": [
    {
     "data": {
      "text/html": [
       "<div>\n",
       "<table border=\"1\" class=\"dataframe\">\n",
       "  <thead>\n",
       "    <tr style=\"text-align: right;\">\n",
       "      <th></th>\n",
       "      <th>ad_id</th>\n",
       "      <th>document_id</th>\n",
       "      <th>campaign_id</th>\n",
       "      <th>advertiser_id</th>\n",
       "    </tr>\n",
       "  </thead>\n",
       "  <tbody>\n",
       "    <tr>\n",
       "      <th>0</th>\n",
       "      <td>1</td>\n",
       "      <td>6614</td>\n",
       "      <td>1</td>\n",
       "      <td>7</td>\n",
       "    </tr>\n",
       "    <tr>\n",
       "      <th>1</th>\n",
       "      <td>2</td>\n",
       "      <td>471467</td>\n",
       "      <td>2</td>\n",
       "      <td>7</td>\n",
       "    </tr>\n",
       "    <tr>\n",
       "      <th>2</th>\n",
       "      <td>3</td>\n",
       "      <td>7692</td>\n",
       "      <td>3</td>\n",
       "      <td>7</td>\n",
       "    </tr>\n",
       "    <tr>\n",
       "      <th>3</th>\n",
       "      <td>4</td>\n",
       "      <td>471471</td>\n",
       "      <td>2</td>\n",
       "      <td>7</td>\n",
       "    </tr>\n",
       "    <tr>\n",
       "      <th>4</th>\n",
       "      <td>5</td>\n",
       "      <td>471472</td>\n",
       "      <td>2</td>\n",
       "      <td>7</td>\n",
       "    </tr>\n",
       "  </tbody>\n",
       "</table>\n",
       "</div>"
      ],
      "text/plain": [
       "   ad_id  document_id  campaign_id  advertiser_id\n",
       "0      1         6614            1              7\n",
       "1      2       471467            2              7\n",
       "2      3         7692            3              7\n",
       "3      4       471471            2              7\n",
       "4      5       471472            2              7"
      ]
     },
     "execution_count": 10,
     "metadata": {},
     "output_type": "execute_result"
    }
   ],
   "source": [
    "promoted_content.head()"
   ]
  },
  {
   "cell_type": "code",
   "execution_count": 11,
   "metadata": {
    "collapsed": false
   },
   "outputs": [
    {
     "name": "stdout",
     "output_type": "stream",
     "text": [
      "(559583, 4)\n"
     ]
    }
   ],
   "source": [
    "print promoted_content.shape"
   ]
  },
  {
   "cell_type": "code",
   "execution_count": 12,
   "metadata": {
    "collapsed": false
   },
   "outputs": [
    {
     "data": {
      "text/html": [
       "<div>\n",
       "<table border=\"1\" class=\"dataframe\">\n",
       "  <thead>\n",
       "    <tr style=\"text-align: right;\">\n",
       "      <th></th>\n",
       "      <th>document_id</th>\n",
       "      <th>source_id</th>\n",
       "      <th>publisher_id</th>\n",
       "      <th>publish_time</th>\n",
       "    </tr>\n",
       "  </thead>\n",
       "  <tbody>\n",
       "    <tr>\n",
       "      <th>0</th>\n",
       "      <td>1595802</td>\n",
       "      <td>1.0</td>\n",
       "      <td>603.0</td>\n",
       "      <td>2016-06-05 00:00:00</td>\n",
       "    </tr>\n",
       "    <tr>\n",
       "      <th>1</th>\n",
       "      <td>1524246</td>\n",
       "      <td>1.0</td>\n",
       "      <td>603.0</td>\n",
       "      <td>2016-05-26 11:00:00</td>\n",
       "    </tr>\n",
       "    <tr>\n",
       "      <th>2</th>\n",
       "      <td>1617787</td>\n",
       "      <td>1.0</td>\n",
       "      <td>603.0</td>\n",
       "      <td>2016-05-27 00:00:00</td>\n",
       "    </tr>\n",
       "    <tr>\n",
       "      <th>3</th>\n",
       "      <td>1615583</td>\n",
       "      <td>1.0</td>\n",
       "      <td>603.0</td>\n",
       "      <td>2016-06-07 00:00:00</td>\n",
       "    </tr>\n",
       "    <tr>\n",
       "      <th>4</th>\n",
       "      <td>1615460</td>\n",
       "      <td>1.0</td>\n",
       "      <td>603.0</td>\n",
       "      <td>2016-06-20 00:00:00</td>\n",
       "    </tr>\n",
       "  </tbody>\n",
       "</table>\n",
       "</div>"
      ],
      "text/plain": [
       "   document_id  source_id  publisher_id         publish_time\n",
       "0      1595802        1.0         603.0  2016-06-05 00:00:00\n",
       "1      1524246        1.0         603.0  2016-05-26 11:00:00\n",
       "2      1617787        1.0         603.0  2016-05-27 00:00:00\n",
       "3      1615583        1.0         603.0  2016-06-07 00:00:00\n",
       "4      1615460        1.0         603.0  2016-06-20 00:00:00"
      ]
     },
     "execution_count": 12,
     "metadata": {},
     "output_type": "execute_result"
    }
   ],
   "source": [
    "documents_metadata.head()"
   ]
  },
  {
   "cell_type": "code",
   "execution_count": 13,
   "metadata": {
    "collapsed": false
   },
   "outputs": [
    {
     "data": {
      "text/html": [
       "<div>\n",
       "<table border=\"1\" class=\"dataframe\">\n",
       "  <thead>\n",
       "    <tr style=\"text-align: right;\">\n",
       "      <th></th>\n",
       "      <th>document_id</th>\n",
       "      <th>entity_id</th>\n",
       "      <th>confidence_level</th>\n",
       "    </tr>\n",
       "  </thead>\n",
       "  <tbody>\n",
       "    <tr>\n",
       "      <th>0</th>\n",
       "      <td>1524246</td>\n",
       "      <td>f9eec25663db4cd83183f5c805186f16</td>\n",
       "      <td>0.672865</td>\n",
       "    </tr>\n",
       "    <tr>\n",
       "      <th>1</th>\n",
       "      <td>1524246</td>\n",
       "      <td>55ebcfbdaff1d6f60b3907151f38527a</td>\n",
       "      <td>0.399114</td>\n",
       "    </tr>\n",
       "    <tr>\n",
       "      <th>2</th>\n",
       "      <td>1524246</td>\n",
       "      <td>839907a972930b17b125eb0247898412</td>\n",
       "      <td>0.392096</td>\n",
       "    </tr>\n",
       "    <tr>\n",
       "      <th>3</th>\n",
       "      <td>1524246</td>\n",
       "      <td>04d8f9a1ad48f126d5806a9236872604</td>\n",
       "      <td>0.213996</td>\n",
       "    </tr>\n",
       "    <tr>\n",
       "      <th>4</th>\n",
       "      <td>1617787</td>\n",
       "      <td>612a1d17685a498aff4f036c1ee02c16</td>\n",
       "      <td>0.386193</td>\n",
       "    </tr>\n",
       "  </tbody>\n",
       "</table>\n",
       "</div>"
      ],
      "text/plain": [
       "   document_id                         entity_id  confidence_level\n",
       "0      1524246  f9eec25663db4cd83183f5c805186f16          0.672865\n",
       "1      1524246  55ebcfbdaff1d6f60b3907151f38527a          0.399114\n",
       "2      1524246  839907a972930b17b125eb0247898412          0.392096\n",
       "3      1524246  04d8f9a1ad48f126d5806a9236872604          0.213996\n",
       "4      1617787  612a1d17685a498aff4f036c1ee02c16          0.386193"
      ]
     },
     "execution_count": 13,
     "metadata": {},
     "output_type": "execute_result"
    }
   ],
   "source": [
    "documents_entities.head()"
   ]
  },
  {
   "cell_type": "code",
   "execution_count": 14,
   "metadata": {
    "collapsed": false
   },
   "outputs": [
    {
     "data": {
      "text/html": [
       "<div>\n",
       "<table border=\"1\" class=\"dataframe\">\n",
       "  <thead>\n",
       "    <tr style=\"text-align: right;\">\n",
       "      <th></th>\n",
       "      <th>document_id</th>\n",
       "      <th>category_id</th>\n",
       "      <th>confidence_level</th>\n",
       "    </tr>\n",
       "  </thead>\n",
       "  <tbody>\n",
       "    <tr>\n",
       "      <th>0</th>\n",
       "      <td>1595802</td>\n",
       "      <td>1611</td>\n",
       "      <td>0.92</td>\n",
       "    </tr>\n",
       "    <tr>\n",
       "      <th>1</th>\n",
       "      <td>1595802</td>\n",
       "      <td>1610</td>\n",
       "      <td>0.07</td>\n",
       "    </tr>\n",
       "    <tr>\n",
       "      <th>2</th>\n",
       "      <td>1524246</td>\n",
       "      <td>1807</td>\n",
       "      <td>0.92</td>\n",
       "    </tr>\n",
       "    <tr>\n",
       "      <th>3</th>\n",
       "      <td>1524246</td>\n",
       "      <td>1608</td>\n",
       "      <td>0.07</td>\n",
       "    </tr>\n",
       "    <tr>\n",
       "      <th>4</th>\n",
       "      <td>1617787</td>\n",
       "      <td>1807</td>\n",
       "      <td>0.92</td>\n",
       "    </tr>\n",
       "  </tbody>\n",
       "</table>\n",
       "</div>"
      ],
      "text/plain": [
       "   document_id  category_id  confidence_level\n",
       "0      1595802         1611              0.92\n",
       "1      1595802         1610              0.07\n",
       "2      1524246         1807              0.92\n",
       "3      1524246         1608              0.07\n",
       "4      1617787         1807              0.92"
      ]
     },
     "execution_count": 14,
     "metadata": {},
     "output_type": "execute_result"
    }
   ],
   "source": [
    "documents_categories.head()"
   ]
  },
  {
   "cell_type": "code",
   "execution_count": 15,
   "metadata": {
    "collapsed": false
   },
   "outputs": [
    {
     "data": {
      "text/html": [
       "<div>\n",
       "<table border=\"1\" class=\"dataframe\">\n",
       "  <thead>\n",
       "    <tr style=\"text-align: right;\">\n",
       "      <th></th>\n",
       "      <th>document_id</th>\n",
       "      <th>topic_id</th>\n",
       "      <th>confidence_level</th>\n",
       "    </tr>\n",
       "  </thead>\n",
       "  <tbody>\n",
       "    <tr>\n",
       "      <th>0</th>\n",
       "      <td>1595802</td>\n",
       "      <td>140</td>\n",
       "      <td>0.073113</td>\n",
       "    </tr>\n",
       "    <tr>\n",
       "      <th>1</th>\n",
       "      <td>1595802</td>\n",
       "      <td>16</td>\n",
       "      <td>0.059416</td>\n",
       "    </tr>\n",
       "    <tr>\n",
       "      <th>2</th>\n",
       "      <td>1595802</td>\n",
       "      <td>143</td>\n",
       "      <td>0.045421</td>\n",
       "    </tr>\n",
       "    <tr>\n",
       "      <th>3</th>\n",
       "      <td>1595802</td>\n",
       "      <td>170</td>\n",
       "      <td>0.038867</td>\n",
       "    </tr>\n",
       "    <tr>\n",
       "      <th>4</th>\n",
       "      <td>1524246</td>\n",
       "      <td>113</td>\n",
       "      <td>0.196450</td>\n",
       "    </tr>\n",
       "  </tbody>\n",
       "</table>\n",
       "</div>"
      ],
      "text/plain": [
       "   document_id  topic_id  confidence_level\n",
       "0      1595802       140          0.073113\n",
       "1      1595802        16          0.059416\n",
       "2      1595802       143          0.045421\n",
       "3      1595802       170          0.038867\n",
       "4      1524246       113          0.196450"
      ]
     },
     "execution_count": 15,
     "metadata": {},
     "output_type": "execute_result"
    }
   ],
   "source": [
    "documents_topics.head()"
   ]
  },
  {
   "cell_type": "code",
   "execution_count": 16,
   "metadata": {
    "collapsed": false
   },
   "outputs": [
    {
     "name": "stdout",
     "output_type": "stream",
     "text": [
      "Ads that appear less than 2 times: 22.69%\n",
      "Ads that appear less than 10 times: 61.74%\n",
      "Ads that appear less than 50 times: 86.93%\n",
      "Ads that appear less than 100 times: 91.04%\n",
      "Ads that appear less than 1000 times: 97.45%\n"
     ]
    },
    {
     "data": {
      "image/png": "[encoded data removed]",
      "text/plain": [
       "<matplotlib.figure.Figure at 0x7f133927f510>"
      ]
     },
     "metadata": {},
     "output_type": "display_data"
    }
   ],
   "source": [
    "ad_usage_train = clicks_train.groupby('ad_id')['ad_id'].count()\n",
    "\n",
    "for i in [2, 10, 50, 100, 1000]:\n",
    "    print('Ads that appear less than {} times: {}%'.format(i, round((ad_usage_train < i).mean() * 100, 2)))\n",
    "\n",
    "plt.figure(figsize=(12, 6))\n",
    "plt.hist(ad_usage_train.values, bins=50, log=True)\n",
    "plt.xlabel('Number of times ad appeared', fontsize=12)\n",
    "plt.ylabel('log(Count of displays with ad)', fontsize=12)\n",
    "plt.show()"
   ]
  },
  {
   "cell_type": "code",
   "execution_count": 17,
   "metadata": {
    "collapsed": false
   },
   "outputs": [
    {
     "data": {
      "text/plain": [
       "<pandas.core.groupby.DataFrameGroupBy object at 0x7f12c30caa10>"
      ]
     },
     "execution_count": 17,
     "metadata": {},
     "output_type": "execute_result"
    }
   ],
   "source": [
    "documents_categories.groupby('document_id')"
   ]
  },
  {
   "cell_type": "code",
   "execution_count": 18,
   "metadata": {
    "collapsed": false
   },
   "outputs": [],
   "source": [
    "L = ['A','A','B','B','B','C']\n",
    "N = [1,2,5,5,4,6]\n",
    "P = [1, 2, 1, 2, 3, 1]\n",
    "mf = pd.DataFrame(zip(L,N,P),columns = list('LNP'))\n",
    "groups = mf.iloc[mf.groupby(mf.L).apply(lambda x: x['P'].idxmax())]"
   ]
  },
  {
   "cell_type": "code",
   "execution_count": 19,
   "metadata": {
    "collapsed": false
   },
   "outputs": [
    {
     "data": {
      "text/html": [
       "<div>\n",
       "<table border=\"1\" class=\"dataframe\">\n",
       "  <thead>\n",
       "    <tr style=\"text-align: right;\">\n",
       "      <th></th>\n",
       "      <th>L</th>\n",
       "      <th>N</th>\n",
       "      <th>P</th>\n",
       "    </tr>\n",
       "  </thead>\n",
       "  <tbody>\n",
       "    <tr>\n",
       "      <th>1</th>\n",
       "      <td>A</td>\n",
       "      <td>2</td>\n",
       "      <td>2</td>\n",
       "    </tr>\n",
       "    <tr>\n",
       "      <th>4</th>\n",
       "      <td>B</td>\n",
       "      <td>4</td>\n",
       "      <td>3</td>\n",
       "    </tr>\n",
       "    <tr>\n",
       "      <th>5</th>\n",
       "      <td>C</td>\n",
       "      <td>6</td>\n",
       "      <td>1</td>\n",
       "    </tr>\n",
       "  </tbody>\n",
       "</table>\n",
       "</div>"
      ],
      "text/plain": [
       "   L  N  P\n",
       "1  A  2  2\n",
       "4  B  4  3\n",
       "5  C  6  1"
      ]
     },
     "execution_count": 19,
     "metadata": {},
     "output_type": "execute_result"
    }
   ],
   "source": [
    "groups"
   ]
  },
  {
   "cell_type": "code",
   "execution_count": 20,
   "metadata": {
    "collapsed": false
   },
   "outputs": [],
   "source": [
    "dc = documents_categories.iloc[documents_categories.groupby('document_id').apply(lambda x: x['document_id'].idxmax())]"
   ]
  },
  {
   "cell_type": "markdown",
   "metadata": {},
   "source": [
    "### Format and load training data\n",
    "each click has document_from, timestamp, platform, geo_location, document_to, campaign_id, advertiser_id (so far)"
   ]
  },
  {
   "cell_type": "code",
   "execution_count": 21,
   "metadata": {
    "collapsed": false
   },
   "outputs": [],
   "source": [
    "# ad_id, document_from, timestamp, platform, geo_location, document_to, campaign_id, advertiser_id\n",
    "\n",
    "def load_raw_joined_train_df():\n",
    "    \n",
    "    # join clicks_train, events, and promoted_content\n",
    "    ads_info = promoted_content.merge(documents_metadata, on='document_id', how='inner')\n",
    "    #dc = documents_categories.iloc[documents_categories.groupby('document_id').apply(lambda x: x['document_id'].idxmax())]\n",
    "    #ads_info = ads_info.merge(documents_topics, on='document_id', how='inner')\n",
    "    ads_info = ads_info.merge(dc, on='document_id', how='left')\n",
    "    #ads_info = ads_info.drop('document_id', 1)\n",
    "    \n",
    "    combined = clicks_train.merge(events, on='display_id', how='inner')\n",
    "    combined = combined.drop('document_id', 1)\n",
    "    #combined = combined.drop('display_id', 1)\n",
    "    combined = combined.drop('uuid', 1)\n",
    "    \n",
    "    combined = combined.merge(ads_info, on='ad_id', how='inner', suffixes=('_from', '_to'))\n",
    "    #combined = combined.drop('ad_id', 1)\n",
    "\n",
    "    combined = combined.sort_values('display_id')\n",
    "    # load labels\n",
    "    labels = combined['clicked'].as_matrix()\n",
    "    one_hot = np.zeros((len(labels), 2))\n",
    "    one_hot[np.arange(len(labels)), labels] = 1\n",
    "    \n",
    "    return combined, one_hot.astype(\"float\")\n",
    "    \n",
    "\n",
    "def load_next_train_data(data, labels, batch_size):\n",
    "    index = random.randint(1, len(clicks_train.index)-batch_size)\n",
    "    return data[index:index+batch_size], labels[index:index+batch_size]\n",
    "\n",
    "def load_raw_joined_test_df():\n",
    "    # join clicks_train, events, and promoted_content\n",
    "    ads_info = promoted_content.merge(documents_metadata, on='document_id', how='inner')\n",
    "    #ads_info = ads_info.merge(documents_topics, on='document_id', how='inner')\n",
    "    ads_info = ads_info.merge(dc, on='document_id', how='left')\n",
    "    #ads_info = ads_info.drop('document_id', 1)\n",
    "    \n",
    "    combined = clicks_test.merge(events, on='display_id', how='inner')\n",
    "    combined = combined.drop('document_id', 1)\n",
    "    #combined = combined.drop('display_id', 1)\n",
    "    combined = combined.drop('uuid', 1)\n",
    "    \n",
    "    combined = combined.merge(ads_info, on='ad_id', how='inner', suffixes=('_from', '_to'))\n",
    "    #combined = combined.drop('ad_id', 1)\n",
    "    combined = combined.sort_values('display_id')\n",
    "    \n",
    "    return combined, combined['display_id'], combined['ad_id']\n",
    "    \n"
   ]
  },
  {
   "cell_type": "code",
   "execution_count": 22,
   "metadata": {
    "collapsed": false,
    "scrolled": true
   },
   "outputs": [],
   "source": [
    "start = time.time()\n",
    "data, labels = load_raw_joined_train_df()\n",
    "end = time.time()"
   ]
  },
  {
   "cell_type": "code",
   "execution_count": 23,
   "metadata": {
    "collapsed": false
   },
   "outputs": [
    {
     "name": "stdout",
     "output_type": "stream",
     "text": [
      "seconds to load train data: 43.9093050957\n"
     ]
    }
   ],
   "source": [
    "print 'seconds to load train data: ' + str(end-start)"
   ]
  },
  {
   "cell_type": "code",
   "execution_count": 24,
   "metadata": {
    "collapsed": false
   },
   "outputs": [
    {
     "data": {
      "text/html": [
       "<div>\n",
       "<table border=\"1\" class=\"dataframe\">\n",
       "  <thead>\n",
       "    <tr style=\"text-align: right;\">\n",
       "      <th></th>\n",
       "      <th>display_id</th>\n",
       "      <th>ad_id</th>\n",
       "      <th>clicked</th>\n",
       "      <th>timestamp</th>\n",
       "      <th>platform</th>\n",
       "      <th>geo_location</th>\n",
       "      <th>document_id</th>\n",
       "      <th>campaign_id</th>\n",
       "      <th>advertiser_id</th>\n",
       "      <th>source_id</th>\n",
       "      <th>publisher_id</th>\n",
       "      <th>publish_time</th>\n",
       "      <th>category_id</th>\n",
       "      <th>confidence_level</th>\n",
       "    </tr>\n",
       "  </thead>\n",
       "  <tbody>\n",
       "    <tr>\n",
       "      <th>0</th>\n",
       "      <td>1</td>\n",
       "      <td>42337</td>\n",
       "      <td>0</td>\n",
       "      <td>61</td>\n",
       "      <td>3</td>\n",
       "      <td>US&gt;SC&gt;519</td>\n",
       "      <td>938164</td>\n",
       "      <td>5969</td>\n",
       "      <td>1499</td>\n",
       "      <td>5802.0</td>\n",
       "      <td>NaN</td>\n",
       "      <td>2016-07-27 00:00:00</td>\n",
       "      <td>2100.0</td>\n",
       "      <td>0.920000</td>\n",
       "    </tr>\n",
       "    <tr>\n",
       "      <th>69905</th>\n",
       "      <td>1</td>\n",
       "      <td>156824</td>\n",
       "      <td>0</td>\n",
       "      <td>61</td>\n",
       "      <td>3</td>\n",
       "      <td>US&gt;SC&gt;519</td>\n",
       "      <td>992370</td>\n",
       "      <td>7283</td>\n",
       "      <td>1919</td>\n",
       "      <td>8064.0</td>\n",
       "      <td>NaN</td>\n",
       "      <td>2015-07-24 00:00:00</td>\n",
       "      <td>1503.0</td>\n",
       "      <td>0.920000</td>\n",
       "    </tr>\n",
       "    <tr>\n",
       "      <th>128341</th>\n",
       "      <td>1</td>\n",
       "      <td>279295</td>\n",
       "      <td>0</td>\n",
       "      <td>61</td>\n",
       "      <td>3</td>\n",
       "      <td>US&gt;SC&gt;519</td>\n",
       "      <td>1670176</td>\n",
       "      <td>27524</td>\n",
       "      <td>1820</td>\n",
       "      <td>8239.0</td>\n",
       "      <td>NaN</td>\n",
       "      <td>2016-06-02 03:00:00</td>\n",
       "      <td>1403.0</td>\n",
       "      <td>0.376439</td>\n",
       "    </tr>\n",
       "    <tr>\n",
       "      <th>128676</th>\n",
       "      <td>1</td>\n",
       "      <td>296965</td>\n",
       "      <td>0</td>\n",
       "      <td>61</td>\n",
       "      <td>3</td>\n",
       "      <td>US&gt;SC&gt;519</td>\n",
       "      <td>1133290</td>\n",
       "      <td>28334</td>\n",
       "      <td>3922</td>\n",
       "      <td>10980.0</td>\n",
       "      <td>NaN</td>\n",
       "      <td>NaN</td>\n",
       "      <td>1403.0</td>\n",
       "      <td>0.424131</td>\n",
       "    </tr>\n",
       "    <tr>\n",
       "      <th>12978</th>\n",
       "      <td>1</td>\n",
       "      <td>144739</td>\n",
       "      <td>1</td>\n",
       "      <td>61</td>\n",
       "      <td>3</td>\n",
       "      <td>US&gt;SC&gt;519</td>\n",
       "      <td>1337362</td>\n",
       "      <td>18488</td>\n",
       "      <td>2909</td>\n",
       "      <td>11328.0</td>\n",
       "      <td>NaN</td>\n",
       "      <td>2016-04-24 08:00:00</td>\n",
       "      <td>1805.0</td>\n",
       "      <td>0.920000</td>\n",
       "    </tr>\n",
       "  </tbody>\n",
       "</table>\n",
       "</div>"
      ],
      "text/plain": [
       "        display_id   ad_id  clicked  timestamp platform geo_location  \\\n",
       "0                1   42337        0         61        3    US>SC>519   \n",
       "69905            1  156824        0         61        3    US>SC>519   \n",
       "128341           1  279295        0         61        3    US>SC>519   \n",
       "128676           1  296965        0         61        3    US>SC>519   \n",
       "12978            1  144739        1         61        3    US>SC>519   \n",
       "\n",
       "        document_id  campaign_id  advertiser_id  source_id  publisher_id  \\\n",
       "0            938164         5969           1499     5802.0           NaN   \n",
       "69905        992370         7283           1919     8064.0           NaN   \n",
       "128341      1670176        27524           1820     8239.0           NaN   \n",
       "128676      1133290        28334           3922    10980.0           NaN   \n",
       "12978       1337362        18488           2909    11328.0           NaN   \n",
       "\n",
       "               publish_time  category_id  confidence_level  \n",
       "0       2016-07-27 00:00:00       2100.0          0.920000  \n",
       "69905   2015-07-24 00:00:00       1503.0          0.920000  \n",
       "128341  2016-06-02 03:00:00       1403.0          0.376439  \n",
       "128676                  NaN       1403.0          0.424131  \n",
       "12978   2016-04-24 08:00:00       1805.0          0.920000  "
      ]
     },
     "execution_count": 24,
     "metadata": {},
     "output_type": "execute_result"
    }
   ],
   "source": [
    "data.head()"
   ]
  },
  {
   "cell_type": "markdown",
   "metadata": {},
   "source": [
    "Now, since everything is categorical, we need to do some feature engineering"
   ]
  },
  {
   "cell_type": "code",
   "execution_count": 25,
   "metadata": {
    "collapsed": false
   },
   "outputs": [],
   "source": [
    "def time_split_featurize(df):\n",
    "    df[\"timestamp\"] = df[\"timestamp\"].add(1465876799998)\n",
    "    data[\"timestamp\"] = pd.to_datetime(data[\"timestamp\"],unit='ms')\n",
    "    df[\"day\"] = pd.DatetimeIndex(df[\"timestamp\"]).day\n",
    "    df[\"hour\"] = pd.DatetimeIndex(df[\"timestamp\"]).hour\n",
    "    \n",
    "def location_featurize(df):\n",
    "    k = pd.DataFrame(df['geo_location'].str.split('>',2).tolist(),\n",
    "                                              columns  = ['country','state','area'])\n",
    "    df = pd.concat([df, k], axis = 1)\n",
    "    #print df.head()\n",
    "    return df\n",
    "\n",
    "def frequency_featurize(df, features, freq_tables=None):\n",
    "    training = False\n",
    "    if freq_tables == None:\n",
    "        positive_examples = df[df['clicked'] == 1]\n",
    "        training = True\n",
    "        freq_tables = []\n",
    "        \n",
    "    for i in range(len(features)):\n",
    "        if training:\n",
    "            tcount_table = df[features[i]].value_counts()\n",
    "            pcount_table = positive_examples[features[i]].value_counts()\n",
    "            freq_table = pcount_table.divide(tcount_table)\n",
    "            #freq_table = tcount_table\n",
    "            freq_tables.append(freq_table)\n",
    "        else:\n",
    "            freq_table = freq_tables[i]\n",
    "        new_vec = freq_table[df[features[i]]]\n",
    "        df[features[i] + '_freq'] = new_vec.values\n",
    "    return freq_tables\n",
    "\n",
    "def count_featurize(df, features, freq_tables=None):\n",
    "    training = False\n",
    "    if freq_tables == None:\n",
    "        positive_examples = df[df['clicked'] == 1]\n",
    "        training = True\n",
    "        freq_tables = []\n",
    "        \n",
    "    for i in range(len(features)):\n",
    "        if training:\n",
    "            tcount_table = df[features[i]].value_counts()\n",
    "            pcount_table = positive_examples[features[i]].value_counts()\n",
    "            #freq_table = pcount_table.divide(tcount_table)\n",
    "            freq_table = tcount_table\n",
    "            freq_tables.append(freq_table)\n",
    "        else:\n",
    "            freq_table = freq_tables[i]\n",
    "        new_vec = freq_table[df[features[i]]]\n",
    "        df[features[i] + '_count'] = new_vec.values\n",
    "    return freq_tables\n",
    "\n",
    "def one_hot_featurize(df, features):\n",
    "    return pd.get_dummies(df, columns=features)\n",
    "\n",
    "def norm_df(df):\n",
    "    new_df = (df - df.mean()) / (df.max() - df.min())\n",
    "    new_df = new_df.fillna(0.0)\n",
    "    return new_df\n",
    "\n",
    "def process(df, count_tables=None, freq_tables=None ):\n",
    "    df['platform'] = pd.to_numeric(df['platform'], errors='coerce')\n",
    "\n",
    "    df['geo_location'] = df['geo_location'].fillna(\"ZZ>ZZ>-1\")\n",
    "\n",
    "    time_split_featurize(df)\n",
    "\n",
    "    #df = location_featurize(df)\n",
    "    print 'local'\n",
    "    print df.head()\n",
    "    df = df.fillna(0.0)\n",
    "    print 'fill na'\n",
    "    print df.head()\n",
    "    #count_tables = count_featurize(df, [], count_tables)\n",
    "    count_tables = None\n",
    "    freq_tables = frequency_featurize(df, ['ad_id', 'category_id', 'publisher_id','advertiser_id', 'source_id', 'campaign_id'], freq_tables)\n",
    "    simple_data = df[['ad_id_freq', 'category_id_freq', 'confidence_level', 'publisher_id_freq', 'advertiser_id_freq', \\\n",
    "            'source_id_freq', 'campaign_id_freq', 'platform', 'day', 'hour']]\n",
    "    #normed = norm_df(simple_data)\n",
    "    #print normed.head()\n",
    "    simple_data['platform'] = pd.to_numeric(data['platform'], errors='coerce')\n",
    "    #simple_data['area'] = pd.to_numeric(df['area'], errors='coerce')\n",
    "    ret = one_hot_featurize(simple_data, ['platform'])\n",
    "    \n",
    "    return ret, freq_tables, count_tables"
   ]
  },
  {
   "cell_type": "code",
   "execution_count": 26,
   "metadata": {
    "collapsed": false,
    "scrolled": true
   },
   "outputs": [
    {
     "name": "stdout",
     "output_type": "stream",
     "text": [
      "local\n",
      "        display_id   ad_id  clicked               timestamp  platform  \\\n",
      "0                1   42337        0 2016-06-14 04:00:00.059       3.0   \n",
      "69905            1  156824        0 2016-06-14 04:00:00.059       3.0   \n",
      "128341           1  279295        0 2016-06-14 04:00:00.059       3.0   \n",
      "128676           1  296965        0 2016-06-14 04:00:00.059       3.0   \n",
      "12978            1  144739        1 2016-06-14 04:00:00.059       3.0   \n",
      "\n",
      "       geo_location  document_id  campaign_id  advertiser_id  source_id  \\\n",
      "0         US>SC>519       938164         5969           1499     5802.0   \n",
      "69905     US>SC>519       992370         7283           1919     8064.0   \n",
      "128341    US>SC>519      1670176        27524           1820     8239.0   \n",
      "128676    US>SC>519      1133290        28334           3922    10980.0   \n",
      "12978     US>SC>519      1337362        18488           2909    11328.0   \n",
      "\n",
      "        publisher_id         publish_time  category_id  confidence_level  day  \\\n",
      "0                NaN  2016-07-27 00:00:00       2100.0          0.920000   14   \n",
      "69905            NaN  2015-07-24 00:00:00       1503.0          0.920000   14   \n",
      "128341           NaN  2016-06-02 03:00:00       1403.0          0.376439   14   \n",
      "128676           NaN                  NaN       1403.0          0.424131   14   \n",
      "12978            NaN  2016-04-24 08:00:00       1805.0          0.920000   14   \n",
      "\n",
      "        hour  \n",
      "0          4  \n",
      "69905      4  \n",
      "128341     4  \n",
      "128676     4  \n",
      "12978      4  \n",
      "fill na\n",
      "        display_id   ad_id  clicked               timestamp  platform  \\\n",
      "0                1   42337        0 2016-06-14 04:00:00.059       3.0   \n",
      "69905            1  156824        0 2016-06-14 04:00:00.059       3.0   \n",
      "128341           1  279295        0 2016-06-14 04:00:00.059       3.0   \n",
      "128676           1  296965        0 2016-06-14 04:00:00.059       3.0   \n",
      "12978            1  144739        1 2016-06-14 04:00:00.059       3.0   \n",
      "\n",
      "       geo_location  document_id  campaign_id  advertiser_id  source_id  \\\n",
      "0         US>SC>519       938164         5969           1499     5802.0   \n",
      "69905     US>SC>519       992370         7283           1919     8064.0   \n",
      "128341    US>SC>519      1670176        27524           1820     8239.0   \n",
      "128676    US>SC>519      1133290        28334           3922    10980.0   \n",
      "12978     US>SC>519      1337362        18488           2909    11328.0   \n",
      "\n",
      "        publisher_id         publish_time  category_id  confidence_level  day  \\\n",
      "0                0.0  2016-07-27 00:00:00       2100.0          0.920000   14   \n",
      "69905            0.0  2015-07-24 00:00:00       1503.0          0.920000   14   \n",
      "128341           0.0  2016-06-02 03:00:00       1403.0          0.376439   14   \n",
      "128676           0.0                    0       1403.0          0.424131   14   \n",
      "12978            0.0  2016-04-24 08:00:00       1805.0          0.920000   14   \n",
      "\n",
      "        hour  \n",
      "0          4  \n",
      "69905      4  \n",
      "128341     4  \n",
      "128676     4  \n",
      "12978      4  \n"
     ]
    },
    {
     "name": "stderr",
     "output_type": "stream",
     "text": [
      "/home/ryan/Libraries/anaconda2/envs/tensorflow/lib/python2.7/site-packages/ipykernel/__main__.py:81: SettingWithCopyWarning: \n",
      "A value is trying to be set on a copy of a slice from a DataFrame.\n",
      "Try using .loc[row_indexer,col_indexer] = value instead\n",
      "\n",
      "See the caveats in the documentation: http://pandas.pydata.org/pandas-docs/stable/indexing.html#indexing-view-versus-copy\n"
     ]
    }
   ],
   "source": [
    "train_normed, freq_tables, count_tables = process(data)"
   ]
  },
  {
   "cell_type": "code",
   "execution_count": 27,
   "metadata": {
    "collapsed": false
   },
   "outputs": [
    {
     "data": {
      "text/html": [
       "<div>\n",
       "<table border=\"1\" class=\"dataframe\">\n",
       "  <thead>\n",
       "    <tr style=\"text-align: right;\">\n",
       "      <th></th>\n",
       "      <th>display_id</th>\n",
       "      <th>ad_id</th>\n",
       "      <th>clicked</th>\n",
       "      <th>timestamp</th>\n",
       "      <th>platform</th>\n",
       "      <th>geo_location</th>\n",
       "      <th>document_id</th>\n",
       "      <th>campaign_id</th>\n",
       "      <th>advertiser_id</th>\n",
       "      <th>source_id</th>\n",
       "      <th>publisher_id</th>\n",
       "      <th>publish_time</th>\n",
       "      <th>category_id</th>\n",
       "      <th>confidence_level</th>\n",
       "      <th>day</th>\n",
       "      <th>hour</th>\n",
       "    </tr>\n",
       "  </thead>\n",
       "  <tbody>\n",
       "    <tr>\n",
       "      <th>0</th>\n",
       "      <td>1</td>\n",
       "      <td>42337</td>\n",
       "      <td>0</td>\n",
       "      <td>2016-06-14 04:00:00.059</td>\n",
       "      <td>3.0</td>\n",
       "      <td>US&gt;SC&gt;519</td>\n",
       "      <td>938164</td>\n",
       "      <td>5969</td>\n",
       "      <td>1499</td>\n",
       "      <td>5802.0</td>\n",
       "      <td>NaN</td>\n",
       "      <td>2016-07-27 00:00:00</td>\n",
       "      <td>2100.0</td>\n",
       "      <td>0.920000</td>\n",
       "      <td>14</td>\n",
       "      <td>4</td>\n",
       "    </tr>\n",
       "    <tr>\n",
       "      <th>69905</th>\n",
       "      <td>1</td>\n",
       "      <td>156824</td>\n",
       "      <td>0</td>\n",
       "      <td>2016-06-14 04:00:00.059</td>\n",
       "      <td>3.0</td>\n",
       "      <td>US&gt;SC&gt;519</td>\n",
       "      <td>992370</td>\n",
       "      <td>7283</td>\n",
       "      <td>1919</td>\n",
       "      <td>8064.0</td>\n",
       "      <td>NaN</td>\n",
       "      <td>2015-07-24 00:00:00</td>\n",
       "      <td>1503.0</td>\n",
       "      <td>0.920000</td>\n",
       "      <td>14</td>\n",
       "      <td>4</td>\n",
       "    </tr>\n",
       "    <tr>\n",
       "      <th>128341</th>\n",
       "      <td>1</td>\n",
       "      <td>279295</td>\n",
       "      <td>0</td>\n",
       "      <td>2016-06-14 04:00:00.059</td>\n",
       "      <td>3.0</td>\n",
       "      <td>US&gt;SC&gt;519</td>\n",
       "      <td>1670176</td>\n",
       "      <td>27524</td>\n",
       "      <td>1820</td>\n",
       "      <td>8239.0</td>\n",
       "      <td>NaN</td>\n",
       "      <td>2016-06-02 03:00:00</td>\n",
       "      <td>1403.0</td>\n",
       "      <td>0.376439</td>\n",
       "      <td>14</td>\n",
       "      <td>4</td>\n",
       "    </tr>\n",
       "    <tr>\n",
       "      <th>128676</th>\n",
       "      <td>1</td>\n",
       "      <td>296965</td>\n",
       "      <td>0</td>\n",
       "      <td>2016-06-14 04:00:00.059</td>\n",
       "      <td>3.0</td>\n",
       "      <td>US&gt;SC&gt;519</td>\n",
       "      <td>1133290</td>\n",
       "      <td>28334</td>\n",
       "      <td>3922</td>\n",
       "      <td>10980.0</td>\n",
       "      <td>NaN</td>\n",
       "      <td>NaN</td>\n",
       "      <td>1403.0</td>\n",
       "      <td>0.424131</td>\n",
       "      <td>14</td>\n",
       "      <td>4</td>\n",
       "    </tr>\n",
       "    <tr>\n",
       "      <th>12978</th>\n",
       "      <td>1</td>\n",
       "      <td>144739</td>\n",
       "      <td>1</td>\n",
       "      <td>2016-06-14 04:00:00.059</td>\n",
       "      <td>3.0</td>\n",
       "      <td>US&gt;SC&gt;519</td>\n",
       "      <td>1337362</td>\n",
       "      <td>18488</td>\n",
       "      <td>2909</td>\n",
       "      <td>11328.0</td>\n",
       "      <td>NaN</td>\n",
       "      <td>2016-04-24 08:00:00</td>\n",
       "      <td>1805.0</td>\n",
       "      <td>0.920000</td>\n",
       "      <td>14</td>\n",
       "      <td>4</td>\n",
       "    </tr>\n",
       "  </tbody>\n",
       "</table>\n",
       "</div>"
      ],
      "text/plain": [
       "        display_id   ad_id  clicked               timestamp  platform  \\\n",
       "0                1   42337        0 2016-06-14 04:00:00.059       3.0   \n",
       "69905            1  156824        0 2016-06-14 04:00:00.059       3.0   \n",
       "128341           1  279295        0 2016-06-14 04:00:00.059       3.0   \n",
       "128676           1  296965        0 2016-06-14 04:00:00.059       3.0   \n",
       "12978            1  144739        1 2016-06-14 04:00:00.059       3.0   \n",
       "\n",
       "       geo_location  document_id  campaign_id  advertiser_id  source_id  \\\n",
       "0         US>SC>519       938164         5969           1499     5802.0   \n",
       "69905     US>SC>519       992370         7283           1919     8064.0   \n",
       "128341    US>SC>519      1670176        27524           1820     8239.0   \n",
       "128676    US>SC>519      1133290        28334           3922    10980.0   \n",
       "12978     US>SC>519      1337362        18488           2909    11328.0   \n",
       "\n",
       "        publisher_id         publish_time  category_id  confidence_level  day  \\\n",
       "0                NaN  2016-07-27 00:00:00       2100.0          0.920000   14   \n",
       "69905            NaN  2015-07-24 00:00:00       1503.0          0.920000   14   \n",
       "128341           NaN  2016-06-02 03:00:00       1403.0          0.376439   14   \n",
       "128676           NaN                  NaN       1403.0          0.424131   14   \n",
       "12978            NaN  2016-04-24 08:00:00       1805.0          0.920000   14   \n",
       "\n",
       "        hour  \n",
       "0          4  \n",
       "69905      4  \n",
       "128341     4  \n",
       "128676     4  \n",
       "12978      4  "
      ]
     },
     "execution_count": 27,
     "metadata": {},
     "output_type": "execute_result"
    }
   ],
   "source": [
    "data.head()"
   ]
  },
  {
   "cell_type": "code",
   "execution_count": 28,
   "metadata": {
    "collapsed": false
   },
   "outputs": [
    {
     "data": {
      "text/html": [
       "<div>\n",
       "<table border=\"1\" class=\"dataframe\">\n",
       "  <thead>\n",
       "    <tr style=\"text-align: right;\">\n",
       "      <th></th>\n",
       "      <th>ad_id_freq</th>\n",
       "      <th>category_id_freq</th>\n",
       "      <th>confidence_level</th>\n",
       "      <th>publisher_id_freq</th>\n",
       "      <th>advertiser_id_freq</th>\n",
       "      <th>source_id_freq</th>\n",
       "      <th>campaign_id_freq</th>\n",
       "      <th>day</th>\n",
       "      <th>hour</th>\n",
       "      <th>platform_1.0</th>\n",
       "      <th>platform_2.0</th>\n",
       "      <th>platform_3.0</th>\n",
       "    </tr>\n",
       "  </thead>\n",
       "  <tbody>\n",
       "    <tr>\n",
       "      <th>0</th>\n",
       "      <td>0.167275</td>\n",
       "      <td>0.211703</td>\n",
       "      <td>0.920000</td>\n",
       "      <td>0.195053</td>\n",
       "      <td>0.222679</td>\n",
       "      <td>0.222679</td>\n",
       "      <td>0.167275</td>\n",
       "      <td>14</td>\n",
       "      <td>4</td>\n",
       "      <td>0</td>\n",
       "      <td>0</td>\n",
       "      <td>1</td>\n",
       "    </tr>\n",
       "    <tr>\n",
       "      <th>69905</th>\n",
       "      <td>0.032463</td>\n",
       "      <td>0.093861</td>\n",
       "      <td>0.920000</td>\n",
       "      <td>0.195053</td>\n",
       "      <td>0.041489</td>\n",
       "      <td>0.040782</td>\n",
       "      <td>0.034937</td>\n",
       "      <td>14</td>\n",
       "      <td>4</td>\n",
       "      <td>0</td>\n",
       "      <td>0</td>\n",
       "      <td>1</td>\n",
       "    </tr>\n",
       "    <tr>\n",
       "      <th>128341</th>\n",
       "      <td>0.325373</td>\n",
       "      <td>0.234461</td>\n",
       "      <td>0.376439</td>\n",
       "      <td>0.195053</td>\n",
       "      <td>0.289979</td>\n",
       "      <td>0.285358</td>\n",
       "      <td>0.218268</td>\n",
       "      <td>14</td>\n",
       "      <td>4</td>\n",
       "      <td>0</td>\n",
       "      <td>0</td>\n",
       "      <td>1</td>\n",
       "    </tr>\n",
       "    <tr>\n",
       "      <th>128676</th>\n",
       "      <td>0.117647</td>\n",
       "      <td>0.234461</td>\n",
       "      <td>0.424131</td>\n",
       "      <td>0.195053</td>\n",
       "      <td>0.210756</td>\n",
       "      <td>0.227782</td>\n",
       "      <td>0.302550</td>\n",
       "      <td>14</td>\n",
       "      <td>4</td>\n",
       "      <td>0</td>\n",
       "      <td>0</td>\n",
       "      <td>1</td>\n",
       "    </tr>\n",
       "    <tr>\n",
       "      <th>12978</th>\n",
       "      <td>0.324310</td>\n",
       "      <td>0.211532</td>\n",
       "      <td>0.920000</td>\n",
       "      <td>0.195053</td>\n",
       "      <td>0.314410</td>\n",
       "      <td>0.314410</td>\n",
       "      <td>0.314410</td>\n",
       "      <td>14</td>\n",
       "      <td>4</td>\n",
       "      <td>0</td>\n",
       "      <td>0</td>\n",
       "      <td>1</td>\n",
       "    </tr>\n",
       "  </tbody>\n",
       "</table>\n",
       "</div>"
      ],
      "text/plain": [
       "        ad_id_freq  category_id_freq  confidence_level  publisher_id_freq  \\\n",
       "0         0.167275          0.211703          0.920000           0.195053   \n",
       "69905     0.032463          0.093861          0.920000           0.195053   \n",
       "128341    0.325373          0.234461          0.376439           0.195053   \n",
       "128676    0.117647          0.234461          0.424131           0.195053   \n",
       "12978     0.324310          0.211532          0.920000           0.195053   \n",
       "\n",
       "        advertiser_id_freq  source_id_freq  campaign_id_freq  day  hour  \\\n",
       "0                 0.222679        0.222679          0.167275   14     4   \n",
       "69905             0.041489        0.040782          0.034937   14     4   \n",
       "128341            0.289979        0.285358          0.218268   14     4   \n",
       "128676            0.210756        0.227782          0.302550   14     4   \n",
       "12978             0.314410        0.314410          0.314410   14     4   \n",
       "\n",
       "        platform_1.0  platform_2.0  platform_3.0  \n",
       "0                  0             0             1  \n",
       "69905              0             0             1  \n",
       "128341             0             0             1  \n",
       "128676             0             0             1  \n",
       "12978              0             0             1  "
      ]
     },
     "execution_count": 28,
     "metadata": {},
     "output_type": "execute_result"
    }
   ],
   "source": [
    "train_normed.head()"
   ]
  },
  {
   "cell_type": "code",
   "execution_count": null,
   "metadata": {
    "collapsed": false
   },
   "outputs": [],
   "source": []
  },
  {
   "cell_type": "code",
   "execution_count": 29,
   "metadata": {
    "collapsed": true
   },
   "outputs": [],
   "source": [
    "nonhot = labels[:,1]"
   ]
  },
  {
   "cell_type": "code",
   "execution_count": 30,
   "metadata": {
    "collapsed": false
   },
   "outputs": [],
   "source": [
    "train_normed = train_normed.fillna(0.0)"
   ]
  },
  {
   "cell_type": "code",
   "execution_count": 31,
   "metadata": {
    "collapsed": true
   },
   "outputs": [],
   "source": [
    "gbm = GradientBoostingClassifier(max_depth = 5)"
   ]
  },
  {
   "cell_type": "code",
   "execution_count": 32,
   "metadata": {
    "collapsed": false
   },
   "outputs": [],
   "source": [
    "start = time.time()\n",
    "gbm.fit(train_normed, nonhot)\n",
    "end = time.time()"
   ]
  },
  {
   "cell_type": "code",
   "execution_count": 33,
   "metadata": {
    "collapsed": false
   },
   "outputs": [
    {
     "name": "stdout",
     "output_type": "stream",
     "text": [
      "seconds to train: 24044.3243001\n"
     ]
    }
   ],
   "source": [
    "print 'seconds to train: ' + str(end-start)"
   ]
  },
  {
   "cell_type": "markdown",
   "metadata": {},
   "source": [
    "# Testing"
   ]
  },
  {
   "cell_type": "code",
   "execution_count": 34,
   "metadata": {
    "collapsed": false
   },
   "outputs": [],
   "source": [
    "test_dat, disp_ids, ad_ids = load_raw_joined_test_df()"
   ]
  },
  {
   "cell_type": "code",
   "execution_count": 35,
   "metadata": {
    "collapsed": false
   },
   "outputs": [],
   "source": [
    "disp_ids = disp_ids.values"
   ]
  },
  {
   "cell_type": "code",
   "execution_count": 36,
   "metadata": {
    "collapsed": false
   },
   "outputs": [],
   "source": [
    "ad_ids = ad_ids.values"
   ]
  },
  {
   "cell_type": "code",
   "execution_count": 37,
   "metadata": {
    "collapsed": false
   },
   "outputs": [
    {
     "data": {
      "text/html": [
       "<div>\n",
       "<table border=\"1\" class=\"dataframe\">\n",
       "  <thead>\n",
       "    <tr style=\"text-align: right;\">\n",
       "      <th></th>\n",
       "      <th>display_id</th>\n",
       "      <th>ad_id</th>\n",
       "      <th>timestamp</th>\n",
       "      <th>platform</th>\n",
       "      <th>geo_location</th>\n",
       "      <th>document_id</th>\n",
       "      <th>campaign_id</th>\n",
       "      <th>advertiser_id</th>\n",
       "      <th>source_id</th>\n",
       "      <th>publisher_id</th>\n",
       "      <th>publish_time</th>\n",
       "      <th>category_id</th>\n",
       "      <th>confidence_level</th>\n",
       "    </tr>\n",
       "  </thead>\n",
       "  <tbody>\n",
       "    <tr>\n",
       "      <th>0</th>\n",
       "      <td>16874594</td>\n",
       "      <td>66758</td>\n",
       "      <td>1026</td>\n",
       "      <td>3</td>\n",
       "      <td>US&gt;MI&gt;505</td>\n",
       "      <td>1051283</td>\n",
       "      <td>8949</td>\n",
       "      <td>555</td>\n",
       "      <td>6452.0</td>\n",
       "      <td>NaN</td>\n",
       "      <td>2016-03-07 00:00:00</td>\n",
       "      <td>1206.0</td>\n",
       "      <td>0.92</td>\n",
       "    </tr>\n",
       "    <tr>\n",
       "      <th>45511</th>\n",
       "      <td>16874594</td>\n",
       "      <td>170392</td>\n",
       "      <td>1026</td>\n",
       "      <td>3</td>\n",
       "      <td>US&gt;MI&gt;505</td>\n",
       "      <td>1083829</td>\n",
       "      <td>20943</td>\n",
       "      <td>1731</td>\n",
       "      <td>10710.0</td>\n",
       "      <td>NaN</td>\n",
       "      <td>2016-01-13 00:00:00</td>\n",
       "      <td>1805.0</td>\n",
       "      <td>0.92</td>\n",
       "    </tr>\n",
       "    <tr>\n",
       "      <th>51498</th>\n",
       "      <td>16874594</td>\n",
       "      <td>172888</td>\n",
       "      <td>1026</td>\n",
       "      <td>3</td>\n",
       "      <td>US&gt;MI&gt;505</td>\n",
       "      <td>1433954</td>\n",
       "      <td>1384</td>\n",
       "      <td>16</td>\n",
       "      <td>1572.0</td>\n",
       "      <td>78.0</td>\n",
       "      <td>2016-05-13 12:00:00</td>\n",
       "      <td>1702.0</td>\n",
       "      <td>0.92</td>\n",
       "    </tr>\n",
       "    <tr>\n",
       "      <th>56766</th>\n",
       "      <td>16874594</td>\n",
       "      <td>180797</td>\n",
       "      <td>1026</td>\n",
       "      <td>3</td>\n",
       "      <td>US&gt;MI&gt;505</td>\n",
       "      <td>1151028</td>\n",
       "      <td>674</td>\n",
       "      <td>769</td>\n",
       "      <td>4994.0</td>\n",
       "      <td>NaN</td>\n",
       "      <td>2015-07-24 00:00:00</td>\n",
       "      <td>1702.0</td>\n",
       "      <td>0.92</td>\n",
       "    </tr>\n",
       "    <tr>\n",
       "      <th>26431</th>\n",
       "      <td>16874594</td>\n",
       "      <td>162754</td>\n",
       "      <td>1026</td>\n",
       "      <td>3</td>\n",
       "      <td>US&gt;MI&gt;505</td>\n",
       "      <td>1292723</td>\n",
       "      <td>17770</td>\n",
       "      <td>2391</td>\n",
       "      <td>3831.0</td>\n",
       "      <td>462.0</td>\n",
       "      <td>2016-04-11 00:00:00</td>\n",
       "      <td>1100.0</td>\n",
       "      <td>0.92</td>\n",
       "    </tr>\n",
       "  </tbody>\n",
       "</table>\n",
       "</div>"
      ],
      "text/plain": [
       "       display_id   ad_id  timestamp platform geo_location  document_id  \\\n",
       "0        16874594   66758       1026        3    US>MI>505      1051283   \n",
       "45511    16874594  170392       1026        3    US>MI>505      1083829   \n",
       "51498    16874594  172888       1026        3    US>MI>505      1433954   \n",
       "56766    16874594  180797       1026        3    US>MI>505      1151028   \n",
       "26431    16874594  162754       1026        3    US>MI>505      1292723   \n",
       "\n",
       "       campaign_id  advertiser_id  source_id  publisher_id  \\\n",
       "0             8949            555     6452.0           NaN   \n",
       "45511        20943           1731    10710.0           NaN   \n",
       "51498         1384             16     1572.0          78.0   \n",
       "56766          674            769     4994.0           NaN   \n",
       "26431        17770           2391     3831.0         462.0   \n",
       "\n",
       "              publish_time  category_id  confidence_level  \n",
       "0      2016-03-07 00:00:00       1206.0              0.92  \n",
       "45511  2016-01-13 00:00:00       1805.0              0.92  \n",
       "51498  2016-05-13 12:00:00       1702.0              0.92  \n",
       "56766  2015-07-24 00:00:00       1702.0              0.92  \n",
       "26431  2016-04-11 00:00:00       1100.0              0.92  "
      ]
     },
     "execution_count": 37,
     "metadata": {},
     "output_type": "execute_result"
    }
   ],
   "source": [
    "test_dat.head()\n"
   ]
  },
  {
   "cell_type": "code",
   "execution_count": 38,
   "metadata": {
    "collapsed": false
   },
   "outputs": [
    {
     "name": "stdout",
     "output_type": "stream",
     "text": [
      "local\n",
      "       display_id   ad_id      timestamp  platform geo_location  document_id  \\\n",
      "0        16874594   66758  1465876801024         3    US>MI>505      1051283   \n",
      "45511    16874594  170392  1465876801024         3    US>MI>505      1083829   \n",
      "51498    16874594  172888  1465876801024         3    US>MI>505      1433954   \n",
      "56766    16874594  180797  1465876801024         3    US>MI>505      1151028   \n",
      "26431    16874594  162754  1465876801024         3    US>MI>505      1292723   \n",
      "\n",
      "       campaign_id  advertiser_id  source_id  publisher_id  \\\n",
      "0             8949            555     6452.0           NaN   \n",
      "45511        20943           1731    10710.0           NaN   \n",
      "51498         1384             16     1572.0          78.0   \n",
      "56766          674            769     4994.0           NaN   \n",
      "26431        17770           2391     3831.0         462.0   \n",
      "\n",
      "              publish_time  category_id  confidence_level  day  hour  \n",
      "0      2016-03-07 00:00:00       1206.0              0.92    1     0  \n",
      "45511  2016-01-13 00:00:00       1805.0              0.92    1     0  \n",
      "51498  2016-05-13 12:00:00       1702.0              0.92    1     0  \n",
      "56766  2015-07-24 00:00:00       1702.0              0.92    1     0  \n",
      "26431  2016-04-11 00:00:00       1100.0              0.92    1     0  \n",
      "fill na\n",
      "       display_id   ad_id      timestamp  platform geo_location  document_id  \\\n",
      "0        16874594   66758  1465876801024         3    US>MI>505      1051283   \n",
      "45511    16874594  170392  1465876801024         3    US>MI>505      1083829   \n",
      "51498    16874594  172888  1465876801024         3    US>MI>505      1433954   \n",
      "56766    16874594  180797  1465876801024         3    US>MI>505      1151028   \n",
      "26431    16874594  162754  1465876801024         3    US>MI>505      1292723   \n",
      "\n",
      "       campaign_id  advertiser_id  source_id  publisher_id  \\\n",
      "0             8949            555     6452.0           0.0   \n",
      "45511        20943           1731    10710.0           0.0   \n",
      "51498         1384             16     1572.0          78.0   \n",
      "56766          674            769     4994.0           0.0   \n",
      "26431        17770           2391     3831.0         462.0   \n",
      "\n",
      "              publish_time  category_id  confidence_level  day  hour  \n",
      "0      2016-03-07 00:00:00       1206.0              0.92    1     0  \n",
      "45511  2016-01-13 00:00:00       1805.0              0.92    1     0  \n",
      "51498  2016-05-13 12:00:00       1702.0              0.92    1     0  \n",
      "56766  2015-07-24 00:00:00       1702.0              0.92    1     0  \n",
      "26431  2016-04-11 00:00:00       1100.0              0.92    1     0  \n"
     ]
    },
    {
     "name": "stderr",
     "output_type": "stream",
     "text": [
      "/home/ryan/Libraries/anaconda2/envs/tensorflow/lib/python2.7/site-packages/ipykernel/__main__.py:81: SettingWithCopyWarning: \n",
      "A value is trying to be set on a copy of a slice from a DataFrame.\n",
      "Try using .loc[row_indexer,col_indexer] = value instead\n",
      "\n",
      "See the caveats in the documentation: http://pandas.pydata.org/pandas-docs/stable/indexing.html#indexing-view-versus-copy\n"
     ]
    }
   ],
   "source": [
    "test_normed,a,b= process(test_dat, freq_tables= freq_tables, count_tables=count_tables)"
   ]
  },
  {
   "cell_type": "code",
   "execution_count": 39,
   "metadata": {
    "collapsed": false
   },
   "outputs": [
    {
     "data": {
      "text/html": [
       "<div>\n",
       "<table border=\"1\" class=\"dataframe\">\n",
       "  <thead>\n",
       "    <tr style=\"text-align: right;\">\n",
       "      <th></th>\n",
       "      <th>ad_id_freq</th>\n",
       "      <th>category_id_freq</th>\n",
       "      <th>confidence_level</th>\n",
       "      <th>publisher_id_freq</th>\n",
       "      <th>advertiser_id_freq</th>\n",
       "      <th>source_id_freq</th>\n",
       "      <th>campaign_id_freq</th>\n",
       "      <th>day</th>\n",
       "      <th>hour</th>\n",
       "      <th>platform_1.0</th>\n",
       "      <th>platform_2.0</th>\n",
       "      <th>platform_3.0</th>\n",
       "    </tr>\n",
       "  </thead>\n",
       "  <tbody>\n",
       "    <tr>\n",
       "      <th>0</th>\n",
       "      <td>0.066111</td>\n",
       "      <td>0.122006</td>\n",
       "      <td>0.92</td>\n",
       "      <td>0.195053</td>\n",
       "      <td>0.071728</td>\n",
       "      <td>0.084908</td>\n",
       "      <td>0.065479</td>\n",
       "      <td>1</td>\n",
       "      <td>0</td>\n",
       "      <td>0</td>\n",
       "      <td>0</td>\n",
       "      <td>1</td>\n",
       "    </tr>\n",
       "    <tr>\n",
       "      <th>45511</th>\n",
       "      <td>0.349475</td>\n",
       "      <td>0.211532</td>\n",
       "      <td>0.92</td>\n",
       "      <td>0.195053</td>\n",
       "      <td>0.305581</td>\n",
       "      <td>0.314647</td>\n",
       "      <td>0.349475</td>\n",
       "      <td>1</td>\n",
       "      <td>0</td>\n",
       "      <td>1</td>\n",
       "      <td>0</td>\n",
       "      <td>0</td>\n",
       "    </tr>\n",
       "    <tr>\n",
       "      <th>51498</th>\n",
       "      <td>0.342285</td>\n",
       "      <td>0.173961</td>\n",
       "      <td>0.92</td>\n",
       "      <td>0.275722</td>\n",
       "      <td>0.275952</td>\n",
       "      <td>0.323122</td>\n",
       "      <td>0.315013</td>\n",
       "      <td>1</td>\n",
       "      <td>0</td>\n",
       "      <td>1</td>\n",
       "      <td>0</td>\n",
       "      <td>0</td>\n",
       "    </tr>\n",
       "    <tr>\n",
       "      <th>56766</th>\n",
       "      <td>0.028763</td>\n",
       "      <td>0.173961</td>\n",
       "      <td>0.92</td>\n",
       "      <td>0.195053</td>\n",
       "      <td>0.042706</td>\n",
       "      <td>0.038808</td>\n",
       "      <td>0.034164</td>\n",
       "      <td>1</td>\n",
       "      <td>0</td>\n",
       "      <td>1</td>\n",
       "      <td>0</td>\n",
       "      <td>0</td>\n",
       "    </tr>\n",
       "    <tr>\n",
       "      <th>26431</th>\n",
       "      <td>0.239028</td>\n",
       "      <td>0.158483</td>\n",
       "      <td>0.92</td>\n",
       "      <td>0.173705</td>\n",
       "      <td>0.155780</td>\n",
       "      <td>0.173705</td>\n",
       "      <td>0.221393</td>\n",
       "      <td>1</td>\n",
       "      <td>0</td>\n",
       "      <td>1</td>\n",
       "      <td>0</td>\n",
       "      <td>0</td>\n",
       "    </tr>\n",
       "  </tbody>\n",
       "</table>\n",
       "</div>"
      ],
      "text/plain": [
       "       ad_id_freq  category_id_freq  confidence_level  publisher_id_freq  \\\n",
       "0        0.066111          0.122006              0.92           0.195053   \n",
       "45511    0.349475          0.211532              0.92           0.195053   \n",
       "51498    0.342285          0.173961              0.92           0.275722   \n",
       "56766    0.028763          0.173961              0.92           0.195053   \n",
       "26431    0.239028          0.158483              0.92           0.173705   \n",
       "\n",
       "       advertiser_id_freq  source_id_freq  campaign_id_freq  day  hour  \\\n",
       "0                0.071728        0.084908          0.065479    1     0   \n",
       "45511            0.305581        0.314647          0.349475    1     0   \n",
       "51498            0.275952        0.323122          0.315013    1     0   \n",
       "56766            0.042706        0.038808          0.034164    1     0   \n",
       "26431            0.155780        0.173705          0.221393    1     0   \n",
       "\n",
       "       platform_1.0  platform_2.0  platform_3.0  \n",
       "0                 0             0             1  \n",
       "45511             1             0             0  \n",
       "51498             1             0             0  \n",
       "56766             1             0             0  \n",
       "26431             1             0             0  "
      ]
     },
     "execution_count": 39,
     "metadata": {},
     "output_type": "execute_result"
    }
   ],
   "source": [
    "test_normed.head()"
   ]
  },
  {
   "cell_type": "code",
   "execution_count": 40,
   "metadata": {
    "collapsed": true
   },
   "outputs": [],
   "source": [
    "test_normed = test_normed.fillna(0.0)"
   ]
  },
  {
   "cell_type": "code",
   "execution_count": 41,
   "metadata": {
    "collapsed": false
   },
   "outputs": [],
   "source": [
    "classification = gbm.predict_proba(test_normed)"
   ]
  },
  {
   "cell_type": "code",
   "execution_count": 42,
   "metadata": {
    "collapsed": false
   },
   "outputs": [],
   "source": [
    "pointer = classification"
   ]
  },
  {
   "cell_type": "code",
   "execution_count": 43,
   "metadata": {
    "collapsed": true
   },
   "outputs": [],
   "source": [
    "classification = classification[:,1]"
   ]
  },
  {
   "cell_type": "code",
   "execution_count": 44,
   "metadata": {
    "collapsed": false
   },
   "outputs": [],
   "source": [
    "compressed = dict.fromkeys(disp_ids)"
   ]
  },
  {
   "cell_type": "code",
   "execution_count": 45,
   "metadata": {
    "collapsed": false
   },
   "outputs": [
    {
     "data": {
      "text/plain": [
       "(32225162,)"
      ]
     },
     "execution_count": 45,
     "metadata": {},
     "output_type": "execute_result"
    }
   ],
   "source": [
    "classification.shape"
   ]
  },
  {
   "cell_type": "code",
   "execution_count": 46,
   "metadata": {
    "collapsed": false
   },
   "outputs": [
    {
     "name": "stdout",
     "output_type": "stream",
     "text": [
      "0\n",
      "900000\n",
      "1500000\n",
      "3300000\n",
      "5100000\n",
      "6300000\n",
      "8100000\n",
      "9600000\n",
      "10800000\n",
      "11100000\n",
      "11400000\n",
      "13800000\n",
      "15300000\n",
      "17700000\n",
      "20100000\n",
      "20400000\n",
      "21900000\n",
      "22800000\n",
      "23100000\n",
      "23700000\n",
      "28500000\n",
      "70.6413989067\n"
     ]
    }
   ],
   "source": [
    "i = 0\n",
    "start = time.time()\n",
    "while i < len(classification):\n",
    "    if i % 300000 == 0:\n",
    "        print i\n",
    "    start_id = i\n",
    "    curr_disp_id = disp_ids[i]\n",
    "    while i < len(classification) and curr_disp_id == disp_ids[i]:\n",
    "        i += 1\n",
    "    indices = np.argsort(classification[start_id : i])[::-1]\n",
    "    sorted_ads = np.array(ad_ids[start_id: i])[indices]\n",
    "    ads_str = np.char.mod('%i', sorted_ads)\n",
    "    ads_str = \" \".join(ads_str)\n",
    "    compressed[disp_ids[start_id]] = ads_str\n",
    "print time.time() - start"
   ]
  },
  {
   "cell_type": "code",
   "execution_count": 47,
   "metadata": {
    "collapsed": false
   },
   "outputs": [
    {
     "name": "stdout",
     "output_type": "stream",
     "text": [
      "Seconds to write to .csv: 11.8403511047\n"
     ]
    }
   ],
   "source": [
    "start = time.time()\n",
    "with open('dict.csv', 'wb') as csv_file:\n",
    "    writer = csv.writer(csv_file)\n",
    "    writer.writerow(['display_id', 'ad_id'])\n",
    "    for key, value in compressed.items():\n",
    "        writer.writerow([key, value])\n",
    "print \"Seconds to write to .csv: \" + str(time.time() - start)"
   ]
  },
  {
   "cell_type": "code",
   "execution_count": null,
   "metadata": {
    "collapsed": true
   },
   "outputs": [],
   "source": []
  }
 ],
 "metadata": {
  "kernelspec": {
   "display_name": "Python 2",
   "language": "python",
   "name": "python2"
  },
  "language_info": {
   "codemirror_mode": {
    "name": "ipython",
    "version": 2
   },
   "file_extension": ".py",
   "mimetype": "text/x-python",
   "name": "python",
   "nbconvert_exporter": "python",
   "pygments_lexer": "ipython2",
   "version": "2.7.12"
  }
 },
 "nbformat": 4,
 "nbformat_minor": 1
}
