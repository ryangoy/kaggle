{
 "cells": [
  {
   "cell_type": "code",
   "execution_count": 144,
   "metadata": {
    "collapsed": false
   },
   "outputs": [],
   "source": [
    "import sys\n",
    "sys.path.insert(0, '../feature_generation')\n",
    "sys.path.insert(0, '../..')\n",
    "import pandas as pd\n",
    "import numpy as np\n",
    "import keras\n",
    "import paths\n",
    "import shutil\n",
    "from PIL import Image\n",
    "import math\n",
    "from os.path import join\n",
    "from os import listdir\n",
    "from sklearn import model_selection\n",
    "import matplotlib.pyplot as plt\n",
    "%matplotlib inline"
   ]
  },
  {
   "cell_type": "code",
   "execution_count": 160,
   "metadata": {
    "collapsed": true
   },
   "outputs": [],
   "source": [
    "k_ids = ['kfold_0_ids.npy', 'kfold_1_ids.npy', 'kfold_2_ids.npy', \n",
    "       'kfold_3_ids.npy', 'kfold_4_ids.npy']\n",
    "k_preds = ['kfold_0_preds.npy', 'kfold_1_preds.npy', 'kfold_2_preds.npy', \n",
    "       'kfold_3_preds.npy', 'kfold_4_preds.npy']\n",
    "test_ids_path = 'cnn_test_filenames.npy'\n",
    "test_preds_path = 'cnn_test_preds.npy'"
   ]
  },
  {
   "cell_type": "code",
   "execution_count": 147,
   "metadata": {
    "collapsed": false
   },
   "outputs": [],
   "source": [
    "train_json = pd.read_json(paths.TRAIN_JSON)\n",
    "listing_ids = train_json.loc[:,'listing_id']\n",
    "test_json = pd.read_json(paths.TEST_JSON)\n",
    "test_listing_ids = test_json.loc[:,'listing_id']"
   ]
  },
  {
   "cell_type": "code",
   "execution_count": 110,
   "metadata": {
    "collapsed": false
   },
   "outputs": [],
   "source": [
    "# concat all of the k fold predictions\n",
    "index =0\n",
    "X_trn = pd.DataFrame()\n",
    "kf = model_selection.KFold(n_splits=5, shuffle=True, random_state=2016)\n",
    "for trn_indices, val_indices in kf.split(range(len(listing_id_interest))):\n",
    "    val_ids = listing_ids.iloc[val_indices]\n",
    "    curr_ids = np.load(join(paths.CNN_OUTPUT_DIR, k_ids[index]))\n",
    "    curr_preds = np.load(join(paths.CNN_OUTPUT_DIR, k_preds[index]))\n",
    "    curr_preds = curr_preds[:len(curr_ids)]\n",
    "    temp = pd.DataFrame([curr_ids, curr_preds[:,0], curr_preds[:,1], \n",
    "                         curr_preds[:,2]])\n",
    "    temp.rename(index = {0:'listing_id', \n",
    "                           1:'low', \n",
    "                           2:'medium', \n",
    "                           3:'high'}, inplace=True)  \n",
    "    temp = temp.T\n",
    "    temp['listing_id'] = temp['listing_id'].apply(lambda x: \n",
    "                                x[x.index('/')+1:x.index('_')])\n",
    "    X_trn = pd.concat([X_trn, temp])\n",
    "    index += 1  "
   ]
  },
  {
   "cell_type": "code",
   "execution_count": 161,
   "metadata": {
    "collapsed": false
   },
   "outputs": [
    {
     "name": "stdout",
     "output_type": "stream",
     "text": [
      "[[ 0.59359705  0.24123178  0.16517116]\n",
      " [ 0.71115565  0.28340146  0.00544293]\n",
      " [ 0.60366648  0.27263457  0.12369898]\n",
      " [ 0.97617412  0.02194566  0.00188023]\n",
      " [ 0.56468087  0.22830351  0.20701556]\n",
      " [ 0.67674303  0.19292016  0.13033681]\n",
      " [ 0.62202752  0.1668323   0.21114013]\n",
      " [ 0.60231316  0.25946197  0.13822484]\n",
      " [ 0.59520853  0.3275767   0.07721476]\n",
      " [ 0.67520541  0.25742984  0.06736482]]\n"
     ]
    }
   ],
   "source": [
    "test_ids = np.load(join(paths.CNN_OUTPUT_DIR, test_ids_path))\n",
    "test_preds = np.load(join(paths.CNN_OUTPUT_DIR, test_preds_path))\n",
    "test_preds = test_preds[:len(test_ids)]\n",
    "X_test = pd.DataFrame([test_ids, test_preds[:,0], test_preds[:,1], \n",
    "                         test_preds[:,2]])\n",
    "X_test.rename(index = {0:'listing_id', \n",
    "                           1:'low', \n",
    "                           2:'medium', \n",
    "                           3:'high'}, inplace=True)  \n",
    "X_test = X_test.T\n",
    "X_test['listing_id'] = X_test['listing_id'].apply(lambda x: \n",
    "                                x[x.index('/')+1:x.index('_')])"
   ]
  },
  {
   "cell_type": "code",
   "execution_count": 163,
   "metadata": {
    "collapsed": false
   },
   "outputs": [],
   "source": [
    "# group by\n",
    "# X_trn = X_trn.apply(pd.to_numeric)\n",
    "# X_grouped = X_trn.groupby('listing_id').mean()\n",
    "X_test = X_test.apply(pd.to_numeric)\n",
    "X_test_grouped = X_test.groupby('listing_id').mean()"
   ]
  },
  {
   "cell_type": "code",
   "execution_count": 168,
   "metadata": {
    "collapsed": true
   },
   "outputs": [],
   "source": [
    "# X_merged = pd.DataFrame(listing_ids)\n",
    "# X_merged = X_merged.join(X_grouped, on='listing_id', how='left')\n",
    "X_test_merged = pd.DataFrame(test_listing_ids)\n",
    "X_test_merged = X_test_merged.join(X_test_grouped, \n",
    "                                   on='listing_id', how='left')"
   ]
  },
  {
   "cell_type": "code",
   "execution_count": null,
   "metadata": {
    "collapsed": true
   },
   "outputs": [],
   "source": []
  },
  {
   "cell_type": "code",
   "execution_count": 166,
   "metadata": {
    "collapsed": false
   },
   "outputs": [
    {
     "data": {
      "text/html": [
       "<div>\n",
       "<table border=\"1\" class=\"dataframe\">\n",
       "  <thead>\n",
       "    <tr style=\"text-align: right;\">\n",
       "      <th></th>\n",
       "      <th>listing_id</th>\n",
       "      <th>low</th>\n",
       "      <th>medium</th>\n",
       "      <th>high</th>\n",
       "    </tr>\n",
       "  </thead>\n",
       "  <tbody>\n",
       "    <tr>\n",
       "      <th>10</th>\n",
       "      <td>7211212</td>\n",
       "      <td>0.572419</td>\n",
       "      <td>0.378158</td>\n",
       "      <td>0.049423</td>\n",
       "    </tr>\n",
       "    <tr>\n",
       "      <th>10000</th>\n",
       "      <td>7150865</td>\n",
       "      <td>0.724667</td>\n",
       "      <td>0.190186</td>\n",
       "      <td>0.085146</td>\n",
       "    </tr>\n",
       "    <tr>\n",
       "      <th>100004</th>\n",
       "      <td>6887163</td>\n",
       "      <td>0.687312</td>\n",
       "      <td>0.236295</td>\n",
       "      <td>0.076393</td>\n",
       "    </tr>\n",
       "    <tr>\n",
       "      <th>100007</th>\n",
       "      <td>6888711</td>\n",
       "      <td>0.751953</td>\n",
       "      <td>0.209664</td>\n",
       "      <td>0.038383</td>\n",
       "    </tr>\n",
       "    <tr>\n",
       "      <th>100013</th>\n",
       "      <td>6934781</td>\n",
       "      <td>0.832966</td>\n",
       "      <td>0.133754</td>\n",
       "      <td>0.033280</td>\n",
       "    </tr>\n",
       "  </tbody>\n",
       "</table>\n",
       "</div>"
      ],
      "text/plain": [
       "        listing_id       low    medium      high\n",
       "10         7211212  0.572419  0.378158  0.049423\n",
       "10000      7150865  0.724667  0.190186  0.085146\n",
       "100004     6887163  0.687312  0.236295  0.076393\n",
       "100007     6888711  0.751953  0.209664  0.038383\n",
       "100013     6934781  0.832966  0.133754  0.033280"
      ]
     },
     "execution_count": 166,
     "metadata": {},
     "output_type": "execute_result"
    }
   ],
   "source": [
    "X_merged.head()"
   ]
  },
  {
   "cell_type": "code",
   "execution_count": 143,
   "metadata": {
    "collapsed": true
   },
   "outputs": [],
   "source": [
    "X_merged.to_csv(join(paths.CNN_OUTPUT_DIR,\"cnn_train.csv\"))"
   ]
  },
  {
   "cell_type": "code",
   "execution_count": 169,
   "metadata": {
    "collapsed": false
   },
   "outputs": [
    {
     "data": {
      "text/html": [
       "<div>\n",
       "<table border=\"1\" class=\"dataframe\">\n",
       "  <thead>\n",
       "    <tr style=\"text-align: right;\">\n",
       "      <th></th>\n",
       "      <th>listing_id</th>\n",
       "      <th>low</th>\n",
       "      <th>medium</th>\n",
       "      <th>high</th>\n",
       "    </tr>\n",
       "  </thead>\n",
       "  <tbody>\n",
       "    <tr>\n",
       "      <th>0</th>\n",
       "      <td>7142618</td>\n",
       "      <td>0.571914</td>\n",
       "      <td>0.323286</td>\n",
       "      <td>0.104800</td>\n",
       "    </tr>\n",
       "    <tr>\n",
       "      <th>1</th>\n",
       "      <td>7210040</td>\n",
       "      <td>0.781394</td>\n",
       "      <td>0.133138</td>\n",
       "      <td>0.085467</td>\n",
       "    </tr>\n",
       "    <tr>\n",
       "      <th>100</th>\n",
       "      <td>7103890</td>\n",
       "      <td>0.677084</td>\n",
       "      <td>0.239322</td>\n",
       "      <td>0.083595</td>\n",
       "    </tr>\n",
       "    <tr>\n",
       "      <th>1000</th>\n",
       "      <td>7143442</td>\n",
       "      <td>0.764812</td>\n",
       "      <td>0.180614</td>\n",
       "      <td>0.054574</td>\n",
       "    </tr>\n",
       "    <tr>\n",
       "      <th>100000</th>\n",
       "      <td>6860601</td>\n",
       "      <td>0.610674</td>\n",
       "      <td>0.334905</td>\n",
       "      <td>0.054421</td>\n",
       "    </tr>\n",
       "  </tbody>\n",
       "</table>\n",
       "</div>"
      ],
      "text/plain": [
       "        listing_id       low    medium      high\n",
       "0          7142618  0.571914  0.323286  0.104800\n",
       "1          7210040  0.781394  0.133138  0.085467\n",
       "100        7103890  0.677084  0.239322  0.083595\n",
       "1000       7143442  0.764812  0.180614  0.054574\n",
       "100000     6860601  0.610674  0.334905  0.054421"
      ]
     },
     "execution_count": 169,
     "metadata": {},
     "output_type": "execute_result"
    }
   ],
   "source": [
    "X_test_merged.head()"
   ]
  },
  {
   "cell_type": "code",
   "execution_count": 170,
   "metadata": {
    "collapsed": true
   },
   "outputs": [],
   "source": [
    "X_test_merged.to_csv(join(paths.CNN_OUTPUT_DIR,\"cnn_test.csv\"))"
   ]
  },
  {
   "cell_type": "code",
   "execution_count": null,
   "metadata": {
    "collapsed": true
   },
   "outputs": [],
   "source": []
  }
 ],
 "metadata": {
  "kernelspec": {
   "display_name": "Python [default]",
   "language": "python",
   "name": "python2"
  },
  "language_info": {
   "codemirror_mode": {
    "name": "ipython",
    "version": 2
   },
   "file_extension": ".py",
   "mimetype": "text/x-python",
   "name": "python",
   "nbconvert_exporter": "python",
   "pygments_lexer": "ipython2",
   "version": "2.7.13"
  }
 },
 "nbformat": 4,
 "nbformat_minor": 2
}
