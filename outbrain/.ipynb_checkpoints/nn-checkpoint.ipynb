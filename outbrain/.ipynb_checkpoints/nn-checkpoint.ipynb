{
 "cells": [
  {
   "cell_type": "markdown",
   "metadata": {},
   "source": [
    "# Outbrain advertisement click prediction\n",
    "by Ryan Goy, https://www.linkedin.com/in/goyryan\n",
    "\n",
    "useful links:\n",
    " - [10 minutes to pandas](http://pandas.pydata.org/pandas-docs/version/0.15.2/10min.html)\n",
    " - [EDA graphs](https://www.kaggle.com/anokas/outbrain-click-prediction/outbrain-eda)\n",
    " - [multilayer perceptron example](https://github.com/aymericdamien/TensorFlow-Examples/blob/master/examples/3_NeuralNetworks/multilayer_perceptron.py)"
   ]
  },
  {
   "cell_type": "code",
   "execution_count": 1,
   "metadata": {
    "collapsed": true
   },
   "outputs": [],
   "source": [
    "import numpy as np\n",
    "import tensorflow as tf\n",
    "from sklearn.ensemble import RandomForestClassifier\n",
    "from sklearn.ensemble import GradientBoostingClassifier\n",
    "import pandas as pd\n",
    "import os\n",
    "import gc\n",
    "import matplotlib.pyplot as plt\n",
    "import seaborn as sns\n",
    "import random\n",
    "import time\n",
    "import csv\n",
    "\n",
    "%matplotlib inline"
   ]
  },
  {
   "cell_type": "markdown",
   "metadata": {},
   "source": [
    "### Import Datasets\n",
    "\n",
    "We'll start with importing the minimum amount of data in order to get a MVP for now and add more feature later when we're on the scoreboard. \n",
    "\n",
    " - click_train and clicks_test both have a display_id (the unique context it was displayed in) and an ad_id (the id of an ad it was)\n",
    " - events has information correlating to each display_id\n",
    " - promoted_content has information correlating to each ad_id\n",
    " - documents_meta has information elaborating on the document the ad links (nested in promoted_content)\n",
    " - page_views is the huge dataset with information about the type of people who visit the linked ads\n",
    " - documents_topics, documents_entities, and documents_categories all provide information about the content in the ad\n",
    " \n",
    "Thus, the possible characteristics we can train on are the following:\n",
    "\n",
    " - events: document_id, timestamp, platform, geo_location\n",
    " - promoted_content: document_id, campaign_id, advertiser_id\n",
    " - etc (will deal with other sets later)\n",
    " \n",
    "For now, I'm only using click_train, clicks_test, events, and promoted_content"
   ]
  },
  {
   "cell_type": "code",
   "execution_count": 2,
   "metadata": {
    "collapsed": false
   },
   "outputs": [],
   "source": [
    "clicks_train = pd.read_csv('../data/clicks_train.csv')\n",
    "clicks_test = pd.read_csv('../data/clicks_test.csv')"
   ]
  },
  {
   "cell_type": "code",
   "execution_count": 3,
   "metadata": {
    "collapsed": false
   },
   "outputs": [
    {
     "name": "stdout",
     "output_type": "stream",
     "text": [
      "(87141731, 3)\n",
      "(32225162, 2)\n"
     ]
    }
   ],
   "source": [
    "print clicks_train.shape\n",
    "print clicks_test.shape"
   ]
  },
  {
   "cell_type": "code",
   "execution_count": 4,
   "metadata": {
    "collapsed": false
   },
   "outputs": [
    {
     "name": "stderr",
     "output_type": "stream",
     "text": [
      "/home/ryan/Libraries/anaconda2/envs/tensorflow/lib/python2.7/site-packages/IPython/core/interactiveshell.py:2717: DtypeWarning: Columns (4) have mixed types. Specify dtype option on import or set low_memory=False.\n",
      "  interactivity=interactivity, compiler=compiler, result=result)\n"
     ]
    }
   ],
   "source": [
    "events = pd.read_csv('../data/events.csv')\n",
    "promoted_content = pd.read_csv('../data/promoted_content.csv')\n",
    "documents_metadata = pd.read_csv('../data/documents_meta.csv')\n",
    "documents_topics = pd.read_csv('../data/documents_topics.csv')\n",
    "#documents_entities = pd.read_csv('../data/documents_entities.csv')\n",
    "documents_categories = pd.read_csv('../data/documents_categories.csv')"
   ]
  },
  {
   "cell_type": "markdown",
   "metadata": {},
   "source": [
    "### View/investigate datasets\n",
    "\n",
    "also see [this](https://www.kaggle.com/anokas/outbrain-click-prediction/outbrain-eda) for graphs"
   ]
  },
  {
   "cell_type": "code",
   "execution_count": 5,
   "metadata": {
    "collapsed": false
   },
   "outputs": [
    {
     "data": {
      "text/html": [
       "<div>\n",
       "<table border=\"1\" class=\"dataframe\">\n",
       "  <thead>\n",
       "    <tr style=\"text-align: right;\">\n",
       "      <th></th>\n",
       "      <th>display_id</th>\n",
       "      <th>ad_id</th>\n",
       "      <th>clicked</th>\n",
       "    </tr>\n",
       "  </thead>\n",
       "  <tbody>\n",
       "    <tr>\n",
       "      <th>0</th>\n",
       "      <td>1</td>\n",
       "      <td>42337</td>\n",
       "      <td>0</td>\n",
       "    </tr>\n",
       "    <tr>\n",
       "      <th>1</th>\n",
       "      <td>1</td>\n",
       "      <td>139684</td>\n",
       "      <td>0</td>\n",
       "    </tr>\n",
       "    <tr>\n",
       "      <th>2</th>\n",
       "      <td>1</td>\n",
       "      <td>144739</td>\n",
       "      <td>1</td>\n",
       "    </tr>\n",
       "    <tr>\n",
       "      <th>3</th>\n",
       "      <td>1</td>\n",
       "      <td>156824</td>\n",
       "      <td>0</td>\n",
       "    </tr>\n",
       "    <tr>\n",
       "      <th>4</th>\n",
       "      <td>1</td>\n",
       "      <td>279295</td>\n",
       "      <td>0</td>\n",
       "    </tr>\n",
       "  </tbody>\n",
       "</table>\n",
       "</div>"
      ],
      "text/plain": [
       "   display_id   ad_id  clicked\n",
       "0           1   42337        0\n",
       "1           1  139684        0\n",
       "2           1  144739        1\n",
       "3           1  156824        0\n",
       "4           1  279295        0"
      ]
     },
     "execution_count": 5,
     "metadata": {},
     "output_type": "execute_result"
    }
   ],
   "source": [
    "clicks_train.head()"
   ]
  },
  {
   "cell_type": "code",
   "execution_count": 6,
   "metadata": {
    "collapsed": false
   },
   "outputs": [
    {
     "name": "stdout",
     "output_type": "stream",
     "text": [
      "(87141731, 3)\n"
     ]
    }
   ],
   "source": [
    "print clicks_train.shape"
   ]
  },
  {
   "cell_type": "code",
   "execution_count": 7,
   "metadata": {
    "collapsed": false
   },
   "outputs": [
    {
     "data": {
      "text/html": [
       "<div>\n",
       "<table border=\"1\" class=\"dataframe\">\n",
       "  <thead>\n",
       "    <tr style=\"text-align: right;\">\n",
       "      <th></th>\n",
       "      <th>display_id</th>\n",
       "      <th>ad_id</th>\n",
       "    </tr>\n",
       "  </thead>\n",
       "  <tbody>\n",
       "    <tr>\n",
       "      <th>0</th>\n",
       "      <td>16874594</td>\n",
       "      <td>66758</td>\n",
       "    </tr>\n",
       "    <tr>\n",
       "      <th>1</th>\n",
       "      <td>16874594</td>\n",
       "      <td>150083</td>\n",
       "    </tr>\n",
       "    <tr>\n",
       "      <th>2</th>\n",
       "      <td>16874594</td>\n",
       "      <td>162754</td>\n",
       "    </tr>\n",
       "    <tr>\n",
       "      <th>3</th>\n",
       "      <td>16874594</td>\n",
       "      <td>170392</td>\n",
       "    </tr>\n",
       "    <tr>\n",
       "      <th>4</th>\n",
       "      <td>16874594</td>\n",
       "      <td>172888</td>\n",
       "    </tr>\n",
       "  </tbody>\n",
       "</table>\n",
       "</div>"
      ],
      "text/plain": [
       "   display_id   ad_id\n",
       "0    16874594   66758\n",
       "1    16874594  150083\n",
       "2    16874594  162754\n",
       "3    16874594  170392\n",
       "4    16874594  172888"
      ]
     },
     "execution_count": 7,
     "metadata": {},
     "output_type": "execute_result"
    }
   ],
   "source": [
    "clicks_test.head()"
   ]
  },
  {
   "cell_type": "code",
   "execution_count": 8,
   "metadata": {
    "collapsed": false
   },
   "outputs": [
    {
     "name": "stdout",
     "output_type": "stream",
     "text": [
      "(32225162, 2)\n"
     ]
    }
   ],
   "source": [
    "print clicks_test.shape"
   ]
  },
  {
   "cell_type": "code",
   "execution_count": 9,
   "metadata": {
    "collapsed": false
   },
   "outputs": [
    {
     "data": {
      "text/html": [
       "<div>\n",
       "<table border=\"1\" class=\"dataframe\">\n",
       "  <thead>\n",
       "    <tr style=\"text-align: right;\">\n",
       "      <th></th>\n",
       "      <th>display_id</th>\n",
       "      <th>uuid</th>\n",
       "      <th>document_id</th>\n",
       "      <th>timestamp</th>\n",
       "      <th>platform</th>\n",
       "      <th>geo_location</th>\n",
       "    </tr>\n",
       "  </thead>\n",
       "  <tbody>\n",
       "    <tr>\n",
       "      <th>0</th>\n",
       "      <td>1</td>\n",
       "      <td>cb8c55702adb93</td>\n",
       "      <td>379743</td>\n",
       "      <td>61</td>\n",
       "      <td>3</td>\n",
       "      <td>US&gt;SC&gt;519</td>\n",
       "    </tr>\n",
       "    <tr>\n",
       "      <th>1</th>\n",
       "      <td>2</td>\n",
       "      <td>79a85fa78311b9</td>\n",
       "      <td>1794259</td>\n",
       "      <td>81</td>\n",
       "      <td>2</td>\n",
       "      <td>US&gt;CA&gt;807</td>\n",
       "    </tr>\n",
       "    <tr>\n",
       "      <th>2</th>\n",
       "      <td>3</td>\n",
       "      <td>822932ce3d8757</td>\n",
       "      <td>1179111</td>\n",
       "      <td>182</td>\n",
       "      <td>2</td>\n",
       "      <td>US&gt;MI&gt;505</td>\n",
       "    </tr>\n",
       "    <tr>\n",
       "      <th>3</th>\n",
       "      <td>4</td>\n",
       "      <td>85281d0a49f7ac</td>\n",
       "      <td>1777797</td>\n",
       "      <td>234</td>\n",
       "      <td>2</td>\n",
       "      <td>US&gt;WV&gt;564</td>\n",
       "    </tr>\n",
       "    <tr>\n",
       "      <th>4</th>\n",
       "      <td>5</td>\n",
       "      <td>8d0daef4bf5b56</td>\n",
       "      <td>252458</td>\n",
       "      <td>338</td>\n",
       "      <td>2</td>\n",
       "      <td>SG&gt;00</td>\n",
       "    </tr>\n",
       "  </tbody>\n",
       "</table>\n",
       "</div>"
      ],
      "text/plain": [
       "   display_id            uuid  document_id  timestamp platform geo_location\n",
       "0           1  cb8c55702adb93       379743         61        3    US>SC>519\n",
       "1           2  79a85fa78311b9      1794259         81        2    US>CA>807\n",
       "2           3  822932ce3d8757      1179111        182        2    US>MI>505\n",
       "3           4  85281d0a49f7ac      1777797        234        2    US>WV>564\n",
       "4           5  8d0daef4bf5b56       252458        338        2        SG>00"
      ]
     },
     "execution_count": 9,
     "metadata": {},
     "output_type": "execute_result"
    }
   ],
   "source": [
    "events.head()"
   ]
  },
  {
   "cell_type": "code",
   "execution_count": 10,
   "metadata": {
    "collapsed": false
   },
   "outputs": [
    {
     "data": {
      "text/html": [
       "<div>\n",
       "<table border=\"1\" class=\"dataframe\">\n",
       "  <thead>\n",
       "    <tr style=\"text-align: right;\">\n",
       "      <th></th>\n",
       "      <th>ad_id</th>\n",
       "      <th>document_id</th>\n",
       "      <th>campaign_id</th>\n",
       "      <th>advertiser_id</th>\n",
       "    </tr>\n",
       "  </thead>\n",
       "  <tbody>\n",
       "    <tr>\n",
       "      <th>0</th>\n",
       "      <td>1</td>\n",
       "      <td>6614</td>\n",
       "      <td>1</td>\n",
       "      <td>7</td>\n",
       "    </tr>\n",
       "    <tr>\n",
       "      <th>1</th>\n",
       "      <td>2</td>\n",
       "      <td>471467</td>\n",
       "      <td>2</td>\n",
       "      <td>7</td>\n",
       "    </tr>\n",
       "    <tr>\n",
       "      <th>2</th>\n",
       "      <td>3</td>\n",
       "      <td>7692</td>\n",
       "      <td>3</td>\n",
       "      <td>7</td>\n",
       "    </tr>\n",
       "    <tr>\n",
       "      <th>3</th>\n",
       "      <td>4</td>\n",
       "      <td>471471</td>\n",
       "      <td>2</td>\n",
       "      <td>7</td>\n",
       "    </tr>\n",
       "    <tr>\n",
       "      <th>4</th>\n",
       "      <td>5</td>\n",
       "      <td>471472</td>\n",
       "      <td>2</td>\n",
       "      <td>7</td>\n",
       "    </tr>\n",
       "  </tbody>\n",
       "</table>\n",
       "</div>"
      ],
      "text/plain": [
       "   ad_id  document_id  campaign_id  advertiser_id\n",
       "0      1         6614            1              7\n",
       "1      2       471467            2              7\n",
       "2      3         7692            3              7\n",
       "3      4       471471            2              7\n",
       "4      5       471472            2              7"
      ]
     },
     "execution_count": 10,
     "metadata": {},
     "output_type": "execute_result"
    }
   ],
   "source": [
    "promoted_content.head()"
   ]
  },
  {
   "cell_type": "code",
   "execution_count": 11,
   "metadata": {
    "collapsed": false
   },
   "outputs": [
    {
     "name": "stdout",
     "output_type": "stream",
     "text": [
      "(559583, 4)\n"
     ]
    }
   ],
   "source": [
    "print promoted_content.shape"
   ]
  },
  {
   "cell_type": "code",
   "execution_count": 12,
   "metadata": {
    "collapsed": false
   },
   "outputs": [
    {
     "data": {
      "text/html": [
       "<div>\n",
       "<table border=\"1\" class=\"dataframe\">\n",
       "  <thead>\n",
       "    <tr style=\"text-align: right;\">\n",
       "      <th></th>\n",
       "      <th>document_id</th>\n",
       "      <th>source_id</th>\n",
       "      <th>publisher_id</th>\n",
       "      <th>publish_time</th>\n",
       "    </tr>\n",
       "  </thead>\n",
       "  <tbody>\n",
       "    <tr>\n",
       "      <th>0</th>\n",
       "      <td>1595802</td>\n",
       "      <td>1.0</td>\n",
       "      <td>603.0</td>\n",
       "      <td>2016-06-05 00:00:00</td>\n",
       "    </tr>\n",
       "    <tr>\n",
       "      <th>1</th>\n",
       "      <td>1524246</td>\n",
       "      <td>1.0</td>\n",
       "      <td>603.0</td>\n",
       "      <td>2016-05-26 11:00:00</td>\n",
       "    </tr>\n",
       "    <tr>\n",
       "      <th>2</th>\n",
       "      <td>1617787</td>\n",
       "      <td>1.0</td>\n",
       "      <td>603.0</td>\n",
       "      <td>2016-05-27 00:00:00</td>\n",
       "    </tr>\n",
       "    <tr>\n",
       "      <th>3</th>\n",
       "      <td>1615583</td>\n",
       "      <td>1.0</td>\n",
       "      <td>603.0</td>\n",
       "      <td>2016-06-07 00:00:00</td>\n",
       "    </tr>\n",
       "    <tr>\n",
       "      <th>4</th>\n",
       "      <td>1615460</td>\n",
       "      <td>1.0</td>\n",
       "      <td>603.0</td>\n",
       "      <td>2016-06-20 00:00:00</td>\n",
       "    </tr>\n",
       "  </tbody>\n",
       "</table>\n",
       "</div>"
      ],
      "text/plain": [
       "   document_id  source_id  publisher_id         publish_time\n",
       "0      1595802        1.0         603.0  2016-06-05 00:00:00\n",
       "1      1524246        1.0         603.0  2016-05-26 11:00:00\n",
       "2      1617787        1.0         603.0  2016-05-27 00:00:00\n",
       "3      1615583        1.0         603.0  2016-06-07 00:00:00\n",
       "4      1615460        1.0         603.0  2016-06-20 00:00:00"
      ]
     },
     "execution_count": 12,
     "metadata": {},
     "output_type": "execute_result"
    }
   ],
   "source": [
    "documents_metadata.head()"
   ]
  },
  {
   "cell_type": "code",
   "execution_count": 13,
   "metadata": {
    "collapsed": false
   },
   "outputs": [],
   "source": [
    "#documents_entities.head()"
   ]
  },
  {
   "cell_type": "code",
   "execution_count": 14,
   "metadata": {
    "collapsed": false
   },
   "outputs": [
    {
     "data": {
      "text/html": [
       "<div>\n",
       "<table border=\"1\" class=\"dataframe\">\n",
       "  <thead>\n",
       "    <tr style=\"text-align: right;\">\n",
       "      <th></th>\n",
       "      <th>document_id</th>\n",
       "      <th>category_id</th>\n",
       "      <th>confidence_level</th>\n",
       "    </tr>\n",
       "  </thead>\n",
       "  <tbody>\n",
       "    <tr>\n",
       "      <th>0</th>\n",
       "      <td>1595802</td>\n",
       "      <td>1611</td>\n",
       "      <td>0.92</td>\n",
       "    </tr>\n",
       "    <tr>\n",
       "      <th>1</th>\n",
       "      <td>1595802</td>\n",
       "      <td>1610</td>\n",
       "      <td>0.07</td>\n",
       "    </tr>\n",
       "    <tr>\n",
       "      <th>2</th>\n",
       "      <td>1524246</td>\n",
       "      <td>1807</td>\n",
       "      <td>0.92</td>\n",
       "    </tr>\n",
       "    <tr>\n",
       "      <th>3</th>\n",
       "      <td>1524246</td>\n",
       "      <td>1608</td>\n",
       "      <td>0.07</td>\n",
       "    </tr>\n",
       "    <tr>\n",
       "      <th>4</th>\n",
       "      <td>1617787</td>\n",
       "      <td>1807</td>\n",
       "      <td>0.92</td>\n",
       "    </tr>\n",
       "  </tbody>\n",
       "</table>\n",
       "</div>"
      ],
      "text/plain": [
       "   document_id  category_id  confidence_level\n",
       "0      1595802         1611              0.92\n",
       "1      1595802         1610              0.07\n",
       "2      1524246         1807              0.92\n",
       "3      1524246         1608              0.07\n",
       "4      1617787         1807              0.92"
      ]
     },
     "execution_count": 14,
     "metadata": {},
     "output_type": "execute_result"
    }
   ],
   "source": [
    "documents_categories.head()"
   ]
  },
  {
   "cell_type": "code",
   "execution_count": 15,
   "metadata": {
    "collapsed": false
   },
   "outputs": [
    {
     "data": {
      "text/html": [
       "<div>\n",
       "<table border=\"1\" class=\"dataframe\">\n",
       "  <thead>\n",
       "    <tr style=\"text-align: right;\">\n",
       "      <th></th>\n",
       "      <th>document_id</th>\n",
       "      <th>topic_id</th>\n",
       "      <th>confidence_level</th>\n",
       "    </tr>\n",
       "  </thead>\n",
       "  <tbody>\n",
       "    <tr>\n",
       "      <th>0</th>\n",
       "      <td>1595802</td>\n",
       "      <td>140</td>\n",
       "      <td>0.073113</td>\n",
       "    </tr>\n",
       "    <tr>\n",
       "      <th>1</th>\n",
       "      <td>1595802</td>\n",
       "      <td>16</td>\n",
       "      <td>0.059416</td>\n",
       "    </tr>\n",
       "    <tr>\n",
       "      <th>2</th>\n",
       "      <td>1595802</td>\n",
       "      <td>143</td>\n",
       "      <td>0.045421</td>\n",
       "    </tr>\n",
       "    <tr>\n",
       "      <th>3</th>\n",
       "      <td>1595802</td>\n",
       "      <td>170</td>\n",
       "      <td>0.038867</td>\n",
       "    </tr>\n",
       "    <tr>\n",
       "      <th>4</th>\n",
       "      <td>1524246</td>\n",
       "      <td>113</td>\n",
       "      <td>0.196450</td>\n",
       "    </tr>\n",
       "  </tbody>\n",
       "</table>\n",
       "</div>"
      ],
      "text/plain": [
       "   document_id  topic_id  confidence_level\n",
       "0      1595802       140          0.073113\n",
       "1      1595802        16          0.059416\n",
       "2      1595802       143          0.045421\n",
       "3      1595802       170          0.038867\n",
       "4      1524246       113          0.196450"
      ]
     },
     "execution_count": 15,
     "metadata": {},
     "output_type": "execute_result"
    }
   ],
   "source": [
    "documents_topics.head()"
   ]
  },
  {
   "cell_type": "markdown",
   "metadata": {},
   "source": [
    "### Format and load training data\n",
    "each click has document_from, timestamp, platform, geo_location, document_to, campaign_id, advertiser_id (so far)"
   ]
  },
  {
   "cell_type": "code",
   "execution_count": 16,
   "metadata": {
    "collapsed": false
   },
   "outputs": [],
   "source": [
    "# ad_id, document_from, timestamp, platform, geo_location, document_to, campaign_id, advertiser_id\n",
    "\n",
    "def load_raw_joined_train_df():\n",
    "    \n",
    "    # join clicks_train, events, and promoted_content\n",
    "    ads_info = promoted_content.merge(documents_metadata, on='document_id', how='inner')\n",
    "    #ads_info = ads_info.merge(documents_topics, on='document_id', how='inner')\n",
    "    #ads_info = ads_info.merge(documents_categories, on='document_id', how='inner')\n",
    "    #ads_info = ads_info.drop('document_id', 1)\n",
    "    \n",
    "    combined = clicks_train.merge(events, on='display_id', how='inner')\n",
    "    combined = combined.drop('document_id', 1)\n",
    "    #combined = combined.drop('display_id', 1)\n",
    "    combined = combined.drop('uuid', 1)\n",
    "    \n",
    "    combined = combined.merge(ads_info, on='ad_id', how='inner', suffixes=('_from', '_to'))\n",
    "    #combined = combined.drop('ad_id', 1)\n",
    "    \n",
    "    # load labels\n",
    "    labels = combined['clicked'].as_matrix()\n",
    "    one_hot = np.zeros((len(labels), 2))\n",
    "    one_hot[np.arange(len(labels)), labels] = 1\n",
    "    \n",
    "    return combined, one_hot.astype(\"float\")\n",
    "    \n",
    "\n",
    "def load_next_train_data(data, labels, batch_size):\n",
    "    index = random.randint(1, len(clicks_train.index)-batch_size)\n",
    "    return data[index:index+batch_size], labels[index:index+batch_size]\n",
    "\n",
    "def load_raw_joined_test_df():\n",
    "    # join clicks_train, events, and promoted_content\n",
    "    ads_info = promoted_content.merge(documents_metadata, on='document_id', how='inner')\n",
    "    #ads_info = ads_info.merge(documents_topics, on='document_id', how='inner')\n",
    "    #ads_info = ads_info.merge(documents_categories, on='document_id', how='inner')\n",
    "    #ads_info = ads_info.drop('document_id', 1)\n",
    "    \n",
    "    combined = clicks_test.merge(events, on='display_id', how='inner')\n",
    "    combined = combined.drop('document_id', 1)\n",
    "    #combined = combined.drop('display_id', 1)\n",
    "    combined = combined.drop('uuid', 1)\n",
    "    \n",
    "    combined = combined.merge(ads_info, on='ad_id', how='inner', suffixes=('_from', '_to'))\n",
    "    #combined = combined.drop('ad_id', 1)\n",
    "    \n",
    "    return combined, combined['display_id'], combined['ad_id']\n",
    "    \n"
   ]
  },
  {
   "cell_type": "code",
   "execution_count": 17,
   "metadata": {
    "collapsed": false,
    "scrolled": true
   },
   "outputs": [],
   "source": [
    "start = time.time()\n",
    "data, labels = load_raw_joined_train_df()\n",
    "end = time.time()"
   ]
  },
  {
   "cell_type": "code",
   "execution_count": 18,
   "metadata": {
    "collapsed": false
   },
   "outputs": [
    {
     "name": "stdout",
     "output_type": "stream",
     "text": [
      "seconds to load train data: 24.7753078938\n"
     ]
    }
   ],
   "source": [
    "print 'seconds to load train data: ' + str(end-start)"
   ]
  },
  {
   "cell_type": "code",
   "execution_count": 19,
   "metadata": {
    "collapsed": false
   },
   "outputs": [
    {
     "data": {
      "text/html": [
       "<div>\n",
       "<table border=\"1\" class=\"dataframe\">\n",
       "  <thead>\n",
       "    <tr style=\"text-align: right;\">\n",
       "      <th></th>\n",
       "      <th>display_id</th>\n",
       "      <th>ad_id</th>\n",
       "      <th>clicked</th>\n",
       "      <th>timestamp</th>\n",
       "      <th>platform</th>\n",
       "      <th>geo_location</th>\n",
       "      <th>document_id</th>\n",
       "      <th>campaign_id</th>\n",
       "      <th>advertiser_id</th>\n",
       "      <th>source_id</th>\n",
       "      <th>publisher_id</th>\n",
       "      <th>publish_time</th>\n",
       "    </tr>\n",
       "  </thead>\n",
       "  <tbody>\n",
       "    <tr>\n",
       "      <th>0</th>\n",
       "      <td>1</td>\n",
       "      <td>42337</td>\n",
       "      <td>0</td>\n",
       "      <td>61</td>\n",
       "      <td>3</td>\n",
       "      <td>US&gt;SC&gt;519</td>\n",
       "      <td>938164</td>\n",
       "      <td>5969</td>\n",
       "      <td>1499</td>\n",
       "      <td>5802.0</td>\n",
       "      <td>NaN</td>\n",
       "      <td>2016-07-27 00:00:00</td>\n",
       "    </tr>\n",
       "    <tr>\n",
       "      <th>1</th>\n",
       "      <td>2236</td>\n",
       "      <td>42337</td>\n",
       "      <td>0</td>\n",
       "      <td>156650</td>\n",
       "      <td>3</td>\n",
       "      <td>US&gt;WI&gt;669</td>\n",
       "      <td>938164</td>\n",
       "      <td>5969</td>\n",
       "      <td>1499</td>\n",
       "      <td>5802.0</td>\n",
       "      <td>NaN</td>\n",
       "      <td>2016-07-27 00:00:00</td>\n",
       "    </tr>\n",
       "    <tr>\n",
       "      <th>2</th>\n",
       "      <td>3497</td>\n",
       "      <td>42337</td>\n",
       "      <td>1</td>\n",
       "      <td>239231</td>\n",
       "      <td>1</td>\n",
       "      <td>US&gt;CA&gt;807</td>\n",
       "      <td>938164</td>\n",
       "      <td>5969</td>\n",
       "      <td>1499</td>\n",
       "      <td>5802.0</td>\n",
       "      <td>NaN</td>\n",
       "      <td>2016-07-27 00:00:00</td>\n",
       "    </tr>\n",
       "    <tr>\n",
       "      <th>3</th>\n",
       "      <td>6361</td>\n",
       "      <td>42337</td>\n",
       "      <td>0</td>\n",
       "      <td>435860</td>\n",
       "      <td>1</td>\n",
       "      <td>US&gt;CA&gt;828</td>\n",
       "      <td>938164</td>\n",
       "      <td>5969</td>\n",
       "      <td>1499</td>\n",
       "      <td>5802.0</td>\n",
       "      <td>NaN</td>\n",
       "      <td>2016-07-27 00:00:00</td>\n",
       "    </tr>\n",
       "    <tr>\n",
       "      <th>4</th>\n",
       "      <td>7709</td>\n",
       "      <td>42337</td>\n",
       "      <td>0</td>\n",
       "      <td>530186</td>\n",
       "      <td>1</td>\n",
       "      <td>US&gt;NV&gt;839</td>\n",
       "      <td>938164</td>\n",
       "      <td>5969</td>\n",
       "      <td>1499</td>\n",
       "      <td>5802.0</td>\n",
       "      <td>NaN</td>\n",
       "      <td>2016-07-27 00:00:00</td>\n",
       "    </tr>\n",
       "  </tbody>\n",
       "</table>\n",
       "</div>"
      ],
      "text/plain": [
       "   display_id  ad_id  clicked  timestamp platform geo_location  document_id  \\\n",
       "0           1  42337        0         61        3    US>SC>519       938164   \n",
       "1        2236  42337        0     156650        3    US>WI>669       938164   \n",
       "2        3497  42337        1     239231        1    US>CA>807       938164   \n",
       "3        6361  42337        0     435860        1    US>CA>828       938164   \n",
       "4        7709  42337        0     530186        1    US>NV>839       938164   \n",
       "\n",
       "   campaign_id  advertiser_id  source_id  publisher_id         publish_time  \n",
       "0         5969           1499     5802.0           NaN  2016-07-27 00:00:00  \n",
       "1         5969           1499     5802.0           NaN  2016-07-27 00:00:00  \n",
       "2         5969           1499     5802.0           NaN  2016-07-27 00:00:00  \n",
       "3         5969           1499     5802.0           NaN  2016-07-27 00:00:00  \n",
       "4         5969           1499     5802.0           NaN  2016-07-27 00:00:00  "
      ]
     },
     "execution_count": 19,
     "metadata": {},
     "output_type": "execute_result"
    }
   ],
   "source": [
    "data.head()"
   ]
  },
  {
   "cell_type": "code",
   "execution_count": 20,
   "metadata": {
    "collapsed": false
   },
   "outputs": [],
   "source": [
    "data['platform'] = pd.to_numeric(data['platform'], errors='coerce')"
   ]
  },
  {
   "cell_type": "markdown",
   "metadata": {},
   "source": [
    "Now, since everything is categorical, we need to do some feature engineering"
   ]
  },
  {
   "cell_type": "code",
   "execution_count": 42,
   "metadata": {
    "collapsed": false
   },
   "outputs": [],
   "source": [
    "def frequency_featurize(df, features, freq_tables=None):\n",
    "    training = False\n",
    "    if freq_tables == None:\n",
    "        positive_examples = df[df['clicked'] == 1]\n",
    "        training = True\n",
    "        freq_tables = []\n",
    "        \n",
    "    for i in range(len(features)):\n",
    "        if training:\n",
    "            tcount_table = df[features[i]].value_counts()\n",
    "            pcount_table = positive_examples[features[i]].value_counts()\n",
    "            freq_table = pcount_table.divide(tcount_table)\n",
    "            #freq_table = tcount_table\n",
    "            freq_tables.append(freq_table)\n",
    "        else:\n",
    "            freq_table = freq_tables[i]\n",
    "        new_vec = freq_table[df[features[i]]]\n",
    "        df[features[i] + '_freq'] = new_vec.values\n",
    "    return freq_tables\n",
    "\n",
    "def one_hot_featurize(df, features):\n",
    "    return pd.get_dummies(df, columns=features)\n",
    "\n",
    "def norm_df(df):\n",
    "    new_df = (df - df.mean()) / (df.max() - df.min())\n",
    "    new_df = new_df.fillna(0.0)\n",
    "    return new_df\n",
    "\n",
    "def process(df, freq_tables=None):\n",
    "    freq_tables = frequency_featurize(df, ['platform', 'ad_id', 'advertiser_id', 'source_id', 'campaign_id'], freq_tables)\n",
    "    simple_data = df[['timestamp', 'platform_freq', 'ad_id_freq', 'advertiser_id_freq', 'source_id_freq', 'campaign_id_freq', 'platform']]\n",
    "    #normed = norm_df(simple_data)\n",
    "    #print normed.head()\n",
    "    ret = one_hot_featurize(simple_data, ['platform'])\n",
    "    return ret.fillna(0.0), freq_tables"
   ]
  },
  {
   "cell_type": "code",
   "execution_count": 29,
   "metadata": {
    "collapsed": false
   },
   "outputs": [],
   "source": [
    "train_normed, freq_tables = process(data)"
   ]
  },
  {
   "cell_type": "code",
   "execution_count": 30,
   "metadata": {
    "collapsed": false
   },
   "outputs": [
    {
     "data": {
      "text/html": [
       "<div>\n",
       "<table border=\"1\" class=\"dataframe\">\n",
       "  <thead>\n",
       "    <tr style=\"text-align: right;\">\n",
       "      <th></th>\n",
       "      <th>display_id</th>\n",
       "      <th>ad_id</th>\n",
       "      <th>clicked</th>\n",
       "      <th>timestamp</th>\n",
       "      <th>platform</th>\n",
       "      <th>geo_location</th>\n",
       "      <th>document_id</th>\n",
       "      <th>campaign_id</th>\n",
       "      <th>advertiser_id</th>\n",
       "      <th>source_id</th>\n",
       "      <th>publisher_id</th>\n",
       "      <th>publish_time</th>\n",
       "      <th>platform_freq</th>\n",
       "      <th>ad_id_freq</th>\n",
       "      <th>advertiser_id_freq</th>\n",
       "      <th>source_id_freq</th>\n",
       "      <th>campaign_id_freq</th>\n",
       "    </tr>\n",
       "  </thead>\n",
       "  <tbody>\n",
       "    <tr>\n",
       "      <th>0</th>\n",
       "      <td>1</td>\n",
       "      <td>42337</td>\n",
       "      <td>0</td>\n",
       "      <td>61</td>\n",
       "      <td>3.0</td>\n",
       "      <td>US&gt;SC&gt;519</td>\n",
       "      <td>938164</td>\n",
       "      <td>5969</td>\n",
       "      <td>1499</td>\n",
       "      <td>5802.0</td>\n",
       "      <td>NaN</td>\n",
       "      <td>2016-07-27 00:00:00</td>\n",
       "      <td>12785378.0</td>\n",
       "      <td>11777</td>\n",
       "      <td>24304</td>\n",
       "      <td>24304.0</td>\n",
       "      <td>11777</td>\n",
       "    </tr>\n",
       "    <tr>\n",
       "      <th>1</th>\n",
       "      <td>2236</td>\n",
       "      <td>42337</td>\n",
       "      <td>0</td>\n",
       "      <td>156650</td>\n",
       "      <td>3.0</td>\n",
       "      <td>US&gt;WI&gt;669</td>\n",
       "      <td>938164</td>\n",
       "      <td>5969</td>\n",
       "      <td>1499</td>\n",
       "      <td>5802.0</td>\n",
       "      <td>NaN</td>\n",
       "      <td>2016-07-27 00:00:00</td>\n",
       "      <td>12785378.0</td>\n",
       "      <td>11777</td>\n",
       "      <td>24304</td>\n",
       "      <td>24304.0</td>\n",
       "      <td>11777</td>\n",
       "    </tr>\n",
       "    <tr>\n",
       "      <th>2</th>\n",
       "      <td>3497</td>\n",
       "      <td>42337</td>\n",
       "      <td>1</td>\n",
       "      <td>239231</td>\n",
       "      <td>1.0</td>\n",
       "      <td>US&gt;CA&gt;807</td>\n",
       "      <td>938164</td>\n",
       "      <td>5969</td>\n",
       "      <td>1499</td>\n",
       "      <td>5802.0</td>\n",
       "      <td>NaN</td>\n",
       "      <td>2016-07-27 00:00:00</td>\n",
       "      <td>37519782.0</td>\n",
       "      <td>11777</td>\n",
       "      <td>24304</td>\n",
       "      <td>24304.0</td>\n",
       "      <td>11777</td>\n",
       "    </tr>\n",
       "    <tr>\n",
       "      <th>3</th>\n",
       "      <td>6361</td>\n",
       "      <td>42337</td>\n",
       "      <td>0</td>\n",
       "      <td>435860</td>\n",
       "      <td>1.0</td>\n",
       "      <td>US&gt;CA&gt;828</td>\n",
       "      <td>938164</td>\n",
       "      <td>5969</td>\n",
       "      <td>1499</td>\n",
       "      <td>5802.0</td>\n",
       "      <td>NaN</td>\n",
       "      <td>2016-07-27 00:00:00</td>\n",
       "      <td>37519782.0</td>\n",
       "      <td>11777</td>\n",
       "      <td>24304</td>\n",
       "      <td>24304.0</td>\n",
       "      <td>11777</td>\n",
       "    </tr>\n",
       "    <tr>\n",
       "      <th>4</th>\n",
       "      <td>7709</td>\n",
       "      <td>42337</td>\n",
       "      <td>0</td>\n",
       "      <td>530186</td>\n",
       "      <td>1.0</td>\n",
       "      <td>US&gt;NV&gt;839</td>\n",
       "      <td>938164</td>\n",
       "      <td>5969</td>\n",
       "      <td>1499</td>\n",
       "      <td>5802.0</td>\n",
       "      <td>NaN</td>\n",
       "      <td>2016-07-27 00:00:00</td>\n",
       "      <td>37519782.0</td>\n",
       "      <td>11777</td>\n",
       "      <td>24304</td>\n",
       "      <td>24304.0</td>\n",
       "      <td>11777</td>\n",
       "    </tr>\n",
       "  </tbody>\n",
       "</table>\n",
       "</div>"
      ],
      "text/plain": [
       "   display_id  ad_id  clicked  timestamp  platform geo_location  document_id  \\\n",
       "0           1  42337        0         61       3.0    US>SC>519       938164   \n",
       "1        2236  42337        0     156650       3.0    US>WI>669       938164   \n",
       "2        3497  42337        1     239231       1.0    US>CA>807       938164   \n",
       "3        6361  42337        0     435860       1.0    US>CA>828       938164   \n",
       "4        7709  42337        0     530186       1.0    US>NV>839       938164   \n",
       "\n",
       "   campaign_id  advertiser_id  source_id  publisher_id         publish_time  \\\n",
       "0         5969           1499     5802.0           NaN  2016-07-27 00:00:00   \n",
       "1         5969           1499     5802.0           NaN  2016-07-27 00:00:00   \n",
       "2         5969           1499     5802.0           NaN  2016-07-27 00:00:00   \n",
       "3         5969           1499     5802.0           NaN  2016-07-27 00:00:00   \n",
       "4         5969           1499     5802.0           NaN  2016-07-27 00:00:00   \n",
       "\n",
       "   platform_freq  ad_id_freq  advertiser_id_freq  source_id_freq  \\\n",
       "0     12785378.0       11777               24304         24304.0   \n",
       "1     12785378.0       11777               24304         24304.0   \n",
       "2     37519782.0       11777               24304         24304.0   \n",
       "3     37519782.0       11777               24304         24304.0   \n",
       "4     37519782.0       11777               24304         24304.0   \n",
       "\n",
       "   campaign_id_freq  \n",
       "0             11777  \n",
       "1             11777  \n",
       "2             11777  \n",
       "3             11777  \n",
       "4             11777  "
      ]
     },
     "execution_count": 30,
     "metadata": {},
     "output_type": "execute_result"
    }
   ],
   "source": [
    "data.head()"
   ]
  },
  {
   "cell_type": "code",
   "execution_count": null,
   "metadata": {
    "collapsed": false
   },
   "outputs": [],
   "source": []
  },
  {
   "cell_type": "code",
   "execution_count": 31,
   "metadata": {
    "collapsed": false
   },
   "outputs": [
    {
     "data": {
      "text/html": [
       "<div>\n",
       "<table border=\"1\" class=\"dataframe\">\n",
       "  <thead>\n",
       "    <tr style=\"text-align: right;\">\n",
       "      <th></th>\n",
       "      <th>timestamp</th>\n",
       "      <th>platform_freq</th>\n",
       "      <th>ad_id_freq</th>\n",
       "      <th>advertiser_id_freq</th>\n",
       "      <th>source_id_freq</th>\n",
       "      <th>campaign_id_freq</th>\n",
       "      <th>platform_1.0</th>\n",
       "      <th>platform_2.0</th>\n",
       "      <th>platform_3.0</th>\n",
       "    </tr>\n",
       "  </thead>\n",
       "  <tbody>\n",
       "    <tr>\n",
       "      <th>0</th>\n",
       "      <td>61</td>\n",
       "      <td>12785378.0</td>\n",
       "      <td>11777</td>\n",
       "      <td>24304</td>\n",
       "      <td>24304.0</td>\n",
       "      <td>11777</td>\n",
       "      <td>0</td>\n",
       "      <td>0</td>\n",
       "      <td>1</td>\n",
       "    </tr>\n",
       "    <tr>\n",
       "      <th>1</th>\n",
       "      <td>156650</td>\n",
       "      <td>12785378.0</td>\n",
       "      <td>11777</td>\n",
       "      <td>24304</td>\n",
       "      <td>24304.0</td>\n",
       "      <td>11777</td>\n",
       "      <td>0</td>\n",
       "      <td>0</td>\n",
       "      <td>1</td>\n",
       "    </tr>\n",
       "    <tr>\n",
       "      <th>2</th>\n",
       "      <td>239231</td>\n",
       "      <td>37519782.0</td>\n",
       "      <td>11777</td>\n",
       "      <td>24304</td>\n",
       "      <td>24304.0</td>\n",
       "      <td>11777</td>\n",
       "      <td>1</td>\n",
       "      <td>0</td>\n",
       "      <td>0</td>\n",
       "    </tr>\n",
       "    <tr>\n",
       "      <th>3</th>\n",
       "      <td>435860</td>\n",
       "      <td>37519782.0</td>\n",
       "      <td>11777</td>\n",
       "      <td>24304</td>\n",
       "      <td>24304.0</td>\n",
       "      <td>11777</td>\n",
       "      <td>1</td>\n",
       "      <td>0</td>\n",
       "      <td>0</td>\n",
       "    </tr>\n",
       "    <tr>\n",
       "      <th>4</th>\n",
       "      <td>530186</td>\n",
       "      <td>37519782.0</td>\n",
       "      <td>11777</td>\n",
       "      <td>24304</td>\n",
       "      <td>24304.0</td>\n",
       "      <td>11777</td>\n",
       "      <td>1</td>\n",
       "      <td>0</td>\n",
       "      <td>0</td>\n",
       "    </tr>\n",
       "  </tbody>\n",
       "</table>\n",
       "</div>"
      ],
      "text/plain": [
       "   timestamp  platform_freq  ad_id_freq  advertiser_id_freq  source_id_freq  \\\n",
       "0         61     12785378.0       11777               24304         24304.0   \n",
       "1     156650     12785378.0       11777               24304         24304.0   \n",
       "2     239231     37519782.0       11777               24304         24304.0   \n",
       "3     435860     37519782.0       11777               24304         24304.0   \n",
       "4     530186     37519782.0       11777               24304         24304.0   \n",
       "\n",
       "   campaign_id_freq  platform_1.0  platform_2.0  platform_3.0  \n",
       "0             11777             0             0             1  \n",
       "1             11777             0             0             1  \n",
       "2             11777             1             0             0  \n",
       "3             11777             1             0             0  \n",
       "4             11777             1             0             0  "
      ]
     },
     "execution_count": 31,
     "metadata": {},
     "output_type": "execute_result"
    }
   ],
   "source": [
    "train_normed.head()"
   ]
  },
  {
   "cell_type": "markdown",
   "metadata": {},
   "source": [
    "# Processing with a multilayer perceptron\n",
    "\n",
    "### Set up the neural network"
   ]
  },
  {
   "cell_type": "code",
   "execution_count": null,
   "metadata": {
    "collapsed": false
   },
   "outputs": [],
   "source": [
    "# training params\n",
    "learning_rate = 1e-4\n",
    "training_epochs = 5\n",
    "batch_size = 10000\n",
    "epoch_size = train_normed.shape[0] / batch_size\n",
    "display_step = 1"
   ]
  },
  {
   "cell_type": "code",
   "execution_count": 42,
   "metadata": {
    "collapsed": true
   },
   "outputs": [],
   "source": [
    "# network params\n",
    "n_hidden_1 = 10\n",
    "n_hidden_2 = 10\n",
    "n_input = 6\n",
    "n_classes = 2"
   ]
  },
  {
   "cell_type": "code",
   "execution_count": 43,
   "metadata": {
    "collapsed": false
   },
   "outputs": [],
   "source": [
    "# tf Graph input\n",
    "x = tf.placeholder(\"float\", [None, n_input])\n",
    "y = tf.placeholder(\"float\", [None, n_classes])"
   ]
  },
  {
   "cell_type": "code",
   "execution_count": 44,
   "metadata": {
    "collapsed": true
   },
   "outputs": [],
   "source": [
    "# Create model\n",
    "def multilayer_perceptron(x, weights, biases):\n",
    "    # Hidden layer with RELU activation\n",
    "    layer_1 = tf.add(tf.matmul(x, weights['h1']), biases['b1'])\n",
    "    layer_1 = tf.nn.relu(layer_1)\n",
    "    # Hidden layer with RELU activation\n",
    "    layer_2 = tf.add(tf.matmul(layer_1, weights['h2']), biases['b2'])\n",
    "    layer_2 = tf.nn.relu(layer_2)\n",
    "    # Output layer with linear activation\n",
    "    out_layer = tf.matmul(layer_2, weights['out']) + biases['out']\n",
    "    return out_layer"
   ]
  },
  {
   "cell_type": "code",
   "execution_count": 45,
   "metadata": {
    "collapsed": false
   },
   "outputs": [],
   "source": [
    "\n",
    "# Store layers weight & bias\n",
    "weights = {\n",
    "    'h1': tf.Variable(tf.random_normal([n_input, n_hidden_1])),\n",
    "    'h2': tf.Variable(tf.random_normal([n_hidden_1, n_hidden_2])),\n",
    "    'out': tf.Variable(tf.random_normal([n_hidden_2, n_classes]))\n",
    "}\n",
    "biases = {\n",
    "    'b1': tf.Variable(tf.random_normal([n_hidden_1])),\n",
    "    'b2': tf.Variable(tf.random_normal([n_hidden_2])),\n",
    "    'out': tf.Variable(tf.random_normal([n_classes]))\n",
    "}"
   ]
  },
  {
   "cell_type": "code",
   "execution_count": 46,
   "metadata": {
    "collapsed": false
   },
   "outputs": [],
   "source": [
    "# Construct model\n",
    "pred = multilayer_perceptron(x, weights, biases)\n",
    "\n",
    "# Define loss and optimizer\n",
    "cost = tf.reduce_mean(tf.nn.softmax_cross_entropy_with_logits(pred, y))\n",
    "optimizer = tf.train.AdamOptimizer(learning_rate=learning_rate).minimize(cost)\n",
    "\n",
    "# Initializing the variables\n",
    "init = tf.initialize_all_variables()\n",
    "\n",
    "# add ops to save and restore all variables\n",
    "saver = tf.train.Saver()"
   ]
  },
  {
   "cell_type": "markdown",
   "metadata": {},
   "source": [
    "### Start training"
   ]
  },
  {
   "cell_type": "code",
   "execution_count": 47,
   "metadata": {
    "collapsed": false,
    "scrolled": true
   },
   "outputs": [
    {
     "name": "stdout",
     "output_type": "stream",
     "text": [
      "Epoch:0001cost=0.751343075\n",
      "Epoch:0002cost=0.492395859\n",
      "Epoch:0003cost=0.494877853\n",
      "Epoch:0004cost=0.489054633\n",
      "Epoch:0005cost=0.490858332\n",
      "Optimization Finished!\n"
     ]
    }
   ],
   "source": [
    "# Launch the graph\n",
    "sess = tf.Session()\n",
    "sess.run(init)\n",
    "\n",
    "# Training cycle\n",
    "for epoch in range(training_epochs):\n",
    "    avg_cost = 0.\n",
    "    total_batch = epoch_size\n",
    "    # Loop over all batches\n",
    "    for i in range(total_batch):\n",
    "        batch_x, batch_y = load_next_train_data(train_normed, labels, batch_size)\n",
    "        # Run optimization op (backprop) and cost op (to get loss value)\n",
    "        _, c = sess.run([optimizer, cost], feed_dict={x: batch_x,\n",
    "                                                      y: batch_y})\n",
    "        # Compute average loss\n",
    "        avg_cost += c / total_batch\n",
    "    # Display logs per epoch step\n",
    "    if epoch % display_step == 0:\n",
    "        print \"Epoch:\" + '%04d' % (epoch+1) + \" cost=\" + \\\n",
    "            \"{:.9f}\".format(avg_cost)\n",
    "print(\"Optimization Finished!\")\n",
    "\n",
    "#     start = time.time()\n",
    "#     last_index = 0\n",
    "#     splits = [5000000, 10000000, 15000000, 20000000, 25000000, 30000000, 32225162]\n",
    "#     classification = []\n",
    "#     for i in splits:\n",
    "#         increment = outbrain_test[last_index:i]\n",
    "#         with sess.as_default():\n",
    "#             classification += tf.nn.softmax(sess.run(pred, feed_dict={x: increment})).eval()[:,1].tolist()\n",
    "#         last_index = i\n",
    "#     end = time.time()\n",
    "#     print 'Seconds to classify test data: ' + str(end-start)"
   ]
  },
  {
   "cell_type": "code",
   "execution_count": 31,
   "metadata": {
    "collapsed": false
   },
   "outputs": [
    {
     "ename": "NameError",
     "evalue": "name 'sess' is not defined",
     "output_type": "error",
     "traceback": [
      "\u001b[0;31m---------------------------------------------------------------------------\u001b[0m",
      "\u001b[0;31mNameError\u001b[0m                                 Traceback (most recent call last)",
      "\u001b[0;32m<ipython-input-31-e6f111681998>\u001b[0m in \u001b[0;36m<module>\u001b[0;34m()\u001b[0m\n\u001b[0;32m----> 1\u001b[0;31m \u001b[0;32mwith\u001b[0m \u001b[0msess\u001b[0m\u001b[0;34m.\u001b[0m\u001b[0mas_default\u001b[0m\u001b[0;34m(\u001b[0m\u001b[0;34m)\u001b[0m\u001b[0;34m:\u001b[0m\u001b[0;34m\u001b[0m\u001b[0m\n\u001b[0m\u001b[1;32m      2\u001b[0m     \u001b[0;31m# Test model\u001b[0m\u001b[0;34m\u001b[0m\u001b[0;34m\u001b[0m\u001b[0m\n\u001b[1;32m      3\u001b[0m     \u001b[0mcorrect_prediction\u001b[0m \u001b[0;34m=\u001b[0m \u001b[0mtf\u001b[0m\u001b[0;34m.\u001b[0m\u001b[0mequal\u001b[0m\u001b[0;34m(\u001b[0m\u001b[0mtf\u001b[0m\u001b[0;34m.\u001b[0m\u001b[0margmax\u001b[0m\u001b[0;34m(\u001b[0m\u001b[0mpred\u001b[0m\u001b[0;34m,\u001b[0m \u001b[0;36m1\u001b[0m\u001b[0;34m)\u001b[0m\u001b[0;34m,\u001b[0m \u001b[0mtf\u001b[0m\u001b[0;34m.\u001b[0m\u001b[0margmax\u001b[0m\u001b[0;34m(\u001b[0m\u001b[0my\u001b[0m\u001b[0;34m,\u001b[0m \u001b[0;36m1\u001b[0m\u001b[0;34m)\u001b[0m\u001b[0;34m)\u001b[0m\u001b[0;34m\u001b[0m\u001b[0m\n\u001b[1;32m      4\u001b[0m     \u001b[0;31m# Calculate accuracy\u001b[0m\u001b[0;34m\u001b[0m\u001b[0;34m\u001b[0m\u001b[0m\n\u001b[1;32m      5\u001b[0m     \u001b[0maccuracy\u001b[0m \u001b[0;34m=\u001b[0m \u001b[0mtf\u001b[0m\u001b[0;34m.\u001b[0m\u001b[0mreduce_mean\u001b[0m\u001b[0;34m(\u001b[0m\u001b[0mtf\u001b[0m\u001b[0;34m.\u001b[0m\u001b[0mcast\u001b[0m\u001b[0;34m(\u001b[0m\u001b[0mcorrect_prediction\u001b[0m\u001b[0;34m,\u001b[0m \u001b[0;34m\"float\"\u001b[0m\u001b[0;34m)\u001b[0m\u001b[0;34m)\u001b[0m\u001b[0;34m\u001b[0m\u001b[0m\n",
      "\u001b[0;31mNameError\u001b[0m: name 'sess' is not defined"
     ]
    }
   ],
   "source": [
    "with sess.as_default():\n",
    "    # Test model\n",
    "    correct_prediction = tf.equal(tf.argmax(pred, 1), tf.argmax(y, 1))\n",
    "    # Calculate accuracy\n",
    "    accuracy = tf.reduce_mean(tf.cast(correct_prediction, \"float\"))\n",
    "    testi, testl = load_next_train_data(train_normed, labels, batch_size)\n",
    "    print(\"Accuracy:\", accuracy.eval({x: testi, y: testl}))\n",
    "    print tf.nn.softmax(sess.run(pred, feed_dict={x: train_normed[500000:500005]})).eval()"
   ]
  },
  {
   "cell_type": "code",
   "execution_count": null,
   "metadata": {
    "collapsed": false
   },
   "outputs": [],
   "source": []
  },
  {
   "cell_type": "code",
   "execution_count": null,
   "metadata": {
    "collapsed": false
   },
   "outputs": [],
   "source": [
    "start = time.time()\n",
    "problemx, problemy = train()\n",
    "end = time.time()\n",
    "print 'seconds to train: ' + str(end-start)"
   ]
  },
  {
   "cell_type": "code",
   "execution_count": null,
   "metadata": {
    "collapsed": false
   },
   "outputs": [],
   "source": [
    "save_path = saver.save(sess, \"/home/ryan/cs/kaggle/outbrain/src/model.ckpt\")\n",
    "print \"Model saved in file\""
   ]
  },
  {
   "cell_type": "code",
   "execution_count": null,
   "metadata": {
    "collapsed": false
   },
   "outputs": [],
   "source": [
    "# if 'data' in locals():\n",
    "#     del data\n",
    "# if 'labels' in locals():\n",
    "#     del labels"
   ]
  },
  {
   "cell_type": "code",
   "execution_count": 48,
   "metadata": {
    "collapsed": false
   },
   "outputs": [
    {
     "name": "stdout",
     "output_type": "stream",
     "text": [
      "Number of entries in test_data: 32225162\n",
      "Seconds to load test data: 0017\n"
     ]
    }
   ],
   "source": [
    "print 'Number of entries in test_data: ' + str(clicks_test.shape[0])\n",
    "start = time.time()\n",
    "outbrain_test, disp_ids, ad_ids = load_raw_joined_test_df()\n",
    "test_processed = process(outbrain_test, freq_tables)[0]\n",
    "end = time.time()\n",
    "print 'Seconds to load test data: ' + '%04d' % (end-start)"
   ]
  },
  {
   "cell_type": "code",
   "execution_count": 49,
   "metadata": {
    "collapsed": false
   },
   "outputs": [
    {
     "data": {
      "text/html": [
       "<div>\n",
       "<table border=\"1\" class=\"dataframe\">\n",
       "  <thead>\n",
       "    <tr style=\"text-align: right;\">\n",
       "      <th></th>\n",
       "      <th>timestamp</th>\n",
       "      <th>platform_freq</th>\n",
       "      <th>ad_id_freq</th>\n",
       "      <th>advertiser_id_freq</th>\n",
       "      <th>source_id_freq</th>\n",
       "      <th>campaign_id_freq</th>\n",
       "      <th>platform_1</th>\n",
       "      <th>platform_2</th>\n",
       "      <th>platform_3</th>\n",
       "    </tr>\n",
       "  </thead>\n",
       "  <tbody>\n",
       "    <tr>\n",
       "      <th>0</th>\n",
       "      <td>1026</td>\n",
       "      <td>12785378</td>\n",
       "      <td>5642.0</td>\n",
       "      <td>682481.0</td>\n",
       "      <td>563928.0</td>\n",
       "      <td>6063.0</td>\n",
       "      <td>0</td>\n",
       "      <td>0</td>\n",
       "      <td>1</td>\n",
       "    </tr>\n",
       "    <tr>\n",
       "      <th>1</th>\n",
       "      <td>59173</td>\n",
       "      <td>12785378</td>\n",
       "      <td>5642.0</td>\n",
       "      <td>682481.0</td>\n",
       "      <td>563928.0</td>\n",
       "      <td>6063.0</td>\n",
       "      <td>0</td>\n",
       "      <td>0</td>\n",
       "      <td>1</td>\n",
       "    </tr>\n",
       "    <tr>\n",
       "      <th>2</th>\n",
       "      <td>501082</td>\n",
       "      <td>37519782</td>\n",
       "      <td>5642.0</td>\n",
       "      <td>682481.0</td>\n",
       "      <td>563928.0</td>\n",
       "      <td>6063.0</td>\n",
       "      <td>1</td>\n",
       "      <td>0</td>\n",
       "      <td>0</td>\n",
       "    </tr>\n",
       "    <tr>\n",
       "      <th>3</th>\n",
       "      <td>733229</td>\n",
       "      <td>37519782</td>\n",
       "      <td>5642.0</td>\n",
       "      <td>682481.0</td>\n",
       "      <td>563928.0</td>\n",
       "      <td>6063.0</td>\n",
       "      <td>1</td>\n",
       "      <td>0</td>\n",
       "      <td>0</td>\n",
       "    </tr>\n",
       "    <tr>\n",
       "      <th>4</th>\n",
       "      <td>897830</td>\n",
       "      <td>12785378</td>\n",
       "      <td>5642.0</td>\n",
       "      <td>682481.0</td>\n",
       "      <td>563928.0</td>\n",
       "      <td>6063.0</td>\n",
       "      <td>0</td>\n",
       "      <td>0</td>\n",
       "      <td>1</td>\n",
       "    </tr>\n",
       "  </tbody>\n",
       "</table>\n",
       "</div>"
      ],
      "text/plain": [
       "   timestamp  platform_freq  ad_id_freq  advertiser_id_freq  source_id_freq  \\\n",
       "0       1026       12785378      5642.0            682481.0        563928.0   \n",
       "1      59173       12785378      5642.0            682481.0        563928.0   \n",
       "2     501082       37519782      5642.0            682481.0        563928.0   \n",
       "3     733229       37519782      5642.0            682481.0        563928.0   \n",
       "4     897830       12785378      5642.0            682481.0        563928.0   \n",
       "\n",
       "   campaign_id_freq  platform_1  platform_2  platform_3  \n",
       "0            6063.0           0           0           1  \n",
       "1            6063.0           0           0           1  \n",
       "2            6063.0           1           0           0  \n",
       "3            6063.0           1           0           0  \n",
       "4            6063.0           0           0           1  "
      ]
     },
     "execution_count": 49,
     "metadata": {},
     "output_type": "execute_result"
    }
   ],
   "source": [
    "test_processed.head()"
   ]
  },
  {
   "cell_type": "code",
   "execution_count": null,
   "metadata": {
    "collapsed": true
   },
   "outputs": [],
   "source": [
    "classification ="
   ]
  },
  {
   "cell_type": "code",
   "execution_count": 52,
   "metadata": {
    "collapsed": false
   },
   "outputs": [],
   "source": [
    "compressed = dict.fromkeys(disp_ids)"
   ]
  },
  {
   "cell_type": "code",
   "execution_count": 53,
   "metadata": {
    "collapsed": false
   },
   "outputs": [
    {
     "ename": "IndexError",
     "evalue": "index 1 is out of bounds for axis 0 with size 1",
     "output_type": "error",
     "traceback": [
      "\u001b[0;31m---------------------------------------------------------------------------\u001b[0m",
      "\u001b[0;31mIndexError\u001b[0m                                Traceback (most recent call last)",
      "\u001b[0;32m<ipython-input-53-f6b0e2231202>\u001b[0m in \u001b[0;36m<module>\u001b[0;34m()\u001b[0m\n\u001b[1;32m      7\u001b[0m         \u001b[0mi\u001b[0m \u001b[0;34m+=\u001b[0m \u001b[0;36m1\u001b[0m\u001b[0;34m\u001b[0m\u001b[0m\n\u001b[1;32m      8\u001b[0m     \u001b[0mindices\u001b[0m \u001b[0;34m=\u001b[0m \u001b[0mnp\u001b[0m\u001b[0;34m.\u001b[0m\u001b[0margsort\u001b[0m\u001b[0;34m(\u001b[0m\u001b[0mclassification\u001b[0m\u001b[0;34m[\u001b[0m\u001b[0mstart_id\u001b[0m \u001b[0;34m:\u001b[0m \u001b[0mi\u001b[0m\u001b[0;34m]\u001b[0m\u001b[0;34m)\u001b[0m\u001b[0;34m[\u001b[0m\u001b[0;34m:\u001b[0m\u001b[0;34m:\u001b[0m\u001b[0;34m-\u001b[0m\u001b[0;36m1\u001b[0m\u001b[0;34m]\u001b[0m\u001b[0;34m\u001b[0m\u001b[0m\n\u001b[0;32m----> 9\u001b[0;31m     \u001b[0msorted_ads\u001b[0m \u001b[0;34m=\u001b[0m \u001b[0mnp\u001b[0m\u001b[0;34m.\u001b[0m\u001b[0marray\u001b[0m\u001b[0;34m(\u001b[0m\u001b[0mad_ids\u001b[0m\u001b[0;34m[\u001b[0m\u001b[0mstart_id\u001b[0m\u001b[0;34m:\u001b[0m \u001b[0mi\u001b[0m\u001b[0;34m]\u001b[0m\u001b[0;34m)\u001b[0m\u001b[0;34m[\u001b[0m\u001b[0mindices\u001b[0m\u001b[0;34m]\u001b[0m\u001b[0;34m\u001b[0m\u001b[0m\n\u001b[0m\u001b[1;32m     10\u001b[0m     \u001b[0mads_str\u001b[0m \u001b[0;34m=\u001b[0m \u001b[0mnp\u001b[0m\u001b[0;34m.\u001b[0m\u001b[0mchar\u001b[0m\u001b[0;34m.\u001b[0m\u001b[0mmod\u001b[0m\u001b[0;34m(\u001b[0m\u001b[0;34m'%i'\u001b[0m\u001b[0;34m,\u001b[0m \u001b[0msorted_ads\u001b[0m\u001b[0;34m)\u001b[0m\u001b[0;34m\u001b[0m\u001b[0m\n\u001b[1;32m     11\u001b[0m     \u001b[0mads_str\u001b[0m \u001b[0;34m=\u001b[0m \u001b[0;34m\" \"\u001b[0m\u001b[0;34m.\u001b[0m\u001b[0mjoin\u001b[0m\u001b[0;34m(\u001b[0m\u001b[0mads_str\u001b[0m\u001b[0;34m)\u001b[0m\u001b[0;34m\u001b[0m\u001b[0m\n",
      "\u001b[0;31mIndexError\u001b[0m: index 1 is out of bounds for axis 0 with size 1"
     ]
    }
   ],
   "source": [
    "i = 0\n",
    "start = time.time()\n",
    "while i < len(classification):\n",
    "    start_id = i\n",
    "    curr_disp_id = disp_ids[i]\n",
    "    while i < len(classification) and curr_disp_id == disp_ids[i]:\n",
    "        i += 1\n",
    "    indices = np.argsort(classification[start_id : i])[::-1]\n",
    "    sorted_ads = np.array(ad_ids[start_id: i])[indices]\n",
    "    ads_str = np.char.mod('%i', sorted_ads)\n",
    "    ads_str = \" \".join(ads_str)\n",
    "    compressed[disp_ids[start_id]] = ads_str\n",
    "print time.time() - start"
   ]
  },
  {
   "cell_type": "code",
   "execution_count": null,
   "metadata": {
    "collapsed": false
   },
   "outputs": [],
   "source": [
    "start = time.time()\n",
    "with open('dict.csv', 'wb') as csv_file:\n",
    "    writer = csv.writer(csv_file)\n",
    "    writer.writerow(['display_id', 'ad_id'])\n",
    "    for key, value in compressed.items():\n",
    "        writer.writerow([key, value])\n",
    "print \"Seconds to write to .csv: \" + str(time.time() - start)"
   ]
  },
  {
   "cell_type": "code",
   "execution_count": null,
   "metadata": {
    "collapsed": true
   },
   "outputs": [],
   "source": []
  }
 ],
 "metadata": {
  "kernelspec": {
   "display_name": "Python 2",
   "language": "python",
   "name": "python2"
  },
  "language_info": {
   "codemirror_mode": {
    "name": "ipython",
    "version": 2
   },
   "file_extension": ".py",
   "mimetype": "text/x-python",
   "name": "python",
   "nbconvert_exporter": "python",
   "pygments_lexer": "ipython2",
   "version": "2.7.12"
  }
 },
 "nbformat": 4,
 "nbformat_minor": 1
}
