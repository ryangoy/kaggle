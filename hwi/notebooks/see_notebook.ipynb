{
 "cells": [
  {
   "cell_type": "code",
   "execution_count": 1,
   "metadata": {},
   "outputs": [
    {
     "name": "stderr",
     "output_type": "stream",
     "text": [
      "Using TensorFlow backend.\n"
     ]
    }
   ],
   "source": [
    "\n",
    "# Read the dataset description\n",
    "import gzip\n",
    "# Read or generate p2h, a dictionary of image name to image id (picture to hash)\n",
    "import pickle\n",
    "import platform\n",
    "import random\n",
    "# Suppress annoying stderr output when importing keras.\n",
    "import sys\n",
    "from lapjv import lapjv\n",
    "from math import sqrt\n",
    "# Determine the size of each image\n",
    "from os.path import isfile\n",
    "\n",
    "import keras\n",
    "import matplotlib.pyplot as plt\n",
    "import numpy as np\n",
    "import pandas as pd\n",
    "from PIL import Image as pil_image\n",
    "from imagehash import phash\n",
    "from keras import backend as K\n",
    "from keras import regularizers\n",
    "from keras.engine.topology import Input\n",
    "from keras.layers import Activation, Add, BatchNormalization, Concatenate, Conv2D, Dense, Flatten, GlobalMaxPooling2D, \\\n",
    "    Lambda, MaxPooling2D, Reshape\n",
    "from keras.models import Model\n",
    "from keras.optimizers import Adam\n",
    "from keras.preprocessing.image import img_to_array\n",
    "from keras.utils import Sequence\n",
    "from pandas import read_csv\n",
    "from scipy.ndimage import affine_transform\n",
    "from tqdm import tqdm_notebook as tqdm\n",
    "import time\n",
    "from os.path import join\n",
    "import threading"
   ]
  },
  {
   "cell_type": "code",
   "execution_count": 2,
   "metadata": {},
   "outputs": [],
   "source": [
    "DATA_PATH = '/home/ryan/cs/datasets/hwi'\n",
    "TRAIN_DF = join(DATA_PATH, 'train.csv')\n",
    "SUB_Df = join(DATA_PATH, 'sample_submission.csv')\n",
    "TRAIN = join(DATA_PATH, 'train/')\n",
    "TEST = join(DATA_PATH, 'test/')\n",
    "P2H = join(DATA_PATH, 'metadata/p2h.pickle')\n",
    "P2SIZE = join(DATA_PATH, 'metadata/p2size.pickle')\n",
    "BB_DF = join(DATA_PATH, \"metadata/bounding_boxes.csv\")\n",
    "tagged = dict([(p, w) for _, p, w in read_csv(TRAIN_DF).to_records()])\n",
    "submit = [p for _, p, _ in read_csv(SUB_Df).to_records()]\n",
    "join = list(tagged.keys()) + submit"
   ]
  },
  {
   "cell_type": "code",
   "execution_count": 3,
   "metadata": {},
   "outputs": [],
   "source": [
    "def expand_path(p):\n",
    "    if isfile(TRAIN + p):\n",
    "        return TRAIN + p\n",
    "    if isfile(TEST + p):\n",
    "        return TEST + p\n",
    "    return p"
   ]
  },
  {
   "cell_type": "code",
   "execution_count": 4,
   "metadata": {},
   "outputs": [
    {
     "name": "stdout",
     "output_type": "stream",
     "text": [
      "P2SIZE exists.\n"
     ]
    }
   ],
   "source": [
    "# p2size is a dictinary mapping image name to image size\n",
    "if isfile(P2SIZE):\n",
    "    print(\"P2SIZE exists.\")\n",
    "    with open(P2SIZE, 'rb') as f:\n",
    "        p2size = pickle.load(f)\n",
    "else:\n",
    "    p2size = {}\n",
    "    for p in tqdm(join):\n",
    "        size = pil_image.open(expand_path(p)).size\n",
    "        p2size[p] = size"
   ]
  },
  {
   "cell_type": "code",
   "execution_count": 5,
   "metadata": {},
   "outputs": [
    {
     "name": "stdout",
     "output_type": "stream",
     "text": [
      "P2H exists.\n"
     ]
    }
   ],
   "source": [
    "# determines if h1 and h2 are the same image or not for a given whale in the training set\n",
    "def match(h1, h2):\n",
    "    for p1 in h2ps[h1]:\n",
    "        for p2 in h2ps[h2]:\n",
    "            i1 = pil_image.open(expand_path(p1))\n",
    "            i2 = pil_image.open(expand_path(p2))\n",
    "            if i1.mode != i2.mode or i1.size != i2.size: return False\n",
    "            a1 = np.array(i1)\n",
    "            a1 = a1 - a1.mean()\n",
    "            a1 = a1 / sqrt((a1 ** 2).mean())\n",
    "            a2 = np.array(i2)\n",
    "            a2 = a2 - a2.mean()\n",
    "            a2 = a2 / sqrt((a2 ** 2).mean())\n",
    "            a = ((a1 - a2) ** 2).mean()\n",
    "            if a > 0.1: return False\n",
    "    return True\n",
    "\n",
    "\n",
    "if isfile(P2H):\n",
    "    print(\"P2H exists.\")\n",
    "    with open(P2H, 'rb') as f:\n",
    "        p2h = pickle.load(f)\n",
    "else:\n",
    "    # Compute phash for each image in the training and test set.\n",
    "    p2h = {}\n",
    "    for p in tqdm(join):\n",
    "        img = pil_image.open(expand_path(p))\n",
    "        h = phash(img)\n",
    "        p2h[p] = h\n",
    "\n",
    "    # Find all images associated with a given phash value.\n",
    "    h2ps = {}\n",
    "    for p, h in p2h.items():\n",
    "        if h not in h2ps: h2ps[h] = []\n",
    "        if p not in h2ps[h]: h2ps[h].append(p)\n",
    "\n",
    "    # Find all distinct phash values\n",
    "    hs = list(h2ps.keys())\n",
    "\n",
    "    # If the images are close enough, associate the two phash values (this is the slow part: n^2 algorithm)\n",
    "    h2h = {}\n",
    "    for i, h1 in enumerate(tqdm(hs)):\n",
    "        for h2 in hs[:i]:\n",
    "            if h1 - h2 <= 6 and match(h1, h2):\n",
    "                s1 = str(h1)\n",
    "                s2 = str(h2)\n",
    "                if s1 < s2: s1, s2 = s2, s1\n",
    "                h2h[s1] = s2\n",
    "\n",
    "    # Group together images with equivalent phash, and replace by string format of phash (faster and more readable)\n",
    "    for p, h in p2h.items():\n",
    "        h = str(h)\n",
    "        if h in h2h: h = h2h[h]\n",
    "        p2h[p] = h\n",
    "#     with open(P2H, 'wb') as f:\n",
    "#         pickle.dump(p2h, f)\n",
    "# For each whale id, determine the list of pictures\n",
    "h2ps = {}\n",
    "for p, h in p2h.items():\n",
    "    if h not in h2ps: h2ps[h] = []\n",
    "    if p not in h2ps[h]: h2ps[h].append(p)"
   ]
  },
  {
   "cell_type": "code",
   "execution_count": 6,
   "metadata": {},
   "outputs": [],
   "source": [
    "def show_whale(imgs, per_row=2):\n",
    "    n = len(imgs)\n",
    "    rows = (n + per_row - 1) // per_row\n",
    "    cols = min(per_row, n)\n",
    "    fig, axes = plt.subplots(rows, cols, figsize=(24 // per_row * cols, 24 // per_row * rows))\n",
    "    for ax in axes.flatten(): ax.axis('off')\n",
    "    for i, (img, ax) in enumerate(zip(imgs, axes.flatten())): ax.imshow(img.convert('RGB'))\n",
    "        \n",
    "\n",
    "def read_raw_image(p):\n",
    "    img = pil_image.open(expand_path(p))\n",
    "    return img"
   ]
  },
  {
   "cell_type": "code",
   "execution_count": 7,
   "metadata": {},
   "outputs": [
    {
     "data": {
      "text/plain": [
       "(33317,\n",
       " [('ef1a9ce1e2362549', 'cabf7a008.jpg'),\n",
       "  ('bfcad4a5e034c938', '02d6d1623.jpg'),\n",
       "  ('96a02f1f92e2e43d', 'd4dade3a1.jpg'),\n",
       "  ('bfcbc030b50d8d1b', '6cde587c8.jpg'),\n",
       "  ('becec0b03d4bc2b4', 'aa7a2336d.jpg')])"
      ]
     },
     "execution_count": 7,
     "metadata": {},
     "output_type": "execute_result"
    }
   ],
   "source": [
    "# For each images id, select the prefered image\n",
    "def prefer(ps):\n",
    "    if len(ps) == 1: return ps[0]\n",
    "    best_p = ps[0]\n",
    "    best_s = p2size[best_p]\n",
    "    for i in range(1, len(ps)):\n",
    "        p = ps[i]\n",
    "        s = p2size[p]\n",
    "        if s[0] * s[1] > best_s[0] * best_s[1]:  # Select the image with highest resolution\n",
    "            best_p = p\n",
    "            best_s = s\n",
    "    return best_p\n",
    "\n",
    "h2p = {}\n",
    "for h, ps in h2ps.items():\n",
    "    h2p[h] = prefer(ps)\n",
    "len(h2p), list(h2p.items())[:5]"
   ]
  },
  {
   "cell_type": "code",
   "execution_count": 8,
   "metadata": {},
   "outputs": [],
   "source": [
    "# Read the bounding box data from the bounding box kernel (see reference above)\n",
    "p2bb = pd.read_csv(BB_DF).set_index(\"Image\")\n",
    "\n",
    "old_stderr = sys.stderr\n",
    "sys.stderr = open('/dev/null' if platform.system() != 'Windows' else 'nul', 'w')\n",
    "\n",
    "sys.stderr = old_stderr\n",
    "\n",
    "img_shape = (384, 384, 1)  # The image shape used by the model\n",
    "#img_shape = (384, 384, 3)\n",
    "anisotropy = 2.15  # The horizontal compression ratio\n",
    "crop_margin = 0.05  # The margin added around the bounding box to compensate for bounding box inaccuracy"
   ]
  },
  {
   "cell_type": "code",
   "execution_count": 9,
   "metadata": {},
   "outputs": [],
   "source": [
    "def build_transform(rotation, shear, height_zoom, width_zoom, height_shift, width_shift):\n",
    "    \"\"\"\n",
    "    Build a transformation matrix with the specified characteristics.\n",
    "    \"\"\"\n",
    "    rotation = np.deg2rad(rotation)\n",
    "    shear = np.deg2rad(shear)\n",
    "    rotation_matrix = np.array(\n",
    "        [[np.cos(rotation), np.sin(rotation), 0], [-np.sin(rotation), np.cos(rotation), 0], [0, 0, 1]])\n",
    "    shift_matrix = np.array([[1, 0, height_shift], [0, 1, width_shift], [0, 0, 1]])\n",
    "    shear_matrix = np.array([[1, np.sin(shear), 0], [0, np.cos(shear), 0], [0, 0, 1]])\n",
    "    zoom_matrix = np.array([[1.0 / height_zoom, 0, 0], [0, 1.0 / width_zoom, 0], [0, 0, 1]])\n",
    "    shift_matrix = np.array([[1, 0, -height_shift], [0, 1, -width_shift], [0, 0, 1]])\n",
    "    return np.dot(np.dot(rotation_matrix, shear_matrix), np.dot(zoom_matrix, shift_matrix))"
   ]
  },
  {
   "cell_type": "code",
   "execution_count": 10,
   "metadata": {},
   "outputs": [],
   "source": [
    "def read_cropped_image(p, augment):\n",
    "    \"\"\"\n",
    "    @param p : the name of the picture to read\n",
    "    @param augment: True/False if data augmentation should be performed\n",
    "    @return a numpy array with the transformed image\n",
    "    \"\"\"\n",
    "    # If an image id was given, convert to filename\n",
    "    if p in h2p:\n",
    "        p = h2p[p]\n",
    "    size_x, size_y = p2size[p]\n",
    "\n",
    "    # Determine the region of the original image we want to capture based on the bounding box.\n",
    "    row = p2bb.loc[p]\n",
    "    x0, y0, x1, y1 = row['x0'], row['y0'], row['x1'], row['y1']\n",
    "    dx = x1 - x0\n",
    "    dy = y1 - y0\n",
    "    x0 -= dx * crop_margin\n",
    "    x1 += dx * crop_margin + 1\n",
    "    y0 -= dy * crop_margin\n",
    "    y1 += dy * crop_margin + 1\n",
    "    if x0 < 0:\n",
    "        x0 = 0\n",
    "    if x1 > size_x:\n",
    "        x1 = size_x\n",
    "    if y0 < 0:\n",
    "        y0 = 0\n",
    "    if y1 > size_y:\n",
    "        y1 = size_y\n",
    "    dx = x1 - x0\n",
    "    dy = y1 - y0\n",
    "    if dx > dy * anisotropy:\n",
    "        dy = 0.5 * (dx / anisotropy - dy)\n",
    "        y0 -= dy\n",
    "        y1 += dy\n",
    "    else:\n",
    "        dx = 0.5 * (dy * anisotropy - dx)\n",
    "        x0 -= dx\n",
    "        x1 += dx\n",
    "\n",
    "    # Generate the transformation matrix\n",
    "    trans = np.array([[1, 0, -0.5 * img_shape[0]], [0, 1, -0.5 * img_shape[1]], [0, 0, 1]])\n",
    "    trans = np.dot(np.array([[(y1 - y0) / img_shape[0], 0, 0], [0, (x1 - x0) / img_shape[1], 0], [0, 0, 1]]), trans)\n",
    "    if augment:\n",
    "        trans = np.dot(build_transform(\n",
    "            random.uniform(-5, 5),\n",
    "            random.uniform(-5, 5),\n",
    "            random.uniform(0.8, 1.0),\n",
    "            random.uniform(0.8, 1.0),\n",
    "            random.uniform(-0.05 * (y1 - y0), 0.05 * (y1 - y0)),\n",
    "            random.uniform(-0.05 * (x1 - x0), 0.05 * (x1 - x0))\n",
    "        ), trans)\n",
    "    trans = np.dot(np.array([[1, 0, 0.5 * (y1 + y0)], [0, 1, 0.5 * (x1 + x0)], [0, 0, 1]]), trans)\n",
    "\n",
    "    # Read the image, transform to black and white and comvert to numpy array\n",
    "    img = read_raw_image(p).convert('L')\n",
    " \n",
    "    #img = read_raw_image(p)\n",
    "    img = img_to_array(img)\n",
    "\n",
    "    # Apply affine transformation\n",
    "    matrix = trans[:2, :2]\n",
    "    offset = trans[:2, 2]\n",
    "    img = img.reshape(img.shape[:-1])\n",
    "    img = affine_transform(img, matrix, offset, output_shape=img_shape[:-1], order=1, mode='constant',\n",
    "                           cval=np.average(img))\n",
    "    img = img.reshape(img_shape)\n",
    "\n",
    "    # Normalize to zero mean and unit variance\n",
    "    img -= np.mean(img, keepdims=True)\n",
    "    img /= np.std(img, keepdims=True) + K.epsilon()\n",
    "    return img\n",
    "\n",
    "def read_for_training(p):\n",
    "    \"\"\"\n",
    "    Read and preprocess an image with data augmentation (random transform).\n",
    "    \"\"\"\n",
    "    return read_cropped_image(p, True)\n",
    "\n",
    "\n",
    "def read_for_validation(p):\n",
    "    \"\"\"\n",
    "    Read and preprocess an image without data augmentation (use for testing).\n",
    "    \"\"\"\n",
    "    return read_cropped_image(p, False)\n",
    "\n",
    "\n",
    "p = list(tagged.keys())[312]"
   ]
  },
  {
   "cell_type": "code",
   "execution_count": 11,
   "metadata": {},
   "outputs": [],
   "source": [
    "def subblock(x, filter, **kwargs):\n",
    "    x = BatchNormalization()(x)\n",
    "    y = x\n",
    "    y = Conv2D(filter, (1, 1), activation='relu', **kwargs)(y)  # Reduce the number of features to 'filter'\n",
    "    y = BatchNormalization()(y)\n",
    "    y = Conv2D(filter, (3, 3), activation='relu', **kwargs)(y)  # Extend the feature field\n",
    "    y = BatchNormalization()(y)\n",
    "    y = Conv2D(K.int_shape(x)[-1], (1, 1), **kwargs)(y)  # no activation # Restore the number of original features\n",
    "    y = Add()([x, y])  # Add the bypass connection\n",
    "    y = Activation('relu')(y)\n",
    "    return y\n",
    "\n",
    "\n",
    "def build_model(lr, l2, activation='sigmoid'):\n",
    "    ##############\n",
    "    # BRANCH MODEL\n",
    "    ##############\n",
    "    regul = regularizers.l2(l2)\n",
    "    optim = Adam(lr=lr)\n",
    "    kwargs = {'padding': 'same', 'kernel_regularizer': regul}\n",
    "\n",
    "    inp = Input(shape=img_shape)  # 384x384x1\n",
    "    x = Conv2D(64, (9, 9), strides=2, activation='relu', **kwargs)(inp)\n",
    "\n",
    "    x = MaxPooling2D((2, 2), strides=(2, 2))(x)  # 96x96x64\n",
    "    for _ in range(2):\n",
    "        x = BatchNormalization()(x)\n",
    "        x = Conv2D(64, (3, 3), activation='relu', **kwargs)(x)\n",
    "\n",
    "    x = MaxPooling2D((2, 2), strides=(2, 2))(x)  # 48x48x64\n",
    "    x = BatchNormalization()(x)\n",
    "    x = Conv2D(128, (1, 1), activation='relu', **kwargs)(x)  # 48x48x128\n",
    "    for _ in range(4):\n",
    "        x = subblock(x, 64, **kwargs)\n",
    "\n",
    "    x = MaxPooling2D((2, 2), strides=(2, 2))(x)  # 24x24x128\n",
    "    x = BatchNormalization()(x)\n",
    "    x = Conv2D(256, (1, 1), activation='relu', **kwargs)(x)  # 24x24x256\n",
    "    for _ in range(4):\n",
    "        x = subblock(x, 64, **kwargs)\n",
    "\n",
    "    x = MaxPooling2D((2, 2), strides=(2, 2))(x)  # 12x12x256\n",
    "    x = BatchNormalization()(x)\n",
    "    x = Conv2D(384, (1, 1), activation='relu', **kwargs)(x)  # 12x12x384\n",
    "    for _ in range(4):\n",
    "        x = subblock(x, 96, **kwargs)\n",
    "\n",
    "    x = MaxPooling2D((2, 2), strides=(2, 2))(x)  # 6x6x384\n",
    "    x = BatchNormalization()(x)\n",
    "    x = Conv2D(512, (1, 1), activation='relu', **kwargs)(x)  # 6x6x512\n",
    "    for _ in range(4):\n",
    "        x = subblock(x, 128, **kwargs)\n",
    "\n",
    "    x = GlobalMaxPooling2D()(x)  # 512\n",
    "    branch_model = Model(inp, x)\n",
    "\n",
    "    ############\n",
    "    # HEAD MODEL\n",
    "    ############\n",
    "    mid = 32\n",
    "    xa_inp = Input(shape=branch_model.output_shape[1:])\n",
    "    xb_inp = Input(shape=branch_model.output_shape[1:])\n",
    "    x1 = Lambda(lambda x: x[0] * x[1])([xa_inp, xb_inp])\n",
    "    x2 = Lambda(lambda x: x[0] + x[1])([xa_inp, xb_inp])\n",
    "    x3 = Lambda(lambda x: K.abs(x[0] - x[1]))([xa_inp, xb_inp])\n",
    "    x4 = Lambda(lambda x: K.square(x))(x3)\n",
    "    x = Concatenate()([x1, x2, x3, x4])\n",
    "    x = Reshape((4, branch_model.output_shape[1], 1), name='reshape1')(x)\n",
    "\n",
    "    # Per feature NN with shared weight is implemented using CONV2D with appropriate stride.\n",
    "    x = Conv2D(mid, (4, 1), activation='relu', padding='valid')(x)\n",
    "    x = Reshape((branch_model.output_shape[1], mid, 1))(x)\n",
    "    x = Conv2D(1, (1, mid), activation='linear', padding='valid')(x)\n",
    "    x = Flatten(name='flatten')(x)\n",
    "\n",
    "    # Weighted sum implemented as a Dense layer.\n",
    "    x = Dense(1, use_bias=True, activation=activation, name='weighted-average')(x)\n",
    "    head_model = Model([xa_inp, xb_inp], x, name='head')\n",
    "\n",
    "    ########################\n",
    "    # SIAMESE NEURAL NETWORK\n",
    "    ########################\n",
    "    # Complete model is constructed by calling the branch model on each input image,\n",
    "    # and then the head model on the resulting 512-vectors.\n",
    "    img_a = Input(shape=img_shape)\n",
    "    img_b = Input(shape=img_shape)\n",
    "    xa = branch_model(img_a)\n",
    "    xb = branch_model(img_b)\n",
    "    x = head_model([xa, xb])\n",
    "    model = Model([img_a, img_b], x)\n",
    "    model.compile(optim, loss='binary_crossentropy', metrics=['binary_crossentropy', 'acc'])\n",
    "    return model, branch_model, head_model\n",
    "\n",
    "\n",
    "model, branch_model, head_model = build_model(64e-5, 0)"
   ]
  },
  {
   "cell_type": "code",
   "execution_count": 12,
   "metadata": {},
   "outputs": [],
   "source": [
    "# converts image hash to whale id\n",
    "h2ws = {}\n",
    "new_whale = 'new_whale'\n",
    "for p, w in tagged.items():\n",
    "    if w != new_whale:  # Use only identified whales\n",
    "        h = p2h[p]\n",
    "        if h not in h2ws: h2ws[h] = []\n",
    "        if w not in h2ws[h]: h2ws[h].append(w)\n",
    "for h, ws in h2ws.items():\n",
    "    if len(ws) > 1:\n",
    "        h2ws[h] = sorted(ws)\n",
    "\n",
    "# For each whale, find the unambiguous images ids.\n",
    "w2hs = {}\n",
    "for h, ws in h2ws.items():\n",
    "    if len(ws) == 1:  # Use only unambiguous pictures\n",
    "        w = ws[0]\n",
    "        if w not in w2hs: w2hs[w] = []\n",
    "        if h not in w2hs[w]: w2hs[w].append(h)\n",
    "for w, hs in w2hs.items():\n",
    "    if len(hs) > 1:\n",
    "        w2hs[w] = sorted(hs)"
   ]
  },
  {
   "cell_type": "code",
   "execution_count": 13,
   "metadata": {},
   "outputs": [],
   "source": [
    "train = []  # A list of training image ids\n",
    "for hs in w2hs.values():\n",
    "    if len(hs) > 1:\n",
    "        train += hs\n",
    "random.shuffle(train)\n",
    "train_set = set(train)\n",
    "\n",
    "w2ts = {}  # Associate the image ids from train to each whale id.\n",
    "for w, hs in w2hs.items():\n",
    "    for h in hs:\n",
    "        if h in train_set:\n",
    "            if w not in w2ts:\n",
    "                w2ts[w] = []\n",
    "            if h not in w2ts[w]:\n",
    "                w2ts[w].append(h)\n",
    "for w, ts in w2ts.items():\n",
    "    w2ts[w] = np.array(ts)\n",
    "\n",
    "t2i = {}  # The position in train of each training image id\n",
    "for i, t in enumerate(train):\n",
    "    t2i[t] = i"
   ]
  },
  {
   "cell_type": "code",
   "execution_count": 14,
   "metadata": {},
   "outputs": [
    {
     "name": "stdout",
     "output_type": "stream",
     "text": [
      "Start worker threads\n",
      "LAP completed\n"
     ]
    }
   ],
   "source": [
    "class TrainingData(Sequence):\n",
    "    def __init__(self, score, steps=1000, batch_size=32):\n",
    "        \"\"\"\n",
    "        @param score the cost matrix for the picture matching\n",
    "        @param steps the number of epoch we are planning with this score matrix\n",
    "        \"\"\"\n",
    "        super(TrainingData, self).__init__()\n",
    "        self.score = -score  # Maximizing the score is the same as minimuzing -score.\n",
    "        self.steps = steps\n",
    "        self.batch_size = batch_size\n",
    "        for ts in w2ts.values():\n",
    "            idxs = [t2i[t] for t in ts]\n",
    "            for i in idxs:\n",
    "                for j in idxs:\n",
    "                    self.score[\n",
    "                        i, j] = 10000.0  # Set a large value for matching whales -- eliminates this potential pairing\n",
    "        self.on_epoch_end()\n",
    "\n",
    "    def __getitem__(self, index):\n",
    "        start = self.batch_size * index\n",
    "        end = min(start + self.batch_size, len(self.match) + len(self.unmatch))\n",
    "        size = end - start\n",
    "        assert size > 0\n",
    "        a = np.zeros((size,) + img_shape, dtype=K.floatx())\n",
    "        b = np.zeros((size,) + img_shape, dtype=K.floatx())\n",
    "        c = np.zeros((size, 1), dtype=K.floatx())\n",
    "        j = start // 2\n",
    "        for i in range(0, size, 2):\n",
    "            a[i, :, :, :] = read_for_training(self.match[j][0])\n",
    "            b[i, :, :, :] = read_for_training(self.match[j][1])\n",
    "            c[i, 0] = 1  # This is a match\n",
    "            a[i + 1, :, :, :] = read_for_training(self.unmatch[j][0])\n",
    "            b[i + 1, :, :, :] = read_for_training(self.unmatch[j][1])\n",
    "            c[i + 1, 0] = 0  # Different whales\n",
    "            j += 1\n",
    "        return [a, b], c\n",
    "\n",
    "    def on_epoch_end(self):\n",
    "        if self.steps <= 0: return  # Skip this on the last epoch.\n",
    "        self.steps -= 1\n",
    "        self.match = []\n",
    "        self.unmatch = []\n",
    "#         _, x, _ = lapjv(self.score)  # Solve the linear assignment problem\n",
    "\n",
    "\n",
    "        num_threads = 6\n",
    "        tmp   = num_threads*[None]\n",
    "        threads   = []\n",
    "        thread_input   = num_threads*[None]\n",
    "        thread_idx = 0\n",
    "        batch = score.shape[0] // (num_threads-1)\n",
    "        for start in range(0, score.shape[0], batch):\n",
    "            end = min(score.shape[0], start + batch)\n",
    "            thread_input[thread_idx]  = self.score[start:end, start:end]\n",
    "            thread_idx += 1\n",
    "\n",
    "        def worker(data_idx):\n",
    "            _,x,_ = lapjv(thread_input[data_idx]) \n",
    "            tmp[data_idx] = x\n",
    "\n",
    "        print(\"Start worker threads\")\n",
    "        for i in range(num_threads):\n",
    "            t = threading.Thread(target=worker, args=(i,), daemon=True)\n",
    "            t.start()\n",
    "            threads.append(t)\n",
    "        for t in threads:\n",
    "            if t is not None:\n",
    "                t.join()\n",
    "\n",
    "        x = np.concatenate(tmp)\n",
    "\n",
    "        print(\"LAP completed\")\n",
    "\n",
    "        y = np.arange(len(x), dtype=np.int32)\n",
    "\n",
    "        # Compute a derangement for matching whales\n",
    "        for ts in w2ts.values():\n",
    "            d = ts.copy()\n",
    "            while True:\n",
    "                random.shuffle(d)\n",
    "                if not np.any(ts == d): break\n",
    "            for ab in zip(ts, d): self.match.append(ab)\n",
    "\n",
    "        # Construct unmatched whale pairs from the LAP solution.\n",
    "        for i, j in zip(x, y):\n",
    "            if i == j:\n",
    "                print(self.score)\n",
    "                print(x)\n",
    "                print(y)\n",
    "                print(i, j)\n",
    "            assert i != j\n",
    "#             print(i)\n",
    "#             print(j)\n",
    "            self.unmatch.append((train[i], train[j]))\n",
    "\n",
    "        # Force a different choice for an eventual next epoch.\n",
    "        self.score[x, y] = 10000.0\n",
    "        self.score[y, x] = 10000.0\n",
    "        random.shuffle(self.match)\n",
    "        random.shuffle(self.unmatch)\n",
    "        # print(len(self.match), len(train), len(self.unmatch), len(train))\n",
    "        assert len(self.match) == len(train) and len(self.unmatch) == len(train)\n",
    "\n",
    "    def __len__(self):\n",
    "        return (len(self.match) + len(self.unmatch) + self.batch_size - 1) // self.batch_size\n",
    "\n",
    "\n",
    "# Test on a batch of 32 with random costs.\n",
    "score = np.random.random_sample(size=(len(train), len(train)))\n",
    "data = TrainingData(score)\n",
    "(a, b), c = data[0]"
   ]
  },
  {
   "cell_type": "code",
   "execution_count": 15,
   "metadata": {},
   "outputs": [],
   "source": [
    "# A Keras generator to evaluate only the BRANCH MODEL\n",
    "class FeatureGen(Sequence):\n",
    "    def __init__(self, data, batch_size=64, verbose=1):\n",
    "        super(FeatureGen, self).__init__()\n",
    "        self.data = data\n",
    "        self.batch_size = batch_size\n",
    "        self.verbose = verbose\n",
    "        if self.verbose > 0: self.progress = tqdm(total=len(self), desc='Features')\n",
    "\n",
    "    def __getitem__(self, index):\n",
    "        start = self.batch_size * index\n",
    "        size = min(len(self.data) - start, self.batch_size)\n",
    "        a = np.zeros((size,) + img_shape, dtype=K.floatx())\n",
    "        for i in range(size): a[i, :, :, :] = read_for_validation(self.data[start + i])\n",
    "        if self.verbose > 0:\n",
    "            self.progress.update()\n",
    "            if self.progress.n >= len(self): self.progress.close()\n",
    "        return a\n",
    "\n",
    "    def __len__(self):\n",
    "        return (len(self.data) + self.batch_size - 1) // self.batch_size\n",
    "\n",
    "\n",
    "class ScoreGen(Sequence):\n",
    "    def __init__(self, x, y=None, batch_size=2048, verbose=1):\n",
    "        super(ScoreGen, self).__init__()\n",
    "        self.x = x\n",
    "        self.y = y\n",
    "        self.batch_size = batch_size\n",
    "        self.verbose = verbose\n",
    "        if y is None:\n",
    "            self.y = self.x\n",
    "            self.ix, self.iy = np.triu_indices(x.shape[0], 1)\n",
    "        else:\n",
    "            self.iy, self.ix = np.indices((y.shape[0], x.shape[0]))\n",
    "            self.ix = self.ix.reshape((self.ix.size,))\n",
    "            self.iy = self.iy.reshape((self.iy.size,))\n",
    "        self.subbatch = (len(self.x) + self.batch_size - 1) // self.batch_size\n",
    "        if self.verbose > 0:\n",
    "            self.progress = tqdm(total=len(self), desc='Scores')\n",
    "\n",
    "    def __getitem__(self, index):\n",
    "        start = index * self.batch_size\n",
    "        end = min(start + self.batch_size, len(self.ix))\n",
    "        a = self.y[self.iy[start:end], :]\n",
    "        b = self.x[self.ix[start:end], :]\n",
    "        if self.verbose > 0:\n",
    "            self.progress.update()\n",
    "            if self.progress.n >= len(self): self.progress.close()\n",
    "        return [a, b]\n",
    "\n",
    "    def __len__(self):\n",
    "        return (len(self.ix) + self.batch_size - 1) // self.batch_size\n",
    "    \n",
    "    "
   ]
  },
  {
   "cell_type": "code",
   "execution_count": 16,
   "metadata": {},
   "outputs": [],
   "source": [
    "def set_lr(model, lr):\n",
    "    K.set_value(model.optimizer.lr, float(lr))\n",
    "\n",
    "\n",
    "def get_lr(model):\n",
    "    return K.get_value(model.optimizer.lr)\n",
    "\n",
    "\n",
    "def score_reshape(score, x, y=None):\n",
    "    \"\"\"\n",
    "    Tranformed the packed matrix 'score' into a square matrix.\n",
    "    @param score the packed matrix\n",
    "    @param x the first image feature tensor\n",
    "    @param y the second image feature tensor if different from x\n",
    "    @result the square matrix\n",
    "    \"\"\"\n",
    "    if y is None:\n",
    "        # When y is None, score is a packed upper triangular matrix.\n",
    "        # Unpack, and transpose to form the symmetrical lower triangular matrix.\n",
    "        m = np.zeros((x.shape[0], x.shape[0]), dtype=K.floatx())\n",
    "        m[np.triu_indices(x.shape[0], 1)] = score.squeeze()\n",
    "        m += m.transpose()\n",
    "    else:\n",
    "        m = np.zeros((y.shape[0], x.shape[0]), dtype=K.floatx())\n",
    "        iy, ix = np.indices((y.shape[0], x.shape[0]))\n",
    "        ix = ix.reshape((ix.size,))\n",
    "        iy = iy.reshape((iy.size,))\n",
    "        m[iy, ix] = score.squeeze()\n",
    "    return m\n",
    "\n",
    "\n",
    "def compute_score(verbose=1):\n",
    "    \"\"\"\n",
    "    Compute the score matrix by scoring every pictures from the training set against every other picture O(n^2).\n",
    "    \"\"\"\n",
    "    features = branch_model.predict_generator(FeatureGen(train, verbose=verbose), max_queue_size=12, workers=6,\n",
    "                                              verbose=0)\n",
    "    score = head_model.predict_generator(ScoreGen(features, verbose=verbose), max_queue_size=12, workers=6, verbose=0)\n",
    "    score = score_reshape(score, features)\n",
    "    return features, score\n",
    "\n",
    "\n",
    "def make_steps(step, ampl):\n",
    "    \"\"\"\n",
    "    Perform training epochs\n",
    "    @param step Number of epochs to perform\n",
    "    @param ampl the K, the randomized component of the score matrix.\n",
    "    \"\"\"\n",
    "    global w2ts, t2i, steps, features, score, histories\n",
    "\n",
    "    # shuffle the training pictures\n",
    "    random.shuffle(train)\n",
    "\n",
    "    # Map whale id to the list of associated training picture hash value\n",
    "    w2ts = {}\n",
    "    for w, hs in w2hs.items():\n",
    "        for h in hs:\n",
    "            if h in train_set:\n",
    "                if w not in w2ts: w2ts[w] = []\n",
    "                if h not in w2ts[w]: w2ts[w].append(h)\n",
    "    for w, ts in w2ts.items(): w2ts[w] = np.array(ts)\n",
    "\n",
    "    # Map training picture hash value to index in 'train' array    \n",
    "    t2i = {}\n",
    "    for i, t in enumerate(train): t2i[t] = i\n",
    "\n",
    "    # Compute the match score for each picture pair\n",
    "    features, score = compute_score()\n",
    "\n",
    "    # Train the model for 'step' epochs\n",
    "    history = model.fit_generator(\n",
    "        TrainingData(score + ampl * np.random.random_sample(size=score.shape), steps=step, batch_size=32),\n",
    "        initial_epoch=steps, epochs=steps + step, max_queue_size=12, workers=6, verbose=1).history\n",
    "    steps += step\n",
    "\n",
    "    # Collect history data\n",
    "    history['epochs'] = steps\n",
    "    history['ms'] = np.mean(score)\n",
    "    history['lr'] = get_lr(model)\n",
    "    print(history['epochs'], history['lr'], history['ms'])\n",
    "    histories.append(history)"
   ]
  },
  {
   "cell_type": "code",
   "execution_count": 18,
   "metadata": {
    "scrolled": true
   },
   "outputs": [
    {
     "data": {
      "application/vnd.jupyter.widget-view+json": {
       "model_id": "d5327a7629d043afae82e119afabd7d0",
       "version_major": 2,
       "version_minor": 0
      },
      "text/plain": [
       "HBox(children=(IntProgress(value=0, description='Features', max=213), HTML(value='')))"
      ]
     },
     "metadata": {},
     "output_type": "display_data"
    },
    {
     "data": {
      "application/vnd.jupyter.widget-view+json": {
       "model_id": "1106ac77a10f411384fa2b51065bd55a",
       "version_major": 2,
       "version_minor": 0
      },
      "text/plain": [
       "HBox(children=(IntProgress(value=0, description='Scores', max=45306), HTML(value='')))"
      ]
     },
     "metadata": {},
     "output_type": "display_data"
    },
    {
     "name": "stdout",
     "output_type": "stream",
     "text": [
      "Start worker threads\n",
      "LAP completed\n",
      "Epoch 1/10\n",
      "851/852 [============================>.] - ETA: 0s - loss: 0.2760 - binary_crossentropy: 0.2760 - acc: 0.8831Start worker threads\n",
      "LAP completed\n",
      "852/852 [==============================] - 245s 288ms/step - loss: 0.2760 - binary_crossentropy: 0.2760 - acc: 0.8832\n",
      "Epoch 2/10\n",
      "851/852 [============================>.] - ETA: 0s - loss: 0.2563 - binary_crossentropy: 0.2563 - acc: 0.8949Start worker threads\n",
      "LAP completed\n",
      "852/852 [==============================] - 246s 289ms/step - loss: 0.2561 - binary_crossentropy: 0.2561 - acc: 0.8950\n",
      "Epoch 3/10\n",
      "851/852 [============================>.] - ETA: 0s - loss: 0.2360 - binary_crossentropy: 0.2360 - acc: 0.9043Start worker threads\n",
      "LAP completed\n",
      "852/852 [==============================] - 247s 290ms/step - loss: 0.2359 - binary_crossentropy: 0.2359 - acc: 0.9043\n",
      "Epoch 4/10\n",
      "851/852 [============================>.] - ETA: 0s - loss: 0.2229 - binary_crossentropy: 0.2229 - acc: 0.9106Start worker threads\n",
      "LAP completed\n",
      "852/852 [==============================] - 246s 289ms/step - loss: 0.2232 - binary_crossentropy: 0.2232 - acc: 0.9105\n",
      "Epoch 5/10\n",
      "851/852 [============================>.] - ETA: 0s - loss: 0.2087 - binary_crossentropy: 0.2087 - acc: 0.9169Start worker threads\n",
      "852/852 [==============================] - 247s 290ms/step - loss: 0.2087 - binary_crossentropy: 0.2087 - acc: 0.9169\n",
      "Epoch 6/10\n",
      "LAP completed\n",
      "851/852 [============================>.] - ETA: 0s - loss: 0.2009 - binary_crossentropy: 0.2009 - acc: 0.9180Start worker threads\n",
      "852/852 [==============================] - 248s 291ms/step - loss: 0.2008 - binary_crossentropy: 0.2008 - acc: 0.9181\n",
      "Epoch 7/10\n",
      "LAP completed\n",
      "851/852 [============================>.] - ETA: 0s - loss: 0.1937 - binary_crossentropy: 0.1937 - acc: 0.9216Start worker threads\n",
      "LAP completed\n",
      "852/852 [==============================] - 249s 292ms/step - loss: 0.1937 - binary_crossentropy: 0.1937 - acc: 0.9215\n",
      "Epoch 8/10\n",
      "851/852 [============================>.] - ETA: 0s - loss: 0.1866 - binary_crossentropy: 0.1866 - acc: 0.9247Start worker threads\n",
      "LAP completed\n",
      "852/852 [==============================] - 249s 292ms/step - loss: 0.1866 - binary_crossentropy: 0.1866 - acc: 0.9248\n",
      "Epoch 9/10\n",
      "851/852 [============================>.] - ETA: 0s - loss: 0.1725 - binary_crossentropy: 0.1725 - acc: 0.9301Start worker threads\n",
      "852/852 [==============================] - 248s 291ms/step - loss: 0.1724 - binary_crossentropy: 0.1724 - acc: 0.9301\n",
      "Epoch 10/10\n",
      "LAP completed\n",
      "852/852 [==============================] - 249s 292ms/step - loss: 0.1659 - binary_crossentropy: 0.1659 - acc: 0.9341\n",
      "10 0.00064 0.151492\n",
      "noise ampl.  =  100.0\n"
     ]
    },
    {
     "data": {
      "application/vnd.jupyter.widget-view+json": {
       "model_id": "30ec51db5c4847d7b241b1beeb49920f",
       "version_major": 2,
       "version_minor": 0
      },
      "text/plain": [
       "HBox(children=(IntProgress(value=0, description='Features', max=213), HTML(value='')))"
      ]
     },
     "metadata": {},
     "output_type": "display_data"
    },
    {
     "data": {
      "application/vnd.jupyter.widget-view+json": {
       "model_id": "1e52c808f30249e2a20d5b3c2201835e",
       "version_major": 2,
       "version_minor": 0
      },
      "text/plain": [
       "HBox(children=(IntProgress(value=0, description='Scores', max=45306), HTML(value='')))"
      ]
     },
     "metadata": {},
     "output_type": "display_data"
    },
    {
     "name": "stdout",
     "output_type": "stream",
     "text": [
      "Start worker threads\n",
      "LAP completed\n",
      "Epoch 11/15\n",
      "851/852 [============================>.] - ETA: 0s - loss: 0.2474 - binary_crossentropy: 0.2474 - acc: 0.8961Start worker threads\n",
      "852/852 [==============================] - 243s 285ms/step - loss: 0.2473 - binary_crossentropy: 0.2473 - acc: 0.8962\n",
      "Epoch 12/15\n",
      "LAP completed\n",
      "851/852 [============================>.] - ETA: 0s - loss: 0.2105 - binary_crossentropy: 0.2105 - acc: 0.9125Start worker threads\n",
      "852/852 [==============================] - 243s 285ms/step - loss: 0.2104 - binary_crossentropy: 0.2104 - acc: 0.9124\n",
      "Epoch 13/15\n",
      "LAP completed\n",
      "851/852 [============================>.] - ETA: 0s - loss: 0.1825 - binary_crossentropy: 0.1825 - acc: 0.9261Start worker threads\n",
      "852/852 [==============================] - 246s 289ms/step - loss: 0.1826 - binary_crossentropy: 0.1826 - acc: 0.9260\n",
      "Epoch 14/15\n",
      "LAP completed\n",
      "851/852 [============================>.] - ETA: 0s - loss: 0.1683 - binary_crossentropy: 0.1683 - acc: 0.9331Start worker threads\n",
      "852/852 [==============================] - 245s 288ms/step - loss: 0.1685 - binary_crossentropy: 0.1685 - acc: 0.9330\n",
      "Epoch 15/15\n",
      "LAP completed\n",
      "852/852 [==============================] - 245s 287ms/step - loss: 0.1521 - binary_crossentropy: 0.1521 - acc: 0.9390\n",
      "15 0.00064 0.0864935\n",
      "noise ampl.  =  63.09573444801933\n"
     ]
    },
    {
     "data": {
      "application/vnd.jupyter.widget-view+json": {
       "model_id": "e0049bc0fb0e420888dc56ac2a65c533",
       "version_major": 2,
       "version_minor": 0
      },
      "text/plain": [
       "HBox(children=(IntProgress(value=0, description='Features', max=213), HTML(value='')))"
      ]
     },
     "metadata": {},
     "output_type": "display_data"
    },
    {
     "data": {
      "application/vnd.jupyter.widget-view+json": {
       "model_id": "1cf005bd42fa400fbe2d2b28b5ef712a",
       "version_major": 2,
       "version_minor": 0
      },
      "text/plain": [
       "HBox(children=(IntProgress(value=0, description='Scores', max=45306), HTML(value='')))"
      ]
     },
     "metadata": {},
     "output_type": "display_data"
    },
    {
     "name": "stdout",
     "output_type": "stream",
     "text": [
      "Start worker threads\n",
      "LAP completed\n",
      "Epoch 16/20\n",
      "851/852 [============================>.] - ETA: 0s - loss: 0.2266 - binary_crossentropy: 0.2266 - acc: 0.9069Start worker threads\n",
      "852/852 [==============================] - 244s 287ms/step - loss: 0.2266 - binary_crossentropy: 0.2266 - acc: 0.9068\n",
      "Epoch 17/20\n",
      "LAP completed\n",
      "851/852 [============================>.] - ETA: 0s - loss: 0.1941 - binary_crossentropy: 0.1941 - acc: 0.9194Start worker threads\n",
      "852/852 [==============================] - 244s 286ms/step - loss: 0.1942 - binary_crossentropy: 0.1942 - acc: 0.9193\n",
      "Epoch 18/20\n",
      "LAP completed\n",
      "851/852 [============================>.] - ETA: 0s - loss: 0.1766 - binary_crossentropy: 0.1766 - acc: 0.9279Start worker threads\n",
      "852/852 [==============================] - 245s 287ms/step - loss: 0.1766 - binary_crossentropy: 0.1766 - acc: 0.9280\n",
      "Epoch 19/20\n",
      "LAP completed\n",
      "851/852 [============================>.] - ETA: 0s - loss: 0.1564 - binary_crossentropy: 0.1564 - acc: 0.9380Start worker threads\n",
      "852/852 [==============================] - 245s 287ms/step - loss: 0.1566 - binary_crossentropy: 0.1566 - acc: 0.9380\n",
      "Epoch 20/20\n",
      "LAP completed\n",
      "852/852 [==============================] - 244s 286ms/step - loss: 0.1442 - binary_crossentropy: 0.1442 - acc: 0.9437\n",
      "20 0.00064 0.116896\n"
     ]
    },
    {
     "data": {
      "application/vnd.jupyter.widget-view+json": {
       "model_id": "fd7aa5d203a646f990b79a500e4fc4dd",
       "version_major": 2,
       "version_minor": 0
      },
      "text/plain": [
       "HBox(children=(IntProgress(value=0, description='Features', max=213), HTML(value='')))"
      ]
     },
     "metadata": {},
     "output_type": "display_data"
    },
    {
     "data": {
      "application/vnd.jupyter.widget-view+json": {
       "model_id": "10605c1a38d34cbabba3f4021346048c",
       "version_major": 2,
       "version_minor": 0
      },
      "text/plain": [
       "HBox(children=(IntProgress(value=0, description='Scores', max=45306), HTML(value='')))"
      ]
     },
     "metadata": {},
     "output_type": "display_data"
    },
    {
     "name": "stdout",
     "output_type": "stream",
     "text": [
      "Start worker threads\n",
      "LAP completed\n",
      "Epoch 21/25\n",
      "851/852 [============================>.] - ETA: 0s - loss: 0.2604 - binary_crossentropy: 0.2604 - acc: 0.8893Start worker threads\n",
      "852/852 [==============================] - 243s 285ms/step - loss: 0.2605 - binary_crossentropy: 0.2605 - acc: 0.8893\n",
      "Epoch 22/25\n",
      "LAP completed\n",
      "851/852 [============================>.] - ETA: 0s - loss: 0.2302 - binary_crossentropy: 0.2302 - acc: 0.9026Start worker threads\n",
      "852/852 [==============================] - 244s 287ms/step - loss: 0.2302 - binary_crossentropy: 0.2302 - acc: 0.9026\n",
      "Epoch 23/25\n",
      "LAP completed\n",
      "851/852 [============================>.] - ETA: 0s - loss: 0.2146 - binary_crossentropy: 0.2146 - acc: 0.9112Start worker threads\n",
      "852/852 [==============================] - 244s 287ms/step - loss: 0.2146 - binary_crossentropy: 0.2146 - acc: 0.9112\n",
      "Epoch 24/25\n",
      "LAP completed\n",
      "851/852 [============================>.] - ETA: 0s - loss: 0.2045 - binary_crossentropy: 0.2045 - acc: 0.9154Start worker threads\n",
      "852/852 [==============================] - 244s 286ms/step - loss: 0.2046 - binary_crossentropy: 0.2046 - acc: 0.9153\n",
      "Epoch 25/25\n",
      "LAP completed\n",
      "852/852 [==============================] - 244s 286ms/step - loss: 0.1886 - binary_crossentropy: 0.1886 - acc: 0.9226\n",
      "25 0.00064 0.104121\n"
     ]
    },
    {
     "data": {
      "application/vnd.jupyter.widget-view+json": {
       "model_id": "25e45fa9ecd047a184d81b9b766448fd",
       "version_major": 2,
       "version_minor": 0
      },
      "text/plain": [
       "HBox(children=(IntProgress(value=0, description='Features', max=213), HTML(value='')))"
      ]
     },
     "metadata": {},
     "output_type": "display_data"
    },
    {
     "data": {
      "application/vnd.jupyter.widget-view+json": {
       "model_id": "89d97b2220224995a3ac43237e2c2d6c",
       "version_major": 2,
       "version_minor": 0
      },
      "text/plain": [
       "HBox(children=(IntProgress(value=0, description='Scores', max=45306), HTML(value='')))"
      ]
     },
     "metadata": {},
     "output_type": "display_data"
    },
    {
     "name": "stdout",
     "output_type": "stream",
     "text": [
      "Start worker threads\n",
      "LAP completed\n",
      "Epoch 26/30\n",
      "851/852 [============================>.] - ETA: 0s - loss: 0.2475 - binary_crossentropy: 0.2475 - acc: 0.8938Start worker threads\n",
      "852/852 [==============================] - 243s 285ms/step - loss: 0.2476 - binary_crossentropy: 0.2476 - acc: 0.8938\n",
      "Epoch 27/30\n",
      "LAP completed\n",
      "851/852 [============================>.] - ETA: 0s - loss: 0.2227 - binary_crossentropy: 0.2227 - acc: 0.9062Start worker threads\n",
      "852/852 [==============================] - 243s 286ms/step - loss: 0.2226 - binary_crossentropy: 0.2226 - acc: 0.9062\n",
      "Epoch 28/30\n",
      "LAP completed\n",
      "851/852 [============================>.] - ETA: 0s - loss: 0.2028 - binary_crossentropy: 0.2028 - acc: 0.9154Start worker threads\n",
      "852/852 [==============================] - 244s 286ms/step - loss: 0.2028 - binary_crossentropy: 0.2028 - acc: 0.9154\n",
      "Epoch 29/30\n",
      "LAP completed\n",
      "851/852 [============================>.] - ETA: 0s - loss: 0.1888 - binary_crossentropy: 0.1888 - acc: 0.9217Start worker threads\n",
      "852/852 [==============================] - 245s 287ms/step - loss: 0.1888 - binary_crossentropy: 0.1888 - acc: 0.9216\n",
      "Epoch 30/30\n",
      "LAP completed\n",
      "852/852 [==============================] - 244s 286ms/step - loss: 0.1852 - binary_crossentropy: 0.1852 - acc: 0.9243\n",
      "30 0.00064 0.0620546\n"
     ]
    },
    {
     "data": {
      "application/vnd.jupyter.widget-view+json": {
       "model_id": "516372a3764946df9c52029a8e52c877",
       "version_major": 2,
       "version_minor": 0
      },
      "text/plain": [
       "HBox(children=(IntProgress(value=0, description='Features', max=213), HTML(value='')))"
      ]
     },
     "metadata": {},
     "output_type": "display_data"
    },
    {
     "data": {
      "application/vnd.jupyter.widget-view+json": {
       "model_id": "a57f087c409f4e5899ba7b4348469cf1",
       "version_major": 2,
       "version_minor": 0
      },
      "text/plain": [
       "HBox(children=(IntProgress(value=0, description='Scores', max=45306), HTML(value='')))"
      ]
     },
     "metadata": {},
     "output_type": "display_data"
    },
    {
     "name": "stdout",
     "output_type": "stream",
     "text": [
      "Start worker threads\n",
      "LAP completed\n",
      "Epoch 31/35\n",
      "851/852 [============================>.] - ETA: 0s - loss: 0.2225 - binary_crossentropy: 0.2225 - acc: 0.9057Start worker threads\n",
      "852/852 [==============================] - 242s 285ms/step - loss: 0.2227 - binary_crossentropy: 0.2227 - acc: 0.9056\n",
      "Epoch 32/35\n",
      "LAP completed\n",
      "851/852 [============================>.] - ETA: 0s - loss: 0.1809 - binary_crossentropy: 0.1809 - acc: 0.9261Start worker threads\n",
      "852/852 [==============================] - 243s 286ms/step - loss: 0.1808 - binary_crossentropy: 0.1808 - acc: 0.9262\n",
      "Epoch 33/35\n",
      "LAP completed\n",
      "851/852 [============================>.] - ETA: 0s - loss: 0.1607 - binary_crossentropy: 0.1607 - acc: 0.9352Start worker threads\n",
      "852/852 [==============================] - 243s 285ms/step - loss: 0.1608 - binary_crossentropy: 0.1608 - acc: 0.9352\n",
      "Epoch 34/35\n",
      "LAP completed\n",
      "851/852 [============================>.] - ETA: 0s - loss: 0.1439 - binary_crossentropy: 0.1439 - acc: 0.9430Start worker threads\n",
      "852/852 [==============================] - 244s 287ms/step - loss: 0.1439 - binary_crossentropy: 0.1439 - acc: 0.9430\n",
      "Epoch 35/35\n",
      "LAP completed\n",
      "852/852 [==============================] - 245s 288ms/step - loss: 0.1329 - binary_crossentropy: 0.1329 - acc: 0.9470\n",
      "35 0.00016 0.0388115\n"
     ]
    },
    {
     "data": {
      "application/vnd.jupyter.widget-view+json": {
       "model_id": "df852b5211e54b40b7635e266f46da3e",
       "version_major": 2,
       "version_minor": 0
      },
      "text/plain": [
       "HBox(children=(IntProgress(value=0, description='Features', max=213), HTML(value='')))"
      ]
     },
     "metadata": {},
     "output_type": "display_data"
    },
    {
     "data": {
      "application/vnd.jupyter.widget-view+json": {
       "model_id": "dfee3f91bdca49d39f4f6ff76d0d1508",
       "version_major": 2,
       "version_minor": 0
      },
      "text/plain": [
       "HBox(children=(IntProgress(value=0, description='Scores', max=45306), HTML(value='')))"
      ]
     },
     "metadata": {},
     "output_type": "display_data"
    },
    {
     "name": "stdout",
     "output_type": "stream",
     "text": [
      "Start worker threads\n",
      "LAP completed\n",
      "Epoch 36/40\n",
      "851/852 [============================>.] - ETA: 0s - loss: 0.2074 - binary_crossentropy: 0.2074 - acc: 0.9133Start worker threads\n",
      "852/852 [==============================] - 243s 285ms/step - loss: 0.2073 - binary_crossentropy: 0.2073 - acc: 0.9133\n",
      "Epoch 37/40\n",
      "LAP completed\n",
      "851/852 [============================>.] - ETA: 0s - loss: 0.1720 - binary_crossentropy: 0.1720 - acc: 0.9294Start worker threads\n",
      "852/852 [==============================] - 245s 287ms/step - loss: 0.1719 - binary_crossentropy: 0.1719 - acc: 0.9295\n",
      "Epoch 38/40\n",
      "LAP completed\n",
      "851/852 [============================>.] - ETA: 0s - loss: 0.1582 - binary_crossentropy: 0.1582 - acc: 0.9359Start worker threads\n",
      "852/852 [==============================] - 245s 288ms/step - loss: 0.1582 - binary_crossentropy: 0.1582 - acc: 0.9359\n",
      "Epoch 39/40\n",
      "LAP completed\n",
      "851/852 [============================>.] - ETA: 0s - loss: 0.1383 - binary_crossentropy: 0.1383 - acc: 0.9441Start worker threads\n",
      "852/852 [==============================] - 246s 289ms/step - loss: 0.1382 - binary_crossentropy: 0.1382 - acc: 0.9442\n",
      "Epoch 40/40\n",
      "LAP completed\n",
      "852/852 [==============================] - 245s 288ms/step - loss: 0.1297 - binary_crossentropy: 0.1297 - acc: 0.9480\n",
      "40 0.00016 0.0245193\n"
     ]
    },
    {
     "data": {
      "application/vnd.jupyter.widget-view+json": {
       "model_id": "71c9296f9c7c4374b6f08ad9ed85df4b",
       "version_major": 2,
       "version_minor": 0
      },
      "text/plain": [
       "HBox(children=(IntProgress(value=0, description='Features', max=213), HTML(value='')))"
      ]
     },
     "metadata": {},
     "output_type": "display_data"
    },
    {
     "data": {
      "application/vnd.jupyter.widget-view+json": {
       "model_id": "06ed2f92ad624594a032a972be86ba18",
       "version_major": 2,
       "version_minor": 0
      },
      "text/plain": [
       "HBox(children=(IntProgress(value=0, description='Scores', max=45306), HTML(value='')))"
      ]
     },
     "metadata": {},
     "output_type": "display_data"
    },
    {
     "name": "stdout",
     "output_type": "stream",
     "text": [
      "Start worker threads\n",
      "LAP completed\n",
      "Epoch 41/45\n",
      "851/852 [============================>.] - ETA: 0s - loss: 0.1959 - binary_crossentropy: 0.1959 - acc: 0.9176Start worker threads\n",
      "852/852 [==============================] - 244s 286ms/step - loss: 0.1960 - binary_crossentropy: 0.1960 - acc: 0.9176\n",
      "Epoch 42/45\n",
      "LAP completed\n",
      "851/852 [============================>.] - ETA: 0s - loss: 0.1660 - binary_crossentropy: 0.1660 - acc: 0.9294Start worker threads\n",
      "852/852 [==============================] - 244s 286ms/step - loss: 0.1661 - binary_crossentropy: 0.1661 - acc: 0.9293\n",
      "Epoch 43/45\n",
      "LAP completed\n",
      "851/852 [============================>.] - ETA: 0s - loss: 0.1494 - binary_crossentropy: 0.1494 - acc: 0.9375Start worker threads\n",
      "852/852 [==============================] - 244s 287ms/step - loss: 0.1494 - binary_crossentropy: 0.1494 - acc: 0.9375\n",
      "Epoch 44/45\n",
      "LAP completed\n",
      "851/852 [============================>.] - ETA: 0s - loss: 0.1393 - binary_crossentropy: 0.1393 - acc: 0.9437Start worker threads\n",
      "852/852 [==============================] - 244s 287ms/step - loss: 0.1392 - binary_crossentropy: 0.1392 - acc: 0.9438\n",
      "Epoch 45/45\n",
      "LAP completed\n",
      "852/852 [==============================] - 246s 288ms/step - loss: 0.1304 - binary_crossentropy: 0.1304 - acc: 0.9461\n",
      "45 4e-05 0.0181126\n"
     ]
    },
    {
     "data": {
      "application/vnd.jupyter.widget-view+json": {
       "model_id": "ff606f86821c44c0b1157425b2ff1ba7",
       "version_major": 2,
       "version_minor": 0
      },
      "text/plain": [
       "HBox(children=(IntProgress(value=0, description='Features', max=213), HTML(value='')))"
      ]
     },
     "metadata": {},
     "output_type": "display_data"
    },
    {
     "data": {
      "application/vnd.jupyter.widget-view+json": {
       "model_id": "d0ee883376794327b52f242fd5ca3a28",
       "version_major": 2,
       "version_minor": 0
      },
      "text/plain": [
       "HBox(children=(IntProgress(value=0, description='Scores', max=45306), HTML(value='')))"
      ]
     },
     "metadata": {},
     "output_type": "display_data"
    },
    {
     "name": "stdout",
     "output_type": "stream",
     "text": [
      "Start worker threads\n",
      "LAP completed\n",
      "Epoch 46/50\n",
      "851/852 [============================>.] - ETA: 0s - loss: 0.1900 - binary_crossentropy: 0.1900 - acc: 0.9205Start worker threads\n",
      "852/852 [==============================] - 242s 284ms/step - loss: 0.1899 - binary_crossentropy: 0.1899 - acc: 0.9205\n",
      "Epoch 47/50\n",
      "LAP completed\n",
      "851/852 [============================>.] - ETA: 0s - loss: 0.1660 - binary_crossentropy: 0.1660 - acc: 0.9313Start worker threads\n",
      "852/852 [==============================] - 244s 286ms/step - loss: 0.1658 - binary_crossentropy: 0.1658 - acc: 0.9314\n",
      "Epoch 48/50\n",
      "LAP completed\n",
      "851/852 [============================>.] - ETA: 0s - loss: 0.1507 - binary_crossentropy: 0.1507 - acc: 0.9378Start worker threads\n",
      "852/852 [==============================] - 243s 286ms/step - loss: 0.1507 - binary_crossentropy: 0.1507 - acc: 0.9378\n",
      "Epoch 49/50\n",
      "LAP completed\n",
      "851/852 [============================>.] - ETA: 0s - loss: 0.1412 - binary_crossentropy: 0.1412 - acc: 0.9425Start worker threads\n",
      "852/852 [==============================] - 245s 288ms/step - loss: 0.1411 - binary_crossentropy: 0.1411 - acc: 0.9426\n",
      "Epoch 50/50\n",
      "LAP completed\n",
      "852/852 [==============================] - 245s 287ms/step - loss: 0.1322 - binary_crossentropy: 0.1322 - acc: 0.9466\n",
      "50 4e-05 0.0133193\n"
     ]
    },
    {
     "data": {
      "application/vnd.jupyter.widget-view+json": {
       "model_id": "65b774ace7244c2fb29c4da3bb13f825",
       "version_major": 2,
       "version_minor": 0
      },
      "text/plain": [
       "HBox(children=(IntProgress(value=0, description='Features', max=213), HTML(value='')))"
      ]
     },
     "metadata": {},
     "output_type": "display_data"
    },
    {
     "data": {
      "application/vnd.jupyter.widget-view+json": {
       "model_id": "bc5580e406b248d4bea4ac913e213a8d",
       "version_major": 2,
       "version_minor": 0
      },
      "text/plain": [
       "HBox(children=(IntProgress(value=0, description='Scores', max=45306), HTML(value='')))"
      ]
     },
     "metadata": {},
     "output_type": "display_data"
    },
    {
     "name": "stdout",
     "output_type": "stream",
     "text": [
      "Start worker threads\n",
      "LAP completed\n",
      "Epoch 51/55\n",
      "851/852 [============================>.] - ETA: 0s - loss: 0.1797 - binary_crossentropy: 0.1797 - acc: 0.9253Start worker threads\n",
      "852/852 [==============================] - 242s 285ms/step - loss: 0.1797 - binary_crossentropy: 0.1797 - acc: 0.9253\n",
      "Epoch 52/55\n",
      "LAP completed\n",
      "851/852 [============================>.] - ETA: 0s - loss: 0.1653 - binary_crossentropy: 0.1653 - acc: 0.9308Start worker threads\n",
      "852/852 [==============================] - 244s 286ms/step - loss: 0.1652 - binary_crossentropy: 0.1652 - acc: 0.9309\n",
      "Epoch 53/55\n",
      "LAP completed\n",
      "851/852 [============================>.] - ETA: 0s - loss: 0.1521 - binary_crossentropy: 0.1521 - acc: 0.9364Start worker threads\n",
      "852/852 [==============================] - 244s 287ms/step - loss: 0.1520 - binary_crossentropy: 0.1520 - acc: 0.9365\n",
      "Epoch 54/55\n",
      "LAP completed\n",
      "851/852 [============================>.] - ETA: 0s - loss: 0.1369 - binary_crossentropy: 0.1369 - acc: 0.9434Start worker threads\n",
      "852/852 [==============================] - 245s 288ms/step - loss: 0.1370 - binary_crossentropy: 0.1370 - acc: 0.9434\n",
      "Epoch 55/55\n",
      "LAP completed\n",
      "852/852 [==============================] - 245s 287ms/step - loss: 0.1317 - binary_crossentropy: 0.1317 - acc: 0.9461\n",
      "55 1e-05 0.0129866\n"
     ]
    },
    {
     "data": {
      "application/vnd.jupyter.widget-view+json": {
       "model_id": "60a355ec92334780b68bf51c80955ea7",
       "version_major": 2,
       "version_minor": 0
      },
      "text/plain": [
       "HBox(children=(IntProgress(value=0, description='Features', max=213), HTML(value='')))"
      ]
     },
     "metadata": {},
     "output_type": "display_data"
    },
    {
     "data": {
      "application/vnd.jupyter.widget-view+json": {
       "model_id": "c91e2344966e4c758d10651b6b589902",
       "version_major": 2,
       "version_minor": 0
      },
      "text/plain": [
       "HBox(children=(IntProgress(value=0, description='Scores', max=45306), HTML(value='')))"
      ]
     },
     "metadata": {},
     "output_type": "display_data"
    },
    {
     "name": "stdout",
     "output_type": "stream",
     "text": [
      "Start worker threads\n",
      "LAP completed\n",
      "Epoch 56/60\n",
      "851/852 [============================>.] - ETA: 0s - loss: 0.1805 - binary_crossentropy: 0.1805 - acc: 0.9235Start worker threads\n",
      "852/852 [==============================] - 242s 284ms/step - loss: 0.1804 - binary_crossentropy: 0.1804 - acc: 0.9236\n",
      "Epoch 57/60\n",
      "LAP completed\n",
      "851/852 [============================>.] - ETA: 0s - loss: 0.1608 - binary_crossentropy: 0.1608 - acc: 0.9324Start worker threads\n",
      "852/852 [==============================] - 246s 288ms/step - loss: 0.1609 - binary_crossentropy: 0.1609 - acc: 0.9324\n",
      "Epoch 58/60\n",
      "LAP completed\n",
      "851/852 [============================>.] - ETA: 0s - loss: 0.1478 - binary_crossentropy: 0.1478 - acc: 0.9391Start worker threads\n",
      "852/852 [==============================] - 245s 288ms/step - loss: 0.1478 - binary_crossentropy: 0.1478 - acc: 0.9391\n",
      "Epoch 59/60\n",
      "LAP completed\n",
      "851/852 [============================>.] - ETA: 0s - loss: 0.1338 - binary_crossentropy: 0.1338 - acc: 0.9444Start worker threads\n",
      "852/852 [==============================] - 245s 287ms/step - loss: 0.1339 - binary_crossentropy: 0.1339 - acc: 0.9444\n",
      "Epoch 60/60\n",
      "LAP completed\n",
      "852/852 [==============================] - 247s 290ms/step - loss: 0.1262 - binary_crossentropy: 0.1262 - acc: 0.9497\n",
      "60 1e-05 0.0114722\n"
     ]
    },
    {
     "data": {
      "application/vnd.jupyter.widget-view+json": {
       "model_id": "0324db2e04744595ab88d5c73f414722",
       "version_major": 2,
       "version_minor": 0
      },
      "text/plain": [
       "HBox(children=(IntProgress(value=0, description='Features', max=213), HTML(value='')))"
      ]
     },
     "metadata": {},
     "output_type": "display_data"
    },
    {
     "data": {
      "application/vnd.jupyter.widget-view+json": {
       "model_id": "886819c58fee4c0d9d653e797a6f5a97",
       "version_major": 2,
       "version_minor": 0
      },
      "text/plain": [
       "HBox(children=(IntProgress(value=0, description='Scores', max=45306), HTML(value='')))"
      ]
     },
     "metadata": {},
     "output_type": "display_data"
    },
    {
     "name": "stdout",
     "output_type": "stream",
     "text": [
      "Start worker threads\n",
      "LAP completed\n",
      "Epoch 61/65\n",
      "851/852 [============================>.] - ETA: 0s - loss: 4.5450 - binary_crossentropy: 0.2275 - acc: 0.9018Start worker threads\n",
      "852/852 [==============================] - 255s 299ms/step - loss: 4.5430 - binary_crossentropy: 0.2275 - acc: 0.9018\n",
      "Epoch 62/65\n",
      "LAP completed\n",
      "851/852 [============================>.] - ETA: 0s - loss: 2.1041 - binary_crossentropy: 0.2595 - acc: 0.8893Start worker threads\n",
      "852/852 [==============================] - 248s 291ms/step - loss: 2.1035 - binary_crossentropy: 0.2596 - acc: 0.8894\n",
      "Epoch 63/65\n",
      "LAP completed\n",
      "851/852 [============================>.] - ETA: 0s - loss: 1.3633 - binary_crossentropy: 0.2784 - acc: 0.8824Start worker threads\n",
      "852/852 [==============================] - 248s 291ms/step - loss: 1.3632 - binary_crossentropy: 0.2785 - acc: 0.8824\n",
      "Epoch 64/65\n",
      "LAP completed\n",
      "851/852 [============================>.] - ETA: 0s - loss: 1.0315 - binary_crossentropy: 0.2850 - acc: 0.8769Start worker threads\n",
      "852/852 [==============================] - 249s 292ms/step - loss: 1.0314 - binary_crossentropy: 0.2850 - acc: 0.8768\n",
      "Epoch 65/65\n",
      "LAP completed\n",
      "852/852 [==============================] - 249s 293ms/step - loss: 0.8644 - binary_crossentropy: 0.2890 - acc: 0.8752\n",
      "65 0.00064 0.0114426\n"
     ]
    },
    {
     "data": {
      "application/vnd.jupyter.widget-view+json": {
       "model_id": "ff8f2006e26d412ea931e1d9b5e92414",
       "version_major": 2,
       "version_minor": 0
      },
      "text/plain": [
       "HBox(children=(IntProgress(value=0, description='Features', max=213), HTML(value='')))"
      ]
     },
     "metadata": {},
     "output_type": "display_data"
    },
    {
     "data": {
      "application/vnd.jupyter.widget-view+json": {
       "model_id": "fcc5012b55fe44aaabd933aaac1c8c46",
       "version_major": 2,
       "version_minor": 0
      },
      "text/plain": [
       "HBox(children=(IntProgress(value=0, description='Scores', max=45306), HTML(value='')))"
      ]
     },
     "metadata": {},
     "output_type": "display_data"
    },
    {
     "name": "stdout",
     "output_type": "stream",
     "text": [
      "Start worker threads\n",
      "LAP completed\n",
      "Epoch 66/70\n",
      "851/852 [============================>.] - ETA: 0s - loss: 0.8034 - binary_crossentropy: 0.3289 - acc: 0.8546Start worker threads\n",
      "852/852 [==============================] - 245s 288ms/step - loss: 0.8032 - binary_crossentropy: 0.3288 - acc: 0.8546\n",
      "Epoch 67/70\n",
      "LAP completed\n",
      "851/852 [============================>.] - ETA: 0s - loss: 0.7345 - binary_crossentropy: 0.3148 - acc: 0.8600Start worker threads\n",
      "852/852 [==============================] - 245s 288ms/step - loss: 0.7347 - binary_crossentropy: 0.3151 - acc: 0.8599\n",
      "Epoch 68/70\n",
      "LAP completed\n",
      "851/852 [============================>.] - ETA: 0s - loss: 0.6853 - binary_crossentropy: 0.3054 - acc: 0.8657Start worker threads\n",
      "852/852 [==============================] - 247s 290ms/step - loss: 0.6852 - binary_crossentropy: 0.3053 - acc: 0.8658\n",
      "Epoch 69/70\n",
      "LAP completed\n",
      "851/852 [============================>.] - ETA: 0s - loss: 0.6539 - binary_crossentropy: 0.3020 - acc: 0.8694Start worker threads\n",
      "852/852 [==============================] - 246s 288ms/step - loss: 0.6539 - binary_crossentropy: 0.3021 - acc: 0.8694\n",
      "Epoch 70/70\n",
      "LAP completed\n",
      "852/852 [==============================] - 247s 290ms/step - loss: 0.6311 - binary_crossentropy: 0.3000 - acc: 0.8694\n",
      "70 0.00064 0.177905\n"
     ]
    },
    {
     "data": {
      "application/vnd.jupyter.widget-view+json": {
       "model_id": "6553bb63e1e34a81843d26d9e3b1d4ad",
       "version_major": 2,
       "version_minor": 0
      },
      "text/plain": [
       "HBox(children=(IntProgress(value=0, description='Features', max=213), HTML(value='')))"
      ]
     },
     "metadata": {},
     "output_type": "display_data"
    },
    {
     "data": {
      "application/vnd.jupyter.widget-view+json": {
       "model_id": "44c265cc38864952a7e414bfd40e7178",
       "version_major": 2,
       "version_minor": 0
      },
      "text/plain": [
       "HBox(children=(IntProgress(value=0, description='Scores', max=45306), HTML(value='')))"
      ]
     },
     "metadata": {},
     "output_type": "display_data"
    },
    {
     "name": "stdout",
     "output_type": "stream",
     "text": [
      "Start worker threads\n",
      "LAP completed\n",
      "Epoch 71/75\n",
      "851/852 [============================>.] - ETA: 0s - loss: 0.5915 - binary_crossentropy: 0.2871 - acc: 0.8738Start worker threads\n",
      "852/852 [==============================] - 246s 289ms/step - loss: 0.5915 - binary_crossentropy: 0.2872 - acc: 0.8738\n",
      "Epoch 72/75\n",
      "LAP completed\n",
      "851/852 [============================>.] - ETA: 0s - loss: 0.5103 - binary_crossentropy: 0.2323 - acc: 0.9014Start worker threads\n",
      "852/852 [==============================] - 247s 290ms/step - loss: 0.5104 - binary_crossentropy: 0.2324 - acc: 0.9014\n",
      "Epoch 73/75\n",
      "LAP completed\n",
      "851/852 [============================>.] - ETA: 0s - loss: 0.4711 - binary_crossentropy: 0.2108 - acc: 0.9117Start worker threads\n",
      "852/852 [==============================] - 248s 291ms/step - loss: 0.4712 - binary_crossentropy: 0.2109 - acc: 0.9117\n",
      "Epoch 74/75\n",
      "LAP completed\n",
      "851/852 [============================>.] - ETA: 0s - loss: 0.4358 - binary_crossentropy: 0.1891 - acc: 0.9245Start worker threads\n",
      "852/852 [==============================] - 247s 290ms/step - loss: 0.4356 - binary_crossentropy: 0.1890 - acc: 0.9245\n",
      "Epoch 75/75\n",
      "LAP completed\n",
      "852/852 [==============================] - 248s 291ms/step - loss: 0.4183 - binary_crossentropy: 0.1821 - acc: 0.9280\n",
      "75 0.00016 0.123331\n"
     ]
    },
    {
     "data": {
      "application/vnd.jupyter.widget-view+json": {
       "model_id": "aa258a0cd64a4391acd291284badaa7a",
       "version_major": 2,
       "version_minor": 0
      },
      "text/plain": [
       "HBox(children=(IntProgress(value=0, description='Features', max=213), HTML(value='')))"
      ]
     },
     "metadata": {},
     "output_type": "display_data"
    },
    {
     "data": {
      "application/vnd.jupyter.widget-view+json": {
       "model_id": "e248e1dcc0884b66a32b17cbb8b36b52",
       "version_major": 2,
       "version_minor": 0
      },
      "text/plain": [
       "HBox(children=(IntProgress(value=0, description='Scores', max=45306), HTML(value='')))"
      ]
     },
     "metadata": {},
     "output_type": "display_data"
    },
    {
     "name": "stdout",
     "output_type": "stream",
     "text": [
      "Start worker threads\n",
      "LAP completed\n",
      "Epoch 76/80\n",
      "851/852 [============================>.] - ETA: 0s - loss: 0.4642 - binary_crossentropy: 0.2359 - acc: 0.8982Start worker threads\n",
      "852/852 [==============================] - 246s 288ms/step - loss: 0.4643 - binary_crossentropy: 0.2359 - acc: 0.8981\n",
      "Epoch 77/80\n",
      "LAP completed\n",
      "851/852 [============================>.] - ETA: 0s - loss: 0.4293 - binary_crossentropy: 0.2085 - acc: 0.9134Start worker threads\n",
      "852/852 [==============================] - 247s 290ms/step - loss: 0.4294 - binary_crossentropy: 0.2085 - acc: 0.9134\n",
      "Epoch 78/80\n",
      "LAP completed\n",
      "851/852 [============================>.] - ETA: 0s - loss: 0.4088 - binary_crossentropy: 0.1942 - acc: 0.9202Start worker threads\n",
      "852/852 [==============================] - 246s 289ms/step - loss: 0.4088 - binary_crossentropy: 0.1942 - acc: 0.9202\n",
      "Epoch 79/80\n",
      "LAP completed\n",
      "851/852 [============================>.] - ETA: 0s - loss: 0.3928 - binary_crossentropy: 0.1830 - acc: 0.9246Start worker threads\n",
      "852/852 [==============================] - 247s 290ms/step - loss: 0.3928 - binary_crossentropy: 0.1830 - acc: 0.9247\n",
      "Epoch 80/80\n",
      "LAP completed\n",
      "852/852 [==============================] - 248s 291ms/step - loss: 0.3805 - binary_crossentropy: 0.1747 - acc: 0.9293\n",
      "80 0.00016 0.0776006\n"
     ]
    },
    {
     "data": {
      "application/vnd.jupyter.widget-view+json": {
       "model_id": "3c87d072182049a2b7a504c74086ee7c",
       "version_major": 2,
       "version_minor": 0
      },
      "text/plain": [
       "HBox(children=(IntProgress(value=0, description='Features', max=213), HTML(value='')))"
      ]
     },
     "metadata": {},
     "output_type": "display_data"
    },
    {
     "data": {
      "application/vnd.jupyter.widget-view+json": {
       "model_id": "b62781d7f0804008ae1741ded24f49f1",
       "version_major": 2,
       "version_minor": 0
      },
      "text/plain": [
       "HBox(children=(IntProgress(value=0, description='Scores', max=45306), HTML(value='')))"
      ]
     },
     "metadata": {},
     "output_type": "display_data"
    },
    {
     "name": "stdout",
     "output_type": "stream",
     "text": [
      "Start worker threads\n",
      "LAP completed\n",
      "Epoch 81/85\n",
      "851/852 [============================>.] - ETA: 0s - loss: 0.4227 - binary_crossentropy: 0.2197 - acc: 0.9065Start worker threads\n",
      "852/852 [==============================] - 245s 288ms/step - loss: 0.4226 - binary_crossentropy: 0.2197 - acc: 0.9064\n",
      "Epoch 82/85\n",
      "LAP completed\n",
      "851/852 [============================>.] - ETA: 0s - loss: 0.3801 - binary_crossentropy: 0.1801 - acc: 0.9239Start worker threads\n",
      "852/852 [==============================] - 247s 290ms/step - loss: 0.3801 - binary_crossentropy: 0.1801 - acc: 0.9238\n",
      "Epoch 83/85\n",
      "LAP completed\n",
      "851/852 [============================>.] - ETA: 0s - loss: 0.3604 - binary_crossentropy: 0.1631 - acc: 0.9328Start worker threads\n",
      "852/852 [==============================] - 247s 290ms/step - loss: 0.3604 - binary_crossentropy: 0.1631 - acc: 0.9327\n",
      "Epoch 84/85\n",
      "LAP completed\n",
      "851/852 [============================>.] - ETA: 0s - loss: 0.3461 - binary_crossentropy: 0.1514 - acc: 0.9386Start worker threads\n",
      "852/852 [==============================] - 249s 292ms/step - loss: 0.3461 - binary_crossentropy: 0.1515 - acc: 0.9386\n",
      "Epoch 85/85\n",
      "LAP completed\n",
      "852/852 [==============================] - 249s 292ms/step - loss: 0.3303 - binary_crossentropy: 0.1381 - acc: 0.9437\n",
      "85 4e-05 0.0498679\n"
     ]
    },
    {
     "data": {
      "application/vnd.jupyter.widget-view+json": {
       "model_id": "bfc97d26a3c7430ea72e1e2108ba6579",
       "version_major": 2,
       "version_minor": 0
      },
      "text/plain": [
       "HBox(children=(IntProgress(value=0, description='Features', max=213), HTML(value='')))"
      ]
     },
     "metadata": {},
     "output_type": "display_data"
    },
    {
     "data": {
      "application/vnd.jupyter.widget-view+json": {
       "model_id": "a2bc51d2d35e42c7b601d7b1cbe3fbaf",
       "version_major": 2,
       "version_minor": 0
      },
      "text/plain": [
       "HBox(children=(IntProgress(value=0, description='Scores', max=45306), HTML(value='')))"
      ]
     },
     "metadata": {},
     "output_type": "display_data"
    },
    {
     "name": "stdout",
     "output_type": "stream",
     "text": [
      "Start worker threads\n",
      "LAP completed\n",
      "Epoch 86/90\n",
      "851/852 [============================>.] - ETA: 0s - loss: 0.3928 - binary_crossentropy: 0.2026 - acc: 0.9140Start worker threads\n",
      "852/852 [==============================] - 246s 289ms/step - loss: 0.3927 - binary_crossentropy: 0.2025 - acc: 0.9140\n",
      "Epoch 87/90\n",
      "LAP completed\n",
      "851/852 [============================>.] - ETA: 0s - loss: 0.3678 - binary_crossentropy: 0.1795 - acc: 0.9236Start worker threads\n",
      "852/852 [==============================] - 248s 292ms/step - loss: 0.3678 - binary_crossentropy: 0.1795 - acc: 0.9236\n",
      "Epoch 88/90\n",
      "LAP completed\n",
      "851/852 [============================>.] - ETA: 0s - loss: 0.3477 - binary_crossentropy: 0.1612 - acc: 0.9329Start worker threads\n",
      "852/852 [==============================] - 249s 292ms/step - loss: 0.3478 - binary_crossentropy: 0.1613 - acc: 0.9329\n",
      "Epoch 89/90\n",
      "LAP completed\n",
      "851/852 [============================>.] - ETA: 0s - loss: 0.3339 - binary_crossentropy: 0.1492 - acc: 0.9383Start worker threads\n",
      "852/852 [==============================] - 249s 292ms/step - loss: 0.3339 - binary_crossentropy: 0.1492 - acc: 0.9383\n",
      "Epoch 90/90\n",
      "LAP completed\n",
      "852/852 [==============================] - 248s 291ms/step - loss: 0.3195 - binary_crossentropy: 0.1364 - acc: 0.9444\n",
      "90 4e-05 0.031509\n"
     ]
    },
    {
     "data": {
      "application/vnd.jupyter.widget-view+json": {
       "model_id": "1a865e071162499b8a167dc1b76386d2",
       "version_major": 2,
       "version_minor": 0
      },
      "text/plain": [
       "HBox(children=(IntProgress(value=0, description='Features', max=213), HTML(value='')))"
      ]
     },
     "metadata": {},
     "output_type": "display_data"
    },
    {
     "data": {
      "application/vnd.jupyter.widget-view+json": {
       "model_id": "78ed7861c41d4f6f953da2c70163a57a",
       "version_major": 2,
       "version_minor": 0
      },
      "text/plain": [
       "HBox(children=(IntProgress(value=0, description='Scores', max=45306), HTML(value='')))"
      ]
     },
     "metadata": {},
     "output_type": "display_data"
    },
    {
     "name": "stdout",
     "output_type": "stream",
     "text": [
      "Start worker threads\n",
      "LAP completed\n",
      "Epoch 91/95\n",
      "851/852 [============================>.] - ETA: 0s - loss: 0.3671 - binary_crossentropy: 0.1852 - acc: 0.9223Start worker threads\n",
      "852/852 [==============================] - 247s 289ms/step - loss: 0.3672 - binary_crossentropy: 0.1852 - acc: 0.9222\n",
      "Epoch 92/95\n",
      "LAP completed\n",
      "851/852 [============================>.] - ETA: 0s - loss: 0.3513 - binary_crossentropy: 0.1698 - acc: 0.9279Start worker threads\n",
      "852/852 [==============================] - 248s 291ms/step - loss: 0.3514 - binary_crossentropy: 0.1699 - acc: 0.9280\n",
      "Epoch 93/95\n",
      "LAP completed\n",
      "851/852 [============================>.] - ETA: 0s - loss: 0.3306 - binary_crossentropy: 0.1496 - acc: 0.9390Start worker threads\n",
      "852/852 [==============================] - 247s 290ms/step - loss: 0.3306 - binary_crossentropy: 0.1496 - acc: 0.9390\n",
      "Epoch 94/95\n",
      "LAP completed\n",
      "851/852 [============================>.] - ETA: 0s - loss: 0.3216 - binary_crossentropy: 0.1411 - acc: 0.9425Start worker threads\n",
      "852/852 [==============================] - 246s 289ms/step - loss: 0.3216 - binary_crossentropy: 0.1411 - acc: 0.9425\n",
      "Epoch 95/95\n",
      "LAP completed\n",
      "852/852 [==============================] - 247s 290ms/step - loss: 0.3149 - binary_crossentropy: 0.1349 - acc: 0.9438\n",
      "95 1e-05 0.0294824\n"
     ]
    },
    {
     "data": {
      "application/vnd.jupyter.widget-view+json": {
       "model_id": "bbd1af93d7bd42d49b678e658e71ec12",
       "version_major": 2,
       "version_minor": 0
      },
      "text/plain": [
       "HBox(children=(IntProgress(value=0, description='Features', max=213), HTML(value='')))"
      ]
     },
     "metadata": {},
     "output_type": "display_data"
    },
    {
     "data": {
      "application/vnd.jupyter.widget-view+json": {
       "model_id": "3a56f0d0c15e4dcab1de5ea9ee08bb65",
       "version_major": 2,
       "version_minor": 0
      },
      "text/plain": [
       "HBox(children=(IntProgress(value=0, description='Scores', max=45306), HTML(value='')))"
      ]
     },
     "metadata": {},
     "output_type": "display_data"
    },
    {
     "name": "stdout",
     "output_type": "stream",
     "text": [
      "Start worker threads\n",
      "LAP completed\n",
      "Epoch 96/100\n",
      "851/852 [============================>.] - ETA: 0s - loss: 0.3620 - binary_crossentropy: 0.1824 - acc: 0.9219Start worker threads\n",
      "852/852 [==============================] - 247s 290ms/step - loss: 0.3619 - binary_crossentropy: 0.1823 - acc: 0.9219\n",
      "Epoch 97/100\n",
      "LAP completed\n",
      "851/852 [============================>.] - ETA: 0s - loss: 0.3404 - binary_crossentropy: 0.1613 - acc: 0.9330Start worker threads\n",
      "852/852 [==============================] - 246s 289ms/step - loss: 0.3403 - binary_crossentropy: 0.1612 - acc: 0.9330\n",
      "Epoch 98/100\n",
      "LAP completed\n",
      "851/852 [============================>.] - ETA: 0s - loss: 0.3235 - binary_crossentropy: 0.1449 - acc: 0.9408Start worker threads\n",
      "852/852 [==============================] - 249s 292ms/step - loss: 0.3237 - binary_crossentropy: 0.1450 - acc: 0.9408\n",
      "Epoch 99/100\n",
      "LAP completed\n",
      "851/852 [============================>.] - ETA: 0s - loss: 0.3152 - binary_crossentropy: 0.1370 - acc: 0.9432Start worker threads\n",
      "852/852 [==============================] - 248s 291ms/step - loss: 0.3152 - binary_crossentropy: 0.1370 - acc: 0.9433\n",
      "Epoch 100/100\n",
      "LAP completed\n",
      "852/852 [==============================] - 250s 294ms/step - loss: 0.3076 - binary_crossentropy: 0.1299 - acc: 0.9472\n",
      "100 1e-05 0.0174337\n"
     ]
    }
   ],
   "source": [
    "histories = []\n",
    "steps = 0\n",
    "\n",
    "if isfile('../input/piotte/mpiotte-standard.model'):\n",
    "    tmp = keras.models.load_model('../input/piotte/mpiotte-standard.model')\n",
    "    model.set_weights(tmp.get_weights())\n",
    "elif False:\n",
    "    # epoch -> 10\n",
    "    make_steps(10, 1000)\n",
    "    ampl = 100.0\n",
    "    for _ in range(2):\n",
    "        print('noise ampl.  = ', ampl)\n",
    "        make_steps(5, ampl)\n",
    "        ampl = max(1.0, 100 ** -0.1 * ampl)\n",
    "    # epoch -> 150\n",
    "    for _ in range(18): make_steps(5, 1.0)\n",
    "    # epoch -> 200\n",
    "    set_lr(model, 16e-5)\n",
    "    for _ in range(10): make_steps(5, 0.5)\n",
    "    # epoch -> 240\n",
    "    set_lr(model, 4e-5)\n",
    "    for _ in range(8): make_steps(5, 0.25)\n",
    "    # epoch -> 250\n",
    "    set_lr(model, 1e-5)\n",
    "    for _ in range(2): make_steps(5, 0.25)\n",
    "    # epoch -> 300\n",
    "    weights = model.get_weights()\n",
    "    model, branch_model, head_model = build_model(64e-5, 0.0002)\n",
    "    model.set_weights(weights)\n",
    "    for _ in range(10): make_steps(5, 1.0)\n",
    "    # epoch -> 350\n",
    "    set_lr(model, 16e-5)\n",
    "    for _ in range(10): make_steps(5, 0.5)\n",
    "    # epoch -> 390\n",
    "    set_lr(model, 4e-5)\n",
    "    for _ in range(8): make_steps(5, 0.25)\n",
    "    # epoch -> 400\n",
    "    set_lr(model, 1e-5)\n",
    "    for _ in range(2): make_steps(5, 0.25)\n",
    "    model.save('standard.model')\n",
    "else:\n",
    "    # epoch -> 10\n",
    "    make_steps(10, 1000)\n",
    "    ampl = 100.0\n",
    "    for _ in range(2):\n",
    "        print('noise ampl.  = ', ampl)\n",
    "        make_steps(5, ampl)\n",
    "        ampl = max(1.0, 100 ** -0.1 * ampl)\n",
    "    # epoch -> 150\n",
    "    for _ in range(2): make_steps(5, 1.0)\n",
    "    # epoch -> 200\n",
    "    set_lr(model, 16e-5)\n",
    "    for _ in range(2): make_steps(5, 0.5)\n",
    "    # epoch -> 240\n",
    "    set_lr(model, 4e-5)\n",
    "    for _ in range(2): make_steps(5, 0.25)\n",
    "    # epoch -> 250\n",
    "    set_lr(model, 1e-5)\n",
    "    for _ in range(2): make_steps(5, 0.25)\n",
    "    # epoch -> 300\n",
    "    weights = model.get_weights()\n",
    "    model, branch_model, head_model = build_model(64e-5, 0.0002)\n",
    "    model.set_weights(weights)\n",
    "    for _ in range(2): make_steps(5, 1.0)\n",
    "    # epoch -> 350\n",
    "    set_lr(model, 16e-5)\n",
    "    for _ in range(2): make_steps(5, 0.5)\n",
    "    # epoch -> 390\n",
    "    set_lr(model, 4e-5)\n",
    "    for _ in range(2): make_steps(5, 0.25)\n",
    "    # epoch -> 400\n",
    "    set_lr(model, 1e-5)\n",
    "    for _ in range(2): make_steps(5, 0.25)\n",
    "    model.save('standard.model')"
   ]
  },
  {
   "cell_type": "code",
   "execution_count": 19,
   "metadata": {},
   "outputs": [
    {
     "name": "stdout",
     "output_type": "stream",
     "text": [
      "__________________________________________________________________________________________________\n",
      "Layer (type)                    Output Shape         Param #     Connected to                     \n",
      "==================================================================================================\n",
      "input_9 (InputLayer)            (None, 384, 384, 1)  0                                            \n",
      "__________________________________________________________________________________________________\n",
      "input_10 (InputLayer)           (None, 384, 384, 1)  0                                            \n",
      "__________________________________________________________________________________________________\n",
      "model_3 (Model)                 (None, 512)          2692096     input_9[0][0]                    \n",
      "                                                                 input_10[0][0]                   \n",
      "__________________________________________________________________________________________________\n",
      "head (Model)                    (None, 1)            706         model_3[1][0]                    \n",
      "                                                                 model_3[2][0]                    \n",
      "==================================================================================================\n",
      "Total params: 2,692,802\n",
      "Trainable params: 2,675,010\n",
      "Non-trainable params: 17,792\n",
      "__________________________________________________________________________________________________\n"
     ]
    }
   ],
   "source": [
    "model.summary()"
   ]
  },
  {
   "cell_type": "code",
   "execution_count": 20,
   "metadata": {},
   "outputs": [],
   "source": [
    "def prepare_submission(threshold, filename):\n",
    "    \"\"\"\n",
    "    Generate a Kaggle submission file.\n",
    "    @param threshold the score given to 'new_whale'\n",
    "    @param filename the submission file name\n",
    "    \"\"\"\n",
    "    vtop = 0\n",
    "    vhigh = 0\n",
    "    pos = [0, 0, 0, 0, 0, 0]\n",
    "    with open(filename, 'wt', newline='\\n') as f:\n",
    "        f.write('Image,Id\\n')\n",
    "        for i, p in enumerate(tqdm(submit)):\n",
    "            t = []\n",
    "            s = set()\n",
    "            a = score[i, :]\n",
    "            for j in list(reversed(np.argsort(a))):\n",
    "                h = known[j]\n",
    "                if a[j] < threshold and new_whale not in s:\n",
    "                    pos[len(t)] += 1\n",
    "                    s.add(new_whale)\n",
    "                    t.append(new_whale)\n",
    "                    if len(t) == 5: break;\n",
    "                for w in h2ws[h]:\n",
    "                    assert w != new_whale\n",
    "                    if w not in s:\n",
    "                        if a[j] > 1.0:\n",
    "                            vtop += 1\n",
    "                        elif a[j] >= threshold:\n",
    "                            vhigh += 1\n",
    "                        s.add(w)\n",
    "                        t.append(w)\n",
    "                        if len(t) == 5: break;\n",
    "                if len(t) == 5: break;\n",
    "            if new_whale not in s: pos[5] += 1\n",
    "            assert len(t) == 5 and len(s) == 5\n",
    "            f.write(p + ',' + ' '.join(t[:5]) + '\\n')\n",
    "    return vtop, vhigh, pos"
   ]
  },
  {
   "cell_type": "code",
   "execution_count": 21,
   "metadata": {},
   "outputs": [
    {
     "data": {
      "application/vnd.jupyter.widget-view+json": {
       "model_id": "2d8f7ef025c44562b11ea56e7dfbc875",
       "version_major": 2,
       "version_minor": 0
      },
      "text/plain": [
       "HBox(children=(IntProgress(value=0, description='Features', max=246), HTML(value='')))"
      ]
     },
     "metadata": {},
     "output_type": "display_data"
    },
    {
     "data": {
      "application/vnd.jupyter.widget-view+json": {
       "model_id": "2687f6a0eb5c4906a236f0182caeb5c2",
       "version_major": 2,
       "version_minor": 0
      },
      "text/plain": [
       "HBox(children=(IntProgress(value=0, description='Features', max=125), HTML(value='')))"
      ]
     },
     "metadata": {},
     "output_type": "display_data"
    },
    {
     "data": {
      "application/vnd.jupyter.widget-view+json": {
       "model_id": "d55d5522fc46443a92f2150f9b26721f",
       "version_major": 2,
       "version_minor": 0
      },
      "text/plain": [
       "HBox(children=(IntProgress(value=0, description='Scores', max=61006), HTML(value='')))"
      ]
     },
     "metadata": {},
     "output_type": "display_data"
    },
    {
     "data": {
      "application/vnd.jupyter.widget-view+json": {
       "model_id": "cbd4038f3aae49d0a9d02376c47dffe9",
       "version_major": 2,
       "version_minor": 0
      },
      "text/plain": [
       "HBox(children=(IntProgress(value=0, max=7960), HTML(value='')))"
      ]
     },
     "metadata": {},
     "output_type": "display_data"
    },
    {
     "name": "stdout",
     "output_type": "stream",
     "text": [
      "Submission time:  11.738536938031514\n"
     ]
    }
   ],
   "source": [
    "# Find elements from training sets not 'new_whale'\n",
    "tic = time.time()\n",
    "h2ws = {}\n",
    "for p, w in tagged.items():\n",
    "    if w != new_whale:  # Use only identified whales\n",
    "        h = p2h[p]\n",
    "        if h not in h2ws: h2ws[h] = []\n",
    "        if w not in h2ws[h]: h2ws[h].append(w)\n",
    "known = sorted(list(h2ws.keys()))\n",
    "\n",
    "# Dictionary of picture indices\n",
    "h2i = {}\n",
    "for i, h in enumerate(known): h2i[h] = i\n",
    "\n",
    "# Evaluate the model.\n",
    "fknown = branch_model.predict_generator(FeatureGen(known), max_queue_size=20, workers=10, verbose=0)\n",
    "fsubmit = branch_model.predict_generator(FeatureGen(submit), max_queue_size=20, workers=10, verbose=0)\n",
    "score = head_model.predict_generator(ScoreGen(fknown, fsubmit), max_queue_size=20, workers=10, verbose=0)\n",
    "score = score_reshape(score, fknown, fsubmit)\n",
    "\n",
    "# Generate the subsmission file.\n",
    "prepare_submission(0.99, 'submission.csv')\n",
    "toc = time.time()\n",
    "print(\"Submission time: \", (toc - tic) / 60.)"
   ]
  },
  {
   "cell_type": "code",
   "execution_count": null,
   "metadata": {},
   "outputs": [],
   "source": []
  }
 ],
 "metadata": {
  "kernelspec": {
   "display_name": "Python 3",
   "language": "python",
   "name": "python3"
  },
  "language_info": {
   "codemirror_mode": {
    "name": "ipython",
    "version": 3
   },
   "file_extension": ".py",
   "mimetype": "text/x-python",
   "name": "python",
   "nbconvert_exporter": "python",
   "pygments_lexer": "ipython3",
   "version": "3.5.2"
  }
 },
 "nbformat": 4,
 "nbformat_minor": 2
}
