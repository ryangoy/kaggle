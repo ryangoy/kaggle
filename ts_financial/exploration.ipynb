{
 "cells": [
  {
   "cell_type": "code",
   "execution_count": 45,
   "metadata": {
    "collapsed": false
   },
   "outputs": [],
   "source": [
    "import numpy as np\n",
    "import pandas as pd\n",
    "import matplotlib.pyplot as plt\n",
    "import seaborn as sns\n",
    "import xgboost as xgb\n",
    "from sklearn.ensemble import ExtraTreesRegressor\n",
    "from sklearn.linear_model import LinearRegression\n",
    "from sklearn.linear_model import Ridge\n",
    "import math\n",
    "%matplotlib inline\n",
    "\n",
    "pd.set_option('display.max_columns', 120)"
   ]
  },
  {
   "cell_type": "code",
   "execution_count": 46,
   "metadata": {
    "collapsed": true
   },
   "outputs": [],
   "source": [
    "# A custom function to compute the R score\n",
    "def get_reward(y_true, y_fit):\n",
    "    R2 = 1 - np.sum((y_true - y_fit)**2) / np.sum((y_true - np.mean(y_true))**2)\n",
    "    R = np.sign(R2) * math.sqrt(abs(R2))\n",
    "    return(R)"
   ]
  },
  {
   "cell_type": "code",
   "execution_count": 2,
   "metadata": {
    "collapsed": false
   },
   "outputs": [],
   "source": [
    "with pd.HDFStore(\"./train.h5\", \"r\") as train:\n",
    "    # Note that the \"train\" dataframe is the only dataframe in the file\n",
    "    df = train.get(\"train\")"
   ]
  },
  {
   "cell_type": "code",
   "execution_count": 39,
   "metadata": {
    "collapsed": false
   },
   "outputs": [],
   "source": [
    "d_median = df.median(axis=0)\n",
    "n = df.isnull().sum(axis=1)\n",
    "for c in df.columns:\n",
    "    df[c + '_nan_'] = pd.isnull(df[c])\n",
    "    d_median[c + '_nan_'] = 0\n",
    "df = df.fillna(d_median)\n",
    "df['znull'] = n\n",
    "n = []"
   ]
  },
  {
   "cell_type": "code",
   "execution_count": 15,
   "metadata": {
    "collapsed": true
   },
   "outputs": [],
   "source": [
    "train = df[:806298]\n",
    "val = df[806298:]"
   ]
  },
  {
   "cell_type": "code",
   "execution_count": 24,
   "metadata": {
    "collapsed": false
   },
   "outputs": [],
   "source": [
    "train_labels = train[\"y\"]\n",
    "val_labels = val[\"y\"]\n",
    "train_data = train.drop(\"y\", 1)\n",
    "val_data = val.drop(\"y\", 1)"
   ]
  },
  {
   "cell_type": "code",
   "execution_count": 32,
   "metadata": {
    "collapsed": false
   },
   "outputs": [],
   "source": [
    "gbm = xgb.XGBRegressor(nthread=7, silent=False, n_estimators=300, learning_rate=.2)"
   ]
  },
  {
   "cell_type": "code",
   "execution_count": 33,
   "metadata": {
    "collapsed": false
   },
   "outputs": [
    {
     "data": {
      "text/plain": [
       "XGBRegressor(base_score=0.5, colsample_bylevel=1, colsample_bytree=1, gamma=0,\n",
       "       learning_rate=0.2, max_delta_step=0, max_depth=3,\n",
       "       min_child_weight=1, missing=None, n_estimators=300, nthread=7,\n",
       "       objective='reg:linear', reg_alpha=0, reg_lambda=1,\n",
       "       scale_pos_weight=1, seed=0, silent=False, subsample=1)"
      ]
     },
     "execution_count": 33,
     "metadata": {},
     "output_type": "execute_result"
    }
   ],
   "source": [
    "gbm.fit(train_data, train_labels)"
   ]
  },
  {
   "cell_type": "code",
   "execution_count": 40,
   "metadata": {
    "collapsed": false
   },
   "outputs": [],
   "source": [
    "predictions = gbm.predict(train_data)"
   ]
  },
  {
   "cell_type": "code",
   "execution_count": 47,
   "metadata": {
    "collapsed": false
   },
   "outputs": [
    {
     "name": "stdout",
     "output_type": "stream",
     "text": [
      "-12.8572098866\n"
     ]
    }
   ],
   "source": [
    "print get_reward(predictions, train_labels)"
   ]
  },
  {
   "cell_type": "code",
   "execution_count": 41,
   "metadata": {
    "collapsed": false
   },
   "outputs": [
    {
     "name": "stdout",
     "output_type": "stream",
     "text": [
      "[  2.28205323e-03   2.20924616e-04  -6.90340996e-04  -4.36484814e-04\n",
      "  -8.96215439e-04  -2.88927555e-03  -1.28966570e-03   1.14968419e-03\n",
      "  -1.71458721e-03  -2.89607048e-03   3.89546156e-04  -1.47461891e-04\n",
      "   2.20924616e-04  -1.42294168e-03   2.20924616e-04  -2.38996744e-03\n",
      "  -6.77204132e-03  -2.09033489e-04  -3.52543592e-03   6.01619482e-04\n",
      "   1.37555599e-03   1.29643083e-03   1.26177073e-03   3.49074602e-04\n",
      "  -3.23724747e-03  -1.60336494e-04   6.50525093e-04  -3.46374512e-03\n",
      "   1.83847845e-02  -9.81092453e-05   1.38613582e-03  -2.08004713e-02\n",
      "  -7.42554665e-04   1.86413527e-04  -1.14046931e-02   4.69297171e-04\n",
      "  -2.88665295e-03  -8.87292624e-03  -7.55250454e-04   1.29938126e-04\n",
      "  -5.25808334e-03   1.99380517e-03   2.02363729e-03   1.12435222e-03\n",
      "  -1.96284056e-03  -2.57462263e-03   1.70806646e-02   1.26177073e-03\n",
      "  -7.13145733e-03  -9.85860825e-05]\n"
     ]
    }
   ],
   "source": [
    "print predictions[:50]"
   ]
  },
  {
   "cell_type": "code",
   "execution_count": 42,
   "metadata": {
    "collapsed": false
   },
   "outputs": [
    {
     "name": "stdout",
     "output_type": "stream",
     "text": [
      "0    -0.011753\n",
      "1    -0.001240\n",
      "2    -0.020940\n",
      "3    -0.015959\n",
      "4    -0.007338\n",
      "5     0.031425\n",
      "6    -0.032895\n",
      "7     0.015803\n",
      "8    -0.027593\n",
      "9     0.006662\n",
      "10   -0.001899\n",
      "11    0.050219\n",
      "12   -0.018991\n",
      "13   -0.005203\n",
      "14   -0.006369\n",
      "15    0.017768\n",
      "16   -0.001089\n",
      "17   -0.008794\n",
      "18    0.040724\n",
      "19   -0.003921\n",
      "20   -0.011317\n",
      "21    0.044167\n",
      "22    0.001395\n",
      "23   -0.012101\n",
      "24   -0.070837\n",
      "25   -0.001766\n",
      "26   -0.012542\n",
      "27    0.029697\n",
      "28    0.030815\n",
      "29   -0.016336\n",
      "30    0.041231\n",
      "31   -0.086094\n",
      "32   -0.019769\n",
      "33   -0.019097\n",
      "34   -0.042154\n",
      "35    0.015426\n",
      "36   -0.026304\n",
      "37   -0.015709\n",
      "38   -0.002253\n",
      "39   -0.011964\n",
      "40   -0.041490\n",
      "41    0.016232\n",
      "42   -0.020027\n",
      "43   -0.003844\n",
      "44   -0.024898\n",
      "45   -0.013219\n",
      "46    0.066793\n",
      "47   -0.002048\n",
      "48    0.000455\n",
      "49   -0.023536\n",
      "Name: y, dtype: float32\n"
     ]
    }
   ],
   "source": [
    "print train_labels[:50]"
   ]
  },
  {
   "cell_type": "code",
   "execution_count": 11,
   "metadata": {
    "collapsed": false
   },
   "outputs": [],
   "source": []
  },
  {
   "cell_type": "code",
   "execution_count": 12,
   "metadata": {
    "collapsed": true
   },
   "outputs": [],
   "source": []
  },
  {
   "cell_type": "code",
   "execution_count": 13,
   "metadata": {
    "collapsed": true
   },
   "outputs": [],
   "source": []
  },
  {
   "cell_type": "code",
   "execution_count": null,
   "metadata": {
    "collapsed": true
   },
   "outputs": [],
   "source": []
  }
 ],
 "metadata": {
  "anaconda-cloud": {},
  "kernelspec": {
   "display_name": "Python [conda env:tensorflow]",
   "language": "python",
   "name": "conda-env-tensorflow-py"
  },
  "language_info": {
   "codemirror_mode": {
    "name": "ipython",
    "version": 2
   },
   "file_extension": ".py",
   "mimetype": "text/x-python",
   "name": "python",
   "nbconvert_exporter": "python",
   "pygments_lexer": "ipython2",
   "version": "2.7.12"
  }
 },
 "nbformat": 4,
 "nbformat_minor": 1
}
