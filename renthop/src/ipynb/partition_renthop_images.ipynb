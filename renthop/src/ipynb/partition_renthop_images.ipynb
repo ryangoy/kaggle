{
 "cells": [
  {
   "cell_type": "code",
   "execution_count": 22,
   "metadata": {
    "collapsed": false
   },
   "outputs": [],
   "source": [
    "import sys\n",
    "sys.path.insert(0, '../feature_generation')\n",
    "sys.path.insert(0, '../..')\n",
    "import pandas as pd\n",
    "import numpy as np\n",
    "import keras\n",
    "import models\n",
    "import paths\n",
    "import shutil\n",
    "from PIL import Image\n",
    "import math\n",
    "from os.path import join\n",
    "from os import listdir\n",
    "from keras.preprocessing.image import ImageDataGenerator\n",
    "from sklearn import model_selection\n",
    "import matplotlib.pyplot as plt\n",
    "%matplotlib inline"
   ]
  },
  {
   "cell_type": "code",
   "execution_count": 4,
   "metadata": {
    "collapsed": false
   },
   "outputs": [
    {
     "name": "stdout",
     "output_type": "stream",
     "text": [
      "finished 100000 images\n",
      "finished 200000 images\n",
      "finished 300000 images\n",
      "finished 400000 images\n",
      "finished 500000 images\n",
      "finished 600000 images\n",
      "Shape is (114773, 5)\n"
     ]
    }
   ],
   "source": [
    "# pre-categorization of images, get image statistics\n",
    "image_statistics = []\n",
    "count = 0\n",
    "for listing_id in listdir(paths.RAW_IMAGES):\n",
    "    listing_id_path = join(paths.RAW_IMAGES, listing_id)\n",
    "    product_sum = 0\n",
    "    diag_sum = 0\n",
    "    width_sum = 0\n",
    "    height_sum = 0\n",
    "    if listing_id == \".DS_Store\":\n",
    "        continue\n",
    "    num_images = len(listdir(listing_id_path))\n",
    "    if num_images == 0:\n",
    "        continue\n",
    "    for img_name in listdir(join(paths.RAW_IMAGES, listing_id)):\n",
    "        if not img_name.endswith('.jpg'):\n",
    "            num_images -= 1\n",
    "            continue\n",
    "        img = Image.open(join(listing_id_path, img_name))\n",
    "        width_sum += img.size[0]\n",
    "        height_sum += img.size[1]\n",
    "        product_sum += img.size[0] * img.size[1]\n",
    "        diag_sum += math.sqrt(img.size[0]**2 + img.size[1]**2)\n",
    "        count += 1\n",
    "        if count % 100000 == 0:\n",
    "            print \"finished {} images\".format(count)\n",
    "    if width_sum == 0:\n",
    "        continue\n",
    "    image_statistics.append([listing_id, float(width_sum)/num_images,\n",
    "                             float(height_sum)/num_images,  \n",
    "                             float(product_sum)/num_images,\n",
    "                             float(diag_sum)/num_images])\n",
    "\n",
    "npy_file = np.array(image_statistics)\n",
    "np.save(paths.IMG_STATISTICS, npy_file)\n",
    "print \"Shape is {}\".format(npy_file.shape)"
   ]
  },
  {
   "cell_type": "code",
   "execution_count": 24,
   "metadata": {
    "collapsed": false
   },
   "outputs": [],
   "source": [
    "duplicate_images = []"
   ]
  },
  {
   "cell_type": "code",
   "execution_count": null,
   "metadata": {
    "collapsed": true
   },
   "outputs": [],
   "source": [
    "df = pd.read_json(paths.TRAIN_JSON)\n",
    "listing_id_interest = df[['listing_id', 'interest_level']]"
   ]
  },
  {
   "cell_type": "code",
   "execution_count": 25,
   "metadata": {
    "collapsed": false
   },
   "outputs": [],
   "source": [
    "# move everything into train that is in train\n",
    "for entry in listing_id_interest.iterrows():\n",
    "    for img_name in listdir(join(paths.RAW_IMAGES, str(entry[1].listing_id))):\n",
    "        img_path = join(paths.RAW_IMAGES, str(entry[1].listing_id), img_name)\n",
    "        img_dest = join(paths.TRN_IMAGES, entry[1].interest_level)\n",
    "        if img_path.endswith('.jpg'):\n",
    "            try:\n",
    "                shutil.move(img_path, img_dest)\n",
    "            except:\n",
    "                duplicate_images.append(img_path) "
   ]
  },
  {
   "cell_type": "code",
   "execution_count": 26,
   "metadata": {
    "collapsed": false
   },
   "outputs": [
    {
     "name": "stdout",
     "output_type": "stream",
     "text": [
      "209\n"
     ]
    }
   ],
   "source": [
    "print len(duplicate_images)"
   ]
  },
  {
   "cell_type": "code",
   "execution_count": 28,
   "metadata": {
    "collapsed": true
   },
   "outputs": [],
   "source": [
    "df_test = pd.read_json(paths.TEST_JSON)\n",
    "test_ids = df_test['listing_id']"
   ]
  },
  {
   "cell_type": "code",
   "execution_count": 32,
   "metadata": {
    "collapsed": true
   },
   "outputs": [],
   "source": [
    "duplicate_test_images = []"
   ]
  },
  {
   "cell_type": "code",
   "execution_count": 33,
   "metadata": {
    "collapsed": false
   },
   "outputs": [],
   "source": [
    "# move everything into test which is in test\n",
    "for test_id in test_ids:\n",
    "    for img_name in listdir(join(paths.RAW_IMAGES, str(test_id))):\n",
    "        img_path = join(paths.RAW_IMAGES, str(test_id), img_name)\n",
    "        img_dest = join(paths.TEST_IMAGES)\n",
    "        if img_path.endswith('.jpg'):\n",
    "            try:\n",
    "                shutil.move(img_path, img_dest)\n",
    "            except:\n",
    "                duplicate_test_images.append(img_path)"
   ]
  },
  {
   "cell_type": "code",
   "execution_count": 34,
   "metadata": {
    "collapsed": false
   },
   "outputs": [
    {
     "name": "stdout",
     "output_type": "stream",
     "text": [
      "906\n"
     ]
    }
   ],
   "source": [
    "print len(duplicate_test_images)"
   ]
  },
  {
   "cell_type": "code",
   "execution_count": 9,
   "metadata": {
    "collapsed": false
   },
   "outputs": [],
   "source": []
  },
  {
   "cell_type": "code",
   "execution_count": 160,
   "metadata": {
    "collapsed": false
   },
   "outputs": [],
   "source": []
  },
  {
   "cell_type": "code",
   "execution_count": 168,
   "metadata": {
    "collapsed": false
   },
   "outputs": [],
   "source": []
  }
 ],
 "metadata": {
  "kernelspec": {
   "display_name": "Python [default]",
   "language": "python",
   "name": "python2"
  },
  "language_info": {
   "codemirror_mode": {
    "name": "ipython",
    "version": 2
   },
   "file_extension": ".py",
   "mimetype": "text/x-python",
   "name": "python",
   "nbconvert_exporter": "python",
   "pygments_lexer": "ipython2",
   "version": "2.7.13"
  }
 },
 "nbformat": 4,
 "nbformat_minor": 2
}
