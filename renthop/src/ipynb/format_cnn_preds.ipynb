{
 "cells": [
  {
   "cell_type": "code",
   "execution_count": 1,
   "metadata": {
    "collapsed": false
   },
   "outputs": [],
   "source": [
    "import numpy as np\n",
    "import sys\n",
    "from os.path import join\n",
    "sys.path.insert(0, '../..')\n",
    "import paths\n",
    "import pandas as pd"
   ]
  },
  {
   "cell_type": "code",
   "execution_count": 2,
   "metadata": {
    "collapsed": false
   },
   "outputs": [],
   "source": [
    "kfold_ids = []\n",
    "kfold_preds = []\n",
    "for i in range(5):\n",
    "    kfold_ids.append(np.load(join(paths.CNN_OUTPUT_DIR, \n",
    "                                  \"kfold_{}_ids.npy\".format(i))))\n",
    "    kfold_preds.append(np.load(join(paths.CNN_OUTPUT_DIR, \n",
    "                                  \"kfold_{}_preds.npy\".format(i))))\n",
    "    "
   ]
  },
  {
   "cell_type": "code",
   "execution_count": 5,
   "metadata": {
    "collapsed": false
   },
   "outputs": [],
   "source": [
    "df = pd.DataFrame(columns=('img_name', 'low', 'medium', 'high'))\n",
    "index = 0\n",
    "for k in range(5):\n",
    "    for i in range(len(kfold_ids[k])):\n",
    "        img_name = kfold_ids[k][i]\n",
    "        df.loc[index] = [img_name[img_name.index('/')+1:], \n",
    "                        kfold_preds[k][i][0],\n",
    "                        kfold_preds[k][i][1],\n",
    "                        kfold_preds[k][i][2],]\n",
    "        index += 1"
   ]
  },
  {
   "cell_type": "code",
   "execution_count": 6,
   "metadata": {
    "collapsed": false
   },
   "outputs": [
    {
     "name": "stdout",
     "output_type": "stream",
     "text": [
      "(273898, 4)\n"
     ]
    }
   ],
   "source": [
    "print df.shape"
   ]
  },
  {
   "cell_type": "code",
   "execution_count": 8,
   "metadata": {
    "collapsed": false
   },
   "outputs": [],
   "source": [
    "df.to_csv(join(paths.CNN_OUTPUT_DIR,\"combined.csv\"))"
   ]
  },
  {
   "cell_type": "code",
   "execution_count": null,
   "metadata": {
    "collapsed": true
   },
   "outputs": [],
   "source": []
  }
 ],
 "metadata": {
  "kernelspec": {
   "display_name": "Python [default]",
   "language": "python",
   "name": "python2"
  },
  "language_info": {
   "codemirror_mode": {
    "name": "ipython",
    "version": 2
   },
   "file_extension": ".py",
   "mimetype": "text/x-python",
   "name": "python",
   "nbconvert_exporter": "python",
   "pygments_lexer": "ipython2",
   "version": "2.7.13"
  }
 },
 "nbformat": 4,
 "nbformat_minor": 2
}
