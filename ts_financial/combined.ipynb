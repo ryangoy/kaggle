{
 "cells": [
  {
   "cell_type": "code",
   "execution_count": 29,
   "metadata": {
    "collapsed": true
   },
   "outputs": [],
   "source": [
    "from kagglegym import make\n",
    "import kagglegym\n",
    "import numpy as np\n",
    "import pandas as pd\n",
    "import xgboost as xgb\n",
    "from sklearn import linear_model\n",
    "import matplotlib.pyplot as plt\n",
    "import math\n",
    "%matplotlib inline"
   ]
  },
  {
   "cell_type": "code",
   "execution_count": 2,
   "metadata": {
    "collapsed": false
   },
   "outputs": [],
   "source": [
    "class Model():\n",
    "    def __init__(self, model, columns):\n",
    "\n",
    "        self.model   = model\n",
    "        self.columns = columns\n",
    "        \n",
    "    def train_with_validation(self, train, validation):\n",
    "        # Get the X, and y values, \n",
    "        X_train = train[self.columns]\n",
    "        y_train = np.array(train.y)\n",
    "        X_val = validation[self.columns]\n",
    "        y_val = np.array(validation.y)\n",
    "        \n",
    "        self.model.fit(X_train, y_train)\n",
    "        reward = get_reward(y_val, self.model.predict(X_val))\n",
    "        score = self.model.score(X_val, y_val)\n",
    "        \n",
    "        print \"{} validation: {} score: {}\".format(\n",
    "            str(self.model).split('(')[0], \n",
    "            \"{0:.8f}\".format(reward),\n",
    "            \"{0:.8f}\".format(score))\n",
    "        \n",
    "    def train(self, train):\n",
    "        X_train = train[self.columns]\n",
    "        y_train = np.array(train.y)\n",
    "        self.model.fit(X_train, y_train)\n",
    "        score = self.model.score(X_train, y_train)\n",
    "        print \"{} trained successfully with score: {}\".format(\n",
    "            str(self.model).split('(')[0], \n",
    "            \"{0:.8f}\".format(score))\n",
    "    \n",
    "    def predict(self, features):   \n",
    "        return self.model.predict(features[self.columns])"
   ]
  },
  {
   "cell_type": "code",
   "execution_count": null,
   "metadata": {
    "collapsed": true
   },
   "outputs": [],
   "source": []
  },
  {
   "cell_type": "code",
   "execution_count": 3,
   "metadata": {
    "collapsed": false
   },
   "outputs": [],
   "source": [
    "# initialize kaggle gym environment\n",
    "env = make()\n",
    "o = env.reset()"
   ]
  },
  {
   "cell_type": "code",
   "execution_count": 4,
   "metadata": {
    "collapsed": false
   },
   "outputs": [],
   "source": [
    "raw_train = o.train.fillna(method='ffill')"
   ]
  },
  {
   "cell_type": "code",
   "execution_count": 5,
   "metadata": {
    "collapsed": true
   },
   "outputs": [],
   "source": [
    "# split train and validation sets\n",
    "train_split = 700\n",
    "train = raw_train[raw_train['timestamp'] < train_split]\n",
    "val = raw_train[raw_train['timestamp'] > train_split]\n",
    "X_val = val.drop('y', 1)\n",
    "y_val = np.array(val.y)"
   ]
  },
  {
   "cell_type": "code",
   "execution_count": 6,
   "metadata": {
    "collapsed": true
   },
   "outputs": [],
   "source": [
    "model_dict = {}"
   ]
  },
  {
   "cell_type": "code",
   "execution_count": 7,
   "metadata": {
    "collapsed": true
   },
   "outputs": [],
   "source": [
    "ENcolumns = ['technical_30', 'technical_20', 'technical_40',  ]\n",
    "model_dict['elasticNet'] = Model(linear_model.ElasticNetCV(normalize=True), ENcolumns)"
   ]
  },
  {
   "cell_type": "code",
   "execution_count": 8,
   "metadata": {
    "collapsed": true
   },
   "outputs": [],
   "source": [
    "Rcolumns = ['technical_7', 'technical_20','technical_30', 'technical_40', 'fundamental_8' ]\n",
    "model_dict['ridge'] = Model(linear_model.Ridge(normalize=True), Rcolumns)"
   ]
  },
  {
   "cell_type": "code",
   "execution_count": 9,
   "metadata": {
    "collapsed": true
   },
   "outputs": [],
   "source": [
    "Lcolumns = ['technical_7', 'technical_30', 'fundamental_8', 'fundamental_28', 'fundamental_42', 'fundamental_55' ]\n",
    "model_dict['lasso'] = Model(linear_model.Lasso(normalize=False, alpha=0.000001), Lcolumns)"
   ]
  },
  {
   "cell_type": "code",
   "execution_count": 10,
   "metadata": {
    "collapsed": true
   },
   "outputs": [],
   "source": [
    "Tcolumns = ['technical_20', 'technical_30', 'technical_33', 'fundamental_53']\n",
    "model_dict['tree'] = Model(xgb.XGBRegressor(), Tcolumns)"
   ]
  },
  {
   "cell_type": "code",
   "execution_count": 11,
   "metadata": {
    "collapsed": false
   },
   "outputs": [
    {
     "name": "stdout",
     "output_type": "stream",
     "text": [
      "ElasticNetCV trained successfully with score: 0.00048650\n",
      "XGBRegressor trained successfully with score: 0.00215098\n",
      "Ridge trained successfully with score: 0.00038739\n",
      "Lasso trained successfully with score: 0.00018481\n"
     ]
    }
   ],
   "source": [
    "for model in model_dict.values():\n",
    "    model.train(train)"
   ]
  },
  {
   "cell_type": "code",
   "execution_count": 12,
   "metadata": {
    "collapsed": false
   },
   "outputs": [],
   "source": [
    "l1_features = pd.DataFrame()"
   ]
  },
  {
   "cell_type": "code",
   "execution_count": 13,
   "metadata": {
    "collapsed": false
   },
   "outputs": [],
   "source": [
    "for name, model in model_dict.iteritems():\n",
    "    l1_features[name] = model.predict(train.drop('y', 1))"
   ]
  },
  {
   "cell_type": "code",
   "execution_count": 14,
   "metadata": {
    "collapsed": false
   },
   "outputs": [
    {
     "name": "stdout",
     "output_type": "stream",
     "text": [
      "(610795, 4)\n"
     ]
    }
   ],
   "source": [
    "print l1_features.shape"
   ]
  },
  {
   "cell_type": "code",
   "execution_count": 15,
   "metadata": {
    "collapsed": false
   },
   "outputs": [],
   "source": [
    "dmat = xgb.DMatrix(l1_features, train.y)"
   ]
  },
  {
   "cell_type": "code",
   "execution_count": 16,
   "metadata": {
    "collapsed": false
   },
   "outputs": [
    {
     "name": "stdout",
     "output_type": "stream",
     "text": [
      "Index([u'elasticNet', u'tree', u'ridge', u'lasso'], dtype='object')\n"
     ]
    }
   ],
   "source": [
    "print l1_features.columns"
   ]
  },
  {
   "cell_type": "code",
   "execution_count": 17,
   "metadata": {
    "collapsed": false
   },
   "outputs": [],
   "source": [
    "params = {'eta': 0.1, 'seed':0, 'subsample': 0.8, 'colsample_bytree': 0.8, \n",
    "             'objective': 'reg:linear', 'max_depth':3, 'min_child_weight':1}\n",
    "booster = xgb.train(params = params, dtrain = dmat)"
   ]
  },
  {
   "cell_type": "code",
   "execution_count": 18,
   "metadata": {
    "collapsed": true
   },
   "outputs": [],
   "source": [
    "l1_val = pd.DataFrame()"
   ]
  },
  {
   "cell_type": "code",
   "execution_count": 19,
   "metadata": {
    "collapsed": true
   },
   "outputs": [],
   "source": [
    "for name, model in model_dict.iteritems():\n",
    "    l1_val[name] = model.predict(X_val)"
   ]
  },
  {
   "cell_type": "code",
   "execution_count": 25,
   "metadata": {
    "collapsed": false
   },
   "outputs": [],
   "source": [
    "valmat = xgb.DMatrix(l1_val)\n"
   ]
  },
  {
   "cell_type": "code",
   "execution_count": 26,
   "metadata": {
    "collapsed": false
   },
   "outputs": [],
   "source": [
    "pls = booster.predict(valmat)"
   ]
  },
  {
   "cell_type": "code",
   "execution_count": 27,
   "metadata": {
    "collapsed": true
   },
   "outputs": [],
   "source": [
    "# A custom function to compute the R score\n",
    "def get_reward(y_true, y_fit):\n",
    "    R2 = 1 - np.sum((y_true - y_fit)**2) / np.sum((y_true - np.mean(y_true))**2)\n",
    "    R = np.sign(R2) * math.sqrt(abs(R2))\n",
    "    return(R)"
   ]
  },
  {
   "cell_type": "code",
   "execution_count": 31,
   "metadata": {
    "collapsed": false
   },
   "outputs": [
    {
     "name": "stdout",
     "output_type": "stream",
     "text": [
      "0.0175315900548\n"
     ]
    }
   ],
   "source": [
    "print get_reward(y_val, l1_val['elasticNet'])"
   ]
  },
  {
   "cell_type": "code",
   "execution_count": null,
   "metadata": {
    "collapsed": true
   },
   "outputs": [],
   "source": []
  }
 ],
 "metadata": {
  "kernelspec": {
   "display_name": "Python [default]",
   "language": "python",
   "name": "python2"
  },
  "language_info": {
   "codemirror_mode": {
    "name": "ipython",
    "version": 2
   },
   "file_extension": ".py",
   "mimetype": "text/x-python",
   "name": "python",
   "nbconvert_exporter": "python",
   "pygments_lexer": "ipython2",
   "version": "2.7.13"
  }
 },
 "nbformat": 4,
 "nbformat_minor": 2
}
