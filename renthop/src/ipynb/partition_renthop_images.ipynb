{
 "cells": [
  {
   "cell_type": "code",
   "execution_count": 1,
   "metadata": {
    "collapsed": false
   },
   "outputs": [
    {
     "name": "stderr",
     "output_type": "stream",
     "text": [
      "Using TensorFlow backend.\n"
     ]
    }
   ],
   "source": [
    "import sys\n",
    "sys.path.insert(0, '../feature_generation')\n",
    "sys.path.insert(0, '../..')\n",
    "import pandas as pd\n",
    "import numpy as np\n",
    "import keras\n",
    "import models\n",
    "import paths\n",
    "from PIL import Image\n",
    "import math\n",
    "from os.path import join\n",
    "from os import listdir\n",
    "from keras.preprocessing.image import ImageDataGenerator\n",
    "from sklearn import model_selection\n",
    "import matplotlib.pyplot as plt\n",
    "%matplotlib inline"
   ]
  },
  {
   "cell_type": "code",
   "execution_count": 2,
   "metadata": {
    "collapsed": false
   },
   "outputs": [],
   "source": [
    "df = pd.read_json(paths.TRAIN_JSON)"
   ]
  },
  {
   "cell_type": "code",
   "execution_count": 3,
   "metadata": {
    "collapsed": true
   },
   "outputs": [],
   "source": [
    "listing_id_interest = df[['listing_id', 'interest_level']]"
   ]
  },
  {
   "cell_type": "code",
   "execution_count": 6,
   "metadata": {
    "collapsed": false
   },
   "outputs": [],
   "source": [
    "image_interest = []\n",
    "for listing_id in listing_id_interest.iterrows():\n",
    "    listing_id_path = join(paths.IMAGES, str(listing_id[1].listing_id))\n",
    "    for f in listdir(listing_id_path):\n",
    "        if f.endswith('.jpg'):\n",
    "            image_interest.append([f,listing_id[1].interest_level])"
   ]
  },
  {
   "cell_type": "code",
   "execution_count": 7,
   "metadata": {
    "collapsed": false
   },
   "outputs": [],
   "source": [
    "image_statistics = []\n",
    "count = 0\n",
    "for listing_id in listing_id_interest.iterrows():\n",
    "    listing_id_path = join(paths.IMAGES, str(listing_id[1].listing_id))\n",
    "    num_images = len(listdir(listing_id_path))\n",
    "    if num_images == 0:\n",
    "        continue\n",
    "    product_sum = 0\n",
    "    diag_sum = 0\n",
    "    width_sum = 0\n",
    "    height_sum = 0\n",
    "    for f in listdir(listing_id_path):\n",
    "        if not f.endswith('.jpg'):\n",
    "            num_images -= 1\n",
    "            continue\n",
    "        img = Image.open(join(listing_id_path, f))\n",
    "        width_sum += img.size[0]\n",
    "        height_sum += img.size[1]\n",
    "        product_sum += img.size[0] * img.size[1]\n",
    "        diag_sum += math.sqrt(img.size[0]**2 + img.size[1]**2)\n",
    "        count += 1\n",
    "        if count % 10000 == 0:\n",
    "            print \"finished {} images\".format(count)\n",
    "    if width_sum == 0:\n",
    "        continue\n",
    "    image_statistics.append([listing_id[1].listing_id, float(width_sum)/num_images,\n",
    "                             float(height_sum)/num_images,  \n",
    "                             float(product_sum)/num_images,\n",
    "                             float(diag_sum)/num_images])\n",
    "    \n",
    "    \n",
    "        \n",
    "print len(image_statistics)\n",
    "npy_file = np.array(image_statistics)\n",
    "npy_file.shape\n",
    "np.save('/home/ryan/Desktop/img_stats.npy', npy_file)"
   ]
  },
  {
   "cell_type": "code",
   "execution_count": 8,
   "metadata": {
    "collapsed": false
   },
   "outputs": [],
   "source": [
    "# move all the files out of their folders\n",
    "import os\n",
    "import shutil\n",
    "\n",
    "dirList = os.listdir(paths.IMAGES)\n",
    "dirList = [join(paths.IMAGES,filename) for filename in dirList]\n",
    "for direc in dirList:\n",
    "    try:\n",
    "        fileList = os.listdir(direc)\n",
    "    except:\n",
    "        continue\n",
    "    fileList = [join(direc,filename) for filename in fileList]\n",
    "    for f in fileList:\n",
    "        if f.endswith('.jpg'):\n",
    "            try:\n",
    "                shutil.move(f,paths.IMAGES)\n",
    "            except:\n",
    "                continue\n",
    "#print fileList[:10]\n",
    "#for f in fileList:\n",
    "#    break\n",
    "    #shutil.move(f, paths.IMAGES)"
   ]
  },
  {
   "cell_type": "code",
   "execution_count": 100,
   "metadata": {
    "collapsed": false
   },
   "outputs": [],
   "source": [
    "# remove the empty folders\n",
    "for i in os.listdir(paths.IMAGES):\n",
    "    if not i.endswith('.jpg'):\n",
    "        #print \"removing {}\".format(join(paths.IMAGES, i))\n",
    "        try:\n",
    "            shutil.rmtree(join(paths.IMAGES,i))\n",
    "        except:\n",
    "            os.remove(join(paths.IMAGES,i))"
   ]
  },
  {
   "cell_type": "code",
   "execution_count": 110,
   "metadata": {
    "collapsed": false
   },
   "outputs": [],
   "source": [
    "# move everything into their labeled folders\n",
    "for i in image_interest:\n",
    "#     print \"moving {} to {}\".format(i[0], i[1])\n",
    "#     break\n",
    "    try:\n",
    "        shutil.move(join(paths.IMAGES,i[0]), join(paths.IMAGES,i[1]))\n",
    "    except:\n",
    "        continue"
   ]
  },
  {
   "cell_type": "code",
   "execution_count": 114,
   "metadata": {
    "collapsed": true
   },
   "outputs": [],
   "source": [
    "# rest are test images\n",
    "for i in os.listdir(paths.IMAGES):\n",
    "    if i.endswith('.jpg'):\n",
    "        shutil.move(join(paths.IMAGES, i), join(paths.IMAGES,'test'))"
   ]
  },
  {
   "cell_type": "code",
   "execution_count": 9,
   "metadata": {
    "collapsed": false
   },
   "outputs": [],
   "source": [
    "# only use one k fold since we're using a cnn\n",
    "trn_indices = []\n",
    "val_indices = []\n",
    "kf = model_selection.KFold(n_splits=5, shuffle=True, random_state=2016)\n",
    "for dev_index, val_index in kf.split(range(len(listing_id_interest))):\n",
    "    trn_indices = dev_index\n",
    "    val_indices = val_index\n",
    "    break\n",
    "print len(trn_indices)\n",
    "print len(val_indices)"
   ]
  },
  {
   "cell_type": "code",
   "execution_count": 160,
   "metadata": {
    "collapsed": false
   },
   "outputs": [],
   "source": [
    "ids = listing_id_interest['listing_id']\n",
    "ids = np.array(ids)\n",
    "val_ids = ids[val_indices]"
   ]
  },
  {
   "cell_type": "code",
   "execution_count": 168,
   "metadata": {
    "collapsed": false
   },
   "outputs": [],
   "source": [
    "# creating val set\n",
    "trn_dirs = ['low', 'medium', 'high']\n",
    "for folder in trn_dirs:\n",
    "    \n",
    "    for img in os.listdir(join(paths.IMAGES,folder)):\n",
    "        listing_id = int(img[:img.index('_')])\n",
    "        if listing_id in val_ids:\n",
    "            shutil.move(join(paths.IMAGES,folder,img), \n",
    "                                    join(paths.IMAGES,'val',folder,img))"
   ]
  }
 ],
 "metadata": {
  "kernelspec": {
   "display_name": "Python [default]",
   "language": "python",
   "name": "python2"
  },
  "language_info": {
   "codemirror_mode": {
    "name": "ipython",
    "version": 2
   },
   "file_extension": ".py",
   "mimetype": "text/x-python",
   "name": "python",
   "nbconvert_exporter": "python",
   "pygments_lexer": "ipython2",
   "version": "2.7.13"
  }
 },
 "nbformat": 4,
 "nbformat_minor": 2
}
