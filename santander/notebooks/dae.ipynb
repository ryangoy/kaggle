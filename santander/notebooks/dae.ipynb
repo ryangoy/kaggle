{
 "cells": [
  {
   "cell_type": "code",
   "execution_count": 1,
   "metadata": {},
   "outputs": [
    {
     "name": "stderr",
     "output_type": "stream",
     "text": [
      "Using TensorFlow backend.\n"
     ]
    }
   ],
   "source": [
    "import gc\n",
    "import glob\n",
    "import os\n",
    "from os import path\n",
    "import json\n",
    "import matplotlib.pyplot as plt\n",
    "import seaborn as sns\n",
    "import pprint\n",
    "import warnings\n",
    "from joblib import Parallel, delayed\n",
    "from tqdm import tqdm, tqdm_notebook\n",
    "\n",
    "from collections import Counter, defaultdict\n",
    "from functools import partial\n",
    "from math import sqrt\n",
    "import time\n",
    "from functools import reduce\n",
    "from numba import cuda\n",
    "import math\n",
    "import random\n",
    "from math import exp\n",
    "import pylab\n",
    "from scipy.signal import savgol_filter\n",
    "\n",
    "import numpy as np\n",
    "import pandas as pd\n",
    "import scipy as sp\n",
    "import xgboost as xgb\n",
    "import lightgbm as lgb\n",
    "\n",
    "from sklearn.feature_extraction.text import TfidfVectorizer\n",
    "from sklearn.decomposition import TruncatedSVD\n",
    "from sklearn.metrics import cohen_kappa_score, mean_squared_error, roc_auc_score\n",
    "from sklearn.metrics import confusion_matrix as sk_cmatrix\n",
    "from sklearn.model_selection import StratifiedKFold, GroupKFold\n",
    "from sklearn.ensemble import RandomForestClassifier, ExtraTreesClassifier, GradientBoostingClassifier\n",
    "from sklearn.linear_model import LogisticRegression\n",
    "from scipy.signal import find_peaks\n",
    "\n",
    "import keras\n",
    "from keras.applications.densenet import preprocess_input, DenseNet121\n",
    "from keras.models import Model\n",
    "from keras.layers import Dense, GlobalAveragePooling2D, Input, Lambda, AveragePooling1D, \\\n",
    "        concatenate, BatchNormalization, Activation, Dropout, Embedding, Reshape, GaussianNoise, GaussianDropout, \\\n",
    "        Flatten\n",
    "from keras.callbacks import LearningRateScheduler\n",
    "from keras.optimizers import *\n",
    "from keras.initializers import glorot_normal\n",
    "import keras.backend as K\n",
    "from keras.callbacks import EarlyStopping, ReduceLROnPlateau\n",
    "\n",
    "%matplotlib inline\n",
    "\n",
    "np.random.seed(seed=1)\n",
    "warnings.filterwarnings('ignore')\n",
    "\n",
    "split_char = '/'"
   ]
  },
  {
   "cell_type": "code",
   "execution_count": 2,
   "metadata": {},
   "outputs": [],
   "source": [
    "train = pd.read_csv('../input/train.csv')\n",
    "test = pd.read_csv('../input/test.csv')\n",
    "df_test = test.drop('ID_code', axis=1).values\n",
    "df_train = train.drop(['ID_code', 'target'], axis=1).values"
   ]
  },
  {
   "cell_type": "code",
   "execution_count": 3,
   "metadata": {},
   "outputs": [],
   "source": [
    "def reverse(tr,te):\n",
    "    reverse_list = [0,1,2,3,4,5,6,7,8,11,15,16,18,19,\n",
    "                22,24,25,26,27,41,29,\n",
    "                32,35,37,40,48,49,47,\n",
    "                55,51,52,53,60,61,62,103,65,66,67,69,\n",
    "                70,71,74,78,79,\n",
    "                82,84,89,90,91,94,95,96,97,99,\n",
    "                105,106,110,111,112,118,119,125,128,\n",
    "                130,133,134,135,137,138,\n",
    "                140,144,145,147,151,155,157,159,\n",
    "                161,162,163,164,167,168,\n",
    "                170,171,173,175,176,179,\n",
    "                180,181,184,185,187,189,\n",
    "                190,191,195,196,199]\n",
    "    reverse_list = ['var_%d'%i for i in reverse_list]\n",
    "    for col in reverse_list:\n",
    "        tr[col] = tr[col]*(-1)\n",
    "        te[col] = te[col]*(-1)\n",
    "    return tr,te\n"
   ]
  },
  {
   "cell_type": "code",
   "execution_count": null,
   "metadata": {},
   "outputs": [],
   "source": [
    "folds = StratifiedKFold(n_splits=5, shuffle=True, random_state=1337)\n",
    "fold_split = folds.split(X, y)\n",
    "\n",
    "idx_trns = []\n",
    "idx_vals = []\n",
    "for idx_trn, idx_val in fold_split:\n",
    "    idx_trns.append(idx_trn)\n",
    "    idx_vals.append(idx_val)\n",
    "    \n",
    "np.save('../input/train_kfolds.npy', np.array(idx_trns))\n",
    "np.save('../input/val_kfolds.npy', np.array(idx_vals))"
   ]
  },
  {
   "cell_type": "code",
   "execution_count": 412,
   "metadata": {},
   "outputs": [],
   "source": [
    "X = train.drop(['ID_code', 'target'], axis=1)\n",
    "X_test = test.drop(['ID_code'], axis=1)\n",
    "y = train['target']\n",
    "\n",
    "for col in X.columns:\n",
    "    col_std =  X[col].std()\n",
    "    col_mean = X[col].mean()\n",
    "    X[col] = (X[col] - col_mean) / col_std\n",
    "    X_test[col] = (X_test[col] - col_mean) / col_std\n",
    "    \n",
    "X, X_test = reverse(X, X_test)"
   ]
  },
  {
   "cell_type": "code",
   "execution_count": 8,
   "metadata": {},
   "outputs": [
    {
     "name": "stderr",
     "output_type": "stream",
     "text": [
      "100%|██████████| 200/200 [00:03<00:00, 52.16it/s]\n"
     ]
    },
    {
     "name": "stdout",
     "output_type": "stream",
     "text": [
      "100000\n",
      "100000\n"
     ]
    }
   ],
   "source": [
    "unique_samples = []\n",
    "unique_count = np.zeros_like(df_test)\n",
    "for feature in tqdm(range(df_test.shape[1])):\n",
    "    _, index_, count_ = np.unique(df_test[:, feature], return_counts=True, return_index=True)\n",
    "    unique_count[index_[count_ == 1], feature] += 1\n",
    "\n",
    "# Samples which have unique values are real the others are fake\n",
    "real_samples_indexes = np.argwhere(np.sum(unique_count, axis=1) > 0)[:, 0]\n",
    "synthetic_samples_indexes = np.argwhere(np.sum(unique_count, axis=1) == 0)[:, 0]\n",
    "\n",
    "print(len(real_samples_indexes))\n",
    "print(len(synthetic_samples_indexes))"
   ]
  },
  {
   "cell_type": "code",
   "execution_count": 413,
   "metadata": {},
   "outputs": [],
   "source": [
    "X_real = X_test.iloc[real_samples_indexes]\n",
    "X_fake = X_test.iloc[synthetic_samples_indexes]"
   ]
  },
  {
   "cell_type": "code",
   "execution_count": 401,
   "metadata": {},
   "outputs": [],
   "source": [
    "X_all = pd.concat([X, X_test], axis=0).reset_index(drop=True)"
   ]
  },
  {
   "cell_type": "code",
   "execution_count": 414,
   "metadata": {},
   "outputs": [],
   "source": [
    "X_reals = pd.concat([X, X_real], axis=0).reset_index(drop=True)\n",
    "X_all = pd.concat([X, X_test], axis=0).reset_index(drop=True)"
   ]
  },
  {
   "cell_type": "code",
   "execution_count": 415,
   "metadata": {},
   "outputs": [],
   "source": [
    "unique_df = pd.DataFrame()\n",
    "for i in range(200):\n",
    "    c = 'var_{}'.format(i)\n",
    "    gb = X_reals.groupby(c).aggregate({c:'sum'})\n",
    "    gb.columns = ['var_sum']\n",
    "    gb = gb.reset_index()\n",
    "    gb2 = X_all.merge(gb, on=c, how='left')['var_sum']\n",
    "    unique_df[c+'_gb'] = gb2"
   ]
  },
  {
   "cell_type": "code",
   "execution_count": 416,
   "metadata": {},
   "outputs": [],
   "source": [
    "X_all = pd.concat([X_all, unique_df], axis=1)"
   ]
  },
  {
   "cell_type": "code",
   "execution_count": 417,
   "metadata": {},
   "outputs": [
    {
     "data": {
      "text/plain": [
       "(400000, 400)"
      ]
     },
     "execution_count": 417,
     "metadata": {},
     "output_type": "execute_result"
    }
   ],
   "source": [
    "X_all.shape"
   ]
  },
  {
   "cell_type": "code",
   "execution_count": null,
   "metadata": {},
   "outputs": [],
   "source": [
    "# for i in range(200):\n",
    "#     c = 'var_{}'.format(i)\n",
    "#     gb = X_all.groupby(c).aggregate({c:'sum'})\n",
    "#     gb.columns = ['var_sum']\n",
    "#     gb = gb.reset_index()\n",
    "#     print(gb.shape)\n",
    "#     gb2 = X_all.merge(gb, on=c, how='left')['var_sum']\n",
    "    \n",
    "# #     X[c+'_gb'] = gb2\n",
    "#     sns.distplot(gb2.iloc[:100000])\n",
    "#     sns.distplot(gb2.iloc[100000:400000])\n",
    "#     plt.show()"
   ]
  },
  {
   "cell_type": "code",
   "execution_count": 504,
   "metadata": {
    "scrolled": true
   },
   "outputs": [],
   "source": [
    "for i in range(200):\n",
    "    c = 'var_{}'.format(i)\n",
    "    X_all[c+'_idx'] = pd.Categorical(X_all[c]).codes\n",
    "    categories = pd.Series(X_all[c+'_idx']).value_counts()\n",
    "    X_all[c+'_idx_count'] = X_all[c+'_idx'].map(categories)"
   ]
  },
  {
   "cell_type": "code",
   "execution_count": 509,
   "metadata": {},
   "outputs": [],
   "source": [
    "X_all = X_all.iloc[:, :400]"
   ]
  },
  {
   "cell_type": "code",
   "execution_count": 510,
   "metadata": {},
   "outputs": [],
   "source": [
    "X = X_all.iloc[:200000,:]\n",
    "X_test = X_all.iloc[200000:400000,:]\n",
    "# X_test_fake = X_all.iloc[300000:,:]"
   ]
  },
  {
   "cell_type": "code",
   "execution_count": 16,
   "metadata": {},
   "outputs": [
    {
     "name": "stderr",
     "output_type": "stream",
     "text": [
      "  0%|          | 0/2000 [00:00<?, ?it/s]\n"
     ]
    },
    {
     "ename": "IndexError",
     "evalue": "index 110769 is out of bounds for axis 1 with size 100000",
     "output_type": "error",
     "traceback": [
      "\u001b[0;31m---------------------------------------------------------------------------\u001b[0m",
      "\u001b[0;31mIndexError\u001b[0m                                Traceback (most recent call last)",
      "\u001b[0;32m<ipython-input-16-ba34d5b0389e>\u001b[0m in \u001b[0;36m<module>\u001b[0;34m\u001b[0m\n\u001b[1;32m     26\u001b[0m \u001b[0;34m\u001b[0m\u001b[0m\n\u001b[1;32m     27\u001b[0m     \u001b[0;31m# get the real test samples that played a part in \"generating\" fake samples\u001b[0m\u001b[0;34m\u001b[0m\u001b[0;34m\u001b[0m\u001b[0m\n\u001b[0;32m---> 28\u001b[0;31m     \u001b[0mverified_generators_for_sample\u001b[0m \u001b[0;34m=\u001b[0m \u001b[0mreal_samples_indexes\u001b[0m\u001b[0;34m[\u001b[0m\u001b[0mnp\u001b[0m\u001b[0;34m.\u001b[0m\u001b[0margwhere\u001b[0m\u001b[0;34m(\u001b[0m\u001b[0mverified_generators_mask\u001b[0m\u001b[0;34m)\u001b[0m\u001b[0;34m[\u001b[0m\u001b[0;34m:\u001b[0m\u001b[0;34m,\u001b[0m \u001b[0;36m0\u001b[0m\u001b[0;34m]\u001b[0m\u001b[0;34m]\u001b[0m\u001b[0;34m\u001b[0m\u001b[0m\n\u001b[0m\u001b[1;32m     29\u001b[0m \u001b[0;34m\u001b[0m\u001b[0m\n\u001b[1;32m     30\u001b[0m     \u001b[0;31m# add it to the list as a set\u001b[0m\u001b[0;34m\u001b[0m\u001b[0;34m\u001b[0m\u001b[0m\n",
      "\u001b[0;31mIndexError\u001b[0m: index 110769 is out of bounds for axis 1 with size 100000"
     ]
    }
   ],
   "source": [
    "#100k examples have at least one unique\n",
    "\n",
    "df_test_real = df_test[real_samples_indexes].copy()\n",
    "\n",
    "generator_for_each_synthetic_sample = []\n",
    "# Using 20,000 samples should be enough. \n",
    "# You can use all of the 100,000 and get the same results (but 5 times slower)\n",
    "for cur_sample_index in tqdm(synthetic_samples_indexes[:2000]):\n",
    "    \n",
    "    # for each \"fake\" example...\n",
    "    cur_synthetic_sample = df_test[cur_sample_index]\n",
    "    \n",
    "    # get a mask of which values have a duplicate\n",
    "    potential_generators = df_train == cur_synthetic_sample\n",
    "\n",
    "\n",
    "    # A verified generator for a synthetic sample is achieved\n",
    "    # only if the value of a feature appears only once in the\n",
    "    # entire real samples set\n",
    "    \n",
    "    # find columns that have only one other duplicate value. santander used unique vals for duplicates\n",
    "    features_mask = np.sum(potential_generators, axis=0) == 1\n",
    "\n",
    "    # for the possible vars, mask TRUE if any values are TRUE\n",
    "    verified_generators_mask = np.any(potential_generators[:, features_mask], axis=1)\n",
    "\n",
    "    # get the real test samples that played a part in \"generating\" fake samples\n",
    "    verified_generators_for_sample = real_samples_indexes[np.argwhere(verified_generators_mask)[:, 0]]\n",
    "\n",
    "    # add it to the list as a set\n",
    "    generator_for_each_synthetic_sample.append(set(verified_generators_for_sample))\n"
   ]
  },
  {
   "cell_type": "code",
   "execution_count": 70,
   "metadata": {},
   "outputs": [
    {
     "name": "stderr",
     "output_type": "stream",
     "text": [
      "100%|██████████| 20000/20000 [00:08<00:00, 2443.65it/s]\n",
      "100%|██████████| 20000/20000 [00:08<00:00, 2412.66it/s]"
     ]
    },
    {
     "name": "stdout",
     "output_type": "stream",
     "text": [
      "50000\n",
      "50000\n"
     ]
    },
    {
     "name": "stderr",
     "output_type": "stream",
     "text": [
      "\n"
     ]
    }
   ],
   "source": [
    "\n",
    "# all samples in public LB are \"linked\" to first sample\n",
    "public_LB = generator_for_each_synthetic_sample[0]\n",
    "for x in tqdm(generator_for_each_synthetic_sample):\n",
    "    if public_LB.intersection(x):\n",
    "        public_LB = public_LB.union(x)\n",
    "\n",
    "# all samples in public LB are \"linked\" to fsecond sample\n",
    "private_LB = generator_for_each_synthetic_sample[1]\n",
    "for x in tqdm(generator_for_each_synthetic_sample):\n",
    "    if private_LB.intersection(x):\n",
    "        private_LB = private_LB.union(x)\n",
    "        \n",
    "print(len(public_LB))\n",
    "print(len(private_LB))"
   ]
  },
  {
   "cell_type": "code",
   "execution_count": 80,
   "metadata": {},
   "outputs": [],
   "source": [
    "np.save('public_LB.npy', public_LB)"
   ]
  },
  {
   "cell_type": "code",
   "execution_count": 12,
   "metadata": {},
   "outputs": [],
   "source": [
    "plb = test.iloc[public_LB]"
   ]
  },
  {
   "cell_type": "code",
   "execution_count": 82,
   "metadata": {},
   "outputs": [],
   "source": [
    "lb = test.iloc[list(private_LB)]"
   ]
  },
  {
   "cell_type": "code",
   "execution_count": 500,
   "metadata": {},
   "outputs": [],
   "source": [
    "for i in range(200):\n",
    "    c = 'var_{}'.format(i)\n",
    "    hist, bin_edges = np.histogram(X_all[c], bins=800, density=False, range=(-4.0, 4.0))\n",
    "\n",
    "    X_all[c+'_freq'] = hist[np.minimum(np.searchsorted(bin_edges, X_all[c])-1, 799)]\n",
    "#     X_test[c+'_freq'] = hist[np.minimum(np.searchsorted(bin_edges, X_test[c])-1, 799)]"
   ]
  },
  {
   "cell_type": "code",
   "execution_count": 140,
   "metadata": {},
   "outputs": [],
   "source": [
    "X = X_all.iloc[:200000]\n",
    "X_test = X_all.iloc[200000:]"
   ]
  },
  {
   "cell_type": "code",
   "execution_count": 160,
   "metadata": {},
   "outputs": [],
   "source": [
    "def getp_vec_sum(x,x_sort,y,std,c=0.5):\n",
    "    # x is sorted\n",
    "    \n",
    "    left = x - std/c\n",
    "    right = x + std/c\n",
    "    p_left = np.searchsorted(x_sort,left)\n",
    "    p_right = np.searchsorted(x_sort,right)\n",
    "\n",
    "    p_right[p_right>=y.shape[0]] = y.shape[0]-1\n",
    "\n",
    "    p_left[p_left>=y.shape[0]] = y.shape[0]-1\n",
    "    \n",
    "    \n",
    "    return (y[p_right]-y[p_left])\n",
    "\n",
    "def get_pdf(tr,col,x_query=None,smooth=3):\n",
    "    std = tr[col].std()\n",
    "    \n",
    "    \n",
    "    # get sum and count of \n",
    "    df = tr.groupby(col).agg({'target':['sum','count']})\n",
    "    cols = ['sum_y','count_y']\n",
    "    df.columns = cols\n",
    "    df = df.reset_index()\n",
    "    df = df.sort_values(col)\n",
    "    y,c = cols\n",
    "    \n",
    "    df[y] = df[y].cumsum()\n",
    "    df[c] = df[c].cumsum()\n",
    "    \n",
    "    if x_query is None:\n",
    "        rmin,rmax,res = -5.0, 5.0, 501\n",
    "        x_query = np.linspace(rmin,rmax,res)\n",
    "    \n",
    "    dg = pd.DataFrame()\n",
    "    tm = getp_vec_sum(x_query,df[col].values,df[y].values,std,c=smooth)\n",
    "    cm = getp_vec_sum(x_query,df[col].values,df[c].values,std,c=smooth)+1\n",
    "    dg['res'] = tm/cm\n",
    "    dg.loc[cm<500,'res'] = np.nan\n",
    "\n",
    "    return dg['res'].values\n",
    "\n",
    "def get_pdfs(tr, lab, x_query=None):\n",
    "    y = []\n",
    "    tr['target'] = lab\n",
    "    for i in range(200):\n",
    "        name = 'var_%d'%i\n",
    "        res = get_pdf(tr,name, x_query=x_query)\n",
    "        y.append(res)\n",
    "    df = pd.DataFrame(np.vstack(y))\n",
    "    return df.fillna(method='bfill', axis=1).fillna(method='ffill', axis=1).as_matrix()"
   ]
  },
  {
   "cell_type": "code",
   "execution_count": 161,
   "metadata": {},
   "outputs": [],
   "source": [
    "def shuffle_col_vals(x1):\n",
    "    rand_x = np.array([np.random.choice(x1.shape[0], size=x1.shape[0], replace=False) for i in range(x1.shape[1])]).T\n",
    "    grid = np.indices(x1.shape)\n",
    "    rand_y = grid[1]\n",
    "    return x1[(rand_x, rand_y)]\n",
    "\n",
    "def augment(x,y,t=2):\n",
    "    xs,xn = [],[]\n",
    "    for i in range(t):\n",
    "        mask = y>0\n",
    "        x1 = x[mask].copy()\n",
    "        x1 = shuffle_col_vals(x1)\n",
    "        xs.append(x1)\n",
    "\n",
    "    for i in range(t//2):\n",
    "        mask = y==0\n",
    "        x1 = x[mask].copy()\n",
    "        x1 = shuffle_col_vals(x1)\n",
    "        xn.append(x1)\n",
    "\n",
    "    xs = np.vstack(xs)\n",
    "    xn = np.vstack(xn)\n",
    "    ys = np.ones(xs.shape[0])\n",
    "    yn = np.zeros(xn.shape[0])\n",
    "    x = np.vstack([x,xs,xn])\n",
    "    y = np.concatenate([y,ys,yn])\n",
    "    return x,y"
   ]
  },
  {
   "cell_type": "code",
   "execution_count": 344,
   "metadata": {},
   "outputs": [],
   "source": [
    "rmin,rmax,res = -5.0, 5.0, 501\n",
    "x_query = np.linspace(rmin,rmax,res)\n",
    "\n",
    "def compute_features_for_folds(X, y, X_test):\n",
    "    num_folds = len(idx_trns)\n",
    "    feature_folds = {'train':[], 'val':[], 'test':[]}\n",
    "    for fold_n, (idx_trn, idx_val) in enumerate(zip(idx_trns, idx_vals)):\n",
    "        print('\\n Computing features for fold {}'.format(fold_n+1))\n",
    "        \n",
    "        X_trn = X.iloc[idx_trn]\n",
    "        X_val = X.iloc[idx_val]\n",
    "        y_trn = y.iloc[idx_trn]\n",
    "        y_val = y.iloc[idx_val]\n",
    "        \n",
    "#         pdfs = get_pdfs(X_trn, y, x_query)\n",
    "#         X_trn = X_trn.drop('target', axis=1)\n",
    "        \n",
    "        X_trn_f = pd.DataFrame()\n",
    "        X_val_f = pd.DataFrame()\n",
    "        X_test_f = pd.DataFrame()\n",
    "        \n",
    "        \n",
    "        for i in range(200):\n",
    "            c = 'var_{}'.format(i)\n",
    "            gb = X.groupby(c).aggregate({c:'sum'})\n",
    "            gb.columns = ['var_sum']\n",
    "            gb = gb.reset_index()\n",
    "            gb2 = X.merge(gb, on=c, how='left')['var_sum']\n",
    "            X[c+'_gb'] = gb2\n",
    "        \n",
    "#         for i in range(200):\n",
    "#             X_trn_f['var_{}_pdf'.format(i)] = pdfs[i][np.searchsorted(x_query, X_trn['var_{}'.format(i)])]\n",
    "#             X_val_f['var_{}_pdf'.format(i)] = pdfs[i][np.searchsorted(x_query, X_val['var_{}'.format(i)])]\n",
    "#             X_test_f['var_{}_pdf'.format(i)] = pdfs[i][np.searchsorted(x_query, X_test['var_{}'.format(i)])]\n",
    "            \n",
    "#         X_trn_f['pdf_sum'] = X_trn_f.sum(axis=1)\n",
    "#         X_val_f['pdf_sum'] = X_val_f.sum(axis=1)\n",
    "#         X_test_f['pdf_sum'] = X_test_f.sum(axis=1)\n",
    "        \n",
    "#         X_trn_f['pdf_x'] = X_trn_f.iloc[:, :200].apply(np.log).sum(axis=1)\n",
    "#         X_val_f['pdf_x'] = X_val_f.iloc[:, :200].apply(np.log).sum(axis=1)\n",
    "#         X_test_f['pdf_x'] = X_test_f.iloc[:, :200].apply(np.log).sum(axis=1)\n",
    "  \n",
    "#         X_trn_f['freq_sum'] = np.zeros(X_trn.shape[0])\n",
    "#         X_val_f['freq_sum'] = np.zeros(X_val.shape[0])\n",
    "#         X_test_f['freq_sum'] = np.zeros(X_test.shape[0])\n",
    "\n",
    "        \n",
    "#         X_trn_f['dev_sum'] = np.zeros(X_trn.shape[0])\n",
    "#         X_val_f['dev_sum'] = np.zeros(X_val.shape[0])\n",
    "#         X_test_f['dev_sum'] = np.zeros(X_test.shape[0])\n",
    "\n",
    "        for i in range(200):\n",
    "            c = 'var_{}'.format(i)\n",
    "            hist, bin_edges = np.histogram(X_trn[c], bins=800, density=False, range=(-4.0, 4.0))\n",
    "\n",
    "#             hist2 = hist / hist[::-1]\n",
    "\n",
    "            X_trn_f[c+'_freq'] = hist[np.minimum(np.searchsorted(bin_edges, X_trn[c])-1, 799)]\n",
    "            X_val_f[c+'_freq'] = hist[np.minimum(np.searchsorted(bin_edges, X_val[c])-1, 799)]\n",
    "            X_test_f[c+'_freq'] = hist[np.minimum(np.searchsorted(bin_edges, X_test[c])-1, 799)]\n",
    "            \n",
    "#             hist, bin_edges = np.histogram(X_trn_f[c+'_freq'], bins=100, density=False)\n",
    "#             X_trn_f[c+'_freq2'] = hist[np.searchsorted(bin_edges, X_trn[c])-1]\n",
    "#             X_val_f[c+'_freq2'] = hist[np.minimum(np.searchsorted(bin_edges, X_val[c])-1, 799)]\n",
    "#             X_test_f[c+'_freq2'] = hist[np.minimum(np.searchsorted(bin_edges, X_test[c])-1, 799)]\n",
    "            \n",
    "            \n",
    "#             X_trn_f[c+'_freq2'] = hist2[np.minimum(np.searchsorted(bin_edges, X_trn[c])-1,1999)]\n",
    "#             X_val_f[c+'_freq2'] = hist2[np.minimum(np.searchsorted(bin_edges, X_val[c])-1, 1999)]\n",
    "#             X_test_f[c+'_freq2'] = hist2[np.minimum(np.searchsorted(bin_edges, X_test[c])-1, 1999)]\n",
    "            \n",
    "#             X_trn_f['freq_sum'] += X_trn_f[c+'_freq']\n",
    "#             X_val_f['freq_sum'] += X_val_f[c+'_freq']\n",
    "#             X_test_f['freq_sum'] += X_test_f[c+'_freq']\n",
    "            \n",
    "#             sf = savgol_filter(hist, 31, 4, mode='interp')\n",
    "#             sf2 = savgol_filter(hist, 5, 2, mode='interp')\n",
    "#             dev = sf2-sf\n",
    "#             X_trn_f[c+'_dev'] = dev[np.searchsorted(bin_edges, X_trn[c])-1]\n",
    "#             X_val_f[c+'_dev'] = dev[np.minimum(np.searchsorted(bin_edges, X_val[c])-1, 99)]\n",
    "#             X_test_f[c+'_dev'] = dev[np.minimum(np.searchsorted(bin_edges, X_test[c])-1, 99)]\n",
    "            \n",
    "#             X_trn_f['dev_sum'] += X_trn_f[c+'_dev']\n",
    "#             X_val_f['dev_sum'] += X_val_f[c+'_dev']\n",
    "#             X_test_f['dev_sum'] += X_test_f[c+'_dev']\n",
    "        \n",
    "#         for col in X_trn_f.columns:\n",
    "#             X_trn_f[col] = (X_trn_f[col] - X_trn_f[col].mean()) / X_trn_f[col].std()\n",
    "#             X_val_f[col] = (X_val_f[col] - X_val_f[col].mean()) / X_val_f[col].std()\n",
    "#             X_test_f[col] = (X_test_f[col] - X_test_f[col].mean()) / X_test_f[col].std()\n",
    "        \n",
    "        feature_folds['train'].append(X_trn_f)\n",
    "        feature_folds['val'].append(X_val_f)\n",
    "        feature_folds['test'].append(X_test_f)\n",
    "        \n",
    "    return feature_folds\n",
    "            \n",
    "            "
   ]
  },
  {
   "cell_type": "code",
   "execution_count": 141,
   "metadata": {},
   "outputs": [
    {
     "ename": "NameError",
     "evalue": "name 'compute_features_for_folds' is not defined",
     "output_type": "error",
     "traceback": [
      "\u001b[0;31m---------------------------------------------------------------------------\u001b[0m",
      "\u001b[0;31mNameError\u001b[0m                                 Traceback (most recent call last)",
      "\u001b[0;32m<ipython-input-141-4902c035115c>\u001b[0m in \u001b[0;36m<module>\u001b[0;34m\u001b[0m\n\u001b[0;32m----> 1\u001b[0;31m \u001b[0mff\u001b[0m \u001b[0;34m=\u001b[0m \u001b[0mcompute_features_for_folds\u001b[0m\u001b[0;34m(\u001b[0m\u001b[0mX\u001b[0m\u001b[0;34m,\u001b[0m \u001b[0my\u001b[0m\u001b[0;34m,\u001b[0m \u001b[0mX_test\u001b[0m\u001b[0;34m)\u001b[0m\u001b[0;34m\u001b[0m\u001b[0m\n\u001b[0m",
      "\u001b[0;31mNameError\u001b[0m: name 'compute_features_for_folds' is not defined"
     ]
    }
   ],
   "source": [
    "ff = compute_features_for_folds(X, y, X_test)"
   ]
  },
  {
   "cell_type": "code",
   "execution_count": 443,
   "metadata": {},
   "outputs": [],
   "source": [
    "def auc(y_true, y_pred):\n",
    "    auc = tf.metrics.auc(y_true, y_pred)[1]\n",
    "    K.get_session().run(tf.local_variables_initializer())\n",
    "    return auc\n",
    "\n",
    "\n",
    "def focal_loss(y_true, y_pred):\n",
    "    gamma = 2.0\n",
    "    alpha=.25\n",
    "    epsilon = K.epsilon()\n",
    "    pt_1 = y_pred * y_true\n",
    "    pt_1 = K.clip(pt_1, epsilon, 1-epsilon)\n",
    "    CE_1 = -K.log(pt_1)\n",
    "    FL_1 = alpha* K.pow(1-pt_1, gamma) * CE_1\n",
    "    \n",
    "    pt_0 = (1-y_pred) * (1-y_true)\n",
    "    pt_0 = K.clip(pt_0, epsilon, 1-epsilon)\n",
    "    CE_0 = -K.log(pt_0)\n",
    "    FL_0 = (1-alpha)* K.pow(1-pt_0, gamma) * CE_0\n",
    "    \n",
    "    loss = K.sum(FL_1, axis=1) + K.sum(FL_0, axis=1)\n",
    "    return loss\n",
    "\n",
    "def dense_block(x, dense_dim, dropout, activation):\n",
    "    x = Dense(dense_dim)(x)\n",
    "#     x = BatchNormalization()(x)\n",
    "    x = Activation(activation)(x)\n",
    "    x = Dropout(dropout)(x)\n",
    "    return x\n",
    "\n",
    "\n",
    "def create_nn(n_input, n_hidden, dropout=0.0, activation='relu'):\n",
    "    inp = Input((n_input,))\n",
    "    x = inp\n",
    "    x = Lambda(lambda x: K.expand_dims(x, axis=-1))(x)\n",
    "    x = dense_block(x, n_hidden, dropout, activation)\n",
    "    x = Flatten()(x)\n",
    "#     x = dense_block(x, 8, dropout, activation)\n",
    "    out = dense_block(x, 1, dropout, 'sigmoid')\n",
    "    model = Model(inputs=inp, outputs=out)\n",
    "    model.compile(optimizer=Adam(lr=0.001), loss='binary_crossentropy', metrics=[auc])\n",
    "    return model"
   ]
  },
  {
   "cell_type": "code",
   "execution_count": 458,
   "metadata": {},
   "outputs": [],
   "source": [
    "def train_and_test_model(X, y, X_test, params, fold_features=None, model_type='lgb',\n",
    "                         n_hidden=16, dropout=1.0, activation='relu'):\n",
    "    result_dict = {\n",
    "        'val_preds': np.zeros(len(X)),\n",
    "        'test_preds': None,\n",
    "        'val_folds': [],\n",
    "        'test_folds': []\n",
    "    }\n",
    "    \n",
    "    if X_test is not None:\n",
    "        result_dict['test_preds'] = np.zeros(len(X_test))\n",
    "        X_test_r = X_test.copy()\n",
    "    \n",
    "    num_folds = len(idx_trns)\n",
    "    \n",
    "    for fold_n, (idx_trn, idx_val) in enumerate(zip(idx_trns, idx_vals)):\n",
    "        print('\\n Fold {}'.format(fold_n+1))\n",
    "        \n",
    "        X_trn = X.iloc[idx_trn]\n",
    "        X_val = X.iloc[idx_val]\n",
    "        y_trn = y.iloc[idx_trn]\n",
    "        y_val = y.iloc[idx_val]\n",
    "\n",
    "        if fold_features is not None:\n",
    "            X_trn = pd.concat([X_trn.reset_index(drop=True), fold_features['train'][fold_n]], axis=1)\n",
    "            X_val = pd.concat([X_val.reset_index(drop=True), fold_features['val'][fold_n]], axis=1)\n",
    "            if X_test is not None:\n",
    "                X_test = pd.concat([X_test_r.reset_index(drop=True), fold_features['test'][fold_n]], axis=1)\n",
    "        \n",
    "#         print('Augmenting fold...')\n",
    "#         X_trn, y_trn = augment(X_trn.values, y_trn.values, t=4)\n",
    "#         X_trn = pd.DataFrame(X_trn)\n",
    "#         X_trn = X_trn.add_prefix('var_')\n",
    "# \n",
    "        if model_type == 'lgb':\n",
    "            dat_trn = lgb.Dataset(X_trn, label=y_trn)\n",
    "            dat_val = lgb.Dataset(X_val, label=y_val)\n",
    "\n",
    "            start_time = time.time()\n",
    "            model = lgb.train(params, dat_trn, valid_sets=[dat_trn, dat_val], verbose_eval=1000)\n",
    "\n",
    "            print('Training took {0:.2f} minutes.'.format((time.time()-start_time)/60))\n",
    "\n",
    "            y_hat_val = model.predict(X_val, num_iteration=model.best_iteration)\n",
    "            result_dict['val_preds'][idx_val] = y_hat_val\n",
    "            result_dict['val_folds'].append(y_hat_val)\n",
    "\n",
    "            feature_df = pd.DataFrame({'feature': X_trn.columns, 'importance': model.feature_importance()})\n",
    "            sorted_feat = feature_df.sort_values(by='importance', ascending=False)\n",
    "            plt.figure(figsize=(10, 10))\n",
    "            sns.barplot(x='importance', y='feature', data=sorted_feat[:50])\n",
    "    #             print('Most useless features: ')\n",
    "    #             print(sorted_feat[-20:])\n",
    "            plt.title('LGB Features for fold')\n",
    "            plt.show()\n",
    "\n",
    "            if X_test is not None:\n",
    "                y_hat = model.predict(X_test, num_iteration=model.best_iteration) / num_folds\n",
    "                result_dict['test_preds'] += y_hat\n",
    "                result_dict['test_folds'].append(y_hat)\n",
    "                \n",
    "        elif model_type == 'xgb':\n",
    "            \n",
    "            dat_trn = xgb.DMatrix(data=X_trn, label=y_trn, feature_names=X_trn.columns)\n",
    "            dat_val = xgb.DMatrix(data=X_val, label=y_val, feature_names=X_val.columns)\n",
    "            watchlist = [(dat_trn, 'train'), (dat_val, 'valid')]\n",
    "            model = xgb.train(dtrain=dat_trn, num_boost_round=20000, evals=watchlist,\n",
    "                             early_stopping_rounds=200, verbose_eval=500, params=params)\n",
    "\n",
    "            y_hat_val = model.predict(xgb.DMatrix(X_val, feature_names=X_val.columns), ntree_limit=model.best_ntree_limit)\n",
    "            result_dict['val_preds'][idx_val] = y_hat_val\n",
    "            result_dict['val_folds'].append(y_hat_val)\n",
    "            \n",
    "            if X_test is not None:\n",
    "                y_hat = model.predict(xgb.DMatrix(X_test, feature_names=X_test.columns), ntree_limit=model.best_ntree_limit)\n",
    "                result_dict['test_folds'].append(y_hat)\n",
    "                result_dict['test_preds'] += y_hat\n",
    "\n",
    "            \n",
    "        elif model_type == 'nn':\n",
    "            batch_size=128\n",
    "            reduceLR = ReduceLROnPlateau(monitor='val_loss', factor=0.5, patience=4, \n",
    "                                   verbose=1, mode='min', epsilon=0.0001)\n",
    "\n",
    "            early = EarlyStopping(monitor=\"val_loss\", \n",
    "                              mode=\"min\", \n",
    "                              patience=9)\n",
    "\n",
    "            callbacks_list = [early]\n",
    "\n",
    "\n",
    "            nn = create_nn(X_trn.shape[1], n_hidden, dropout=dropout, activation=activation)\n",
    "            nn.summary()\n",
    "            nn.fit(X_trn, y_trn, batch_size=batch_size, epochs=60, verbose=2, validation_data=(X_val, y_val), callbacks=callbacks_list)\n",
    "            result_dict['val_preds'][idx_val] = nn.predict(X_val, batch_size=batch_size)[:,0]\n",
    "            \n",
    "            \n",
    "            if X_test is not None:\n",
    "                result_dict['test_preds'] += nn.predict(X_test, batch_size=batch_size)[:,0] / 5\n",
    "            \n",
    "    return result_dict\n",
    "        "
   ]
  },
  {
   "cell_type": "code",
   "execution_count": 511,
   "metadata": {},
   "outputs": [],
   "source": [
    "lgb_params = {\n",
    "    'bagging_freq': 5,\n",
    "    'bagging_fraction': 0.2,\n",
    "    'boost_from_average':'false',\n",
    "    'boost': 'gbdt',\n",
    "    'feature_fraction': 0.02,\n",
    "    'learning_rate': 0.01,\n",
    "    'max_depth': 2,  \n",
    "    'max_bin': 63,\n",
    "    'metric':'auc',\n",
    "#     'min_data_in_leaf': 80,\n",
    "#     'min_sum_hessian_in_leaf': 10.0,\n",
    "    'num_leaves': 3,\n",
    "    'num_threads': -1,\n",
    "    'tree_learner': 'serial',\n",
    "    'objective': 'binary', \n",
    "    'verbosity': 1,\n",
    "    'num_boost_round': 20000,\n",
    "    'early_stopping_rounds': 500\n",
    "}\n",
    "\n",
    "xgb_params = {\n",
    "    'eval_metric': 'auc',\n",
    "    'booster': 'gbtree',\n",
    "    'seed': 1,\n",
    "    'max_depth': 2,\n",
    "    'min_child_weight': 1,\n",
    "    'eta':0.02,\n",
    "    'subsample': 0.2,\n",
    "    'colsample_bytree': 0.05, \n",
    "    'colsample_bylevel': 0.2,\n",
    "    'max_bin': 127,\n",
    "    'tree_method': 'auto',\n",
    "    'silent': 1,\n",
    "}"
   ]
  },
  {
   "cell_type": "code",
   "execution_count": 460,
   "metadata": {
    "collapsed": true
   },
   "outputs": [
    {
     "name": "stdout",
     "output_type": "stream",
     "text": [
      "\n",
      " Fold 1\n",
      "_________________________________________________________________\n",
      "Layer (type)                 Output Shape              Param #   \n",
      "=================================================================\n",
      "input_22 (InputLayer)        (None, 400)               0         \n",
      "_________________________________________________________________\n",
      "lambda_22 (Lambda)           (None, 400, 1)            0         \n",
      "_________________________________________________________________\n",
      "dense_53 (Dense)             (None, 400, 16)           32        \n",
      "_________________________________________________________________\n",
      "activation_53 (Activation)   (None, 400, 16)           0         \n",
      "_________________________________________________________________\n",
      "dropout_53 (Dropout)         (None, 400, 16)           0         \n",
      "_________________________________________________________________\n",
      "flatten_22 (Flatten)         (None, 6400)              0         \n",
      "_________________________________________________________________\n",
      "dense_54 (Dense)             (None, 1)                 6401      \n",
      "_________________________________________________________________\n",
      "activation_54 (Activation)   (None, 1)                 0         \n",
      "_________________________________________________________________\n",
      "dropout_54 (Dropout)         (None, 1)                 0         \n",
      "=================================================================\n",
      "Total params: 6,433\n",
      "Trainable params: 6,433\n",
      "Non-trainable params: 0\n",
      "_________________________________________________________________\n",
      "Train on 159999 samples, validate on 40001 samples\n",
      "Epoch 1/60\n"
     ]
    },
    {
     "ename": "KeyboardInterrupt",
     "evalue": "",
     "output_type": "error",
     "traceback": [
      "\u001b[0;31m---------------------------------------------------------------------------\u001b[0m",
      "\u001b[0;31mKeyboardInterrupt\u001b[0m                         Traceback (most recent call last)",
      "\u001b[0;32m<ipython-input-460-bd147b43cf60>\u001b[0m in \u001b[0;36m<module>\u001b[0;34m\u001b[0m\n\u001b[0;32m----> 1\u001b[0;31m \u001b[0mnn_res\u001b[0m \u001b[0;34m=\u001b[0m \u001b[0mtrain_and_test_model\u001b[0m\u001b[0;34m(\u001b[0m\u001b[0mX\u001b[0m\u001b[0;34m,\u001b[0m \u001b[0my\u001b[0m\u001b[0;34m,\u001b[0m \u001b[0mX_test\u001b[0m\u001b[0;34m,\u001b[0m \u001b[0mlgb_params\u001b[0m\u001b[0;34m,\u001b[0m \u001b[0;32mNone\u001b[0m\u001b[0;34m,\u001b[0m \u001b[0mmodel_type\u001b[0m\u001b[0;34m=\u001b[0m\u001b[0;34m'nn'\u001b[0m\u001b[0;34m)\u001b[0m\u001b[0;34m\u001b[0m\u001b[0m\n\u001b[0m",
      "\u001b[0;32m<ipython-input-458-84c95f951eec>\u001b[0m in \u001b[0;36mtrain_and_test_model\u001b[0;34m(X, y, X_test, params, fold_features, model_type, n_hidden, dropout, activation)\u001b[0m\n\u001b[1;32m     92\u001b[0m             \u001b[0mnn\u001b[0m \u001b[0;34m=\u001b[0m \u001b[0mcreate_nn\u001b[0m\u001b[0;34m(\u001b[0m\u001b[0mX_trn\u001b[0m\u001b[0;34m.\u001b[0m\u001b[0mshape\u001b[0m\u001b[0;34m[\u001b[0m\u001b[0;36m1\u001b[0m\u001b[0;34m]\u001b[0m\u001b[0;34m,\u001b[0m \u001b[0mn_hidden\u001b[0m\u001b[0;34m,\u001b[0m \u001b[0mdropout\u001b[0m\u001b[0;34m=\u001b[0m\u001b[0mdropout\u001b[0m\u001b[0;34m,\u001b[0m \u001b[0mactivation\u001b[0m\u001b[0;34m=\u001b[0m\u001b[0mactivation\u001b[0m\u001b[0;34m)\u001b[0m\u001b[0;34m\u001b[0m\u001b[0m\n\u001b[1;32m     93\u001b[0m             \u001b[0mnn\u001b[0m\u001b[0;34m.\u001b[0m\u001b[0msummary\u001b[0m\u001b[0;34m(\u001b[0m\u001b[0;34m)\u001b[0m\u001b[0;34m\u001b[0m\u001b[0m\n\u001b[0;32m---> 94\u001b[0;31m             \u001b[0mnn\u001b[0m\u001b[0;34m.\u001b[0m\u001b[0mfit\u001b[0m\u001b[0;34m(\u001b[0m\u001b[0mX_trn\u001b[0m\u001b[0;34m,\u001b[0m \u001b[0my_trn\u001b[0m\u001b[0;34m,\u001b[0m \u001b[0mbatch_size\u001b[0m\u001b[0;34m=\u001b[0m\u001b[0mbatch_size\u001b[0m\u001b[0;34m,\u001b[0m \u001b[0mepochs\u001b[0m\u001b[0;34m=\u001b[0m\u001b[0;36m60\u001b[0m\u001b[0;34m,\u001b[0m \u001b[0mverbose\u001b[0m\u001b[0;34m=\u001b[0m\u001b[0;36m2\u001b[0m\u001b[0;34m,\u001b[0m \u001b[0mvalidation_data\u001b[0m\u001b[0;34m=\u001b[0m\u001b[0;34m(\u001b[0m\u001b[0mX_val\u001b[0m\u001b[0;34m,\u001b[0m \u001b[0my_val\u001b[0m\u001b[0;34m)\u001b[0m\u001b[0;34m,\u001b[0m \u001b[0mcallbacks\u001b[0m\u001b[0;34m=\u001b[0m\u001b[0mcallbacks_list\u001b[0m\u001b[0;34m)\u001b[0m\u001b[0;34m\u001b[0m\u001b[0m\n\u001b[0m\u001b[1;32m     95\u001b[0m             \u001b[0mresult_dict\u001b[0m\u001b[0;34m[\u001b[0m\u001b[0;34m'val_preds'\u001b[0m\u001b[0;34m]\u001b[0m\u001b[0;34m[\u001b[0m\u001b[0midx_val\u001b[0m\u001b[0;34m]\u001b[0m \u001b[0;34m=\u001b[0m \u001b[0mnn\u001b[0m\u001b[0;34m.\u001b[0m\u001b[0mpredict\u001b[0m\u001b[0;34m(\u001b[0m\u001b[0mX_val\u001b[0m\u001b[0;34m,\u001b[0m \u001b[0mbatch_size\u001b[0m\u001b[0;34m=\u001b[0m\u001b[0mbatch_size\u001b[0m\u001b[0;34m)\u001b[0m\u001b[0;34m[\u001b[0m\u001b[0;34m:\u001b[0m\u001b[0;34m,\u001b[0m\u001b[0;36m0\u001b[0m\u001b[0;34m]\u001b[0m\u001b[0;34m\u001b[0m\u001b[0m\n\u001b[1;32m     96\u001b[0m \u001b[0;34m\u001b[0m\u001b[0m\n",
      "\u001b[0;32m~/.virtualenvs/python3/lib/python3.5/site-packages/keras/engine/training.py\u001b[0m in \u001b[0;36mfit\u001b[0;34m(self, x, y, batch_size, epochs, verbose, callbacks, validation_split, validation_data, shuffle, class_weight, sample_weight, initial_epoch, steps_per_epoch, validation_steps, **kwargs)\u001b[0m\n\u001b[1;32m   1037\u001b[0m                                         \u001b[0minitial_epoch\u001b[0m\u001b[0;34m=\u001b[0m\u001b[0minitial_epoch\u001b[0m\u001b[0;34m,\u001b[0m\u001b[0;34m\u001b[0m\u001b[0m\n\u001b[1;32m   1038\u001b[0m                                         \u001b[0msteps_per_epoch\u001b[0m\u001b[0;34m=\u001b[0m\u001b[0msteps_per_epoch\u001b[0m\u001b[0;34m,\u001b[0m\u001b[0;34m\u001b[0m\u001b[0m\n\u001b[0;32m-> 1039\u001b[0;31m                                         validation_steps=validation_steps)\n\u001b[0m\u001b[1;32m   1040\u001b[0m \u001b[0;34m\u001b[0m\u001b[0m\n\u001b[1;32m   1041\u001b[0m     def evaluate(self, x=None, y=None,\n",
      "\u001b[0;32m~/.virtualenvs/python3/lib/python3.5/site-packages/keras/engine/training_arrays.py\u001b[0m in \u001b[0;36mfit_loop\u001b[0;34m(model, f, ins, out_labels, batch_size, epochs, verbose, callbacks, val_f, val_ins, shuffle, callback_metrics, initial_epoch, steps_per_epoch, validation_steps)\u001b[0m\n\u001b[1;32m    197\u001b[0m                     \u001b[0mins_batch\u001b[0m\u001b[0;34m[\u001b[0m\u001b[0mi\u001b[0m\u001b[0;34m]\u001b[0m \u001b[0;34m=\u001b[0m \u001b[0mins_batch\u001b[0m\u001b[0;34m[\u001b[0m\u001b[0mi\u001b[0m\u001b[0;34m]\u001b[0m\u001b[0;34m.\u001b[0m\u001b[0mtoarray\u001b[0m\u001b[0;34m(\u001b[0m\u001b[0;34m)\u001b[0m\u001b[0;34m\u001b[0m\u001b[0m\n\u001b[1;32m    198\u001b[0m \u001b[0;34m\u001b[0m\u001b[0m\n\u001b[0;32m--> 199\u001b[0;31m                 \u001b[0mouts\u001b[0m \u001b[0;34m=\u001b[0m \u001b[0mf\u001b[0m\u001b[0;34m(\u001b[0m\u001b[0mins_batch\u001b[0m\u001b[0;34m)\u001b[0m\u001b[0;34m\u001b[0m\u001b[0m\n\u001b[0m\u001b[1;32m    200\u001b[0m                 \u001b[0mouts\u001b[0m \u001b[0;34m=\u001b[0m \u001b[0mto_list\u001b[0m\u001b[0;34m(\u001b[0m\u001b[0mouts\u001b[0m\u001b[0;34m)\u001b[0m\u001b[0;34m\u001b[0m\u001b[0m\n\u001b[1;32m    201\u001b[0m                 \u001b[0;32mfor\u001b[0m \u001b[0ml\u001b[0m\u001b[0;34m,\u001b[0m \u001b[0mo\u001b[0m \u001b[0;32min\u001b[0m \u001b[0mzip\u001b[0m\u001b[0;34m(\u001b[0m\u001b[0mout_labels\u001b[0m\u001b[0;34m,\u001b[0m \u001b[0mouts\u001b[0m\u001b[0;34m)\u001b[0m\u001b[0;34m:\u001b[0m\u001b[0;34m\u001b[0m\u001b[0m\n",
      "\u001b[0;32m~/.virtualenvs/python3/lib/python3.5/site-packages/keras/backend/tensorflow_backend.py\u001b[0m in \u001b[0;36m__call__\u001b[0;34m(self, inputs)\u001b[0m\n\u001b[1;32m   2695\u001b[0m \u001b[0;34m\u001b[0m\u001b[0m\n\u001b[1;32m   2696\u001b[0m     \u001b[0;32mdef\u001b[0m \u001b[0m__call__\u001b[0m\u001b[0;34m(\u001b[0m\u001b[0mself\u001b[0m\u001b[0;34m,\u001b[0m \u001b[0minputs\u001b[0m\u001b[0;34m)\u001b[0m\u001b[0;34m:\u001b[0m\u001b[0;34m\u001b[0m\u001b[0m\n\u001b[0;32m-> 2697\u001b[0;31m         \u001b[0;32mif\u001b[0m \u001b[0mhasattr\u001b[0m\u001b[0;34m(\u001b[0m\u001b[0mget_session\u001b[0m\u001b[0;34m(\u001b[0m\u001b[0;34m)\u001b[0m\u001b[0;34m,\u001b[0m \u001b[0;34m'_make_callable_from_options'\u001b[0m\u001b[0;34m)\u001b[0m\u001b[0;34m:\u001b[0m\u001b[0;34m\u001b[0m\u001b[0m\n\u001b[0m\u001b[1;32m   2698\u001b[0m             \u001b[0;32mif\u001b[0m \u001b[0mpy_any\u001b[0m\u001b[0;34m(\u001b[0m\u001b[0mis_sparse\u001b[0m\u001b[0;34m(\u001b[0m\u001b[0mx\u001b[0m\u001b[0;34m)\u001b[0m \u001b[0;32mfor\u001b[0m \u001b[0mx\u001b[0m \u001b[0;32min\u001b[0m \u001b[0mself\u001b[0m\u001b[0;34m.\u001b[0m\u001b[0minputs\u001b[0m\u001b[0;34m)\u001b[0m\u001b[0;34m:\u001b[0m\u001b[0;34m\u001b[0m\u001b[0m\n\u001b[1;32m   2699\u001b[0m                 \u001b[0;32mif\u001b[0m \u001b[0mpy_any\u001b[0m\u001b[0;34m(\u001b[0m\u001b[0mis_tensor\u001b[0m\u001b[0;34m(\u001b[0m\u001b[0mx\u001b[0m\u001b[0;34m)\u001b[0m \u001b[0;32mfor\u001b[0m \u001b[0mx\u001b[0m \u001b[0;32min\u001b[0m \u001b[0minputs\u001b[0m\u001b[0;34m)\u001b[0m\u001b[0;34m:\u001b[0m\u001b[0;34m\u001b[0m\u001b[0m\n",
      "\u001b[0;32m~/.virtualenvs/python3/lib/python3.5/site-packages/keras/backend/tensorflow_backend.py\u001b[0m in \u001b[0;36mget_session\u001b[0;34m()\u001b[0m\n\u001b[1;32m    197\u001b[0m                 \u001b[0;31m# not already marked as initialized.\u001b[0m\u001b[0;34m\u001b[0m\u001b[0;34m\u001b[0m\u001b[0m\n\u001b[1;32m    198\u001b[0m                 is_initialized = session.run(\n\u001b[0;32m--> 199\u001b[0;31m                     [tf.is_variable_initialized(v) for v in candidate_vars])\n\u001b[0m\u001b[1;32m    200\u001b[0m                 \u001b[0muninitialized_vars\u001b[0m \u001b[0;34m=\u001b[0m \u001b[0;34m[\u001b[0m\u001b[0;34m]\u001b[0m\u001b[0;34m\u001b[0m\u001b[0m\n\u001b[1;32m    201\u001b[0m                 \u001b[0;32mfor\u001b[0m \u001b[0mflag\u001b[0m\u001b[0;34m,\u001b[0m \u001b[0mv\u001b[0m \u001b[0;32min\u001b[0m \u001b[0mzip\u001b[0m\u001b[0;34m(\u001b[0m\u001b[0mis_initialized\u001b[0m\u001b[0;34m,\u001b[0m \u001b[0mcandidate_vars\u001b[0m\u001b[0;34m)\u001b[0m\u001b[0;34m:\u001b[0m\u001b[0;34m\u001b[0m\u001b[0m\n",
      "\u001b[0;32m~/.virtualenvs/python3/lib/python3.5/site-packages/tensorflow/python/client/session.py\u001b[0m in \u001b[0;36mrun\u001b[0;34m(self, fetches, feed_dict, options, run_metadata)\u001b[0m\n\u001b[1;32m    898\u001b[0m     \u001b[0;32mtry\u001b[0m\u001b[0;34m:\u001b[0m\u001b[0;34m\u001b[0m\u001b[0m\n\u001b[1;32m    899\u001b[0m       result = self._run(None, fetches, feed_dict, options_ptr,\n\u001b[0;32m--> 900\u001b[0;31m                          run_metadata_ptr)\n\u001b[0m\u001b[1;32m    901\u001b[0m       \u001b[0;32mif\u001b[0m \u001b[0mrun_metadata\u001b[0m\u001b[0;34m:\u001b[0m\u001b[0;34m\u001b[0m\u001b[0m\n\u001b[1;32m    902\u001b[0m         \u001b[0mproto_data\u001b[0m \u001b[0;34m=\u001b[0m \u001b[0mtf_session\u001b[0m\u001b[0;34m.\u001b[0m\u001b[0mTF_GetBuffer\u001b[0m\u001b[0;34m(\u001b[0m\u001b[0mrun_metadata_ptr\u001b[0m\u001b[0;34m)\u001b[0m\u001b[0;34m\u001b[0m\u001b[0m\n",
      "\u001b[0;32m~/.virtualenvs/python3/lib/python3.5/site-packages/tensorflow/python/client/session.py\u001b[0m in \u001b[0;36m_run\u001b[0;34m(self, handle, fetches, feed_dict, options, run_metadata)\u001b[0m\n\u001b[1;32m   1133\u001b[0m     \u001b[0;32mif\u001b[0m \u001b[0mfinal_fetches\u001b[0m \u001b[0;32mor\u001b[0m \u001b[0mfinal_targets\u001b[0m \u001b[0;32mor\u001b[0m \u001b[0;34m(\u001b[0m\u001b[0mhandle\u001b[0m \u001b[0;32mand\u001b[0m \u001b[0mfeed_dict_tensor\u001b[0m\u001b[0;34m)\u001b[0m\u001b[0;34m:\u001b[0m\u001b[0;34m\u001b[0m\u001b[0m\n\u001b[1;32m   1134\u001b[0m       results = self._do_run(handle, final_targets, final_fetches,\n\u001b[0;32m-> 1135\u001b[0;31m                              feed_dict_tensor, options, run_metadata)\n\u001b[0m\u001b[1;32m   1136\u001b[0m     \u001b[0;32melse\u001b[0m\u001b[0;34m:\u001b[0m\u001b[0;34m\u001b[0m\u001b[0m\n\u001b[1;32m   1137\u001b[0m       \u001b[0mresults\u001b[0m \u001b[0;34m=\u001b[0m \u001b[0;34m[\u001b[0m\u001b[0;34m]\u001b[0m\u001b[0;34m\u001b[0m\u001b[0m\n",
      "\u001b[0;32m~/.virtualenvs/python3/lib/python3.5/site-packages/tensorflow/python/client/session.py\u001b[0m in \u001b[0;36m_do_run\u001b[0;34m(self, handle, target_list, fetch_list, feed_dict, options, run_metadata)\u001b[0m\n\u001b[1;32m   1314\u001b[0m     \u001b[0;32mif\u001b[0m \u001b[0mhandle\u001b[0m \u001b[0;32mis\u001b[0m \u001b[0;32mNone\u001b[0m\u001b[0;34m:\u001b[0m\u001b[0;34m\u001b[0m\u001b[0m\n\u001b[1;32m   1315\u001b[0m       return self._do_call(_run_fn, feeds, fetches, targets, options,\n\u001b[0;32m-> 1316\u001b[0;31m                            run_metadata)\n\u001b[0m\u001b[1;32m   1317\u001b[0m     \u001b[0;32melse\u001b[0m\u001b[0;34m:\u001b[0m\u001b[0;34m\u001b[0m\u001b[0m\n\u001b[1;32m   1318\u001b[0m       \u001b[0;32mreturn\u001b[0m \u001b[0mself\u001b[0m\u001b[0;34m.\u001b[0m\u001b[0m_do_call\u001b[0m\u001b[0;34m(\u001b[0m\u001b[0m_prun_fn\u001b[0m\u001b[0;34m,\u001b[0m \u001b[0mhandle\u001b[0m\u001b[0;34m,\u001b[0m \u001b[0mfeeds\u001b[0m\u001b[0;34m,\u001b[0m \u001b[0mfetches\u001b[0m\u001b[0;34m)\u001b[0m\u001b[0;34m\u001b[0m\u001b[0m\n",
      "\u001b[0;32m~/.virtualenvs/python3/lib/python3.5/site-packages/tensorflow/python/client/session.py\u001b[0m in \u001b[0;36m_do_call\u001b[0;34m(self, fn, *args)\u001b[0m\n\u001b[1;32m   1320\u001b[0m   \u001b[0;32mdef\u001b[0m \u001b[0m_do_call\u001b[0m\u001b[0;34m(\u001b[0m\u001b[0mself\u001b[0m\u001b[0;34m,\u001b[0m \u001b[0mfn\u001b[0m\u001b[0;34m,\u001b[0m \u001b[0;34m*\u001b[0m\u001b[0margs\u001b[0m\u001b[0;34m)\u001b[0m\u001b[0;34m:\u001b[0m\u001b[0;34m\u001b[0m\u001b[0m\n\u001b[1;32m   1321\u001b[0m     \u001b[0;32mtry\u001b[0m\u001b[0;34m:\u001b[0m\u001b[0;34m\u001b[0m\u001b[0m\n\u001b[0;32m-> 1322\u001b[0;31m       \u001b[0;32mreturn\u001b[0m \u001b[0mfn\u001b[0m\u001b[0;34m(\u001b[0m\u001b[0;34m*\u001b[0m\u001b[0margs\u001b[0m\u001b[0;34m)\u001b[0m\u001b[0;34m\u001b[0m\u001b[0m\n\u001b[0m\u001b[1;32m   1323\u001b[0m     \u001b[0;32mexcept\u001b[0m \u001b[0merrors\u001b[0m\u001b[0;34m.\u001b[0m\u001b[0mOpError\u001b[0m \u001b[0;32mas\u001b[0m \u001b[0me\u001b[0m\u001b[0;34m:\u001b[0m\u001b[0;34m\u001b[0m\u001b[0m\n\u001b[1;32m   1324\u001b[0m       \u001b[0mmessage\u001b[0m \u001b[0;34m=\u001b[0m \u001b[0mcompat\u001b[0m\u001b[0;34m.\u001b[0m\u001b[0mas_text\u001b[0m\u001b[0;34m(\u001b[0m\u001b[0me\u001b[0m\u001b[0;34m.\u001b[0m\u001b[0mmessage\u001b[0m\u001b[0;34m)\u001b[0m\u001b[0;34m\u001b[0m\u001b[0m\n",
      "\u001b[0;32m~/.virtualenvs/python3/lib/python3.5/site-packages/tensorflow/python/client/session.py\u001b[0m in \u001b[0;36m_run_fn\u001b[0;34m(feed_dict, fetch_list, target_list, options, run_metadata)\u001b[0m\n\u001b[1;32m   1305\u001b[0m       \u001b[0mself\u001b[0m\u001b[0;34m.\u001b[0m\u001b[0m_extend_graph\u001b[0m\u001b[0;34m(\u001b[0m\u001b[0;34m)\u001b[0m\u001b[0;34m\u001b[0m\u001b[0m\n\u001b[1;32m   1306\u001b[0m       return self._call_tf_sessionrun(\n\u001b[0;32m-> 1307\u001b[0;31m           options, feed_dict, fetch_list, target_list, run_metadata)\n\u001b[0m\u001b[1;32m   1308\u001b[0m \u001b[0;34m\u001b[0m\u001b[0m\n\u001b[1;32m   1309\u001b[0m     \u001b[0;32mdef\u001b[0m \u001b[0m_prun_fn\u001b[0m\u001b[0;34m(\u001b[0m\u001b[0mhandle\u001b[0m\u001b[0;34m,\u001b[0m \u001b[0mfeed_dict\u001b[0m\u001b[0;34m,\u001b[0m \u001b[0mfetch_list\u001b[0m\u001b[0;34m)\u001b[0m\u001b[0;34m:\u001b[0m\u001b[0;34m\u001b[0m\u001b[0m\n",
      "\u001b[0;32m~/.virtualenvs/python3/lib/python3.5/site-packages/tensorflow/python/client/session.py\u001b[0m in \u001b[0;36m_call_tf_sessionrun\u001b[0;34m(self, options, feed_dict, fetch_list, target_list, run_metadata)\u001b[0m\n\u001b[1;32m   1407\u001b[0m       return tf_session.TF_SessionRun_wrapper(\n\u001b[1;32m   1408\u001b[0m           \u001b[0mself\u001b[0m\u001b[0;34m.\u001b[0m\u001b[0m_session\u001b[0m\u001b[0;34m,\u001b[0m \u001b[0moptions\u001b[0m\u001b[0;34m,\u001b[0m \u001b[0mfeed_dict\u001b[0m\u001b[0;34m,\u001b[0m \u001b[0mfetch_list\u001b[0m\u001b[0;34m,\u001b[0m \u001b[0mtarget_list\u001b[0m\u001b[0;34m,\u001b[0m\u001b[0;34m\u001b[0m\u001b[0m\n\u001b[0;32m-> 1409\u001b[0;31m           run_metadata)\n\u001b[0m\u001b[1;32m   1410\u001b[0m     \u001b[0;32melse\u001b[0m\u001b[0;34m:\u001b[0m\u001b[0;34m\u001b[0m\u001b[0m\n\u001b[1;32m   1411\u001b[0m       \u001b[0;32mwith\u001b[0m \u001b[0merrors\u001b[0m\u001b[0;34m.\u001b[0m\u001b[0mraise_exception_on_not_ok_status\u001b[0m\u001b[0;34m(\u001b[0m\u001b[0;34m)\u001b[0m \u001b[0;32mas\u001b[0m \u001b[0mstatus\u001b[0m\u001b[0;34m:\u001b[0m\u001b[0;34m\u001b[0m\u001b[0m\n",
      "\u001b[0;31mKeyboardInterrupt\u001b[0m: "
     ]
    }
   ],
   "source": [
    "nn_res = train_and_test_model(X, y, X_test, lgb_params, None, model_type='nn')"
   ]
  },
  {
   "cell_type": "code",
   "execution_count": 461,
   "metadata": {},
   "outputs": [
    {
     "name": "stdout",
     "output_type": "stream",
     "text": [
      "\n",
      " Fold 1\n",
      "[0]\ttrain-auc:0.538191\tvalid-auc:0.535611\n",
      "Multiple eval metrics have been passed: 'valid-auc' will be used for early stopping.\n",
      "\n",
      "Will train until valid-auc hasn't improved in 200 rounds.\n",
      "[500]\ttrain-auc:0.884853\tvalid-auc:0.87461\n",
      "[1000]\ttrain-auc:0.894468\tvalid-auc:0.883284\n",
      "[1500]\ttrain-auc:0.899299\tvalid-auc:0.887685\n",
      "[2000]\ttrain-auc:0.90367\tvalid-auc:0.891431\n",
      "[2500]\ttrain-auc:0.906936\tvalid-auc:0.894305\n",
      "[3000]\ttrain-auc:0.910083\tvalid-auc:0.897101\n",
      "[3500]\ttrain-auc:0.912678\tvalid-auc:0.899199\n",
      "[4000]\ttrain-auc:0.914954\tvalid-auc:0.901087\n",
      "[4500]\ttrain-auc:0.917027\tvalid-auc:0.902663\n",
      "[5000]\ttrain-auc:0.918838\tvalid-auc:0.904035\n",
      "[5500]\ttrain-auc:0.920464\tvalid-auc:0.905053\n",
      "[6000]\ttrain-auc:0.92195\tvalid-auc:0.906042\n",
      "[6500]\ttrain-auc:0.923335\tvalid-auc:0.906732\n",
      "[7000]\ttrain-auc:0.924509\tvalid-auc:0.907296\n",
      "[7500]\ttrain-auc:0.92555\tvalid-auc:0.907686\n",
      "[8000]\ttrain-auc:0.926595\tvalid-auc:0.908111\n",
      "[8500]\ttrain-auc:0.927478\tvalid-auc:0.908509\n",
      "[9000]\ttrain-auc:0.928399\tvalid-auc:0.908888\n",
      "[9500]\ttrain-auc:0.929247\tvalid-auc:0.909113\n",
      "[10000]\ttrain-auc:0.930048\tvalid-auc:0.909279\n",
      "[10500]\ttrain-auc:0.930885\tvalid-auc:0.909579\n",
      "[11000]\ttrain-auc:0.931672\tvalid-auc:0.909805\n",
      "Stopping. Best iteration:\n",
      "[10814]\ttrain-auc:0.931401\tvalid-auc:0.90982\n",
      "\n",
      "\n",
      " Fold 2\n",
      "[0]\ttrain-auc:0.539562\tvalid-auc:0.538428\n",
      "Multiple eval metrics have been passed: 'valid-auc' will be used for early stopping.\n",
      "\n",
      "Will train until valid-auc hasn't improved in 200 rounds.\n",
      "[500]\ttrain-auc:0.883967\tvalid-auc:0.873281\n",
      "[1000]\ttrain-auc:0.894239\tvalid-auc:0.883627\n",
      "[1500]\ttrain-auc:0.899268\tvalid-auc:0.888797\n",
      "[2000]\ttrain-auc:0.903385\tvalid-auc:0.892181\n",
      "[2500]\ttrain-auc:0.906753\tvalid-auc:0.895117\n",
      "[3000]\ttrain-auc:0.909797\tvalid-auc:0.897419\n",
      "[3500]\ttrain-auc:0.9125\tvalid-auc:0.899375\n",
      "[4000]\ttrain-auc:0.914913\tvalid-auc:0.901145\n",
      "[4500]\ttrain-auc:0.91699\tvalid-auc:0.902463\n",
      "[5000]\ttrain-auc:0.91883\tvalid-auc:0.903561\n",
      "[5500]\ttrain-auc:0.920429\tvalid-auc:0.904447\n",
      "[6000]\ttrain-auc:0.921944\tvalid-auc:0.905236\n",
      "[6500]\ttrain-auc:0.923293\tvalid-auc:0.906145\n",
      "[7000]\ttrain-auc:0.924541\tvalid-auc:0.906676\n",
      "[7500]\ttrain-auc:0.925662\tvalid-auc:0.907023\n",
      "[8000]\ttrain-auc:0.926743\tvalid-auc:0.907445\n",
      "[8500]\ttrain-auc:0.927736\tvalid-auc:0.907773\n",
      "[9000]\ttrain-auc:0.928643\tvalid-auc:0.908032\n",
      "[9500]\ttrain-auc:0.929519\tvalid-auc:0.908244\n",
      "[10000]\ttrain-auc:0.930389\tvalid-auc:0.908326\n",
      "[10500]\ttrain-auc:0.931163\tvalid-auc:0.908379\n",
      "[11000]\ttrain-auc:0.931906\tvalid-auc:0.908537\n",
      "[11500]\ttrain-auc:0.932595\tvalid-auc:0.908575\n",
      "Stopping. Best iteration:\n",
      "[11391]\ttrain-auc:0.932469\tvalid-auc:0.9086\n",
      "\n",
      "\n",
      " Fold 3\n",
      "[0]\ttrain-auc:0.52515\tvalid-auc:0.523015\n",
      "Multiple eval metrics have been passed: 'valid-auc' will be used for early stopping.\n",
      "\n",
      "Will train until valid-auc hasn't improved in 200 rounds.\n",
      "[500]\ttrain-auc:0.88147\tvalid-auc:0.876722\n",
      "[1000]\ttrain-auc:0.89272\tvalid-auc:0.887017\n",
      "[1500]\ttrain-auc:0.898384\tvalid-auc:0.891439\n",
      "[2000]\ttrain-auc:0.902805\tvalid-auc:0.895261\n",
      "[2500]\ttrain-auc:0.906834\tvalid-auc:0.8984\n",
      "[3000]\ttrain-auc:0.909978\tvalid-auc:0.900982\n",
      "[3500]\ttrain-auc:0.912656\tvalid-auc:0.90287\n",
      "[4000]\ttrain-auc:0.91487\tvalid-auc:0.904395\n",
      "[4500]\ttrain-auc:0.916921\tvalid-auc:0.905589\n",
      "[5000]\ttrain-auc:0.91886\tvalid-auc:0.906698\n",
      "[5500]\ttrain-auc:0.920486\tvalid-auc:0.907573\n",
      "[6000]\ttrain-auc:0.921931\tvalid-auc:0.908405\n",
      "[6500]\ttrain-auc:0.923272\tvalid-auc:0.908989\n",
      "[7000]\ttrain-auc:0.924569\tvalid-auc:0.909391\n",
      "[7500]\ttrain-auc:0.925674\tvalid-auc:0.909802\n",
      "[8000]\ttrain-auc:0.926687\tvalid-auc:0.910057\n",
      "[8500]\ttrain-auc:0.927652\tvalid-auc:0.910237\n",
      "Stopping. Best iteration:\n",
      "[8375]\ttrain-auc:0.92741\tvalid-auc:0.910291\n",
      "\n",
      "\n",
      " Fold 4\n",
      "[0]\ttrain-auc:0.541575\tvalid-auc:0.545956\n",
      "Multiple eval metrics have been passed: 'valid-auc' will be used for early stopping.\n",
      "\n",
      "Will train until valid-auc hasn't improved in 200 rounds.\n",
      "[500]\ttrain-auc:0.879526\tvalid-auc:0.868118\n",
      "[1000]\ttrain-auc:0.891366\tvalid-auc:0.879892\n",
      "[1500]\ttrain-auc:0.898852\tvalid-auc:0.886353\n",
      "[2000]\ttrain-auc:0.903522\tvalid-auc:0.890081\n",
      "[2500]\ttrain-auc:0.907297\tvalid-auc:0.893156\n",
      "[3000]\ttrain-auc:0.91084\tvalid-auc:0.895789\n",
      "[3500]\ttrain-auc:0.913679\tvalid-auc:0.897882\n",
      "[4000]\ttrain-auc:0.916008\tvalid-auc:0.899236\n",
      "[4500]\ttrain-auc:0.918188\tvalid-auc:0.900601\n",
      "[5000]\ttrain-auc:0.919983\tvalid-auc:0.901577\n",
      "[5500]\ttrain-auc:0.92161\tvalid-auc:0.902447\n",
      "[6000]\ttrain-auc:0.923037\tvalid-auc:0.903042\n",
      "[6500]\ttrain-auc:0.924344\tvalid-auc:0.903711\n",
      "[7000]\ttrain-auc:0.925495\tvalid-auc:0.904216\n",
      "[7500]\ttrain-auc:0.926532\tvalid-auc:0.904439\n",
      "[8000]\ttrain-auc:0.92755\tvalid-auc:0.904626\n",
      "[8500]\ttrain-auc:0.928561\tvalid-auc:0.90488\n",
      "[9000]\ttrain-auc:0.929446\tvalid-auc:0.905073\n",
      "[9500]\ttrain-auc:0.930312\tvalid-auc:0.905234\n",
      "Stopping. Best iteration:\n",
      "[9683]\ttrain-auc:0.93064\tvalid-auc:0.905279\n",
      "\n",
      "\n",
      " Fold 5\n",
      "[0]\ttrain-auc:0.546779\tvalid-auc:0.551029\n",
      "Multiple eval metrics have been passed: 'valid-auc' will be used for early stopping.\n",
      "\n",
      "Will train until valid-auc hasn't improved in 200 rounds.\n",
      "[500]\ttrain-auc:0.879989\tvalid-auc:0.864682\n",
      "[1000]\ttrain-auc:0.89175\tvalid-auc:0.876182\n",
      "[1500]\ttrain-auc:0.899038\tvalid-auc:0.884133\n",
      "[2000]\ttrain-auc:0.903584\tvalid-auc:0.888357\n",
      "[2500]\ttrain-auc:0.907178\tvalid-auc:0.891072\n",
      "[3000]\ttrain-auc:0.910413\tvalid-auc:0.893842\n",
      "[3500]\ttrain-auc:0.91329\tvalid-auc:0.896385\n",
      "[4000]\ttrain-auc:0.91561\tvalid-auc:0.898119\n",
      "[4500]\ttrain-auc:0.917855\tvalid-auc:0.899672\n",
      "[5000]\ttrain-auc:0.919712\tvalid-auc:0.900957\n",
      "[5500]\ttrain-auc:0.921336\tvalid-auc:0.901682\n",
      "[6000]\ttrain-auc:0.9229\tvalid-auc:0.90247\n",
      "[6500]\ttrain-auc:0.924266\tvalid-auc:0.903133\n",
      "[7000]\ttrain-auc:0.925443\tvalid-auc:0.903684\n",
      "[7500]\ttrain-auc:0.92653\tvalid-auc:0.904047\n",
      "[8000]\ttrain-auc:0.927507\tvalid-auc:0.904207\n",
      "[8500]\ttrain-auc:0.928429\tvalid-auc:0.904349\n",
      "[9000]\ttrain-auc:0.929313\tvalid-auc:0.904483\n",
      "[9500]\ttrain-auc:0.93011\tvalid-auc:0.904602\n",
      "[10000]\ttrain-auc:0.930907\tvalid-auc:0.904653\n",
      "Stopping. Best iteration:\n",
      "[9899]\ttrain-auc:0.93075\tvalid-auc:0.904683\n",
      "\n"
     ]
    }
   ],
   "source": [
    "xgb_res = train_and_test_model(X, y, X_test, xgb_params, None, model_type='xgb')"
   ]
  },
  {
   "cell_type": "code",
   "execution_count": 512,
   "metadata": {},
   "outputs": [
    {
     "name": "stdout",
     "output_type": "stream",
     "text": [
      "\n",
      " Fold 1\n",
      "Training until validation scores don't improve for 500 rounds.\n",
      "[1000]\ttraining's auc: 0.871218\tvalid_1's auc: 0.864593\n",
      "[2000]\ttraining's auc: 0.883729\tvalid_1's auc: 0.877467\n",
      "[3000]\ttraining's auc: 0.890832\tvalid_1's auc: 0.88426\n",
      "[4000]\ttraining's auc: 0.896642\tvalid_1's auc: 0.890289\n",
      "[5000]\ttraining's auc: 0.901013\tvalid_1's auc: 0.894456\n",
      "[6000]\ttraining's auc: 0.904634\tvalid_1's auc: 0.897775\n",
      "[7000]\ttraining's auc: 0.907576\tvalid_1's auc: 0.900643\n",
      "[8000]\ttraining's auc: 0.909919\tvalid_1's auc: 0.903056\n",
      "[9000]\ttraining's auc: 0.912027\tvalid_1's auc: 0.905039\n",
      "[10000]\ttraining's auc: 0.913813\tvalid_1's auc: 0.90668\n",
      "[11000]\ttraining's auc: 0.915317\tvalid_1's auc: 0.907932\n",
      "[12000]\ttraining's auc: 0.916561\tvalid_1's auc: 0.908971\n",
      "[13000]\ttraining's auc: 0.91767\tvalid_1's auc: 0.909783\n",
      "[14000]\ttraining's auc: 0.918647\tvalid_1's auc: 0.91048\n",
      "[15000]\ttraining's auc: 0.919608\tvalid_1's auc: 0.911146\n",
      "[16000]\ttraining's auc: 0.920476\tvalid_1's auc: 0.911568\n",
      "[17000]\ttraining's auc: 0.921233\tvalid_1's auc: 0.912009\n",
      "[18000]\ttraining's auc: 0.921989\tvalid_1's auc: 0.912338\n",
      "[19000]\ttraining's auc: 0.922679\tvalid_1's auc: 0.912589\n",
      "[20000]\ttraining's auc: 0.923332\tvalid_1's auc: 0.912744\n",
      "Did not meet early stopping. Best iteration is:\n",
      "[20000]\ttraining's auc: 0.923332\tvalid_1's auc: 0.912744\n",
      "Training took 2.67 minutes.\n"
     ]
    },
    {
     "data": {
      "image/png": "[encoded data removed]",
      "text/plain": [
       "<matplotlib.figure.Figure at 0x7fdd6eaab908>"
      ]
     },
     "metadata": {
      "needs_background": "light"
     },
     "output_type": "display_data"
    },
    {
     "name": "stdout",
     "output_type": "stream",
     "text": [
      "\n",
      " Fold 2\n",
      "Training until validation scores don't improve for 500 rounds.\n",
      "[1000]\ttraining's auc: 0.871192\tvalid_1's auc: 0.864227\n",
      "[2000]\ttraining's auc: 0.884064\tvalid_1's auc: 0.876527\n",
      "[3000]\ttraining's auc: 0.891177\tvalid_1's auc: 0.883837\n",
      "[4000]\ttraining's auc: 0.897019\tvalid_1's auc: 0.889901\n",
      "[5000]\ttraining's auc: 0.901439\tvalid_1's auc: 0.894044\n",
      "[6000]\ttraining's auc: 0.905274\tvalid_1's auc: 0.897552\n",
      "[7000]\ttraining's auc: 0.908234\tvalid_1's auc: 0.900241\n",
      "[8000]\ttraining's auc: 0.910734\tvalid_1's auc: 0.902468\n",
      "[9000]\ttraining's auc: 0.912732\tvalid_1's auc: 0.904192\n",
      "[10000]\ttraining's auc: 0.91464\tvalid_1's auc: 0.905743\n",
      "[11000]\ttraining's auc: 0.916148\tvalid_1's auc: 0.906827\n",
      "[12000]\ttraining's auc: 0.91742\tvalid_1's auc: 0.907612\n",
      "[13000]\ttraining's auc: 0.918594\tvalid_1's auc: 0.908306\n",
      "[14000]\ttraining's auc: 0.919634\tvalid_1's auc: 0.908823\n",
      "[15000]\ttraining's auc: 0.920529\tvalid_1's auc: 0.909156\n",
      "[16000]\ttraining's auc: 0.921397\tvalid_1's auc: 0.909461\n",
      "[17000]\ttraining's auc: 0.922143\tvalid_1's auc: 0.90979\n",
      "[18000]\ttraining's auc: 0.922866\tvalid_1's auc: 0.91003\n",
      "[19000]\ttraining's auc: 0.923548\tvalid_1's auc: 0.91023\n",
      "[20000]\ttraining's auc: 0.924263\tvalid_1's auc: 0.910411\n",
      "Did not meet early stopping. Best iteration is:\n",
      "[19999]\ttraining's auc: 0.924264\tvalid_1's auc: 0.91041\n",
      "Training took 2.70 minutes.\n"
     ]
    },
    {
     "data": {
      "image/png": "[encoded data removed]",
      "text/plain": [
       "<matplotlib.figure.Figure at 0x7fdd6eaab5c0>"
      ]
     },
     "metadata": {
      "needs_background": "light"
     },
     "output_type": "display_data"
    },
    {
     "name": "stdout",
     "output_type": "stream",
     "text": [
      "\n",
      " Fold 3\n",
      "Training until validation scores don't improve for 500 rounds.\n",
      "[1000]\ttraining's auc: 0.871307\tvalid_1's auc: 0.869939\n",
      "[2000]\ttraining's auc: 0.883501\tvalid_1's auc: 0.881624\n",
      "[3000]\ttraining's auc: 0.890467\tvalid_1's auc: 0.887992\n",
      "[4000]\ttraining's auc: 0.896393\tvalid_1's auc: 0.892875\n",
      "[5000]\ttraining's auc: 0.900993\tvalid_1's auc: 0.896866\n",
      "[6000]\ttraining's auc: 0.904763\tvalid_1's auc: 0.900117\n",
      "[7000]\ttraining's auc: 0.907823\tvalid_1's auc: 0.902699\n",
      "[8000]\ttraining's auc: 0.910378\tvalid_1's auc: 0.90477\n",
      "[9000]\ttraining's auc: 0.912323\tvalid_1's auc: 0.906361\n",
      "[10000]\ttraining's auc: 0.914137\tvalid_1's auc: 0.90756\n",
      "[11000]\ttraining's auc: 0.915642\tvalid_1's auc: 0.90858\n",
      "[12000]\ttraining's auc: 0.916939\tvalid_1's auc: 0.909398\n",
      "[13000]\ttraining's auc: 0.918068\tvalid_1's auc: 0.910158\n",
      "[14000]\ttraining's auc: 0.919118\tvalid_1's auc: 0.910652\n",
      "[15000]\ttraining's auc: 0.92003\tvalid_1's auc: 0.91104\n",
      "[16000]\ttraining's auc: 0.920863\tvalid_1's auc: 0.911323\n",
      "[17000]\ttraining's auc: 0.921707\tvalid_1's auc: 0.911588\n",
      "[18000]\ttraining's auc: 0.922443\tvalid_1's auc: 0.911665\n",
      "[19000]\ttraining's auc: 0.923142\tvalid_1's auc: 0.911768\n",
      "[20000]\ttraining's auc: 0.923793\tvalid_1's auc: 0.911912\n",
      "Did not meet early stopping. Best iteration is:\n",
      "[20000]\ttraining's auc: 0.923793\tvalid_1's auc: 0.911912\n",
      "Training took 2.67 minutes.\n"
     ]
    },
    {
     "data": {
      "image/png": "[encoded data removed]",
      "text/plain": [
       "<matplotlib.figure.Figure at 0x7fdd6e41d160>"
      ]
     },
     "metadata": {
      "needs_background": "light"
     },
     "output_type": "display_data"
    },
    {
     "name": "stdout",
     "output_type": "stream",
     "text": [
      "\n",
      " Fold 4\n",
      "Training until validation scores don't improve for 500 rounds.\n",
      "[1000]\ttraining's auc: 0.871091\tvalid_1's auc: 0.865427\n",
      "[2000]\ttraining's auc: 0.884009\tvalid_1's auc: 0.876566\n",
      "[3000]\ttraining's auc: 0.891949\tvalid_1's auc: 0.883478\n",
      "[4000]\ttraining's auc: 0.897744\tvalid_1's auc: 0.887872\n",
      "[5000]\ttraining's auc: 0.902139\tvalid_1's auc: 0.891607\n",
      "[6000]\ttraining's auc: 0.906017\tvalid_1's auc: 0.894543\n",
      "[7000]\ttraining's auc: 0.909052\tvalid_1's auc: 0.896799\n",
      "[8000]\ttraining's auc: 0.911497\tvalid_1's auc: 0.898618\n",
      "[9000]\ttraining's auc: 0.913651\tvalid_1's auc: 0.900053\n",
      "[10000]\ttraining's auc: 0.915454\tvalid_1's auc: 0.901379\n",
      "[11000]\ttraining's auc: 0.917043\tvalid_1's auc: 0.902303\n",
      "[12000]\ttraining's auc: 0.918368\tvalid_1's auc: 0.90306\n",
      "[13000]\ttraining's auc: 0.919511\tvalid_1's auc: 0.903584\n",
      "[14000]\ttraining's auc: 0.920489\tvalid_1's auc: 0.904063\n",
      "[15000]\ttraining's auc: 0.921392\tvalid_1's auc: 0.904418\n",
      "[16000]\ttraining's auc: 0.922215\tvalid_1's auc: 0.90477\n",
      "[17000]\ttraining's auc: 0.923006\tvalid_1's auc: 0.904953\n",
      "[18000]\ttraining's auc: 0.923742\tvalid_1's auc: 0.905198\n",
      "[19000]\ttraining's auc: 0.924477\tvalid_1's auc: 0.905383\n",
      "[20000]\ttraining's auc: 0.925176\tvalid_1's auc: 0.905473\n",
      "Did not meet early stopping. Best iteration is:\n",
      "[20000]\ttraining's auc: 0.925176\tvalid_1's auc: 0.905473\n",
      "Training took 2.73 minutes.\n"
     ]
    },
    {
     "data": {
      "image/png": "[encoded data removed]",
      "text/plain": [
       "<matplotlib.figure.Figure at 0x7fdd6e104470>"
      ]
     },
     "metadata": {
      "needs_background": "light"
     },
     "output_type": "display_data"
    },
    {
     "name": "stdout",
     "output_type": "stream",
     "text": [
      "\n",
      " Fold 5\n",
      "Training until validation scores don't improve for 500 rounds.\n",
      "[1000]\ttraining's auc: 0.871731\tvalid_1's auc: 0.862056\n",
      "[2000]\ttraining's auc: 0.884441\tvalid_1's auc: 0.874858\n",
      "[3000]\ttraining's auc: 0.891724\tvalid_1's auc: 0.881834\n",
      "[4000]\ttraining's auc: 0.897363\tvalid_1's auc: 0.887282\n",
      "[5000]\ttraining's auc: 0.901968\tvalid_1's auc: 0.89166\n",
      "[6000]\ttraining's auc: 0.905639\tvalid_1's auc: 0.895037\n",
      "[7000]\ttraining's auc: 0.908771\tvalid_1's auc: 0.897775\n",
      "[8000]\ttraining's auc: 0.911187\tvalid_1's auc: 0.899776\n",
      "[9000]\ttraining's auc: 0.913168\tvalid_1's auc: 0.901285\n",
      "[10000]\ttraining's auc: 0.914888\tvalid_1's auc: 0.902636\n",
      "[11000]\ttraining's auc: 0.916354\tvalid_1's auc: 0.903735\n",
      "[12000]\ttraining's auc: 0.917708\tvalid_1's auc: 0.904676\n",
      "[13000]\ttraining's auc: 0.918901\tvalid_1's auc: 0.905477\n",
      "[14000]\ttraining's auc: 0.919887\tvalid_1's auc: 0.906227\n",
      "[15000]\ttraining's auc: 0.920832\tvalid_1's auc: 0.906691\n",
      "[16000]\ttraining's auc: 0.921643\tvalid_1's auc: 0.907056\n",
      "[17000]\ttraining's auc: 0.922398\tvalid_1's auc: 0.907299\n",
      "[18000]\ttraining's auc: 0.923167\tvalid_1's auc: 0.907549\n",
      "[19000]\ttraining's auc: 0.923874\tvalid_1's auc: 0.90783\n",
      "[20000]\ttraining's auc: 0.924562\tvalid_1's auc: 0.908009\n",
      "Did not meet early stopping. Best iteration is:\n",
      "[20000]\ttraining's auc: 0.924562\tvalid_1's auc: 0.908009\n",
      "Training took 2.74 minutes.\n"
     ]
    },
    {
     "data": {
      "image/png": "[encoded data removed]",
      "text/plain": [
       "<matplotlib.figure.Figure at 0x7fdd6e42f320>"
      ]
     },
     "metadata": {
      "needs_background": "light"
     },
     "output_type": "display_data"
    }
   ],
   "source": [
    "lgb_res =train_and_test_model(X, y, X_test, lgb_params, None, model_type='lgb')"
   ]
  },
  {
   "cell_type": "code",
   "execution_count": 462,
   "metadata": {},
   "outputs": [
    {
     "data": {
      "text/plain": [
       "0.90148679913023799"
      ]
     },
     "execution_count": 462,
     "metadata": {},
     "output_type": "execute_result"
    }
   ],
   "source": [
    "roc_auc_score(train['target'], nn_res['val_preds'])"
   ]
  },
  {
   "cell_type": "code",
   "execution_count": 464,
   "metadata": {},
   "outputs": [
    {
     "data": {
      "text/plain": [
       "0.90769776128675639"
      ]
     },
     "execution_count": 464,
     "metadata": {},
     "output_type": "execute_result"
    }
   ],
   "source": [
    "roc_auc_score(train['target'], xgb_res['val_preds'])"
   ]
  },
  {
   "cell_type": "code",
   "execution_count": 538,
   "metadata": {},
   "outputs": [
    {
     "data": {
      "text/plain": [
       "0.90970442124337936"
      ]
     },
     "execution_count": 538,
     "metadata": {},
     "output_type": "execute_result"
    }
   ],
   "source": [
    "roc_auc_score(train['target'], lgb_res['val_preds'])"
   ]
  },
  {
   "cell_type": "code",
   "execution_count": 533,
   "metadata": {},
   "outputs": [
    {
     "data": {
      "text/plain": [
       "0.91031171249493503"
      ]
     },
     "execution_count": 533,
     "metadata": {},
     "output_type": "execute_result"
    }
   ],
   "source": [
    "roc_auc_score(train['target'], 0.5*lgb_res['val_preds']+0.1*nn_res['val_preds'])"
   ]
  },
  {
   "cell_type": "code",
   "execution_count": 477,
   "metadata": {},
   "outputs": [],
   "source": [
    "level1_df = pd.DataFrame({'lgb':lgb_res['val_preds'], 'nn':nn_res['val_preds'], 'xgb':xgb_res['val_preds']})\n",
    "level1_df_test = pd.DataFrame({'lgb':lgb_res['test_preds'], 'nn':nn_res['test_preds'], 'xgb':xgb_res['test_preds']})"
   ]
  },
  {
   "cell_type": "code",
   "execution_count": 492,
   "metadata": {},
   "outputs": [],
   "source": [
    "def train_and_test_sklearn(X, y, X_test=None, model=LogisticRegression):\n",
    "    result_dict = {\n",
    "        'val_preds': np.zeros(len(X)),\n",
    "        'test_preds': None,\n",
    "    }\n",
    "    \n",
    "    if X_test is not None:\n",
    "        result_dict['test_preds'] = np.zeros(len(X_test))\n",
    "    \n",
    "    num_folds = len(idx_trns)\n",
    "    for fold_n, (idx_trn, idx_val) in enumerate(zip(idx_trns, idx_vals)):\n",
    "        print('\\n Fold {}'.format(fold_n+1))\n",
    "        \n",
    "        X_trn = X.iloc[idx_trn]\n",
    "        X_val = X.iloc[idx_val]\n",
    "        y_trn = y.iloc[idx_trn]\n",
    "        y_val = y.iloc[idx_val]\n",
    "\n",
    "        start_time = time.time()\n",
    "        m = model(max_iter=1000, n_jobs=-1)\n",
    "        m.fit(X_trn, y_trn)\n",
    "        print('Training took {0:.2f} minutes.'.format((time.time()-start_time)/60))\n",
    "        \n",
    "        result_dict['val_preds'][idx_val] = m.predict_proba(X_val)[:, 1]\n",
    "        \n",
    "        print('ROC AUC estimate: {0:.5f}'.format(roc_auc_score(y_val, result_dict['val_preds'][idx_val])))\n",
    "        \n",
    "        \n",
    "        if X_test is not None:\n",
    "            result_dict['test_preds'] += m.predict(X_test) / num_folds\n",
    "            \n",
    "    return result_dict"
   ]
  },
  {
   "cell_type": "code",
   "execution_count": 493,
   "metadata": {},
   "outputs": [
    {
     "name": "stdout",
     "output_type": "stream",
     "text": [
      "\n",
      " Fold 1\n",
      "Training took 0.00 minutes.\n",
      "ROC AUC estimate: 0.91211\n",
      "\n",
      " Fold 2\n",
      "Training took 0.00 minutes.\n",
      "ROC AUC estimate: 0.91040\n",
      "\n",
      " Fold 3\n",
      "Training took 0.00 minutes.\n",
      "ROC AUC estimate: 0.91260\n",
      "\n",
      " Fold 4\n",
      "Training took 0.00 minutes.\n",
      "ROC AUC estimate: 0.90711\n",
      "\n",
      " Fold 5\n",
      "Training took 0.00 minutes.\n",
      "ROC AUC estimate: 0.90690\n"
     ]
    }
   ],
   "source": [
    "l1_res = train_and_test_sklearn(level1_df, y, level1_df_test)"
   ]
  },
  {
   "cell_type": "code",
   "execution_count": 489,
   "metadata": {},
   "outputs": [],
   "source": [
    "level1_params = {\n",
    "    'bagging_freq': 5,\n",
    "    'bagging_fraction': 0.2,\n",
    "    'boost_from_average':'false',\n",
    "    'boost': 'gbdt',\n",
    "    'feature_fraction': 0.8,\n",
    "    'learning_rate': 0.01,\n",
    "    'max_depth': 2,  \n",
    "    'max_bin': 127,\n",
    "    'metric':'auc',\n",
    "#     'min_data_in_leaf': 80,\n",
    "#     'min_sum_hessian_in_leaf': 10.0,\n",
    "    'num_leaves': 2,\n",
    "    'num_threads': -1,\n",
    "    'tree_learner': 'serial',\n",
    "    'objective': 'binary', \n",
    "    'verbosity': 1,\n",
    "    'num_boost_round': 20000,\n",
    "    'early_stopping_rounds': 100\n",
    "}"
   ]
  },
  {
   "cell_type": "code",
   "execution_count": 490,
   "metadata": {},
   "outputs": [
    {
     "name": "stdout",
     "output_type": "stream",
     "text": [
      "\n",
      " Fold 1\n",
      "Training until validation scores don't improve for 100 rounds.\n",
      "Early stopping, best iteration is:\n",
      "[581]\ttraining's auc: 0.911414\tvalid_1's auc: 0.914614\n",
      "Training took 0.08 minutes.\n"
     ]
    },
    {
     "data": {
      "image/png": "[encoded data removed]",
      "text/plain": [
       "<matplotlib.figure.Figure at 0x7fdd6ecedb38>"
      ]
     },
     "metadata": {
      "needs_background": "light"
     },
     "output_type": "display_data"
    },
    {
     "name": "stdout",
     "output_type": "stream",
     "text": [
      "\n",
      " Fold 2\n",
      "Training until validation scores don't improve for 100 rounds.\n",
      "Early stopping, best iteration is:\n",
      "[745]\ttraining's auc: 0.912262\tvalid_1's auc: 0.912105\n",
      "Training took 0.12 minutes.\n"
     ]
    },
    {
     "data": {
      "image/png": "[encoded data removed]",
      "text/plain": [
       "<matplotlib.figure.Figure at 0x7fdd6ed54e10>"
      ]
     },
     "metadata": {
      "needs_background": "light"
     },
     "output_type": "display_data"
    },
    {
     "name": "stdout",
     "output_type": "stream",
     "text": [
      "\n",
      " Fold 3\n",
      "Training until validation scores don't improve for 100 rounds.\n",
      "Early stopping, best iteration is:\n",
      "[331]\ttraining's auc: 0.911608\tvalid_1's auc: 0.913833\n",
      "Training took 0.05 minutes.\n"
     ]
    },
    {
     "data": {
      "image/png": "[encoded data removed]",
      "text/plain": [
       "<matplotlib.figure.Figure at 0x7fdd6ed54d68>"
      ]
     },
     "metadata": {
      "needs_background": "light"
     },
     "output_type": "display_data"
    },
    {
     "name": "stdout",
     "output_type": "stream",
     "text": [
      "\n",
      " Fold 4\n",
      "Training until validation scores don't improve for 100 rounds.\n",
      "Early stopping, best iteration is:\n",
      "[516]\ttraining's auc: 0.912953\tvalid_1's auc: 0.908214\n",
      "Training took 0.07 minutes.\n"
     ]
    },
    {
     "data": {
      "image/png": "[encoded data removed]",
      "text/plain": [
       "<matplotlib.figure.Figure at 0x7fdd6ed37400>"
      ]
     },
     "metadata": {
      "needs_background": "light"
     },
     "output_type": "display_data"
    },
    {
     "name": "stdout",
     "output_type": "stream",
     "text": [
      "\n",
      " Fold 5\n",
      "Training until validation scores don't improve for 100 rounds.\n",
      "Early stopping, best iteration is:\n",
      "[326]\ttraining's auc: 0.912457\tvalid_1's auc: 0.909238\n",
      "Training took 0.05 minutes.\n"
     ]
    },
    {
     "data": {
      "image/png": "[encoded data removed]",
      "text/plain": [
       "<matplotlib.figure.Figure at 0x7fdd88ae62b0>"
      ]
     },
     "metadata": {
      "needs_background": "light"
     },
     "output_type": "display_data"
    }
   ],
   "source": [
    "l1_res = train_and_test_model(level1_df, y, level1_df_test, level1_params, None, model_type='lgb')"
   ]
  },
  {
   "cell_type": "code",
   "execution_count": 537,
   "metadata": {},
   "outputs": [
    {
     "data": {
      "text/plain": [
       "0.90977579611214077"
      ]
     },
     "execution_count": 537,
     "metadata": {},
     "output_type": "execute_result"
    }
   ],
   "source": [
    "roc_auc_score(y,l1_res['val_preds'])"
   ]
  },
  {
   "cell_type": "code",
   "execution_count": 422,
   "metadata": {},
   "outputs": [],
   "source": [
    "def create_submission(preds, sub_name='submission.csv'):\n",
    "    sub_df = pd.DataFrame({\"ID_code\":test[\"ID_code\"].values})\n",
    "    sub_df[\"target\"] = preds\n",
    "    sub_df.to_csv(sub_name, index=False)"
   ]
  },
  {
   "cell_type": "code",
   "execution_count": 535,
   "metadata": {},
   "outputs": [],
   "source": [
    "create_submission(0.8*lgb_res['test_preds']+0.2*nn_res['test_preds'])"
   ]
  },
  {
   "cell_type": "code",
   "execution_count": 536,
   "metadata": {},
   "outputs": [
    {
     "data": {
      "text/plain": [
       "<matplotlib.axes._subplots.AxesSubplot at 0x7fdd340279e8>"
      ]
     },
     "execution_count": 536,
     "metadata": {},
     "output_type": "execute_result"
    },
    {
     "data": {
      "image/png": "[encoded data removed]",
      "text/plain": [
       "<matplotlib.figure.Figure at 0x7fdd3407c4a8>"
      ]
     },
     "metadata": {
      "needs_background": "light"
     },
     "output_type": "display_data"
    }
   ],
   "source": [
    "sns.distplot(0.01*lgb_res['test_preds']+0.01*nn_res['test_preds'])"
   ]
  },
  {
   "cell_type": "code",
   "execution_count": null,
   "metadata": {},
   "outputs": [],
   "source": [
    "# r1 = X.sum(axis=1)\n",
    "# r2 = X.median(axis=1)\n",
    "# r3 = X.min(axis=1)\n",
    "# r4 = X.max(axis=1)\n",
    "# r5 = X.std(axis=1)\n",
    "# r6 = X.apply(np.log).sum(axis=1)\n",
    "# r8 = X.skew(axis=1)\n",
    "# r9 = X.kurtosis(axis=1)\n",
    "\n",
    "# X['row_sum'] = r1\n",
    "# X['row_median'] = r2\n",
    "# X['row_min'] = r3\n",
    "# X['row_max'] = r4\n",
    "# X['row_std'] = r5\n",
    "# X['row_prod'] = r6\n",
    "# X['row_skew'] = r8 \n",
    "# X['row_kurt'] = r9\n",
    "\n",
    "# r1 = X_test.sum(axis=1)\n",
    "# r2 = X_test.median(axis=1)\n",
    "# r3 = X_test.min(axis=1)\n",
    "# r4 = X_test.max(axis=1)\n",
    "# r5 = X_test.std(axis=1)\n",
    "# r6 = X_test.apply(np.log).sum(axis=1)\n",
    "# r8 = X_test.skew(axis=1)\n",
    "# r9 = X_test.kurtosis(axis=1)\n",
    "\n",
    "# X_test['row_sum'] = r1\n",
    "# X_test['row_median'] = r2\n",
    "# X_test['row_min'] = r3\n",
    "# X_test['row_max'] = r4\n",
    "# X_test['row_std'] = r5\n",
    "# X_test['row_prod'] = r6\n",
    "# X_test['row_skew'] = r8 \n",
    "# X_test['row_kurt'] = r9\n"
   ]
  }
 ],
 "metadata": {
  "kernelspec": {
   "display_name": "Python 3",
   "language": "python",
   "name": "python3"
  },
  "language_info": {
   "codemirror_mode": {
    "name": "ipython",
    "version": 3
   },
   "file_extension": ".py",
   "mimetype": "text/x-python",
   "name": "python",
   "nbconvert_exporter": "python",
   "pygments_lexer": "ipython3",
   "version": "3.5.2"
  }
 },
 "nbformat": 4,
 "nbformat_minor": 2
}
