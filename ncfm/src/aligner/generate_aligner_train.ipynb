{
 "cells": [
  {
   "cell_type": "code",
   "execution_count": 2,
   "metadata": {
    "collapsed": false
   },
   "outputs": [],
   "source": [
    "from skimage.data import imread\n",
    "from skimage.io import imshow,imsave\n",
    "from skimage import img_as_float\n",
    "import pandas as pd\n",
    "import numpy as np\n",
    "import cv2\n",
    "from os.path import join\n",
    "from skimage.util import crop\n",
    "from skimage.transform import rotate\n",
    "from skimage.transform import resize\n",
    "import matplotlib.pyplot as plt\n",
    "%matplotlib inline\n",
    "import math\n",
    "import pickle"
   ]
  },
  {
   "cell_type": "code",
   "execution_count": 3,
   "metadata": {
    "collapsed": false
   },
   "outputs": [],
   "source": [
    "label_dir = '/home/ryan/cs/kaggle/ncfm/point_annotations'\n",
    "json_names = ['lag_labels.json',\n",
    "    'alb_labels.json',\n",
    "              'bet_labels.json',\n",
    "              'dol_labels.json',\n",
    "              \n",
    "              'other_labels.json',\n",
    "              'shark_labels.json',\n",
    "              'yft_labels.json',]\n",
    "\n",
    "label_files = []\n",
    "for n in json_names:\n",
    "    label_files.append(join(label_dir, n))\n",
    "\n",
    "img_dir = '/home/ryan/cs/datasets/ncfm/train'\n",
    "\n",
    "\n",
    "\n",
    "save_path = '/home/ryan/cs/datasets/ncfm/aligner_train.pkl'\n",
    "\n",
    "img_out_size = 224"
   ]
  },
  {
   "cell_type": "code",
   "execution_count": 3,
   "metadata": {
    "collapsed": true
   },
   "outputs": [],
   "source": [
    "def get_angle(row):\n",
    "    if len(row['annotations']) < 2:\n",
    "        return float('NaN')\n",
    "    p1 = row['annotations'][0]\n",
    "    p2 = row['annotations'][1]\n",
    "    return deg_angle_between(p1['x'],p1['y'], p2['x'], p2['y'])\n",
    "\n",
    "def deg_angle_between(x1,y1,x2,y2):\n",
    "    from math import atan2, degrees, pi\n",
    "    dx = x2 - x1\n",
    "    dy = y2 - y1\n",
    "    rads = atan2(-dy,dx)\n",
    "    rads %= 2*pi\n",
    "    degs = degrees(rads)\n",
    "    if degs > 180:\n",
    "        degs -= 360\n",
    "    return(-1*degs)"
   ]
  },
  {
   "cell_type": "code",
   "execution_count": 4,
   "metadata": {
    "collapsed": false
   },
   "outputs": [],
   "source": [
    "def get_img(row):\n",
    "    if len(row['annotations']) < 2:\n",
    "        return float('NaN')\n",
    "    p1 = row['annotations'][0]\n",
    "    p2 = row['annotations'][1]\n",
    "\n",
    "    img = imread(join(img_dir,row['filename']))\n",
    "\n",
    "    boxed = get_cropped_fish(img, \n",
    "        int(p1['x']), int(p1['y']), int(p2['x']), int(p2['y']))\n",
    "\n",
    "    return boxed\n",
    "    \n",
    "\n",
    "def get_cropped_fish(img,x1,y1,x2,y2):\n",
    "    (h,w) = img.shape[:2]\n",
    "    #calculate center and angle\n",
    "    center = ( (x1+x2) / 2,(y1+y2) / 2)\n",
    "    angle = np.floor(-deg_angle_between(x1,y1,x2,y2))\n",
    "    #print('angle=' +str(angle) + ' ')\n",
    "    #print('center=' +str(center))\n",
    "    \n",
    "    #M = cv2.getRotationMatrix2D(center, angle, 1.0)\n",
    "    #rotated = cv2.warpAffine(img, M, (w, h))\n",
    "    \n",
    "    fish_length = np.sqrt((x1-x2)**2+(y1-y2)**2)\n",
    "    \n",
    "    cropped = img[(max((center[1]-int(fish_length/1.8)),0)):(max((center[1]+int(fish_length/1.8)),0)) ,\n",
    "                      (max((center[0]-int(fish_length/1.8)),0)):(max((center[0]+int(fish_length/1.8)),0))]\n",
    "    resized = resize(cropped,(img_out_size,img_out_size))\n",
    "    return resized"
   ]
  },
  {
   "cell_type": "code",
   "execution_count": 14,
   "metadata": {
    "collapsed": false,
    "scrolled": true
   },
   "outputs": [
    {
     "name": "stdout",
     "output_type": "stream",
     "text": [
      "Calculated rotations.\n"
     ]
    }
   ],
   "source": [
    "labels = None\n",
    "for i in range(len(label_files)):\n",
    "    f_labels = pd.read_json(label_files[i])\n",
    "    f_labels['fish'] = i\n",
    "    if labels is None:\n",
    "        labels = f_labels\n",
    "    else:\n",
    "        labels = labels.append(f_labels)\n",
    "\n",
    "labels['rotation'] = labels.apply(get_angle, axis=1)\n",
    "labels = labels.dropna()\n",
    "print 'Calculated rotations.'"
   ]
  },
  {
   "cell_type": "code",
   "execution_count": 15,
   "metadata": {
    "collapsed": false
   },
   "outputs": [],
   "source": [
    "images = np.zeros((len(labels), img_out_size, img_out_size, 3))\n",
    "counter = 0\n",
    "for _, row in labels.iterrows():\n",
    "    images[counter] = get_img(row)\n",
    "    counter += 1"
   ]
  },
  {
   "cell_type": "code",
   "execution_count": 16,
   "metadata": {
    "collapsed": false
   },
   "outputs": [
    {
     "name": "stdout",
     "output_type": "stream",
     "text": [
      "3299\n",
      "3299\n"
     ]
    }
   ],
   "source": [
    "print len(images)\n",
    "print len(labels['rotation'])"
   ]
  },
  {
   "cell_type": "code",
   "execution_count": 17,
   "metadata": {
    "collapsed": true
   },
   "outputs": [],
   "source": [
    "train_set = {'images': images, 'labels': labels['rotation'].values}\n",
    "pickle.dump(train_set, open(save_path, 'wb'))"
   ]
  },
  {
   "cell_type": "code",
   "execution_count": null,
   "metadata": {
    "collapsed": true
   },
   "outputs": [],
   "source": []
  }
 ],
 "metadata": {
  "kernelspec": {
   "display_name": "Python [default]",
   "language": "python",
   "name": "python2"
  },
  "language_info": {
   "codemirror_mode": {
    "name": "ipython",
    "version": 2
   },
   "file_extension": ".py",
   "mimetype": "text/x-python",
   "name": "python",
   "nbconvert_exporter": "python",
   "pygments_lexer": "ipython2",
   "version": "2.7.13"
  }
 },
 "nbformat": 4,
 "nbformat_minor": 1
}
