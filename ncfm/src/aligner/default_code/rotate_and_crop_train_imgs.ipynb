{
 "cells": [
  {
   "cell_type": "code",
   "execution_count": 1,
   "metadata": {
    "collapsed": true
   },
   "outputs": [],
   "source": [
    "from skimage.data import imread\n",
    "from skimage.io import imshow\n",
    "import pandas as pd\n",
    "import numpy as np\n",
    "import cv2\n",
    "from skimage.util import crop\n",
    "from skimage.transform import rotate\n",
    "import matplotlib.pyplot as plt\n",
    "%matplotlib inline\n",
    "import math"
   ]
  },
  {
   "cell_type": "code",
   "execution_count": 2,
   "metadata": {
    "collapsed": true
   },
   "outputs": [],
   "source": [
    "def deg_angle_between(x1,y1,x2,y2):\n",
    "    from math import atan2, degrees, pi\n",
    "    dx = x2 - x1\n",
    "    dy = y2 - y1\n",
    "    rads = atan2(-dy,dx)\n",
    "    rads %= 2*pi\n",
    "    degs = degrees(rads)\n",
    "    return(degs)"
   ]
  },
  {
   "cell_type": "code",
   "execution_count": 18,
   "metadata": {
    "collapsed": true
   },
   "outputs": [],
   "source": [
    "def get_rotated_cropped_fish(img,x1,y1,x2,y2):\n",
    "    (h,w) = img.shape[:2]\n",
    "    #calculate center and angle\n",
    "    center = ( (x1+x2) / 2,(y1+y2) / 2)\n",
    "    angle = np.floor(-deg_angle_between(x1,y1,x2,y2))\n",
    "    #print('angle=' +str(angle) + ' ')\n",
    "    #print('center=' +str(center))\n",
    "    M = cv2.getRotationMatrix2D(center, angle, 1.0)\n",
    "    rotated = cv2.warpAffine(img, M, (w, h))\n",
    "    \n",
    "    fish_length = np.sqrt((x1-x2)**2+(y1-y2)**2)\n",
    "    cropped = rotated[((center[1]-fish_length/1.8)):((center[1]+fish_length/1.8)) ,\n",
    "                      ((center[0]- fish_length/1.8)):((center[0]+fish_length/1.8))]\n",
    "    #imshow(img)\n",
    "    #imshow(rotated)\n",
    "    #imshow(cropped)\n",
    "    return(cropped)"
   ]
  },
  {
   "cell_type": "code",
   "execution_count": 19,
   "metadata": {
    "collapsed": true
   },
   "outputs": [],
   "source": [
    "data_dir = '/home/nati/data/kaggle/fish/input/train/ALB/'\n",
    "labels = pd.read_json(data_dir+'alb_labels.json')\n",
    "img_filename = labels.iloc[60,2]\n",
    "l1 = pd.DataFrame((labels[labels.filename==img_filename].annotations).iloc[0])\n",
    "image = imread(data_dir+img_filename)\n"
   ]
  },
  {
   "cell_type": "code",
   "execution_count": 38,
   "metadata": {
    "collapsed": true
   },
   "outputs": [],
   "source": [
    "images = list()"
   ]
  },
  {
   "cell_type": "code",
   "execution_count": 39,
   "metadata": {
    "collapsed": false,
    "scrolled": false
   },
   "outputs": [
    {
     "name": "stderr",
     "output_type": "stream",
     "text": [
      "/usr/local/lib/python2.7/dist-packages/ipykernel/__main__.py:13: VisibleDeprecationWarning: using a non-integer number instead of an integer will result in an error in the future\n"
     ]
    }
   ],
   "source": [
    "\n",
    "for i in range(1,60):\n",
    "    img_filename = labels.iloc[i,2]\n",
    "    l1 = pd.DataFrame((labels[labels.filename==img_filename].annotations).iloc[0])\n",
    "    image = imread(data_dir+img_filename)\n",
    "    images.append(get_rotated_cropped_fish(image,np.floor(l1.iloc[0,1]),np.floor(l1.iloc[0,2]),np.floor(l1.iloc[1,1]),np.floor(l1.iloc[1,2])))"
   ]
  },
  {
   "cell_type": "code",
   "execution_count": 54,
   "metadata": {
    "collapsed": false
   },
   "outputs": [
    {
     "data": {
      "text/plain": [
       "array([[[ 50,  53,  60],\n",
       "        [ 50,  53,  60],\n",
       "        [ 50,  53,  60],\n",
       "        ..., \n",
       "        [137, 137, 135],\n",
       "        [137, 137, 135],\n",
       "        [138, 138, 136]],\n",
       "\n",
       "       [[ 50,  53,  60],\n",
       "        [ 50,  53,  60],\n",
       "        [ 50,  53,  60],\n",
       "        ..., \n",
       "        [137, 137, 135],\n",
       "        [138, 138, 136],\n",
       "        [138, 138, 136]],\n",
       "\n",
       "       [[ 50,  53,  60],\n",
       "        [ 50,  53,  60],\n",
       "        [ 50,  53,  60],\n",
       "        ..., \n",
       "        [137, 137, 135],\n",
       "        [137, 137, 135],\n",
       "        [138, 138, 136]],\n",
       "\n",
       "       ..., \n",
       "       [[ 78,  82,  85],\n",
       "        [ 78,  82,  85],\n",
       "        [ 78,  82,  85],\n",
       "        ..., \n",
       "        [ 73,  83,  75],\n",
       "        [ 78,  88,  80],\n",
       "        [ 80,  90,  82]],\n",
       "\n",
       "       [[ 78,  82,  85],\n",
       "        [ 78,  82,  85],\n",
       "        [ 78,  82,  85],\n",
       "        ..., \n",
       "        [ 70,  80,  72],\n",
       "        [ 75,  85,  77],\n",
       "        [ 78,  88,  80]],\n",
       "\n",
       "       [[ 78,  82,  85],\n",
       "        [ 78,  82,  85],\n",
       "        [ 78,  82,  85],\n",
       "        ..., \n",
       "        [ 67,  77,  69],\n",
       "        [ 72,  82,  74],\n",
       "        [ 74,  84,  76]]], dtype=uint8)"
      ]
     },
     "execution_count": 54,
     "metadata": {},
     "output_type": "execute_result"
    }
   ],
   "source": [
    "#imshow(images[3])\n",
    "images[1]"
   ]
  }
 ],
 "metadata": {
  "kernelspec": {
   "display_name": "Python 2",
   "language": "python",
   "name": "python2"
  },
  "language_info": {
   "codemirror_mode": {
    "name": "ipython",
    "version": 2
   },
   "file_extension": ".py",
   "mimetype": "text/x-python",
   "name": "python",
   "nbconvert_exporter": "python",
   "pygments_lexer": "ipython2",
   "version": "2.7.12"
  }
 },
 "nbformat": 4,
 "nbformat_minor": 1
}
