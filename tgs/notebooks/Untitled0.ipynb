{
 "cells": [
  {
   "cell_type": "code",
   "execution_count": 1,
   "metadata": {},
   "outputs": [
    {
     "name": "stderr",
     "output_type": "stream",
     "text": [
      "Using TensorFlow backend.\n"
     ]
    }
   ],
   "source": [
    "import os\n",
    "import sys\n",
    "import random\n",
    "\n",
    "import pandas as pd\n",
    "import numpy as np\n",
    "import matplotlib.pyplot as plt\n",
    "plt.style.use('seaborn-white')\n",
    "import seaborn as sns\n",
    "sns.set_style(\"white\")\n",
    "\n",
    "%matplotlib inline\n",
    "\n",
    "# import cv2\n",
    "from sklearn.model_selection import train_test_split\n",
    "\n",
    "from tqdm import tqdm_notebook #, tnrange\n",
    "#from itertools import chain\n",
    "from skimage.io import imread, imshow #, concatenate_images\n",
    "from skimage.transform import resize\n",
    "from skimage.morphology import label\n",
    "\n",
    "from keras.models import Model, load_model, save_model\n",
    "from keras.layers import Input,Dropout,BatchNormalization,Activation,Add\n",
    "from keras.layers.core import Lambda\n",
    "from keras.layers.convolutional import Conv2D, Conv2DTranspose\n",
    "from keras.layers.pooling import MaxPooling2D\n",
    "from keras.layers.merge import concatenate\n",
    "from keras.callbacks import EarlyStopping, ModelCheckpoint, ReduceLROnPlateau\n",
    "from keras import backend as K\n",
    "from keras import optimizers\n",
    "\n",
    "import tensorflow as tf\n",
    "\n",
    "from keras.preprocessing.image import array_to_img, img_to_array, load_img#,save_img\n",
    "\n",
    "import time\n",
    "t_start = time.time()"
   ]
  },
  {
   "cell_type": "code",
   "execution_count": 2,
   "metadata": {},
   "outputs": [],
   "source": [
    "version = 1\n",
    "basic_name = 'Unet_resnet_v{}'.format(version)\n",
    "save_model_name = basic_name + '.model'\n",
    "submission_file = basic_name + '.csv'"
   ]
  },
  {
   "cell_type": "code",
   "execution_count": 3,
   "metadata": {},
   "outputs": [],
   "source": [
    "img_size_ori = 101\n",
    "img_size_target = 101\n",
    "\n",
    "def upsample(img):# not used\n",
    "    if img_size_ori == img_size_target:\n",
    "        return img\n",
    "    return resize(img, (img_size_target, img_size_target), mode='constant', preserve_range=True)\n",
    "    \n",
    "def downsample(img):# not used\n",
    "    if img_size_ori == img_size_target:\n",
    "        return img\n",
    "    return resize(img, (img_size_ori, img_size_ori), mode='constant', preserve_range=True)"
   ]
  },
  {
   "cell_type": "code",
   "execution_count": 4,
   "metadata": {},
   "outputs": [
    {
     "data": {
      "text/plain": [
       "4000"
      ]
     },
     "execution_count": 4,
     "metadata": {},
     "output_type": "execute_result"
    }
   ],
   "source": [
    "# Loading of training/testing ids and depths\n",
    "train_df = pd.read_csv(\"/home/ryan/cs/datasets/tgs/train.csv\", index_col=\"id\", usecols=[0])\n",
    "depths_df = pd.read_csv(\"/home/ryan/cs/datasets/tgs/depths.csv\", index_col=\"id\")\n",
    "train_df = train_df.join(depths_df)\n",
    "test_df = depths_df[~depths_df.index.isin(train_df.index)]\n",
    "\n",
    "len(train_df)"
   ]
  },
  {
   "cell_type": "code",
   "execution_count": 5,
   "metadata": {},
   "outputs": [
    {
     "data": {
      "application/vnd.jupyter.widget-view+json": {
       "model_id": "5ad90ceda4c84eff8aeb99bfcdb1d165",
       "version_major": 2,
       "version_minor": 0
      },
      "text/plain": [
       "HBox(children=(IntProgress(value=0, max=4000), HTML(value='')))"
      ]
     },
     "metadata": {},
     "output_type": "display_data"
    },
    {
     "name": "stdout",
     "output_type": "stream",
     "text": [
      "\n"
     ]
    }
   ],
   "source": [
    "train_df[\"images\"] = [np.array(load_img(\"/home/ryan/cs/datasets/tgs/train/images/{}.png\".format(idx), \\\n",
    "                                        color_mode=\"grayscale\")) / 255 for idx in tqdm_notebook(train_df.index)]"
   ]
  },
  {
   "cell_type": "code",
   "execution_count": 6,
   "metadata": {},
   "outputs": [
    {
     "data": {
      "application/vnd.jupyter.widget-view+json": {
       "model_id": "8c85b1db45084abb9ac70a118d27e878",
       "version_major": 2,
       "version_minor": 0
      },
      "text/plain": [
       "HBox(children=(IntProgress(value=0, max=4000), HTML(value='')))"
      ]
     },
     "metadata": {},
     "output_type": "display_data"
    },
    {
     "name": "stdout",
     "output_type": "stream",
     "text": [
      "\n"
     ]
    }
   ],
   "source": [
    "train_df[\"masks\"] = [np.array(load_img(\"/home/ryan/cs/datasets/tgs/train/masks/{}.png\".format(idx), \\\n",
    "                                       color_mode=\"grayscale\"\n",
    "                                      )) / 255 for idx in tqdm_notebook(train_df.index)]"
   ]
  },
  {
   "cell_type": "code",
   "execution_count": 7,
   "metadata": {},
   "outputs": [],
   "source": [
    "train_df[\"coverage\"] = train_df.masks.map(np.sum) / pow(img_size_ori, 2)\n",
    "\n",
    "def cov_to_class(val):    \n",
    "    for i in range(0, 11):\n",
    "        if val * 10 <= i :\n",
    "            return i\n",
    "        \n",
    "train_df[\"coverage_class\"] = train_df.coverage.map(cov_to_class)"
   ]
  },
  {
   "cell_type": "code",
   "execution_count": 8,
   "metadata": {},
   "outputs": [
    {
     "data": {
      "text/plain": [
       "Text(0.5,0,'Coverage class')"
      ]
     },
     "execution_count": 8,
     "metadata": {},
     "output_type": "execute_result"
    },
    {
     "data": {
      "image/png": "[encoded data removed]",
      "text/plain": [
       "<Figure size 1080x360 with 2 Axes>"
      ]
     },
     "metadata": {
      "needs_background": "light"
     },
     "output_type": "display_data"
    }
   ],
   "source": [
    "fig, axs = plt.subplots(1, 2, figsize=(15,5))\n",
    "sns.distplot(train_df.coverage, kde=False, ax=axs[0])\n",
    "sns.distplot(train_df.coverage_class, bins=10, kde=False, ax=axs[1])\n",
    "plt.suptitle(\"Salt coverage\")\n",
    "axs[0].set_xlabel(\"Coverage\")\n",
    "axs[1].set_xlabel(\"Coverage class\")"
   ]
  },
  {
   "cell_type": "code",
   "execution_count": 9,
   "metadata": {},
   "outputs": [
    {
     "data": {
      "text/plain": [
       "Text(0.5,1,'Depth distribution')"
      ]
     },
     "execution_count": 9,
     "metadata": {},
     "output_type": "execute_result"
    },
    {
     "data": {
      "image/png": "[encoded data removed]",
      "text/plain": [
       "<Figure size 432x288 with 1 Axes>"
      ]
     },
     "metadata": {
      "needs_background": "light"
     },
     "output_type": "display_data"
    }
   ],
   "source": [
    "#Plotting the depth distributions¶\n",
    "\n",
    "sns.distplot(train_df.z, label=\"Train\")\n",
    "sns.distplot(test_df.z, label=\"Test\")\n",
    "plt.legend()\n",
    "plt.title(\"Depth distribution\")"
   ]
  },
  {
   "cell_type": "code",
   "execution_count": 1,
   "metadata": {},
   "outputs": [
    {
     "ename": "NameError",
     "evalue": "name 'train_test_split' is not defined",
     "output_type": "error",
     "traceback": [
      "\u001b[0;31m---------------------------------------------------------------------------\u001b[0m",
      "\u001b[0;31mNameError\u001b[0m                                 Traceback (most recent call last)",
      "\u001b[0;32m<ipython-input-1-56a03e9c3870>\u001b[0m in \u001b[0;36m<module>\u001b[0;34m()\u001b[0m\n\u001b[1;32m      1\u001b[0m \u001b[0;31m# Create train/validation split stratified by salt coverage\u001b[0m\u001b[0;34m\u001b[0m\u001b[0;34m\u001b[0m\u001b[0m\n\u001b[1;32m      2\u001b[0m \u001b[0;34m\u001b[0m\u001b[0m\n\u001b[0;32m----> 3\u001b[0;31m ids_train, ids_valid, x_train, x_valid, y_train, y_valid, cov_train, cov_test, depth_train, depth_test = train_test_split(\n\u001b[0m\u001b[1;32m      4\u001b[0m     \u001b[0mtrain_df\u001b[0m\u001b[0;34m.\u001b[0m\u001b[0mindex\u001b[0m\u001b[0;34m.\u001b[0m\u001b[0mvalues\u001b[0m\u001b[0;34m,\u001b[0m\u001b[0;34m\u001b[0m\u001b[0m\n\u001b[1;32m      5\u001b[0m     \u001b[0mnp\u001b[0m\u001b[0;34m.\u001b[0m\u001b[0marray\u001b[0m\u001b[0;34m(\u001b[0m\u001b[0mtrain_df\u001b[0m\u001b[0;34m.\u001b[0m\u001b[0mimages\u001b[0m\u001b[0;34m.\u001b[0m\u001b[0mmap\u001b[0m\u001b[0;34m(\u001b[0m\u001b[0mupsample\u001b[0m\u001b[0;34m)\u001b[0m\u001b[0;34m.\u001b[0m\u001b[0mtolist\u001b[0m\u001b[0;34m(\u001b[0m\u001b[0;34m)\u001b[0m\u001b[0;34m)\u001b[0m\u001b[0;34m.\u001b[0m\u001b[0mreshape\u001b[0m\u001b[0;34m(\u001b[0m\u001b[0;34m-\u001b[0m\u001b[0;36m1\u001b[0m\u001b[0;34m,\u001b[0m \u001b[0mimg_size_target\u001b[0m\u001b[0;34m,\u001b[0m \u001b[0mimg_size_target\u001b[0m\u001b[0;34m,\u001b[0m \u001b[0;36m1\u001b[0m\u001b[0;34m)\u001b[0m\u001b[0;34m,\u001b[0m\u001b[0;34m\u001b[0m\u001b[0m\n",
      "\u001b[0;31mNameError\u001b[0m: name 'train_test_split' is not defined"
     ]
    }
   ],
   "source": [
    "# Create train/validation split stratified by salt coverage\n",
    "\n",
    "ids_train, ids_valid, x_train, x_valid, y_train, y_valid, cov_train, cov_test, depth_train, depth_test = train_test_split(\n",
    "    train_df.index.values,\n",
    "    np.array(train_df.images.map(upsample).tolist()).reshape(-1, img_size_target, img_size_target, 1), \n",
    "    np.array(train_df.masks.map(upsample).tolist()).reshape(-1, img_size_target, img_size_target, 1), \n",
    "    train_df.coverage.values,\n",
    "    train_df.z.values,\n",
    "    test_size=0.2, stratify=train_df.coverage_class, random_state= 1234)"
   ]
  },
  {
   "cell_type": "code",
   "execution_count": 11,
   "metadata": {},
   "outputs": [],
   "source": [
    "def BatchActivate(x):\n",
    "    x = BatchNormalization()(x)\n",
    "    x = Activation('relu')(x)\n",
    "    return x\n",
    "\n",
    "def convolution_block(x, filters, size, strides=(1,1), padding='same', activation=True):\n",
    "    x = Conv2D(filters, size, strides=strides, padding=padding)(x)\n",
    "    if activation == True:\n",
    "        x = BatchActivate(x)\n",
    "    return x\n",
    "\n",
    "def residual_block(blockInput, num_filters=16, batch_activate = False):\n",
    "    x = BatchActivate(blockInput)\n",
    "    x = convolution_block(x, num_filters, (3,3) )\n",
    "    x = convolution_block(x, num_filters, (3,3), activation=False)\n",
    "    x = Add()([x, blockInput])\n",
    "    if batch_activate:\n",
    "        x = BatchActivate(x)\n",
    "    return x"
   ]
  },
  {
   "cell_type": "code",
   "execution_count": 2,
   "metadata": {},
   "outputs": [],
   "source": [
    "# Build model\n",
    "def build_model(input_layer, start_neurons, DropoutRatio = 0.5):\n",
    "    # 101 -> 50\n",
    "    conv1 = Conv2D(start_neurons * 1, (3, 3), activation=None, padding=\"same\")(input_layer)\n",
    "    conv1 = residual_block(conv1,start_neurons * 1)\n",
    "    conv1 = residual_block(conv1,start_neurons * 1, True)\n",
    "    pool1 = MaxPooling2D((2, 2))(conv1)\n",
    "    pool1 = Dropout(DropoutRatio/2)(pool1)\n",
    "\n",
    "    # 50 -> 25\n",
    "    conv2 = Conv2D(start_neurons * 2, (3, 3), activation=None, padding=\"same\")(pool1)\n",
    "    conv2 = residual_block(conv2,start_neurons * 2)\n",
    "    conv2 = residual_block(conv2,start_neurons * 2, True)\n",
    "    pool2 = MaxPooling2D((2, 2))(conv2)\n",
    "    pool2 = Dropout(DropoutRatio)(pool2)\n",
    "\n",
    "    # 25 -> 12\n",
    "    conv3 = Conv2D(start_neurons * 4, (3, 3), activation=None, padding=\"same\")(pool2)\n",
    "    conv3 = residual_block(conv3,start_neurons * 4)\n",
    "    conv3 = residual_block(conv3,start_neurons * 4, True)\n",
    "    pool3 = MaxPooling2D((2, 2))(conv3)\n",
    "    pool3 = Dropout(DropoutRatio)(pool3)\n",
    "\n",
    "    # 12 -> 6\n",
    "    conv4 = Conv2D(start_neurons * 8, (3, 3), activation=None, padding=\"same\")(pool3)\n",
    "    conv4 = residual_block(conv4,start_neurons * 8)\n",
    "    conv4 = residual_block(conv4,start_neurons * 8, True)\n",
    "    pool4 = MaxPooling2D((2, 2))(conv4)\n",
    "    pool4 = Dropout(DropoutRatio)(pool4)\n",
    "\n",
    "    # Middle\n",
    "    convm = Conv2D(start_neurons * 16, (3, 3), activation=None, padding=\"same\")(pool4)\n",
    "    convm = residual_block(convm,start_neurons * 16)\n",
    "    convm = residual_block(convm,start_neurons * 16, True)\n",
    "    \n",
    "    # 6 -> 12\n",
    "    deconv4 = Conv2DTranspose(start_neurons * 8, (3, 3), strides=(2, 2), padding=\"same\")(convm)\n",
    "    uconv4 = concatenate([deconv4, conv4])\n",
    "    uconv4 = Dropout(DropoutRatio)(uconv4)\n",
    "    \n",
    "    uconv4 = Conv2D(start_neurons * 8, (3, 3), activation=None, padding=\"same\")(uconv4)\n",
    "    uconv4 = residual_block(uconv4,start_neurons * 8)\n",
    "    uconv4 = residual_block(uconv4,start_neurons * 8, True)\n",
    "    \n",
    "    # 12 -> 25\n",
    "    #deconv3 = Conv2DTranspose(start_neurons * 4, (3, 3), strides=(2, 2), padding=\"same\")(uconv4)\n",
    "    deconv3 = Conv2DTranspose(start_neurons * 4, (3, 3), strides=(2, 2), padding=\"valid\")(uconv4)\n",
    "    uconv3 = concatenate([deconv3, conv3])    \n",
    "    uconv3 = Dropout(DropoutRatio)(uconv3)\n",
    "    \n",
    "    uconv3 = Conv2D(start_neurons * 4, (3, 3), activation=None, padding=\"same\")(uconv3)\n",
    "    uconv3 = residual_block(uconv3,start_neurons * 4)\n",
    "    uconv3 = residual_block(uconv3,start_neurons * 4, True)\n",
    "\n",
    "    # 25 -> 50\n",
    "    deconv2 = Conv2DTranspose(start_neurons * 2, (3, 3), strides=(2, 2), padding=\"same\")(uconv3)\n",
    "    uconv2 = concatenate([deconv2, conv2])\n",
    "        \n",
    "    uconv2 = Dropout(DropoutRatio)(uconv2)\n",
    "    uconv2 = Conv2D(start_neurons * 2, (3, 3), activation=None, padding=\"same\")(uconv2)\n",
    "    uconv2 = residual_block(uconv2,start_neurons * 2)\n",
    "    uconv2 = residual_block(uconv2,start_neurons * 2, True)\n",
    "    \n",
    "    # 50 -> 101\n",
    "    #deconv1 = Conv2DTranspose(start_neurons * 1, (3, 3), strides=(2, 2), padding=\"same\")(uconv2)\n",
    "    deconv1 = Conv2DTranspose(start_neurons * 1, (3, 3), strides=(2, 2), padding=\"valid\")(uconv2)\n",
    "    uconv1 = concatenate([deconv1, conv1])\n",
    "    \n",
    "    uconv1 = Dropout(DropoutRatio)(uconv1)\n",
    "    uconv1 = Conv2D(start_neurons * 1, (3, 3), activation=None, padding=\"same\")(uconv1)\n",
    "    uconv1 = residual_block(uconv1,start_neurons * 1)\n",
    "    uconv1 = residual_block(uconv1,start_neurons * 1, True)\n",
    "    \n",
    "    #uconv1 = Dropout(DropoutRatio/2)(uconv1)\n",
    "    #output_layer = Conv2D(1, (1,1), padding=\"same\", activation=\"sigmoid\")(uconv1)\n",
    "    output_layer_noActi = Conv2D(1, (1,1), padding=\"same\", activation=None)(uconv1)\n",
    "    output_layer =  Activation('sigmoid')(output_layer_noActi)\n",
    "    \n",
    "    return output_layer"
   ]
  },
  {
   "cell_type": "code",
   "execution_count": 13,
   "metadata": {},
   "outputs": [],
   "source": [
    "def get_iou_vector(A, B):\n",
    "    batch_size = A.shape[0]\n",
    "    metric = []\n",
    "    for batch in range(batch_size):\n",
    "        t, p = A[batch]>0, B[batch]>0\n",
    "#         if np.count_nonzero(t) == 0 and np.count_nonzero(p) > 0:\n",
    "#             metric.append(0)\n",
    "#             continue\n",
    "#         if np.count_nonzero(t) >= 1 and np.count_nonzero(p) == 0:\n",
    "#             metric.append(0)\n",
    "#             continue\n",
    "#         if np.count_nonzero(t) == 0 and np.count_nonzero(p) == 0:\n",
    "#             metric.append(1)\n",
    "#             continue\n",
    "        \n",
    "        intersection = np.logical_and(t, p)\n",
    "        union = np.logical_or(t, p)\n",
    "        iou = (np.sum(intersection > 0) + 1e-10 )/ (np.sum(union > 0) + 1e-10)\n",
    "        thresholds = np.arange(0.5, 1, 0.05)\n",
    "        s = []\n",
    "        for thresh in thresholds:\n",
    "            s.append(iou > thresh)\n",
    "        metric.append(np.mean(s))\n",
    "\n",
    "    return np.mean(metric)\n",
    "\n",
    "def my_iou_metric(label, pred):\n",
    "    return tf.py_func(get_iou_vector, [label, pred>0.5], tf.float64)\n",
    "\n",
    "def my_iou_metric_2(label, pred):\n",
    "    return tf.py_func(get_iou_vector, [label, pred >0], tf.float64)"
   ]
  },
  {
   "cell_type": "code",
   "execution_count": 14,
   "metadata": {},
   "outputs": [],
   "source": [
    "# code download from: https://github.com/bermanmaxim/LovaszSoftmax\n",
    "def lovasz_grad(gt_sorted):\n",
    "    \"\"\"\n",
    "    Computes gradient of the Lovasz extension w.r.t sorted errors\n",
    "    See Alg. 1 in paper\n",
    "    \"\"\"\n",
    "    gts = tf.reduce_sum(gt_sorted)\n",
    "    intersection = gts - tf.cumsum(gt_sorted)\n",
    "    union = gts + tf.cumsum(1. - gt_sorted)\n",
    "    jaccard = 1. - intersection / union\n",
    "    jaccard = tf.concat((jaccard[0:1], jaccard[1:] - jaccard[:-1]), 0)\n",
    "    return jaccard\n",
    "\n",
    "\n",
    "# --------------------------- BINARY LOSSES ---------------------------\n",
    "\n",
    "def lovasz_hinge(logits, labels, per_image=True, ignore=None):\n",
    "    \"\"\"\n",
    "    Binary Lovasz hinge loss\n",
    "      logits: [B, H, W] Variable, logits at each pixel (between -\\infty and +\\infty)\n",
    "      labels: [B, H, W] Tensor, binary ground truth masks (0 or 1)\n",
    "      per_image: compute the loss per image instead of per batch\n",
    "      ignore: void class id\n",
    "    \"\"\"\n",
    "    if per_image:\n",
    "        def treat_image(log_lab):\n",
    "            log, lab = log_lab\n",
    "            log, lab = tf.expand_dims(log, 0), tf.expand_dims(lab, 0)\n",
    "            log, lab = flatten_binary_scores(log, lab, ignore)\n",
    "            return lovasz_hinge_flat(log, lab)\n",
    "        losses = tf.map_fn(treat_image, (logits, labels), dtype=tf.float32)\n",
    "        loss = tf.reduce_mean(losses)\n",
    "    else:\n",
    "        loss = lovasz_hinge_flat(*flatten_binary_scores(logits, labels, ignore))\n",
    "    return loss\n",
    "\n",
    "\n",
    "def lovasz_hinge_flat(logits, labels):\n",
    "    \"\"\"\n",
    "    Binary Lovasz hinge loss\n",
    "      logits: [P] Variable, logits at each prediction (between -\\infty and +\\infty)\n",
    "      labels: [P] Tensor, binary ground truth labels (0 or 1)\n",
    "      ignore: label to ignore\n",
    "    \"\"\"\n",
    "\n",
    "    def compute_loss():\n",
    "        labelsf = tf.cast(labels, logits.dtype)\n",
    "        signs = 2. * labelsf - 1.\n",
    "        errors = 1. - logits * tf.stop_gradient(signs)\n",
    "        errors_sorted, perm = tf.nn.top_k(errors, k=tf.shape(errors)[0], name=\"descending_sort\")\n",
    "        gt_sorted = tf.gather(labelsf, perm)\n",
    "        grad = lovasz_grad(gt_sorted)\n",
    "        loss = tf.tensordot(tf.nn.relu(errors_sorted), tf.stop_gradient(grad), 1, name=\"loss_non_void\")\n",
    "        return loss\n",
    "\n",
    "    # deal with the void prediction case (only void pixels)\n",
    "    loss = tf.cond(tf.equal(tf.shape(logits)[0], 0),\n",
    "                   lambda: tf.reduce_sum(logits) * 0.,\n",
    "                   compute_loss,\n",
    "                   strict=True,\n",
    "                   name=\"loss\"\n",
    "                   )\n",
    "    return loss\n",
    "\n",
    "\n",
    "def flatten_binary_scores(scores, labels, ignore=None):\n",
    "    \"\"\"\n",
    "    Flattens predictions in the batch (binary case)\n",
    "    Remove labels equal to 'ignore'\n",
    "    \"\"\"\n",
    "    scores = tf.reshape(scores, (-1,))\n",
    "    labels = tf.reshape(labels, (-1,))\n",
    "    if ignore is None:\n",
    "        return scores, labels\n",
    "    valid = tf.not_equal(labels, ignore)\n",
    "    vscores = tf.boolean_mask(scores, valid, name='valid_scores')\n",
    "    vlabels = tf.boolean_mask(labels, valid, name='valid_labels')\n",
    "    return vscores, vlabels\n",
    "\n",
    "def lovasz_loss(y_true, y_pred):\n",
    "    y_true, y_pred = K.cast(K.squeeze(y_true, -1), 'int32'), K.cast(K.squeeze(y_pred, -1), 'float32')\n",
    "    #logits = K.log(y_pred / (1. - y_pred))\n",
    "    logits = y_pred #Jiaxin\n",
    "    loss = lovasz_hinge(logits, y_true, per_image = True, ignore = None)\n",
    "    return loss"
   ]
  },
  {
   "cell_type": "code",
   "execution_count": 15,
   "metadata": {},
   "outputs": [
    {
     "name": "stdout",
     "output_type": "stream",
     "text": [
      "(6400, 101, 101, 1)\n",
      "(800, 101, 101, 1)\n"
     ]
    }
   ],
   "source": [
    "#Data augmentation\n",
    "x_train = np.append(x_train, [np.fliplr(x) for x in x_train], axis=0)\n",
    "y_train = np.append(y_train, [np.fliplr(x) for x in y_train], axis=0)\n",
    "print(x_train.shape)\n",
    "print(y_valid.shape)"
   ]
  },
  {
   "cell_type": "code",
   "execution_count": 16,
   "metadata": {},
   "outputs": [],
   "source": [
    "# model\n",
    "input_layer = Input((img_size_target, img_size_target, 1))\n",
    "output_layer = build_model(input_layer, 16,0.5)\n",
    "\n",
    "model1 = Model(input_layer, output_layer)\n",
    "\n",
    "c = optimizers.adam(lr = 0.01)\n",
    "model1.compile(loss=\"binary_crossentropy\", optimizer=c, metrics=[my_iou_metric])\n",
    "\n",
    "#model1.summary()"
   ]
  },
  {
   "cell_type": "code",
   "execution_count": 17,
   "metadata": {},
   "outputs": [
    {
     "name": "stdout",
     "output_type": "stream",
     "text": [
      "Train on 6400 samples, validate on 800 samples\n",
      "Epoch 1/50\n",
      " - 29s - loss: 0.4052 - my_iou_metric: 0.3799 - val_loss: 1.4488 - val_my_iou_metric: 0.3107\n",
      "\n",
      "Epoch 00001: my_iou_metric improved from -inf to 0.37991, saving model to Unet_resnet_v1.model\n",
      "Epoch 2/50\n",
      " - 22s - loss: 0.3445 - my_iou_metric: 0.4883 - val_loss: 0.6413 - val_my_iou_metric: 0.3900\n",
      "\n",
      "Epoch 00002: my_iou_metric improved from 0.37991 to 0.48833, saving model to Unet_resnet_v1.model\n",
      "Epoch 3/50\n",
      " - 22s - loss: 0.3127 - my_iou_metric: 0.5206 - val_loss: 0.3551 - val_my_iou_metric: 0.5144\n",
      "\n",
      "Epoch 00003: my_iou_metric improved from 0.48833 to 0.52059, saving model to Unet_resnet_v1.model\n",
      "Epoch 4/50\n",
      " - 23s - loss: 0.2660 - my_iou_metric: 0.5431 - val_loss: 0.3478 - val_my_iou_metric: 0.5095\n",
      "\n",
      "Epoch 00004: my_iou_metric improved from 0.52059 to 0.54311, saving model to Unet_resnet_v1.model\n",
      "Epoch 5/50\n",
      " - 23s - loss: 0.2580 - my_iou_metric: 0.5501 - val_loss: 0.6756 - val_my_iou_metric: 0.3866\n",
      "\n",
      "Epoch 00005: my_iou_metric improved from 0.54311 to 0.55014, saving model to Unet_resnet_v1.model\n",
      "Epoch 6/50\n",
      " - 24s - loss: 0.2352 - my_iou_metric: 0.5784 - val_loss: 0.5376 - val_my_iou_metric: 0.3648\n",
      "\n",
      "Epoch 00006: my_iou_metric improved from 0.55014 to 0.57842, saving model to Unet_resnet_v1.model\n",
      "Epoch 7/50\n",
      " - 23s - loss: 0.2243 - my_iou_metric: 0.5960 - val_loss: 0.2949 - val_my_iou_metric: 0.5823\n",
      "\n",
      "Epoch 00007: my_iou_metric improved from 0.57842 to 0.59595, saving model to Unet_resnet_v1.model\n",
      "Epoch 8/50\n",
      " - 23s - loss: 0.2211 - my_iou_metric: 0.5977 - val_loss: 0.2223 - val_my_iou_metric: 0.6583\n",
      "\n",
      "Epoch 00008: my_iou_metric improved from 0.59595 to 0.59767, saving model to Unet_resnet_v1.model\n",
      "Epoch 9/50\n",
      " - 24s - loss: 0.2071 - my_iou_metric: 0.6194 - val_loss: 0.2206 - val_my_iou_metric: 0.6319\n",
      "\n",
      "Epoch 00009: my_iou_metric improved from 0.59767 to 0.61939, saving model to Unet_resnet_v1.model\n",
      "Epoch 10/50\n",
      " - 23s - loss: 0.1954 - my_iou_metric: 0.6337 - val_loss: 0.2209 - val_my_iou_metric: 0.6259\n",
      "\n",
      "Epoch 00010: my_iou_metric improved from 0.61939 to 0.63370, saving model to Unet_resnet_v1.model\n",
      "Epoch 11/50\n",
      " - 23s - loss: 0.1908 - my_iou_metric: 0.6459 - val_loss: 0.4164 - val_my_iou_metric: 0.5739\n",
      "\n",
      "Epoch 00011: my_iou_metric improved from 0.63370 to 0.64591, saving model to Unet_resnet_v1.model\n",
      "Epoch 12/50\n",
      " - 23s - loss: 0.1967 - my_iou_metric: 0.6395 - val_loss: 0.2680 - val_my_iou_metric: 0.5931\n",
      "\n",
      "Epoch 00012: my_iou_metric did not improve from 0.64591\n",
      "Epoch 13/50\n",
      " - 23s - loss: 0.1917 - my_iou_metric: 0.6405 - val_loss: 0.2493 - val_my_iou_metric: 0.6475\n",
      "\n",
      "Epoch 00013: my_iou_metric did not improve from 0.64591\n",
      "Epoch 14/50\n",
      " - 24s - loss: 0.1812 - my_iou_metric: 0.6621 - val_loss: 0.1771 - val_my_iou_metric: 0.6797\n",
      "\n",
      "Epoch 00014: my_iou_metric improved from 0.64591 to 0.66209, saving model to Unet_resnet_v1.model\n",
      "Epoch 15/50\n",
      " - 23s - loss: 0.1663 - my_iou_metric: 0.6735 - val_loss: 0.2013 - val_my_iou_metric: 0.6740\n",
      "\n",
      "Epoch 00015: my_iou_metric improved from 0.66209 to 0.67350, saving model to Unet_resnet_v1.model\n",
      "Epoch 16/50\n",
      " - 23s - loss: 0.1684 - my_iou_metric: 0.6759 - val_loss: 0.1986 - val_my_iou_metric: 0.6571\n",
      "\n",
      "Epoch 00016: my_iou_metric improved from 0.67350 to 0.67594, saving model to Unet_resnet_v1.model\n",
      "Epoch 17/50\n",
      " - 24s - loss: 0.1630 - my_iou_metric: 0.6871 - val_loss: 0.1679 - val_my_iou_metric: 0.7206\n",
      "\n",
      "Epoch 00017: my_iou_metric improved from 0.67594 to 0.68708, saving model to Unet_resnet_v1.model\n",
      "Epoch 18/50\n",
      " - 24s - loss: 0.1514 - my_iou_metric: 0.6972 - val_loss: 0.1730 - val_my_iou_metric: 0.7042\n",
      "\n",
      "Epoch 00018: my_iou_metric improved from 0.68708 to 0.69716, saving model to Unet_resnet_v1.model\n",
      "Epoch 19/50\n",
      " - 23s - loss: 0.1588 - my_iou_metric: 0.6887 - val_loss: 0.2128 - val_my_iou_metric: 0.6843\n",
      "\n",
      "Epoch 00019: my_iou_metric did not improve from 0.69716\n",
      "Epoch 20/50\n",
      " - 23s - loss: 0.1505 - my_iou_metric: 0.6990 - val_loss: 0.1784 - val_my_iou_metric: 0.6830\n",
      "\n",
      "Epoch 00020: my_iou_metric improved from 0.69716 to 0.69905, saving model to Unet_resnet_v1.model\n",
      "Epoch 21/50\n",
      " - 23s - loss: 0.1459 - my_iou_metric: 0.7108 - val_loss: 0.1587 - val_my_iou_metric: 0.7059\n",
      "\n",
      "Epoch 00021: my_iou_metric improved from 0.69905 to 0.71080, saving model to Unet_resnet_v1.model\n",
      "Epoch 22/50\n",
      " - 24s - loss: 0.1482 - my_iou_metric: 0.7040 - val_loss: 0.1721 - val_my_iou_metric: 0.7090\n",
      "\n",
      "Epoch 00022: my_iou_metric did not improve from 0.71080\n",
      "Epoch 23/50\n",
      " - 23s - loss: 0.1452 - my_iou_metric: 0.7121 - val_loss: 0.1598 - val_my_iou_metric: 0.7085\n",
      "\n",
      "Epoch 00023: my_iou_metric improved from 0.71080 to 0.71212, saving model to Unet_resnet_v1.model\n",
      "Epoch 24/50\n",
      " - 23s - loss: 0.1439 - my_iou_metric: 0.7122 - val_loss: 0.1603 - val_my_iou_metric: 0.7355\n",
      "\n",
      "Epoch 00024: my_iou_metric improved from 0.71212 to 0.71223, saving model to Unet_resnet_v1.model\n",
      "Epoch 25/50\n",
      " - 23s - loss: 0.1414 - my_iou_metric: 0.7157 - val_loss: 0.1404 - val_my_iou_metric: 0.7313\n",
      "\n",
      "Epoch 00025: my_iou_metric improved from 0.71223 to 0.71573, saving model to Unet_resnet_v1.model\n",
      "Epoch 26/50\n",
      " - 24s - loss: 0.1397 - my_iou_metric: 0.7176 - val_loss: 0.1661 - val_my_iou_metric: 0.7256\n",
      "\n",
      "Epoch 00026: my_iou_metric improved from 0.71573 to 0.71763, saving model to Unet_resnet_v1.model\n",
      "Epoch 27/50\n",
      " - 23s - loss: 0.1317 - my_iou_metric: 0.7276 - val_loss: 0.1659 - val_my_iou_metric: 0.7216\n",
      "\n",
      "Epoch 00027: my_iou_metric improved from 0.71763 to 0.72756, saving model to Unet_resnet_v1.model\n",
      "Epoch 28/50\n",
      " - 24s - loss: 0.1381 - my_iou_metric: 0.7186 - val_loss: 0.2078 - val_my_iou_metric: 0.6944\n",
      "\n",
      "Epoch 00028: my_iou_metric did not improve from 0.72756\n",
      "Epoch 29/50\n",
      " - 23s - loss: 0.1322 - my_iou_metric: 0.7297 - val_loss: 0.2041 - val_my_iou_metric: 0.6796\n",
      "\n",
      "Epoch 00029: my_iou_metric improved from 0.72756 to 0.72973, saving model to Unet_resnet_v1.model\n",
      "Epoch 30/50\n",
      " - 23s - loss: 0.1352 - my_iou_metric: 0.7196 - val_loss: 0.1550 - val_my_iou_metric: 0.7314\n",
      "\n",
      "Epoch 00030: my_iou_metric did not improve from 0.72973\n",
      "Epoch 31/50\n",
      " - 23s - loss: 0.1281 - my_iou_metric: 0.7306 - val_loss: 0.1402 - val_my_iou_metric: 0.7436\n",
      "\n",
      "Epoch 00031: my_iou_metric improved from 0.72973 to 0.73061, saving model to Unet_resnet_v1.model\n",
      "Epoch 32/50\n",
      " - 23s - loss: 0.1261 - my_iou_metric: 0.7347 - val_loss: 0.4192 - val_my_iou_metric: 0.3736\n",
      "\n",
      "Epoch 00032: my_iou_metric improved from 0.73061 to 0.73466, saving model to Unet_resnet_v1.model\n",
      "Epoch 33/50\n",
      " - 24s - loss: 0.1363 - my_iou_metric: 0.7280 - val_loss: 0.1944 - val_my_iou_metric: 0.6851\n",
      "\n",
      "Epoch 00033: my_iou_metric did not improve from 0.73466\n",
      "Epoch 34/50\n",
      " - 24s - loss: 0.1231 - my_iou_metric: 0.7379 - val_loss: 0.3277 - val_my_iou_metric: 0.5595\n",
      "\n",
      "Epoch 00034: my_iou_metric improved from 0.73466 to 0.73786, saving model to Unet_resnet_v1.model\n",
      "Epoch 35/50\n",
      " - 23s - loss: 0.1245 - my_iou_metric: 0.7360 - val_loss: 0.2263 - val_my_iou_metric: 0.6534\n",
      "\n",
      "Epoch 00035: my_iou_metric did not improve from 0.73786\n",
      "Epoch 36/50\n",
      " - 23s - loss: 0.1232 - my_iou_metric: 0.7371 - val_loss: 0.1305 - val_my_iou_metric: 0.7621\n",
      "\n",
      "Epoch 00036: my_iou_metric did not improve from 0.73786\n",
      "Epoch 37/50\n",
      " - 23s - loss: 0.1169 - my_iou_metric: 0.7458 - val_loss: 0.1358 - val_my_iou_metric: 0.7521\n",
      "\n",
      "Epoch 00037: my_iou_metric improved from 0.73786 to 0.74577, saving model to Unet_resnet_v1.model\n",
      "Epoch 38/50\n",
      " - 23s - loss: 0.1201 - my_iou_metric: 0.7415 - val_loss: 0.1446 - val_my_iou_metric: 0.7139\n",
      "\n",
      "Epoch 00038: my_iou_metric did not improve from 0.74577\n",
      "Epoch 39/50\n",
      " - 23s - loss: 0.1144 - my_iou_metric: 0.7476 - val_loss: 0.1394 - val_my_iou_metric: 0.7585\n",
      "\n",
      "Epoch 00039: my_iou_metric improved from 0.74577 to 0.74756, saving model to Unet_resnet_v1.model\n",
      "Epoch 40/50\n",
      " - 23s - loss: 0.1171 - my_iou_metric: 0.7508 - val_loss: 0.1762 - val_my_iou_metric: 0.7383\n",
      "\n",
      "Epoch 00040: my_iou_metric improved from 0.74756 to 0.75084, saving model to Unet_resnet_v1.model\n",
      "Epoch 41/50\n",
      " - 23s - loss: 0.1133 - my_iou_metric: 0.7511 - val_loss: 0.1436 - val_my_iou_metric: 0.7529\n",
      "\n",
      "Epoch 00041: my_iou_metric improved from 0.75084 to 0.75108, saving model to Unet_resnet_v1.model\n",
      "Epoch 42/50\n",
      " - 24s - loss: 0.1216 - my_iou_metric: 0.7435 - val_loss: 0.1458 - val_my_iou_metric: 0.7516\n",
      "\n",
      "Epoch 00042: my_iou_metric did not improve from 0.75108\n",
      "Epoch 43/50\n",
      " - 24s - loss: 0.1089 - my_iou_metric: 0.7554 - val_loss: 0.1655 - val_my_iou_metric: 0.7358\n"
     ]
    },
    {
     "name": "stdout",
     "output_type": "stream",
     "text": [
      "\n",
      "Epoch 00043: my_iou_metric improved from 0.75108 to 0.75544, saving model to Unet_resnet_v1.model\n",
      "Epoch 44/50\n",
      " - 23s - loss: 0.1044 - my_iou_metric: 0.7636 - val_loss: 0.1388 - val_my_iou_metric: 0.7386\n",
      "\n",
      "Epoch 00044: my_iou_metric improved from 0.75544 to 0.76361, saving model to Unet_resnet_v1.model\n",
      "Epoch 45/50\n",
      " - 24s - loss: 0.1142 - my_iou_metric: 0.7519 - val_loss: 0.2104 - val_my_iou_metric: 0.6885\n",
      "\n",
      "Epoch 00045: my_iou_metric did not improve from 0.76361\n",
      "Epoch 46/50\n",
      " - 23s - loss: 0.1128 - my_iou_metric: 0.7512 - val_loss: 0.1328 - val_my_iou_metric: 0.7595\n",
      "\n",
      "Epoch 00046: my_iou_metric did not improve from 0.76361\n",
      "Epoch 47/50\n",
      " - 24s - loss: 0.1090 - my_iou_metric: 0.7532 - val_loss: 0.1470 - val_my_iou_metric: 0.7509\n",
      "\n",
      "Epoch 00047: my_iou_metric did not improve from 0.76361\n",
      "Epoch 48/50\n",
      " - 24s - loss: 0.1069 - my_iou_metric: 0.7604 - val_loss: 0.1571 - val_my_iou_metric: 0.7414\n",
      "\n",
      "Epoch 00048: my_iou_metric did not improve from 0.76361\n",
      "Epoch 49/50\n",
      " - 24s - loss: 0.1082 - my_iou_metric: 0.7492 - val_loss: 0.2318 - val_my_iou_metric: 0.6610\n",
      "\n",
      "Epoch 00049: my_iou_metric did not improve from 0.76361\n",
      "\n",
      "Epoch 00049: ReduceLROnPlateau reducing learning rate to 0.004999999888241291.\n",
      "Epoch 50/50\n",
      " - 23s - loss: 0.0958 - my_iou_metric: 0.7680 - val_loss: 0.1363 - val_my_iou_metric: 0.7783\n",
      "\n",
      "Epoch 00050: my_iou_metric improved from 0.76361 to 0.76797, saving model to Unet_resnet_v1.model\n"
     ]
    }
   ],
   "source": [
    "#early_stopping = EarlyStopping(monitor='my_iou_metric', mode = 'max',patience=10, verbose=1)\n",
    "model_checkpoint = ModelCheckpoint(save_model_name,monitor='my_iou_metric', \n",
    "                                   mode = 'max', save_best_only=True, verbose=1)\n",
    "reduce_lr = ReduceLROnPlateau(monitor='my_iou_metric', mode = 'max',factor=0.5, patience=5, min_lr=0.0001, verbose=1)\n",
    "\n",
    "epochs = 50\n",
    "batch_size = 32\n",
    "history = model1.fit(x_train, y_train,\n",
    "                    validation_data=[x_valid, y_valid], \n",
    "                    epochs=epochs,\n",
    "                    batch_size=batch_size,\n",
    "                    callbacks=[ model_checkpoint,reduce_lr], \n",
    "                    verbose=2)"
   ]
  },
  {
   "cell_type": "code",
   "execution_count": 18,
   "metadata": {},
   "outputs": [
    {
     "name": "stdout",
     "output_type": "stream",
     "text": [
      "1.10.1\n"
     ]
    }
   ],
   "source": [
    "print(tf.__version__)"
   ]
  },
  {
   "cell_type": "code",
   "execution_count": 19,
   "metadata": {},
   "outputs": [],
   "source": [
    "model1 = load_model(save_model_name,custom_objects={'my_iou_metric': my_iou_metric})\n",
    "# remove layter activation layer and use losvasz loss\n",
    "input_x = model1.layers[0].input\n",
    "\n",
    "output_layer = model1.layers[-1].input\n",
    "model = Model(input_x, output_layer)\n",
    "c = optimizers.adam(lr = 0.01)\n",
    "\n",
    "\n",
    "\n",
    "# lovasz_loss need input range (-∞，+∞), so cancel the last \"sigmoid\" activation  \n",
    "# Then the default threshod for pixel prediction is 0 instead of 0.5, as in my_iou_metric_2.\n",
    "model.compile(loss=lovasz_loss, optimizer=c, metrics=[my_iou_metric_2])\n",
    "\n",
    "#model.summary()"
   ]
  },
  {
   "cell_type": "code",
   "execution_count": 20,
   "metadata": {},
   "outputs": [
    {
     "name": "stdout",
     "output_type": "stream",
     "text": [
      "Train on 6400 samples, validate on 800 samples\n",
      "Epoch 1/50\n",
      " - 84s - loss: 0.4204 - my_iou_metric_2: 0.7857 - val_loss: 0.4537 - val_my_iou_metric_2: 0.7796\n",
      "\n",
      "Epoch 00001: val_my_iou_metric_2 improved from -inf to 0.77963, saving model to Unet_resnet_v1.model\n",
      "Epoch 2/50\n",
      " - 77s - loss: 0.3960 - my_iou_metric_2: 0.7813 - val_loss: 0.4164 - val_my_iou_metric_2: 0.7749\n",
      "\n",
      "Epoch 00002: val_my_iou_metric_2 did not improve from 0.77963\n",
      "Epoch 3/50\n",
      " - 80s - loss: 0.3839 - my_iou_metric_2: 0.7820 - val_loss: 0.8386 - val_my_iou_metric_2: 0.5511\n",
      "\n",
      "Epoch 00003: val_my_iou_metric_2 did not improve from 0.77963\n",
      "Epoch 4/50\n",
      " - 79s - loss: 0.3714 - my_iou_metric_2: 0.7873 - val_loss: 0.4415 - val_my_iou_metric_2: 0.7509\n",
      "\n",
      "Epoch 00004: val_my_iou_metric_2 did not improve from 0.77963\n",
      "Epoch 5/50\n",
      " - 80s - loss: 0.3714 - my_iou_metric_2: 0.7866 - val_loss: 0.4553 - val_my_iou_metric_2: 0.7559\n",
      "\n",
      "Epoch 00005: val_my_iou_metric_2 did not improve from 0.77963\n",
      "Epoch 6/50\n",
      " - 80s - loss: 0.3883 - my_iou_metric_2: 0.7784 - val_loss: 0.4609 - val_my_iou_metric_2: 0.7459\n",
      "\n",
      "Epoch 00006: val_my_iou_metric_2 did not improve from 0.77963\n",
      "\n",
      "Epoch 00006: ReduceLROnPlateau reducing learning rate to 0.004999999888241291.\n",
      "Epoch 7/50\n",
      " - 79s - loss: 0.3405 - my_iou_metric_2: 0.7986 - val_loss: 0.3621 - val_my_iou_metric_2: 0.7948\n",
      "\n",
      "Epoch 00007: val_my_iou_metric_2 improved from 0.77963 to 0.79475, saving model to Unet_resnet_v1.model\n",
      "Epoch 8/50\n",
      " - 79s - loss: 0.3313 - my_iou_metric_2: 0.8043 - val_loss: 0.3656 - val_my_iou_metric_2: 0.7956\n",
      "\n",
      "Epoch 00008: val_my_iou_metric_2 improved from 0.79475 to 0.79563, saving model to Unet_resnet_v1.model\n",
      "Epoch 9/50\n",
      " - 80s - loss: 0.3339 - my_iou_metric_2: 0.8031 - val_loss: 0.3650 - val_my_iou_metric_2: 0.7994\n",
      "\n",
      "Epoch 00009: val_my_iou_metric_2 improved from 0.79563 to 0.79937, saving model to Unet_resnet_v1.model\n",
      "Epoch 10/50\n",
      " - 79s - loss: 0.3353 - my_iou_metric_2: 0.8008 - val_loss: 0.3898 - val_my_iou_metric_2: 0.7791\n",
      "\n",
      "Epoch 00010: val_my_iou_metric_2 did not improve from 0.79937\n",
      "Epoch 11/50\n",
      " - 80s - loss: 0.3208 - my_iou_metric_2: 0.8085 - val_loss: 0.3631 - val_my_iou_metric_2: 0.7957\n",
      "\n",
      "Epoch 00011: val_my_iou_metric_2 did not improve from 0.79937\n",
      "Epoch 12/50\n",
      " - 80s - loss: 0.3151 - my_iou_metric_2: 0.8107 - val_loss: 0.3695 - val_my_iou_metric_2: 0.7958\n",
      "\n",
      "Epoch 00012: val_my_iou_metric_2 did not improve from 0.79937\n",
      "Epoch 13/50\n",
      " - 80s - loss: 0.3264 - my_iou_metric_2: 0.8061 - val_loss: 0.3637 - val_my_iou_metric_2: 0.7906\n",
      "\n",
      "Epoch 00013: val_my_iou_metric_2 did not improve from 0.79937\n",
      "Epoch 14/50\n",
      " - 80s - loss: 0.3110 - my_iou_metric_2: 0.8138 - val_loss: 0.3727 - val_my_iou_metric_2: 0.7859\n",
      "\n",
      "Epoch 00014: val_my_iou_metric_2 did not improve from 0.79937\n",
      "\n",
      "Epoch 00014: ReduceLROnPlateau reducing learning rate to 0.0024999999441206455.\n",
      "Epoch 15/50\n",
      " - 80s - loss: 0.3067 - my_iou_metric_2: 0.8158 - val_loss: 0.3426 - val_my_iou_metric_2: 0.8068\n",
      "\n",
      "Epoch 00015: val_my_iou_metric_2 improved from 0.79937 to 0.80675, saving model to Unet_resnet_v1.model\n",
      "Epoch 16/50\n",
      " - 80s - loss: 0.2998 - my_iou_metric_2: 0.8189 - val_loss: 0.3408 - val_my_iou_metric_2: 0.8080\n",
      "\n",
      "Epoch 00016: val_my_iou_metric_2 improved from 0.80675 to 0.80800, saving model to Unet_resnet_v1.model\n",
      "Epoch 17/50\n",
      " - 80s - loss: 0.2854 - my_iou_metric_2: 0.8266 - val_loss: 0.3401 - val_my_iou_metric_2: 0.8060\n",
      "\n",
      "Epoch 00017: val_my_iou_metric_2 did not improve from 0.80800\n",
      "Epoch 18/50\n",
      " - 80s - loss: 0.2886 - my_iou_metric_2: 0.8243 - val_loss: 0.3463 - val_my_iou_metric_2: 0.8059\n",
      "\n",
      "Epoch 00018: val_my_iou_metric_2 did not improve from 0.80800\n",
      "Epoch 19/50\n",
      " - 80s - loss: 0.2893 - my_iou_metric_2: 0.8249 - val_loss: 0.3574 - val_my_iou_metric_2: 0.7969\n",
      "\n",
      "Epoch 00019: val_my_iou_metric_2 did not improve from 0.80800\n",
      "Epoch 20/50\n",
      " - 80s - loss: 0.2818 - my_iou_metric_2: 0.8280 - val_loss: 0.3472 - val_my_iou_metric_2: 0.8001\n",
      "\n",
      "Epoch 00020: val_my_iou_metric_2 did not improve from 0.80800\n",
      "Epoch 21/50\n",
      " - 80s - loss: 0.2849 - my_iou_metric_2: 0.8267 - val_loss: 0.3504 - val_my_iou_metric_2: 0.8023\n",
      "\n",
      "Epoch 00021: val_my_iou_metric_2 did not improve from 0.80800\n",
      "\n",
      "Epoch 00021: ReduceLROnPlateau reducing learning rate to 0.0012499999720603228.\n",
      "Epoch 22/50\n",
      " - 80s - loss: 0.2853 - my_iou_metric_2: 0.8259 - val_loss: 0.3384 - val_my_iou_metric_2: 0.8081\n",
      "\n",
      "Epoch 00022: val_my_iou_metric_2 improved from 0.80800 to 0.80812, saving model to Unet_resnet_v1.model\n",
      "Epoch 23/50\n",
      " - 79s - loss: 0.2796 - my_iou_metric_2: 0.8294 - val_loss: 0.3480 - val_my_iou_metric_2: 0.7998\n",
      "\n",
      "Epoch 00023: val_my_iou_metric_2 did not improve from 0.80812\n",
      "Epoch 24/50\n",
      " - 80s - loss: 0.2764 - my_iou_metric_2: 0.8312 - val_loss: 0.3499 - val_my_iou_metric_2: 0.7999\n",
      "\n",
      "Epoch 00024: val_my_iou_metric_2 did not improve from 0.80812\n",
      "Epoch 25/50\n",
      " - 80s - loss: 0.2717 - my_iou_metric_2: 0.8322 - val_loss: 0.3435 - val_my_iou_metric_2: 0.8015\n",
      "\n",
      "Epoch 00025: val_my_iou_metric_2 did not improve from 0.80812\n",
      "Epoch 26/50\n",
      " - 80s - loss: 0.2745 - my_iou_metric_2: 0.8317 - val_loss: 0.3481 - val_my_iou_metric_2: 0.8023\n",
      "\n",
      "Epoch 00026: val_my_iou_metric_2 did not improve from 0.80812\n",
      "Epoch 27/50\n",
      " - 79s - loss: 0.2696 - my_iou_metric_2: 0.8347 - val_loss: 0.3329 - val_my_iou_metric_2: 0.8087\n",
      "\n",
      "Epoch 00027: val_my_iou_metric_2 improved from 0.80812 to 0.80875, saving model to Unet_resnet_v1.model\n",
      "Epoch 28/50\n",
      " - 79s - loss: 0.2709 - my_iou_metric_2: 0.8335 - val_loss: 0.3361 - val_my_iou_metric_2: 0.8030\n",
      "\n",
      "Epoch 00028: val_my_iou_metric_2 did not improve from 0.80875\n",
      "Epoch 29/50\n",
      " - 78s - loss: 0.2684 - my_iou_metric_2: 0.8361 - val_loss: 0.3416 - val_my_iou_metric_2: 0.8024\n",
      "\n",
      "Epoch 00029: val_my_iou_metric_2 did not improve from 0.80875\n",
      "Epoch 30/50\n",
      " - 79s - loss: 0.2718 - my_iou_metric_2: 0.8332 - val_loss: 0.3407 - val_my_iou_metric_2: 0.8038\n",
      "\n",
      "Epoch 00030: val_my_iou_metric_2 did not improve from 0.80875\n",
      "Epoch 31/50\n",
      " - 80s - loss: 0.2702 - my_iou_metric_2: 0.8342 - val_loss: 0.3475 - val_my_iou_metric_2: 0.8027\n",
      "\n",
      "Epoch 00031: val_my_iou_metric_2 did not improve from 0.80875\n",
      "Epoch 32/50\n",
      " - 79s - loss: 0.2700 - my_iou_metric_2: 0.8347 - val_loss: 0.3410 - val_my_iou_metric_2: 0.8054\n",
      "\n",
      "Epoch 00032: val_my_iou_metric_2 did not improve from 0.80875\n",
      "\n",
      "Epoch 00032: ReduceLROnPlateau reducing learning rate to 0.0006249999860301614.\n",
      "Epoch 33/50\n",
      " - 79s - loss: 0.2672 - my_iou_metric_2: 0.8351 - val_loss: 0.3325 - val_my_iou_metric_2: 0.8078\n",
      "\n",
      "Epoch 00033: val_my_iou_metric_2 did not improve from 0.80875\n",
      "Epoch 34/50\n",
      " - 79s - loss: 0.2615 - my_iou_metric_2: 0.8373 - val_loss: 0.3380 - val_my_iou_metric_2: 0.8082\n",
      "\n",
      "Epoch 00034: val_my_iou_metric_2 did not improve from 0.80875\n",
      "Epoch 35/50\n",
      " - 79s - loss: 0.2622 - my_iou_metric_2: 0.8380 - val_loss: 0.3400 - val_my_iou_metric_2: 0.8057\n",
      "\n",
      "Epoch 00035: val_my_iou_metric_2 did not improve from 0.80875\n",
      "Epoch 36/50\n",
      " - 79s - loss: 0.2586 - my_iou_metric_2: 0.8404 - val_loss: 0.3425 - val_my_iou_metric_2: 0.8047\n",
      "\n",
      "Epoch 00036: val_my_iou_metric_2 did not improve from 0.80875\n",
      "Epoch 37/50\n",
      " - 79s - loss: 0.2619 - my_iou_metric_2: 0.8373 - val_loss: 0.3381 - val_my_iou_metric_2: 0.8073\n",
      "\n",
      "Epoch 00037: val_my_iou_metric_2 did not improve from 0.80875\n",
      "\n",
      "Epoch 00037: ReduceLROnPlateau reducing learning rate to 0.0003124999930150807.\n",
      "Epoch 38/50\n",
      " - 79s - loss: 0.2600 - my_iou_metric_2: 0.8397 - val_loss: 0.3384 - val_my_iou_metric_2: 0.8050\n",
      "\n",
      "Epoch 00038: val_my_iou_metric_2 did not improve from 0.80875\n",
      "Epoch 39/50\n",
      " - 79s - loss: 0.2606 - my_iou_metric_2: 0.8383 - val_loss: 0.3377 - val_my_iou_metric_2: 0.8054\n",
      "\n",
      "Epoch 00039: val_my_iou_metric_2 did not improve from 0.80875\n",
      "Epoch 40/50\n",
      " - 79s - loss: 0.2583 - my_iou_metric_2: 0.8391 - val_loss: 0.3405 - val_my_iou_metric_2: 0.8056\n",
      "\n",
      "Epoch 00040: val_my_iou_metric_2 did not improve from 0.80875\n",
      "Epoch 41/50\n",
      " - 79s - loss: 0.2575 - my_iou_metric_2: 0.8406 - val_loss: 0.3417 - val_my_iou_metric_2: 0.8058\n",
      "\n",
      "Epoch 00041: val_my_iou_metric_2 did not improve from 0.80875\n",
      "Epoch 42/50\n",
      " - 79s - loss: 0.2623 - my_iou_metric_2: 0.8386 - val_loss: 0.3411 - val_my_iou_metric_2: 0.8054\n",
      "\n",
      "Epoch 00042: val_my_iou_metric_2 did not improve from 0.80875\n",
      "\n",
      "Epoch 00042: ReduceLROnPlateau reducing learning rate to 0.00015624999650754035.\n",
      "Epoch 43/50\n",
      " - 79s - loss: 0.2567 - my_iou_metric_2: 0.8409 - val_loss: 0.3384 - val_my_iou_metric_2: 0.8048\n",
      "\n",
      "Epoch 00043: val_my_iou_metric_2 did not improve from 0.80875\n",
      "Epoch 44/50\n"
     ]
    },
    {
     "name": "stdout",
     "output_type": "stream",
     "text": [
      " - 79s - loss: 0.2554 - my_iou_metric_2: 0.8411 - val_loss: 0.3374 - val_my_iou_metric_2: 0.8060\n",
      "\n",
      "Epoch 00044: val_my_iou_metric_2 did not improve from 0.80875\n",
      "Epoch 45/50\n",
      " - 79s - loss: 0.2597 - my_iou_metric_2: 0.8390 - val_loss: 0.3374 - val_my_iou_metric_2: 0.8073\n",
      "\n",
      "Epoch 00045: val_my_iou_metric_2 did not improve from 0.80875\n",
      "Epoch 46/50\n",
      " - 79s - loss: 0.2546 - my_iou_metric_2: 0.8414 - val_loss: 0.3365 - val_my_iou_metric_2: 0.8081\n",
      "\n",
      "Epoch 00046: val_my_iou_metric_2 did not improve from 0.80875\n",
      "Epoch 47/50\n",
      " - 79s - loss: 0.2539 - my_iou_metric_2: 0.8417 - val_loss: 0.3361 - val_my_iou_metric_2: 0.8073\n",
      "\n",
      "Epoch 00047: val_my_iou_metric_2 did not improve from 0.80875\n",
      "\n",
      "Epoch 00047: ReduceLROnPlateau reducing learning rate to 0.0001.\n",
      "Epoch 00047: early stopping\n"
     ]
    }
   ],
   "source": [
    "early_stopping = EarlyStopping(monitor='val_my_iou_metric_2', mode = 'max',patience=20, verbose=1)\n",
    "model_checkpoint = ModelCheckpoint(save_model_name,monitor='val_my_iou_metric_2', \n",
    "                                   mode = 'max', save_best_only=True, verbose=1)\n",
    "reduce_lr = ReduceLROnPlateau(monitor='val_my_iou_metric_2', mode = 'max',factor=0.5, patience=5, min_lr=0.0001, verbose=1)\n",
    "epochs = 50\n",
    "batch_size = 32\n",
    "\n",
    "history = model.fit(x_train, y_train,\n",
    "                    validation_data=[x_valid, y_valid], \n",
    "                    epochs=epochs,\n",
    "                    batch_size=batch_size,\n",
    "                    callbacks=[ model_checkpoint,reduce_lr,early_stopping], \n",
    "                    verbose=2)"
   ]
  },
  {
   "cell_type": "code",
   "execution_count": 21,
   "metadata": {},
   "outputs": [
    {
     "data": {
      "text/plain": [
       "<matplotlib.legend.Legend at 0x7febf5264710>"
      ]
     },
     "execution_count": 21,
     "metadata": {},
     "output_type": "execute_result"
    },
    {
     "data": {
      "image/png": "[encoded data removed]",
      "text/plain": [
       "<Figure size 1080x360 with 2 Axes>"
      ]
     },
     "metadata": {
      "needs_background": "light"
     },
     "output_type": "display_data"
    }
   ],
   "source": [
    "fig, (ax_loss, ax_score) = plt.subplots(1, 2, figsize=(15,5))\n",
    "ax_loss.plot(history.epoch, history.history[\"loss\"], label=\"Train loss\")\n",
    "ax_loss.plot(history.epoch, history.history[\"val_loss\"], label=\"Validation loss\")\n",
    "ax_loss.legend()\n",
    "ax_score.plot(history.epoch, history.history[\"my_iou_metric_2\"], label=\"Train score\")\n",
    "ax_score.plot(history.epoch, history.history[\"val_my_iou_metric_2\"], label=\"Validation score\")\n",
    "ax_score.legend()"
   ]
  },
  {
   "cell_type": "code",
   "execution_count": 22,
   "metadata": {},
   "outputs": [],
   "source": [
    "model = load_model(save_model_name,custom_objects={'my_iou_metric_2': my_iou_metric_2,\n",
    "                                                   'lovasz_loss': lovasz_loss})"
   ]
  },
  {
   "cell_type": "code",
   "execution_count": 23,
   "metadata": {},
   "outputs": [],
   "source": [
    "def predict_result(model,x_test,img_size_target): # predict both orginal and reflect x\n",
    "    x_test_reflect =  np.array([np.fliplr(x) for x in x_test])\n",
    "    preds_test = model.predict(x_test).reshape(-1, img_size_target, img_size_target)\n",
    "    preds_test2_refect = model.predict(x_test_reflect).reshape(-1, img_size_target, img_size_target)\n",
    "    preds_test += np.array([ np.fliplr(x) for x in preds_test2_refect] )\n",
    "    return preds_test/2"
   ]
  },
  {
   "cell_type": "code",
   "execution_count": 24,
   "metadata": {},
   "outputs": [],
   "source": [
    "preds_valid = predict_result(model,x_valid,img_size_target)"
   ]
  },
  {
   "cell_type": "code",
   "execution_count": 25,
   "metadata": {},
   "outputs": [],
   "source": [
    "#Score the model and do a threshold optimization by the best IoU.\n",
    "\n",
    "# src: https://www.kaggle.com/aglotero/another-iou-metric\n",
    "def iou_metric(y_true_in, y_pred_in, print_table=False):\n",
    "    labels = y_true_in\n",
    "    y_pred = y_pred_in\n",
    "\n",
    "\n",
    "    true_objects = 2\n",
    "    pred_objects = 2\n",
    "\n",
    "    #  if all zeros, original code  generate wrong  bins [-0.5 0 0.5],\n",
    "    temp1 = np.histogram2d(labels.flatten(), y_pred.flatten(), bins=([0,0.5,1], [0,0.5, 1]))\n",
    "#     temp1 = np.histogram2d(labels.flatten(), y_pred.flatten(), bins=(true_objects, pred_objects))\n",
    "    #print(temp1)\n",
    "    intersection = temp1[0]\n",
    "    #print(\"temp2 = \",temp1[1])\n",
    "    #print(intersection.shape)\n",
    "   # print(intersection)\n",
    "    # Compute areas (needed for finding the union between all objects)\n",
    "    #print(np.histogram(labels, bins = true_objects))\n",
    "    area_true = np.histogram(labels,bins=[0,0.5,1])[0]\n",
    "    #print(\"area_true = \",area_true)\n",
    "    area_pred = np.histogram(y_pred, bins=[0,0.5,1])[0]\n",
    "    area_true = np.expand_dims(area_true, -1)\n",
    "    area_pred = np.expand_dims(area_pred, 0)\n",
    "\n",
    "    # Compute union\n",
    "    union = area_true + area_pred - intersection\n",
    "  \n",
    "    # Exclude background from the analysis\n",
    "    intersection = intersection[1:,1:]\n",
    "    intersection[intersection == 0] = 1e-9\n",
    "    \n",
    "    union = union[1:,1:]\n",
    "    union[union == 0] = 1e-9\n",
    "\n",
    "    # Compute the intersection over union\n",
    "    iou = intersection / union\n",
    "\n",
    "    # Precision helper function\n",
    "    def precision_at(threshold, iou):\n",
    "        matches = iou > threshold\n",
    "        true_positives = np.sum(matches, axis=1) == 1   # Correct objects\n",
    "        false_positives = np.sum(matches, axis=0) == 0  # Missed objects\n",
    "        false_negatives = np.sum(matches, axis=1) == 0  # Extra objects\n",
    "        tp, fp, fn = np.sum(true_positives), np.sum(false_positives), np.sum(false_negatives)\n",
    "        return tp, fp, fn\n",
    "\n",
    "    # Loop over IoU thresholds\n",
    "    prec = []\n",
    "    if print_table:\n",
    "        print(\"Thresh\\tTP\\tFP\\tFN\\tPrec.\")\n",
    "    for t in np.arange(0.5, 1.0, 0.05):\n",
    "        tp, fp, fn = precision_at(t, iou)\n",
    "        if (tp + fp + fn) > 0:\n",
    "            p = tp / (tp + fp + fn)\n",
    "        else:\n",
    "            p = 0\n",
    "        if print_table:\n",
    "            print(\"{:1.3f}\\t{}\\t{}\\t{}\\t{:1.3f}\".format(t, tp, fp, fn, p))\n",
    "        prec.append(p)\n",
    "    \n",
    "    if print_table:\n",
    "        print(\"AP\\t-\\t-\\t-\\t{:1.3f}\".format(np.mean(prec)))\n",
    "    return np.mean(prec)\n",
    "\n",
    "def iou_metric_batch(y_true_in, y_pred_in):\n",
    "    batch_size = y_true_in.shape[0]\n",
    "    metric = []\n",
    "    for batch in range(batch_size):\n",
    "        value = iou_metric(y_true_in[batch], y_pred_in[batch])\n",
    "        metric.append(value)\n",
    "    return np.mean(metric)"
   ]
  },
  {
   "cell_type": "code",
   "execution_count": 26,
   "metadata": {},
   "outputs": [
    {
     "data": {
      "application/vnd.jupyter.widget-view+json": {
       "model_id": "48e63c06781041099e65d699662750ef",
       "version_major": 2,
       "version_minor": 0
      },
      "text/plain": [
       "HBox(children=(IntProgress(value=0, max=31), HTML(value='')))"
      ]
     },
     "metadata": {},
     "output_type": "display_data"
    },
    {
     "name": "stdout",
     "output_type": "stream",
     "text": [
      "\n",
      "[0.795    0.796    0.796375 0.796375 0.796375 0.7975   0.7975   0.797875\n",
      " 0.799625 0.79975  0.799625 0.80025  0.80025  0.802    0.80125  0.80075\n",
      " 0.812625 0.81425  0.813875 0.812875 0.81225  0.811625 0.81075  0.811\n",
      " 0.810875 0.80975  0.809125 0.809125 0.80875  0.808    0.80775 ]\n"
     ]
    }
   ],
   "source": [
    "## Scoring for last model, choose threshold by validation data \n",
    "thresholds_ori = np.linspace(0.3, 0.7, 31)\n",
    "# Reverse sigmoid function: Use code below because the  sigmoid activation was removed\n",
    "thresholds = np.log(thresholds_ori/(1-thresholds_ori)) \n",
    "\n",
    "# ious = np.array([get_iou_vector(y_valid, preds_valid > threshold) for threshold in tqdm_notebook(thresholds)])\n",
    "# print(ious)\n",
    "ious = np.array([iou_metric_batch(y_valid, preds_valid > threshold) for threshold in tqdm_notebook(thresholds)])\n",
    "print(ious)"
   ]
  },
  {
   "cell_type": "code",
   "execution_count": 27,
   "metadata": {},
   "outputs": [
    {
     "data": {
      "text/plain": [
       "<matplotlib.legend.Legend at 0x7febfe79d7f0>"
      ]
     },
     "execution_count": 27,
     "metadata": {},
     "output_type": "execute_result"
    },
    {
     "data": {
      "image/png": "[encoded data removed]",
      "text/plain": [
       "<Figure size 432x288 with 1 Axes>"
      ]
     },
     "metadata": {
      "needs_background": "light"
     },
     "output_type": "display_data"
    }
   ],
   "source": [
    "# instead of using default 0 as threshold, use validation data to find the best threshold.\n",
    "threshold_best_index = np.argmax(ious) \n",
    "iou_best = ious[threshold_best_index]\n",
    "threshold_best = thresholds[threshold_best_index]\n",
    "\n",
    "plt.plot(thresholds, ious)\n",
    "plt.plot(threshold_best, iou_best, \"xr\", label=\"Best threshold\")\n",
    "plt.xlabel(\"Threshold\")\n",
    "plt.ylabel(\"IoU\")\n",
    "plt.title(\"Threshold vs IoU ({}, {})\".format(threshold_best, iou_best))\n",
    "plt.legend()"
   ]
  },
  {
   "cell_type": "code",
   "execution_count": 28,
   "metadata": {},
   "outputs": [],
   "source": [
    "\"\"\"\n",
    "used for converting the decoded image to rle mask\n",
    "Fast compared to previous one\n",
    "\"\"\"\n",
    "def rle_encode(im):\n",
    "    '''\n",
    "    im: numpy array, 1 - mask, 0 - background\n",
    "    Returns run length as string formated\n",
    "    '''\n",
    "    pixels = im.flatten(order = 'F')\n",
    "    pixels = np.concatenate([[0], pixels, [0]])\n",
    "    runs = np.where(pixels[1:] != pixels[:-1])[0] + 1\n",
    "    runs[1::2] -= runs[::2]\n",
    "    return ' '.join(str(x) for x in runs)"
   ]
  },
  {
   "cell_type": "code",
   "execution_count": 31,
   "metadata": {},
   "outputs": [
    {
     "data": {
      "application/vnd.jupyter.widget-view+json": {
       "model_id": "7044cb4891dd483c916841ad35920c7e",
       "version_major": 2,
       "version_minor": 0
      },
      "text/plain": [
       "HBox(children=(IntProgress(value=0, max=18000), HTML(value='')))"
      ]
     },
     "metadata": {},
     "output_type": "display_data"
    },
    {
     "name": "stderr",
     "output_type": "stream",
     "text": [
      "/usr/local/lib/python3.5/dist-packages/keras_preprocessing/image.py:489: UserWarning: grayscale is deprecated. Please use color_mode = \"grayscale\"\n",
      "  warnings.warn('grayscale is deprecated. Please use '\n"
     ]
    }
   ],
   "source": [
    "x_test = np.array([(np.array(load_img(\"/home/ryan/cs/datasets/tgs/test/images/{}.png\".format(idx), grayscale = True))) / 255 for idx in tqdm_notebook(test_df.index)]).reshape(-1, img_size_target, img_size_target, 1)"
   ]
  },
  {
   "cell_type": "code",
   "execution_count": 32,
   "metadata": {},
   "outputs": [],
   "source": [
    "preds_test = predict_result(model,x_test,img_size_target)"
   ]
  },
  {
   "cell_type": "code",
   "execution_count": 34,
   "metadata": {},
   "outputs": [
    {
     "data": {
      "application/vnd.jupyter.widget-view+json": {
       "model_id": "7ae4949af5fc45dea971f6cd8a3d5846",
       "version_major": 2,
       "version_minor": 0
      },
      "text/plain": [
       "HBox(children=(IntProgress(value=0, max=18000), HTML(value='')))"
      ]
     },
     "metadata": {},
     "output_type": "display_data"
    },
    {
     "name": "stdout",
     "output_type": "stream",
     "text": [
      "Usedtime = 3.7667877674102783 s\n"
     ]
    }
   ],
   "source": [
    "t1 = time.time()\n",
    "pred_dict = {idx: rle_encode(np.round(downsample(preds_test[i]) > threshold_best)) for i, idx in enumerate(tqdm_notebook(test_df.index.values))}\n",
    "t2 = time.time()\n",
    "\n",
    "print(\"Usedtime = {} s\".format(t2-t1))"
   ]
  },
  {
   "cell_type": "code",
   "execution_count": 35,
   "metadata": {},
   "outputs": [],
   "source": [
    "sub = pd.DataFrame.from_dict(pred_dict,orient='index')\n",
    "sub.index.names = ['id']\n",
    "sub.columns = ['rle_mask']\n",
    "sub.to_csv(submission_file)"
   ]
  },
  {
   "cell_type": "code",
   "execution_count": 37,
   "metadata": {},
   "outputs": [
    {
     "name": "stdout",
     "output_type": "stream",
     "text": [
      "Kernel run time = 20.853788706858953 hours\n"
     ]
    }
   ],
   "source": [
    "t_finish = time.time()\n",
    "print(\"Kernel run time = {} hours\".format((t_finish-t_start)/3600))"
   ]
  },
  {
   "cell_type": "code",
   "execution_count": null,
   "metadata": {},
   "outputs": [],
   "source": []
  }
 ],
 "metadata": {
  "kernelspec": {
   "display_name": "Python 2",
   "language": "python",
   "name": "python2"
  },
  "language_info": {
   "codemirror_mode": {
    "name": "ipython",
    "version": 3
   },
   "file_extension": ".py",
   "mimetype": "text/x-python",
   "name": "python",
   "nbconvert_exporter": "python",
   "pygments_lexer": "ipython3",
   "version": "3.5.2"
  }
 },
 "nbformat": 4,
 "nbformat_minor": 1
}
