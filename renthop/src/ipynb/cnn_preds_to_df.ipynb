{
 "cells": [
  {
   "cell_type": "markdown",
   "metadata": {},
   "source": [
    "Converts the output of the cnn into useable k-fold dataframes"
   ]
  },
  {
   "cell_type": "code",
   "execution_count": 1,
   "metadata": {
    "collapsed": false
   },
   "outputs": [
    {
     "name": "stderr",
     "output_type": "stream",
     "text": [
      "Using TensorFlow backend.\n"
     ]
    }
   ],
   "source": [
    "import sys\n",
    "sys.path.insert(0, '../feature_generation')\n",
    "sys.path.insert(0, '../..')\n",
    "import pandas as pd\n",
    "import numpy as np\n",
    "import keras\n",
    "import paths\n",
    "import shutil\n",
    "from PIL import Image\n",
    "import math\n",
    "from os.path import join\n",
    "from os import listdir\n",
    "from sklearn import model_selection\n",
    "import matplotlib.pyplot as plt\n",
    "%matplotlib inline"
   ]
  },
  {
   "cell_type": "code",
   "execution_count": 2,
   "metadata": {
    "collapsed": true
   },
   "outputs": [],
   "source": [
    "k_ids = ['kfold_0_ids.npy', 'kfold_1_ids.npy', 'kfold_2_ids.npy', \n",
    "       'kfold_3_ids.npy', 'kfold_4_ids.npy']\n",
    "k_preds = ['kfold_0_preds.npy', 'kfold_1_preds.npy', 'kfold_2_preds.npy', \n",
    "       'kfold_3_preds.npy', 'kfold_4_preds.npy']\n",
    "test_ids_path = 'cnn_test_filenames.npy'\n",
    "test_preds_path = 'cnn_test_preds.npy'"
   ]
  },
  {
   "cell_type": "code",
   "execution_count": 3,
   "metadata": {
    "collapsed": false
   },
   "outputs": [],
   "source": [
    "train_json = pd.read_json(paths.TRAIN_JSON)\n",
    "listing_ids = train_json.loc[:,'listing_id']\n",
    "test_json = pd.read_json(paths.TEST_JSON)\n",
    "test_listing_ids = test_json.loc[:,'listing_id']"
   ]
  },
  {
   "cell_type": "code",
   "execution_count": 33,
   "metadata": {
    "collapsed": false
   },
   "outputs": [],
   "source": [
    "# concat all of the k fold predictions\n",
    "index =0\n",
    "folds = []\n",
    "fold_ids = []\n",
    "\n",
    "# RANDOM SEED IS 2016. IDK WHY BUT IT IS @MICHAEL ZHAO\n",
    "kf = model_selection.KFold(n_splits=5, shuffle=True, random_state=2016)\n",
    "for trn_indices, val_indices in kf.split(range(len(listing_ids))):\n",
    "    \n",
    "    # these are the ids we need\n",
    "    val_ids = listing_ids.iloc[val_indices]\n",
    "    fold_ids.append(val_ids)\n",
    "    curr_ids = np.load(join(paths.CNN_OUTPUT_DIR, k_ids[index]))\n",
    "    curr_preds = np.load(join(paths.CNN_OUTPUT_DIR, k_preds[index]))\n",
    "    # slice the extra preds (happens due to generators smh)\n",
    "    curr_preds = curr_preds[:len(curr_ids)]\n",
    "    \n",
    "    # create a new dataframe with the info\n",
    "    X_trn = pd.DataFrame([curr_ids, curr_preds[:,0], curr_preds[:,1], \n",
    "                         curr_preds[:,2]])\n",
    "    # label the columns\n",
    "    X_trn.rename(index = {0:'listing_id', \n",
    "                           1:'low', \n",
    "                           2:'medium', \n",
    "                           3:'high'}, inplace=True)  \n",
    "    X_trn = X_trn.T\n",
    "    \n",
    "    # convert names to listing_id\n",
    "    X_trn['listing_id'] = X_trn['listing_id'].apply(lambda x: \n",
    "                                x[x.index('/')+1:x.index('_')])\n",
    "    folds.append(X_trn)\n",
    "    index += 1  "
   ]
  },
  {
   "cell_type": "code",
   "execution_count": 34,
   "metadata": {
    "collapsed": false
   },
   "outputs": [],
   "source": [
    "# do the same for test data\n",
    "test_ids = np.load(join(paths.CNN_OUTPUT_DIR, test_ids_path))\n",
    "test_preds = np.load(join(paths.CNN_OUTPUT_DIR, test_preds_path))\n",
    "test_preds = test_preds[:len(test_ids)]\n",
    "X_test = pd.DataFrame([test_ids, test_preds[:,0], test_preds[:,1], \n",
    "                         test_preds[:,2]])\n",
    "X_test.rename(index = {0:'listing_id', \n",
    "                           1:'low', \n",
    "                           2:'medium', \n",
    "                           3:'high'}, inplace=True)  \n",
    "X_test = X_test.T\n",
    "X_test['listing_id'] = X_test['listing_id'].apply(lambda x: \n",
    "                                x[x.index('/')+1:x.index('_')])"
   ]
  },
  {
   "cell_type": "code",
   "execution_count": 35,
   "metadata": {
    "collapsed": false
   },
   "outputs": [],
   "source": [
    "# group by listing id and merge by mean\n",
    "grouped_folds = []\n",
    "for X_trn in folds:\n",
    "    X_trn = X_trn.apply(pd.to_numeric)\n",
    "    X_grouped = X_trn.groupby('listing_id').mean()\n",
    "    grouped_folds.append(X_grouped)\n",
    "X_test = X_test.apply(pd.to_numeric)\n",
    "X_test_grouped = X_test.groupby('listing_id').mean()"
   ]
  },
  {
   "cell_type": "code",
   "execution_count": 37,
   "metadata": {
    "collapsed": false
   },
   "outputs": [],
   "source": [
    "# merge with listing_ids (fills NaN for listings w/o images i think)\n",
    "final_folds = []\n",
    "for X_grouped, val_ids in zip(grouped_folds, fold_ids):\n",
    "    X_merged = pd.DataFrame(val_ids)\n",
    "    X_merged = X_merged.join(X_grouped, on='listing_id', how='left')\n",
    "    final_folds.append(X_merged)\n",
    "X_test_merged = pd.DataFrame(test_listing_ids)\n",
    "X_test_merged = X_test_merged.join(X_test_grouped, \n",
    "                                   on='listing_id', how='left')"
   ]
  },
  {
   "cell_type": "code",
   "execution_count": 47,
   "metadata": {
    "collapsed": false
   },
   "outputs": [],
   "source": [
    "for i in range(len(final_folds)):\n",
    "    final_folds[i].to_csv(join(paths.CNN_OUTPUT_DIR,\"kfold_{}.csv\".format(i)))"
   ]
  },
  {
   "cell_type": "code",
   "execution_count": 40,
   "metadata": {
    "collapsed": true
   },
   "outputs": [],
   "source": [
    "X_test_merged.to_csv(join(paths.CNN_OUTPUT_DIR,\"cnn_test.csv\"))"
   ]
  },
  {
   "cell_type": "code",
   "execution_count": null,
   "metadata": {
    "collapsed": true
   },
   "outputs": [],
   "source": []
  }
 ],
 "metadata": {
  "kernelspec": {
   "display_name": "Python [default]",
   "language": "python",
   "name": "python2"
  },
  "language_info": {
   "codemirror_mode": {
    "name": "ipython",
    "version": 2
   },
   "file_extension": ".py",
   "mimetype": "text/x-python",
   "name": "python",
   "nbconvert_exporter": "python",
   "pygments_lexer": "ipython2",
   "version": "2.7.13"
  }
 },
 "nbformat": 4,
 "nbformat_minor": 2
}
