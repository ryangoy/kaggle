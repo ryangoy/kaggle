{
 "cells": [
  {
   "cell_type": "code",
   "execution_count": 1,
   "metadata": {
    "collapsed": false
   },
   "outputs": [
    {
     "name": "stderr",
     "output_type": "stream",
     "text": [
      "Using TensorFlow backend.\n"
     ]
    }
   ],
   "source": [
    "import sys\n",
    "sys.path.insert(0, '../feature_generation')\n",
    "sys.path.insert(0, '../..')\n",
    "import pandas as pd\n",
    "import numpy as np\n",
    "import keras\n",
    "import models\n",
    "import paths\n",
    "import shutil\n",
    "from PIL import Image\n",
    "import math\n",
    "from os.path import join\n",
    "from os import listdir\n",
    "from keras.preprocessing.image import ImageDataGenerator\n",
    "from sklearn import model_selection\n",
    "import matplotlib.pyplot as plt\n",
    "%matplotlib inline"
   ]
  },
  {
   "cell_type": "code",
   "execution_count": 13,
   "metadata": {
    "collapsed": true
   },
   "outputs": [],
   "source": [
    "desired_fold = 0"
   ]
  },
  {
   "cell_type": "code",
   "execution_count": 3,
   "metadata": {
    "collapsed": true
   },
   "outputs": [],
   "source": [
    "df = pd.read_json(paths.TRAIN_JSON)\n",
    "listing_id_interest = df[['listing_id', 'interest_level']]"
   ]
  },
  {
   "cell_type": "code",
   "execution_count": 4,
   "metadata": {
    "collapsed": false
   },
   "outputs": [
    {
     "name": "stdout",
     "output_type": "stream",
     "text": [
      "39481\n",
      "9871\n"
     ]
    }
   ],
   "source": [
    "# only use one k fold since we're using a cnn\n",
    "trn_indices = []\n",
    "val_indices = []\n",
    "\n",
    "kf = model_selection.KFold(n_splits=5, shuffle=True, random_state=2016)\n",
    "\n",
    "count\n",
    "for dev_index, val_index in kf.split(range(len(listing_id_interest))):\n",
    "    trn_indices = dev_index\n",
    "    val_indices = val_index\n",
    "    if count == desired_fold:\n",
    "        break\n",
    "    count += 1\n",
    "print len(trn_indices)\n",
    "print len(val_indices)"
   ]
  },
  {
   "cell_type": "code",
   "execution_count": 10,
   "metadata": {
    "collapsed": true
   },
   "outputs": [],
   "source": [
    "ids = listing_id_interest['listing_id']\n",
    "ids = np.array(ids)\n",
    "val_ids = ids[val_indices]"
   ]
  },
  {
   "cell_type": "code",
   "execution_count": 12,
   "metadata": {
    "collapsed": false
   },
   "outputs": [
    {
     "name": "stdout",
     "output_type": "stream",
     "text": [
      "[7120132 6912559 6832226 6847390 6859368 6907631 7127110 6866313 6878074\n",
      " 6890772 6940305 6846405 6819930 6864916 6883194 6914141 6885991 6822355\n",
      " 6924176]\n"
     ]
    }
   ],
   "source": [
    "print val_ids[0:19]"
   ]
  },
  {
   "cell_type": "code",
   "execution_count": 15,
   "metadata": {
    "collapsed": false
   },
   "outputs": [],
   "source": [
    "# creating val set\n",
    "categories = ['low', 'medium', 'high']\n",
    "for folder in categories:\n",
    "    for img in listdir(join(paths.TRN_IMAGES, folder)):\n",
    "        listing_id = int(img[:img.index('_')])\n",
    "        if listing_id in val_ids:\n",
    "            shutil.move(join(paths.TRN_IMAGES,folder,img), \n",
    "                        join(paths.VAL_IMAGES,folder,img))"
   ]
  },
  {
   "cell_type": "code",
   "execution_count": null,
   "metadata": {
    "collapsed": true
   },
   "outputs": [],
   "source": []
  }
 ],
 "metadata": {
  "kernelspec": {
   "display_name": "Python [default]",
   "language": "python",
   "name": "python2"
  },
  "language_info": {
   "codemirror_mode": {
    "name": "ipython",
    "version": 2
   },
   "file_extension": ".py",
   "mimetype": "text/x-python",
   "name": "python",
   "nbconvert_exporter": "python",
   "pygments_lexer": "ipython2",
   "version": "2.7.13"
  }
 },
 "nbformat": 4,
 "nbformat_minor": 2
}
