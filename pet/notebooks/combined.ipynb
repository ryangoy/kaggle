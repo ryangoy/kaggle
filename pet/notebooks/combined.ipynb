{
 "cells": [
  {
   "cell_type": "markdown",
   "metadata": {},
   "source": [
    "# Combined lgb and nn"
   ]
  },
  {
   "cell_type": "markdown",
   "metadata": {},
   "source": [
    "# Table of contents\n",
    "\n",
    "[Data Loading](#data_loading)\n",
    "\n",
    "[JSON Parsing](#json_parsing)\n",
    "\n",
    "[Data Aggregation](#data_aggregation)\n",
    "\n",
    "[Feature Engineering](#fe)\n",
    "\n",
    "[NLP](#nlp)\n",
    "\n",
    "[Image Metadata Extraction](#image_metadata)\n",
    "\n",
    "[Image Processing](#cv)\n",
    "\n",
    "[Training](#training)"
   ]
  },
  {
   "cell_type": "code",
   "execution_count": 1,
   "metadata": {},
   "outputs": [
    {
     "name": "stderr",
     "output_type": "stream",
     "text": [
      "Using TensorFlow backend.\n"
     ]
    }
   ],
   "source": [
    "import gc\n",
    "import glob\n",
    "import os\n",
    "from os import path\n",
    "import json\n",
    "import matplotlib.pyplot as plt\n",
    "import seaborn as sns\n",
    "import pprint\n",
    "import warnings\n",
    "from joblib import Parallel, delayed\n",
    "from tqdm import tqdm, tqdm_notebook\n",
    "import cv2\n",
    "from PIL import Image\n",
    "from collections import Counter, defaultdict\n",
    "from functools import partial\n",
    "from math import sqrt\n",
    "import time\n",
    "from functools import reduce\n",
    "from numba import cuda\n",
    "import math\n",
    "import random\n",
    "\n",
    "import numpy as np\n",
    "import pandas as pd\n",
    "import scipy as sp\n",
    "import xgboost as xgb\n",
    "import lightgbm as lgb\n",
    "\n",
    "from sklearn.feature_extraction.text import TfidfVectorizer\n",
    "from sklearn.decomposition import TruncatedSVD\n",
    "from sklearn.metrics import cohen_kappa_score, mean_squared_error\n",
    "from sklearn.metrics import confusion_matrix as sk_cmatrix\n",
    "from sklearn.model_selection import StratifiedKFold, GroupKFold\n",
    "\n",
    "from keras.applications.densenet import preprocess_input, DenseNet121\n",
    "from keras.models import Model\n",
    "from keras.layers import Dense, GlobalAveragePooling2D, Input, Lambda, AveragePooling1D, \\\n",
    "        concatenate, BatchNormalization, Activation, Dropout, Embedding, Reshape\n",
    "from keras.callbacks import LearningRateScheduler\n",
    "from keras.optimizers import *\n",
    "from keras.initializers import glorot_normal\n",
    "import keras.backend as K\n",
    "\n",
    "%matplotlib inline\n",
    "\n",
    "np.random.seed(seed=1)\n",
    "warnings.filterwarnings('ignore')\n",
    "\n",
    "split_char = '/'\n",
    "\n",
    "img_size = 256\n",
    "batch_size = 256"
   ]
  },
  {
   "cell_type": "markdown",
   "metadata": {},
   "source": [
    "<a id='data_loading'></a>\n",
    "## Data loading"
   ]
  },
  {
   "cell_type": "code",
   "execution_count": 2,
   "metadata": {},
   "outputs": [],
   "source": [
    "data_path = '../input/petfinder-adoption-prediction/'\n",
    "train = pd.read_csv(path.join(data_path, 'train/train.csv'))\n",
    "test = pd.read_csv(path.join(data_path, 'test/test.csv'))\n",
    "y_trn = train['AdoptionSpeed']\n",
    "sample_submission = pd.read_csv(path.join(data_path, 'test/sample_submission.csv'))\n",
    "\n",
    "labels_breed = pd.read_csv(path.join(data_path, 'breed_labels.csv'))\n",
    "labels_state = pd.read_csv(path.join(data_path, 'color_labels.csv'))\n",
    "labels_color = pd.read_csv(path.join(data_path, 'state_labels.csv'))"
   ]
  },
  {
   "cell_type": "code",
   "execution_count": 3,
   "metadata": {},
   "outputs": [],
   "source": [
    "def get_filenames(mode='train'):\n",
    "    \n",
    "    image_files = sorted(glob.glob(path.join(data_path, '{}_images/*.jpg'.format(mode))))\n",
    "    metadata_files = sorted(glob.glob(path.join(data_path, '{}_metadata/*.json'.format(mode))))\n",
    "    sentiment_files = sorted(glob.glob(path.join(data_path, '{}_sentiment/*.json'.format(mode))))\n",
    "    \n",
    "    return image_files, metadata_files, sentiment_files\n",
    "\n",
    "def create_fnames_df(metadata_fnames_list, sentiment_fnames_list):\n",
    "\n",
    "    # Metadata:\n",
    "    metadata_fnames = pd.DataFrame(metadata_fnames_list, columns = ['metadata_filename'])\n",
    "    metadata_fnames['PetID'] = metadata_fnames['metadata_filename'].apply(lambda x: x.split(split_char)[-1].split('-')[0])\n",
    "\n",
    "    # Sentiment:\n",
    "    sentiment_fnames = pd.DataFrame(sentiment_fnames_list, columns = ['sentiment_filename'])\n",
    "    sentiment_fnames['PetID'] = sentiment_fnames['sentiment_filename'].apply(lambda x: x.split(split_char)[-1].split('.')[0])\n",
    "\n",
    "    return metadata_fnames, sentiment_fnames"
   ]
  },
  {
   "cell_type": "code",
   "execution_count": 4,
   "metadata": {},
   "outputs": [
    {
     "name": "stdout",
     "output_type": "stream",
     "text": [
      "num of train images files: 58311\n",
      "num of train metadata files: 58311\n",
      "num of train sentiment files: 14442\n",
      "num of test images files: 15040\n",
      "num of test metadata files: 15040\n",
      "num of test sentiment files: 3815\n"
     ]
    }
   ],
   "source": [
    "train_image_files, train_metadata_files, train_sentiment_files = get_filenames('train')\n",
    "print('num of train images files: {}'.format(len(train_image_files)))\n",
    "print('num of train metadata files: {}'.format(len(train_metadata_files)))\n",
    "print('num of train sentiment files: {}'.format(len(train_sentiment_files)))\n",
    "\n",
    "test_image_files, test_metadata_files, test_sentiment_files = get_filenames('test')\n",
    "print('num of test images files: {}'.format(len(test_image_files)))\n",
    "print('num of test metadata files: {}'.format(len(test_metadata_files)))\n",
    "print('num of test sentiment files: {}'.format(len(test_sentiment_files)))"
   ]
  },
  {
   "cell_type": "code",
   "execution_count": 5,
   "metadata": {},
   "outputs": [],
   "source": [
    "metadata_fnames_trn, sentiment_fnames_trn = create_fnames_df(train_metadata_files, train_sentiment_files)\n",
    "metadata_fnames_test, sentiment_fnames_test = create_fnames_df(test_metadata_files, test_sentiment_files)"
   ]
  },
  {
   "cell_type": "code",
   "execution_count": 6,
   "metadata": {},
   "outputs": [
    {
     "data": {
      "text/plain": [
       "'../input/petfinder-adoption-prediction/train_images/0008c5398-1.jpg'"
      ]
     },
     "execution_count": 6,
     "metadata": {},
     "output_type": "execute_result"
    }
   ],
   "source": [
    "train_image_files[0]"
   ]
  },
  {
   "cell_type": "markdown",
   "metadata": {},
   "source": [
    "<a id=\"json_parsing\"></a>\n",
    "## JSON parsing"
   ]
  },
  {
   "cell_type": "code",
   "execution_count": 7,
   "metadata": {},
   "outputs": [],
   "source": [
    "def open_json_file(filename):\n",
    "    with open(filename, 'r', encoding='utf-8') as f:\n",
    "        json_file = json.load(f)\n",
    "    return json_file\n",
    "\n",
    "def parse_sentiment_file(file):\n",
    "    \"\"\"\n",
    "    Parse sentiment file. Output DF with sentiment features.\n",
    "    \"\"\"\n",
    "\n",
    "    file_sentiment = file['documentSentiment']\n",
    "    file_entities = [x['name'] for x in file['entities']]\n",
    "    file_entities = ' '.join(file_entities)\n",
    "\n",
    "    file_sentences_sentiment = [x['sentiment'] for x in file['sentences']]\n",
    "\n",
    "    file_sentences_sentiment = pd.DataFrame.from_dict(\n",
    "        file_sentences_sentiment, orient='columns')\n",
    "    file_sentences_sentiment_df = pd.DataFrame(\n",
    "        {\n",
    "            'magnitude_sum': file_sentences_sentiment['magnitude'].sum(axis=0),\n",
    "            'score_sum': file_sentences_sentiment['score'].sum(axis=0),\n",
    "            'magnitude_mean': file_sentences_sentiment['magnitude'].mean(axis=0),\n",
    "            'score_mean': file_sentences_sentiment['score'].mean(axis=0),\n",
    "            'magnitude_var': file_sentences_sentiment['magnitude'].var(axis=0),\n",
    "            'score_var': file_sentences_sentiment['score'].var(axis=0),\n",
    "        }, index=[0]\n",
    "    )\n",
    "\n",
    "    df_sentiment = pd.DataFrame.from_dict(file_sentiment, orient='index').T\n",
    "    df_sentiment = pd.concat([df_sentiment, file_sentences_sentiment_df], axis=1)\n",
    "\n",
    "    df_sentiment['entities'] = file_entities\n",
    "    df_sentiment = df_sentiment.add_prefix('sentiment_')\n",
    "\n",
    "    return df_sentiment\n",
    "    \n",
    "def parse_metadata_file(file, is_first_img):\n",
    "    \"\"\"\n",
    "    Parse metadata file. Output DF with metadata features.\n",
    "    \"\"\"\n",
    "    try:\n",
    "        file_keys = list(file.keys())\n",
    "\n",
    "\n",
    "        # label annotations\n",
    "\n",
    "        if 'labelAnnotations' in file_keys:\n",
    "            file_annots = file['labelAnnotations']\n",
    "            scores = np.asarray([x['score'] for x in file_annots])\n",
    "            scores_max_idx = scores.argmax()\n",
    "            file_top_score = scores[scores_max_idx]\n",
    "            file_mean_score = scores.mean()\n",
    "            file_top_desc = [x['description'] for x in file_annots]\n",
    "    #         file_top_desc = file_annots[scores_max_idx]['description']\n",
    "            file_num_annots = len(file_annots)\n",
    "        else:\n",
    "            file_top_score = np.nan\n",
    "            file_top_desc = ['']\n",
    "            file_mean_score = np.nan\n",
    "            file_num_annots = 0\n",
    "\n",
    "\n",
    "        # image properties annotation\n",
    "\n",
    "        # colors    \n",
    "        file_colors = file['imagePropertiesAnnotation']['dominantColors']['colors']\n",
    "        color_max_idx = np.asarray([x['score'] for x in file_colors]).argmax()\n",
    "        color_max_score = file_colors[color_max_idx]['color']\n",
    "        if 'red' in color_max_score and 'green' in color_max_score and 'blue' in color_max_score:\n",
    "            color_max_red = color_max_score['red']\n",
    "            color_max_green = color_max_score['green']\n",
    "            color_max_blue = color_max_score['blue']\n",
    "        else:\n",
    "            color_max_red = 0\n",
    "            color_max_green = 0\n",
    "            color_max_blue = 0\n",
    "        file_color_score = np.asarray([x['score'] for x in file_colors]).mean()\n",
    "        file_color_score_max = file_colors[color_max_idx]['score']\n",
    "\n",
    "        file_color_pixelfrac = np.asarray([x['pixelFraction'] for x in file_colors]).sum()\n",
    "        file_color_pixelfrac_mean = np.asarray([x['pixelFraction'] for x in file_colors]).mean()\n",
    "\n",
    "        df_metadata = {\n",
    "            'annots_score': file_top_score,\n",
    "            'annots_mean_score': file_mean_score,\n",
    "            'color_score': file_color_score,\n",
    "            'max_color_score': file_color_score_max,\n",
    "            'max_red': color_max_red,\n",
    "            'max_green': color_max_green,\n",
    "            'max_blue': color_max_blue,\n",
    "            'color_pixelfrac': file_color_pixelfrac,\n",
    "            'color_pixelfrac_mean': file_color_pixelfrac_mean,\n",
    "            'annots_top_desc': ' '.join(file_top_desc),\n",
    "            'num_annots': file_num_annots,\n",
    "            'is_first_img': is_first_img,\n",
    "        }\n",
    "    except:\n",
    "        df_metadata = {\n",
    "            'annots_score': 0.0,\n",
    "            'annots_mean_score': 0.0,\n",
    "            'color_score': 0.0,\n",
    "            'max_color_score': 0.0,\n",
    "            'max_red': 0.0,\n",
    "            'max_green': 0.0,\n",
    "            'max_blue': 0.0,\n",
    "            'color_pixelfrac': 0.0,\n",
    "            'color_pixelfrac_mean': 0.0,\n",
    "            'annots_top_desc': ' ',\n",
    "            'num_annots': 0.0,\n",
    "            'is_first_img': False,\n",
    "        }\n",
    "\n",
    "    df_metadata = pd.DataFrame.from_dict(df_metadata, orient='index').T\n",
    "    df_metadata = df_metadata.add_prefix('metadata_')\n",
    "\n",
    "    return df_metadata\n",
    "    \n",
    "\n",
    "def extract_features_for_id(pet_id, mode='train'):\n",
    "    if len(pet_id) > 20:\n",
    "        print(pet_id)\n",
    "    sentiment_filename = path.join(data_path, '{}_sentiment/{}.json'.format(mode, pet_id))\n",
    "    try:\n",
    "        sentiment_file = open_json_file(sentiment_filename)\n",
    "        df_sentiment = parse_sentiment_file(sentiment_file)\n",
    "        df_sentiment['PetID'] = pet_id\n",
    "    except FileNotFoundError:\n",
    "        df_sentiment = []\n",
    "\n",
    "    dfs_metadata = []\n",
    "    metadata_filenames = sorted(glob.glob('../input/petfinder-adoption-prediction/{}_metadata/{}*.json'.format(mode, pet_id)))\n",
    "    if len(metadata_filenames) > 0:\n",
    "        for f in metadata_filenames:\n",
    "            metadata_file = open_json_file(f)\n",
    "            is_first_img = '-1' == f[f.index('.json')-2:f.index('.json')]\n",
    "            df_metadata = parse_metadata_file(metadata_file, is_first_img)\n",
    "            df_metadata['PetID'] = pet_id\n",
    "            dfs_metadata.append(df_metadata)\n",
    "        dfs_metadata = pd.concat(dfs_metadata, ignore_index=True)\n",
    "    dfs = [df_sentiment, dfs_metadata]\n",
    "    \n",
    "    return dfs\n",
    "\n",
    "def extract_features_for_ids(pet_ids, mode='train'):\n",
    "    dfs = Parallel(n_jobs=-1, verbose=1)(\n",
    "            delayed(extract_features_for_id)(i, mode=mode) for i in pet_ids)\n",
    "    sentiment_dfs = [x[0] for x in dfs if isinstance(x[0], pd.DataFrame)]\n",
    "    metadata_dfs = [x[1] for x in dfs if isinstance(x[1], pd.DataFrame)]\n",
    "    sentiment_dfs = pd.concat(sentiment_dfs, ignore_index=True)\n",
    "    metadata_dfs = pd.concat(metadata_dfs, ignore_index=True)\n",
    "    \n",
    "    return sentiment_dfs, metadata_dfs"
   ]
  },
  {
   "cell_type": "code",
   "execution_count": 8,
   "metadata": {
    "scrolled": true
   },
   "outputs": [
    {
     "name": "stderr",
     "output_type": "stream",
     "text": [
      "[Parallel(n_jobs=-1)]: Using backend LokyBackend with 8 concurrent workers.\n",
      "[Parallel(n_jobs=-1)]: Done  34 tasks      | elapsed:    1.3s\n",
      "[Parallel(n_jobs=-1)]: Done 184 tasks      | elapsed:    3.8s\n",
      "[Parallel(n_jobs=-1)]: Done 434 tasks      | elapsed:    8.2s\n",
      "[Parallel(n_jobs=-1)]: Done 784 tasks      | elapsed:   14.4s\n",
      "[Parallel(n_jobs=-1)]: Done 1234 tasks      | elapsed:   22.2s\n",
      "[Parallel(n_jobs=-1)]: Done 1784 tasks      | elapsed:   32.6s\n",
      "[Parallel(n_jobs=-1)]: Done 2700 tasks      | elapsed:   49.4s\n",
      "[Parallel(n_jobs=-1)]: Done 4200 tasks      | elapsed:  1.3min\n",
      "[Parallel(n_jobs=-1)]: Done 5900 tasks      | elapsed:  1.8min\n",
      "[Parallel(n_jobs=-1)]: Done 7800 tasks      | elapsed:  2.3min\n",
      "[Parallel(n_jobs=-1)]: Done 9900 tasks      | elapsed:  2.9min\n",
      "[Parallel(n_jobs=-1)]: Done 12200 tasks      | elapsed:  3.6min\n",
      "[Parallel(n_jobs=-1)]: Done 14700 tasks      | elapsed:  4.4min\n",
      "[Parallel(n_jobs=-1)]: Done 14978 out of 14993 | elapsed:  4.5min remaining:    0.3s\n",
      "[Parallel(n_jobs=-1)]: Done 14993 out of 14993 | elapsed:  4.5min finished\n",
      "[Parallel(n_jobs=-1)]: Using backend LokyBackend with 8 concurrent workers.\n",
      "[Parallel(n_jobs=-1)]: Done 124 tasks      | elapsed:    0.7s\n",
      "[Parallel(n_jobs=-1)]: Done 1024 tasks      | elapsed:    5.8s\n",
      "[Parallel(n_jobs=-1)]: Done 2524 tasks      | elapsed:   13.5s\n",
      "[Parallel(n_jobs=-1)]: Done 3948 out of 3948 | elapsed:   20.6s finished\n"
     ]
    }
   ],
   "source": [
    "sentiment_trn, metadata_trn = extract_features_for_ids(train.PetID, mode='train')\n",
    "sentiment_test, metadata_test = extract_features_for_ids(test.PetID, mode='test')"
   ]
  },
  {
   "cell_type": "markdown",
   "metadata": {},
   "source": [
    "<a id='image_metadata'></a>\n",
    "## Image Metadata Extraction"
   ]
  },
  {
   "cell_type": "code",
   "execution_count": 9,
   "metadata": {},
   "outputs": [],
   "source": [
    "def getSize(filename):\n",
    "    st = os.stat(filename)\n",
    "    return st.st_size\n",
    "\n",
    "def getDimensions(filename):\n",
    "    img_size = Image.open(filename).size\n",
    "    return img_size \n",
    "\n",
    "def extract_image_metadata(image_files):\n",
    "    \n",
    "    images_df = pd.DataFrame(image_files)\n",
    "    images_df.columns = ['image_filename']\n",
    "    images_ids = images_df['image_filename'].apply(lambda x: x.split(split_char)[-1].split('-')[0])\n",
    "\n",
    "    images_df = images_df.assign(PetID=images_ids)\n",
    "    \n",
    "    images_df['image_size'] = images_df['image_filename'].apply(getSize)\n",
    "    images_df['temp_size'] = images_df['image_filename'].apply(getDimensions)\n",
    "    images_df['width'] = images_df['temp_size'].apply(lambda x : x[0])\n",
    "    images_df['height'] = images_df['temp_size'].apply(lambda x : x[1])\n",
    "    images_df = images_df.drop(['temp_size'], axis=1)\n",
    "    \n",
    "    aggs = {\n",
    "        'image_size': ['sum', 'mean'],\n",
    "        'width': ['sum', 'mean'],\n",
    "        'height': ['sum', 'mean'],\n",
    "    }\n",
    "\n",
    "    agg_imgs = images_df.groupby('PetID').agg(aggs)\n",
    "    new_columns = [\n",
    "        k + '_' + agg for k in aggs.keys() for agg in aggs[k]\n",
    "    ]\n",
    "    agg_imgs.columns = new_columns\n",
    "    agg_imgs = agg_imgs.reset_index()\n",
    "    \n",
    "    first_img_df = image_files\n",
    "    \n",
    "    \n",
    "\n",
    "    return agg_imgs"
   ]
  },
  {
   "cell_type": "code",
   "execution_count": 10,
   "metadata": {},
   "outputs": [],
   "source": [
    "image_metadata_trn = extract_image_metadata(train_image_files)\n",
    "image_metadata_test = extract_image_metadata(test_image_files)"
   ]
  },
  {
   "cell_type": "markdown",
   "metadata": {},
   "source": [
    "<a id=\"data_aggregation\"></a>\n",
    "## Data Aggregation and Preprocessing"
   ]
  },
  {
   "cell_type": "code",
   "execution_count": 11,
   "metadata": {},
   "outputs": [],
   "source": [
    "aggregates = ['sum', 'mean', 'max']\n",
    "sent_agg = ['sum']\n",
    "\n",
    "def aggregate_df(ids, metadata_df, sentiment_df):\n",
    "    \n",
    "    # Train\n",
    "\n",
    "    # metadata\n",
    "\n",
    "    # join all the annotations top desc\n",
    "    metadata_desc = metadata_df.groupby(['PetID'])['metadata_annots_top_desc'].unique()\n",
    "    metadata_desc = metadata_desc.reset_index()\n",
    "    metadata_desc['metadata_annots_top_desc'] = metadata_desc['metadata_annots_top_desc'].apply(lambda x: ' '.join(x))\n",
    "\n",
    "#     metadata_face_annot = metadata_df.groupby('PetID')['metadata_has_face_annot'].any().to_frame().reset_index()\n",
    "#     metadata_text_annot = metadata_df.groupby('PetID')['metadata_has_text_annot'].any().to_frame().reset_index()\n",
    "                                    \n",
    "    # conver to float\n",
    "    metadata_gr = metadata_df.drop(['metadata_annots_top_desc', 'metadata_is_first_img'], axis=1)\n",
    "    \n",
    "    \n",
    "    for i in metadata_gr.columns:\n",
    "        if 'PetID' not in i:\n",
    "            metadata_gr[i] = metadata_gr[i].astype(np.float32)\n",
    "\n",
    "    # apply sum, mean, var to all pets with multiple data pts\n",
    "    metadata_gr = metadata_gr.groupby(['PetID']).agg(aggregates)\n",
    "    metadata_gr.columns = pd.Index(['{}_{}'.format(c[0], c[1].upper()) for c in metadata_gr.columns.tolist()])\n",
    "    metadata_gr = metadata_gr.reset_index()\n",
    "\n",
    "    first_img_df = metadata_df[metadata_df['metadata_is_first_img'] == True].add_suffix('_FIRST')\n",
    "    \n",
    "    first_img_df = first_img_df.rename({'PetID_FIRST': 'PetID'}, axis='columns')\n",
    "    \n",
    "    metadata_gr = metadata_gr.merge(first_img_df, on='PetID', how='left')\n",
    "    \n",
    "    \n",
    "    # sentiment\n",
    "\n",
    "    # join unique sentiment entities\n",
    "    sentiment_desc = sentiment_df.groupby(['PetID'])['sentiment_entities'].unique()\n",
    "    sentiment_desc = sentiment_desc.reset_index()\n",
    "    sentiment_desc[\n",
    "        'sentiment_entities'] = sentiment_desc[\n",
    "        'sentiment_entities'].apply(lambda x: ' '.join(x))\n",
    "\n",
    "    # apply sum to all pets with multiple data pts\n",
    "    sentiment_gr = sentiment_df.drop(['sentiment_entities'], axis=1)\n",
    "    for i in sentiment_gr.columns:\n",
    "        if 'PetID' not in i:\n",
    "            sentiment_gr[i] = sentiment_gr[i].astype(float)\n",
    "    sentiment_gr = sentiment_gr.groupby(['PetID']).agg(sent_agg)\n",
    "    sentiment_gr.columns = pd.Index(['{}'.format(c[0]) for c in sentiment_gr.columns.tolist()])\n",
    "    sentiment_gr = sentiment_gr.reset_index()\n",
    "    \n",
    "    merged_df = pd.DataFrame(ids, columns = ['PetID'])\n",
    "    merged_df = merged_df.merge(sentiment_gr, how='left', on='PetID')\n",
    "    merged_df = merged_df.merge(sentiment_desc, how='left', on='PetID')\n",
    "    merged_df = merged_df.merge(metadata_gr, how='left', on='PetID')\n",
    "    merged_df = merged_df.merge(metadata_desc, how='left', on='PetID')\n",
    "    \n",
    "#     merged_df = merged_df.merge(metadata_face_annot, how='left', on='PetID')\n",
    "#     merged_df = merged_df.merge(metadata_text_annot, how='left', on='PetID')\n",
    "    \n",
    "    \n",
    "    return merged_df"
   ]
  },
  {
   "cell_type": "code",
   "execution_count": 12,
   "metadata": {},
   "outputs": [],
   "source": [
    "meta_senti_trn = aggregate_df(train.PetID, metadata_trn, sentiment_trn)\n",
    "meta_senti_test = aggregate_df(test.PetID, metadata_test, sentiment_test)"
   ]
  },
  {
   "cell_type": "code",
   "execution_count": 13,
   "metadata": {},
   "outputs": [],
   "source": [
    "# nn_trn_agg = nn_trn.groupby('PetID').agg(['sum', 'mean', 'max']).reset_index()\n",
    "# nn_test_agg = nn_test.groupby('PetID').agg(['sum', 'mean', 'max']).reset_index()\n",
    "\n",
    "# nn_trn_agg.columns = ['PetID', 'nn_sum', 'nn_mean', 'nn_max']\n",
    "# nn_test_agg.columns = ['PetID', 'nn_sum', 'nn_mean', 'nn_max']"
   ]
  },
  {
   "cell_type": "code",
   "execution_count": 14,
   "metadata": {},
   "outputs": [],
   "source": [
    "# meta_senti_trn = meta_senti_trn.merge(nn_trn_agg, on='PetID', how='left')\n",
    "# meta_senti_test = meta_senti_test.merge(nn_test_agg, on='PetID', how='left')"
   ]
  },
  {
   "cell_type": "code",
   "execution_count": 15,
   "metadata": {},
   "outputs": [],
   "source": [
    "meta_dfs_trn = [train, meta_senti_trn, image_metadata_trn]\n",
    "meta_dfs_test = [test, meta_senti_test, image_metadata_test]\n",
    "\n",
    "stage1_trn = reduce(lambda left,right: pd.merge(left, right, on=['PetID'], how='left'), meta_dfs_trn)\n",
    "stage1_test = reduce(lambda left,right: pd.merge(left, right, on=['PetID'], how='left'), meta_dfs_test)"
   ]
  },
  {
   "cell_type": "markdown",
   "metadata": {},
   "source": [
    "<a id=\"fe\"></a>\n",
    "## Feature Engineering"
   ]
  },
  {
   "cell_type": "code",
   "execution_count": 16,
   "metadata": {},
   "outputs": [],
   "source": [
    "def get_breed_df(df): \n",
    "    breed_primary = df[['Breed1']].merge(labels_breed, how='left', left_on='Breed1', right_on='BreedID', \n",
    "                                               suffixes=('', '_primary_breed'))[['BreedName', 'Type']]\n",
    "    breed_primary = breed_primary.add_prefix('primary_')\n",
    "\n",
    "    breed_secondary = df[['Breed2']].merge(labels_breed, how='left', left_on='Breed2', right_on='BreedID', \n",
    "                                               suffixes=('', '_secondary_breed'))[['BreedName', 'Type']]\n",
    "    breed_secondary = breed_secondary.add_prefix('secondary_')\n",
    "    \n",
    "    combined_breed = pd.concat([breed_primary, breed_secondary], axis=1)\n",
    "    \n",
    "    mask1 = combined_breed['primary_BreedName']=='Mixed Breed'\n",
    "    mask2 = combined_breed['secondary_BreedName'].isnull()\n",
    "    combined_breed.loc[mask1 & mask2, 'secondary_BreedName'] = 'Mixed Breed'\n",
    "    \n",
    "    combined_breed['primary_BreedName'].fillna(combined_breed['secondary_BreedName'], inplace=True)\n",
    "    combined_breed['primary_Type'].fillna(combined_breed['secondary_Type'], inplace=True)\n",
    "    combined_breed['secondary_BreedName'].fillna('Pure Breed', inplace=True)\n",
    "    combined_breed = combined_breed.drop(['primary_Type','secondary_Type'], axis=1)\n",
    "    combined_breed['PetID'] = df['PetID']\n",
    "    \n",
    "    return combined_breed"
   ]
  },
  {
   "cell_type": "code",
   "execution_count": 17,
   "metadata": {},
   "outputs": [],
   "source": [
    "breed_trn = get_breed_df(train)\n",
    "breed_test = get_breed_df(test)"
   ]
  },
  {
   "cell_type": "code",
   "execution_count": 18,
   "metadata": {},
   "outputs": [],
   "source": [
    "stage2_trn = stage1_trn.merge(breed_trn, on=['PetID'], how='left')\n",
    "stage2_test = stage1_test.merge(breed_test, on=['PetID'], how='left')"
   ]
  },
  {
   "cell_type": "code",
   "execution_count": 19,
   "metadata": {},
   "outputs": [],
   "source": [
    "def generate_count_feature(df, col, counts=None):\n",
    "    if counts is None:\n",
    "        feature = df[col]\n",
    "        groups = df.groupby(col)\n",
    "        counts = groups.size()\n",
    "        \n",
    "    count_feature = df[col].map(counts)\n",
    "    \n",
    "    return count_feature, counts\n",
    "\n",
    "def encode_FE(df,col,verbose=0):\n",
    "    ln = 1/df[col].nunique()\n",
    "    vc = (df[col].value_counts(dropna=False, normalize=True)+ln).map(math.log).to_dict()\n",
    "    nm = col+'_counts'\n",
    "    df[nm] = df[col].map(vc)\n",
    "    df[nm] -= df[nm].min()\n",
    "    df[nm] = df[nm]/df[nm].max()\n",
    "    df[nm] = df[nm].astype('float32')\n",
    "    if verbose==1:\n",
    "        print('count encoded',col)\n",
    "        \n",
    "\n",
    "# def generate_count_df(df, cols, counts_map={}):\n",
    "#     for col in cols:\n",
    "#         if col in counts_map:\n",
    "#             count_df[col + '_counts'], _ = generate_count_feature(df, col, counts=counts_map[col])\n",
    "#         else:\n",
    "#             count_df[col + '_counts'], counts_map[col] = generate_count_feature(df, col)\n",
    "        \n",
    "#     return count_df, counts_map\n",
    "\n",
    "\n",
    "\n",
    "# def generate_freq_feature(df, col, on='AdoptionSpeed', frequencies=None):\n",
    "\n",
    "#     if frequencies is None:\n",
    "#         groups = df.groupby(col)\n",
    "#         sizes = groups.size()\n",
    "#         sums = groups.sum()[on]\n",
    "#         frequencies = sums/sizes\n",
    "#     freq_feature = df[col].map(frequencies)\n",
    "    \n",
    "#     return freq_feature, frequencies\n",
    "\n",
    "# def generate_freq_df(df, cols, freqs_map={}):\n",
    "#     freq_df = pd.DataFrame()\n",
    "#     for col in cols:\n",
    "#         if col in freqs_map:\n",
    "#             freq_df[col + '_freqs'], _ = generate_freq_feature(df, col, frequencies=freqs_map[col])\n",
    "#         else:\n",
    "#             freq_df[col + '_freqs'],  freqs_map[col] =  generate_freq_feature(df, col)\n",
    "            \n",
    "#     return freq_df, freqs_map\n",
    "\n",
    "def generate_smoothed_count_feature(df, col, counts=None):\n",
    "    if counts is None:\n",
    "        _, counts = generate_count_feature(df, col)\n",
    "\n",
    "    sorted_keys = sorted(df[col].unique())\n",
    "    sorted_vals = np.pad([counts[x] for x in sorted_keys], 2, 'edge')\n",
    "    new_vals = []\n",
    "        \n",
    "    for i in range(len(sorted_keys)):\n",
    "        new_vals.append(0.1*sorted_vals[i] + 0.2*sorted_vals[i+1] + 0.4*sorted_vals[i+2] + 0.2*sorted_vals[i+3] + 0.1*sorted_vals[i+4])\n",
    "    \n",
    "    smoothed = df[col].map(dict(zip(sorted_keys, new_vals)))\n",
    "    return smoothed"
   ]
  },
  {
   "cell_type": "code",
   "execution_count": 20,
   "metadata": {},
   "outputs": [],
   "source": [
    "def splitnonalpha(s):\n",
    "    idx = 1\n",
    "    while idx < len(s) and s[idx].isalpha():\n",
    "        idx+=1\n",
    "    return s[:idx]\n",
    "\n",
    "def feature_engineer_1(df):\n",
    "\n",
    "    fe = pd.DataFrame()\n",
    "    fe['Length_Description'] = df['Description'].astype(str).map(len)\n",
    "    fe['Length_metadata_annots_top_desc'] = df['metadata_annots_top_desc'].astype(str).map(len)\n",
    "    fe['Lengths_sentiment_entities'] = df['sentiment_entities'].astype(str).map(len)\n",
    "    \n",
    "    df['Name'] = df['Name']\n",
    "    df['Name'] = df['Name'].str.lower().replace(['no name', 'noname', np.nan], '')\n",
    "    df['Name'] = df['Name'].map(splitnonalpha)\n",
    "    fe['NameLength'] = df['Name'].map(len)\n",
    "    \n",
    "    fe['FeeOrNot'] = df['Fee'] > 0\n",
    "    \n",
    "    fe['Purebred'] = df['secondary_BreedName'] == 'Pure Breed'\n",
    "    \n",
    "    fe['Status'] = (df['Vaccinated'] == 1).astype(int) + (df['Dewormed'] == 1).astype(int) + (df['Sterilized'] == 1).astype(int) + (df['Health'] == 1).astype(int) \n",
    "    \n",
    "    rescuers_gb = df.groupby(['RescuerID']).agg({'Age': 'median'}).reset_index()\n",
    "    with_avg_age = df.merge(rescuers_gb, on='RescuerID', how='left', suffixes=('', '_rescuer_mean'))\n",
    "    fe['RescuerID_relative_age'] = with_avg_age['Age']-with_avg_age['Age_rescuer_mean']\n",
    "    fe['Age_rescuer_mean'] = with_avg_age['Age_rescuer_mean']\n",
    "    \n",
    "    rescuers_gb = df.groupby(['RescuerID', 'Type']).agg('count').reset_index()[['RescuerID', 'Type', 'Name']]\n",
    "    num_types = df.merge(rescuers_gb, on=['RescuerID', 'Type'], how='left', suffixes=('', '_rescuer_num'))\n",
    "    fe['Type_rescuer_sum'] = num_types['Name_rescuer_num']\n",
    "    \n",
    "    rescuers_gb = df.groupby(['RescuerID']).agg({'Type': 'mean'}).reset_index()\n",
    "    avg_type = df.merge(rescuers_gb, on='RescuerID', how='left', suffixes=('', '_rescuer_avg'))\n",
    "    fe['Type_rescuer_avg'] = avg_type['Type_rescuer_avg']\n",
    "    \n",
    "    rescuers_gb = df.groupby(['RescuerID']).agg({'Quantity': 'sum'}).reset_index()\n",
    "    sum_quantity = df.merge(rescuers_gb, on='RescuerID', how='left', suffixes=('', '_rescuer_sum'))\n",
    "    fe['Quantity_rescuer_sum'] = sum_quantity['Quantity_rescuer_sum']\n",
    "    \n",
    "    return fe"
   ]
  },
  {
   "cell_type": "code",
   "execution_count": 21,
   "metadata": {},
   "outputs": [],
   "source": [
    "fe1_trn = feature_engineer_1(stage2_trn)\n",
    "fe1_test = feature_engineer_1(stage2_test)\n",
    "\n",
    "stage3_trn = stage2_trn.join(fe1_trn)\n",
    "stage3_test = stage2_test.join(fe1_test)"
   ]
  },
  {
   "cell_type": "code",
   "execution_count": 22,
   "metadata": {},
   "outputs": [],
   "source": [
    "def encode_CE(df, col, filt, zscore, label='AdoptionSpeed', m=0.5, verbose=1): \n",
    "    \n",
    "    # get counts\n",
    "    df_counts = pd.DataFrame(df[col].value_counts(dropna=False)).reset_index()\n",
    "    \n",
    "    # get mean of label per category\n",
    "    df_mean = df.groupby(col)[label].mean().reset_index().rename({label:'rate',col:'index'},axis=1)\n",
    "    \n",
    "    # combine\n",
    "    df_ce = pd.merge(df_counts, df_mean, on='index', how='left')\n",
    "    \n",
    "    \n",
    "    # if the value is null to begin with, then set the CE value to the mean of null values\n",
    "    if (len(df_ce[df_ce['index'].isna()])!=0 ):\n",
    "        df_ce.loc[df_ce['index'].isna(), 'rate'] = df.loc[df[col].isna(), label].mean()\n",
    "    \n",
    "    d1 = set(df_ce['index'].unique())\n",
    "    # delete categories with less than 0.1% occurance rate\n",
    "    df_ce = df_ce[df_ce[col] > (filt * len(df))]\n",
    "\n",
    "    # sum of labels minus sum of categories' labels divided by number of other categories?\n",
    "    df_ce['ratec'] = (df[label].sum() - df_ce['rate']*df_ce[col])/(len(df)-df_ce[col])\n",
    "\n",
    "    df_ce['sd'] = zscore * 0.5 / df_ce[col].map(lambda x: math.sqrt(x))\n",
    "    \n",
    "    df_ce = df_ce[ (abs(df_ce['rate']-m)>=df_ce['sd']) | (abs(df_ce['ratec']-1+m)>=df_ce['sd']) ]\n",
    "\n",
    "    d2 = set(df_ce['index'].unique())\n",
    "    \n",
    "    d = list(d1 - d2)\n",
    "    if (df[col].dtype.name=='category'):\n",
    "        if (not 0 in df[col].cat.categories):\n",
    "            df[col].cat.add_categories(0,inplace=True)\n",
    "        else:\n",
    "            print('###WARNING CAT 0 ALREADY EXISTS IN',col)\n",
    "\n",
    "    df.loc[ df[col].isin(d),col ] = 0\n",
    "    if verbose==1:\n",
    "        print('CE encoded',col,'-',len(d2),'values. Removed',len(d),'values')\n",
    "    mx = df[col].nunique()\n",
    "    \n",
    "    df[col+'_CE'] = df[col].map(dict(zip(df_ce['index'], df_ce['rate'])))\n",
    "    df[col+'_CE'] = df[col+'_CE'].fillna(df_ce['rate'].mean())\n",
    "    \n",
    "    return [df_ce,d2]\n",
    "\n",
    "def encode_CE_test(df,col,d,df_ce):\n",
    "    if (df[col].dtype.name=='category'):\n",
    "        if (not 0 in df[col].cat.categories):\n",
    "            df[col].cat.add_categories(0,inplace=True)\n",
    "        else:\n",
    "            print('###WARNING CAT 0 ALREADY EXISTS IN',col)\n",
    "    df.loc[ ~df[col].isin(d),col ] = 0\n",
    "    mx = df[col].nunique()\n",
    "    \n",
    "    df[col+'_CE'] = df[col].map(dict(zip(df_ce['index'], df_ce['rate'])))\n",
    "    df[col+'_CE'] = df[col+'_CE'].fillna(df_ce['rate'].mean())\n",
    "    \n",
    "    return [mx,d]"
   ]
  },
  {
   "cell_type": "code",
   "execution_count": 23,
   "metadata": {},
   "outputs": [
    {
     "name": "stdout",
     "output_type": "stream",
     "text": [
      "CE encoded Breed1 - 53 values. Removed 123 values\n",
      "CE encoded Color1 - 7 values. Removed 0 values\n",
      "CE encoded Breed2 - 33 values. Removed 102 values\n",
      "CE encoded Sterilized - 3 values. Removed 0 values\n",
      "CE encoded PhotoAmt - 24 values. Removed 7 values\n",
      "CE encoded State - 12 values. Removed 2 values\n",
      "CE encoded Vaccinated - 3 values. Removed 0 values\n",
      "CE encoded Dewormed - 3 values. Removed 0 values\n",
      "CE encoded primary_BreedName - 53 values. Removed 122 values\n",
      "CE encoded secondary_BreedName - 33 values. Removed 102 values\n"
     ]
    }
   ],
   "source": [
    "freq_cols = ['Breed1', 'Color1', 'Breed2', 'Sterilized', 'PhotoAmt', 'State', 'Vaccinated', 'Dewormed',\n",
    "                 'primary_BreedName', 'secondary_BreedName']\n",
    "    \n",
    "for freq_col in freq_cols:\n",
    "    ce_dat = encode_CE(stage3_trn, freq_col, 0.001, 1)\n",
    "    encode_CE_test(stage3_test, freq_col, ce_dat[1], ce_dat[0])\n",
    "    \n",
    "y = stage3_trn['AdoptionSpeed']\n",
    "stage3_trn = stage3_trn.drop('AdoptionSpeed', axis=1)"
   ]
  },
  {
   "cell_type": "code",
   "execution_count": 24,
   "metadata": {},
   "outputs": [],
   "source": [
    "categorical_columns = ['primary_BreedName', 'secondary_BreedName']\n",
    "\n",
    "X = pd.concat([stage3_trn, stage3_test])\n",
    "\n",
    "for i in categorical_columns:\n",
    "    X.loc[:, i] = pd.factorize(X.loc[:, i])[0]\n",
    "X = X.reset_index(drop=True)\n",
    "\n",
    "global_counts_cols = ['RescuerID', 'State', 'Breed1', 'Color1', 'Breed2', 'primary_BreedName', 'secondary_BreedName']\n",
    "for freq_col in global_counts_cols:\n",
    "    encode_FE(X, freq_col)\n",
    "\n",
    "X['Age_counts'] = generate_smoothed_count_feature(X, 'Age')"
   ]
  },
  {
   "cell_type": "markdown",
   "metadata": {},
   "source": [
    "<a id='nlp'></a>\n",
    "## NLP"
   ]
  },
  {
   "cell_type": "code",
   "execution_count": 25,
   "metadata": {},
   "outputs": [
    {
     "name": "stdout",
     "output_type": "stream",
     "text": [
      "generating features from: Description\n",
      "generating features from: metadata_annots_top_desc\n",
      "generating features from: sentiment_entities\n"
     ]
    }
   ],
   "source": [
    "text_columns = ['Description', 'metadata_annots_top_desc', 'sentiment_entities']\n",
    "#\n",
    "\n",
    "X_text = X[text_columns]\n",
    "\n",
    "n_components = 32\n",
    "text_features = []\n",
    "\n",
    "# Generate text features:\n",
    "for col in X_text.columns:\n",
    "    \n",
    "    X_text[col] = X_text[col].fillna('none')\n",
    "    \n",
    "    # Initialize decomposition methods:\n",
    "    print('generating features from: {}'.format(col))\n",
    "    tfv = TfidfVectorizer(min_df=2,  max_features=10000,\n",
    "                          strip_accents='unicode', analyzer='word', token_pattern=r'(?u)\\b\\w+\\b',\n",
    "                          ngram_range=(1, 3), use_idf=1, smooth_idf=1, sublinear_tf=1)\n",
    "    svd_ = TruncatedSVD(\n",
    "        n_components=n_components, random_state=1)\n",
    "    \n",
    "    tfidf_col = tfv.fit_transform(X_text.loc[:, col].values)\n",
    "    \n",
    "    svd_col = svd_.fit_transform(tfidf_col)\n",
    "    \n",
    "    svd_col = pd.DataFrame(svd_col)\n",
    "    svd_col = svd_col.add_prefix('TFIDF_{}_'.format(col))\n",
    "    \n",
    "    text_features.append(svd_col)\n",
    "    \n",
    "text_features = pd.concat(text_features, axis=1)"
   ]
  },
  {
   "cell_type": "code",
   "execution_count": 26,
   "metadata": {},
   "outputs": [],
   "source": [
    "text_cols = []\n",
    "for c in X.columns:\n",
    "    if c.startswith('TFIDF_'):\n",
    "        text_cols.append(c)"
   ]
  },
  {
   "cell_type": "code",
   "execution_count": 27,
   "metadata": {},
   "outputs": [],
   "source": [
    "X = pd.concat([X, text_features], axis=1)\n",
    "X = X.drop(X_text.columns, axis=1)"
   ]
  },
  {
   "cell_type": "markdown",
   "metadata": {},
   "source": [
    "<a id='cv'></a>\n",
    "## Image processing and densenet"
   ]
  },
  {
   "cell_type": "code",
   "execution_count": 28,
   "metadata": {},
   "outputs": [],
   "source": [
    "# def resize_to_square(im):\n",
    "#     old_size = im.shape[:2]\n",
    "#     ratio = float(img_size)/max(old_size)\n",
    "#     new_size = tuple([int(x*ratio) for x in old_size])\n",
    "#     im = cv2.resize(im, (new_size[1], new_size[0]))\n",
    "#     delta_w = img_size - new_size[1]\n",
    "#     delta_h = img_size - new_size[0]\n",
    "#     top, bottom = delta_h//2, delta_h-(delta_h//2)\n",
    "#     left, right = delta_w//2, delta_w-(delta_w//2)\n",
    "#     color = [0, 0, 0]\n",
    "#     new_im = cv2.copyMakeBorder(im, top, bottom, left, right, cv2.BORDER_CONSTANT,value=color)\n",
    "#     return new_im\n",
    "\n",
    "def resize_to_square(im):\n",
    "    old_size = im.shape[:2]\n",
    "    ratio = float(img_size)/min(old_size)\n",
    "    new_size = tuple([int(x*ratio) for x in old_size])\n",
    "    im = cv2.resize(im, (new_size[1], new_size[0]))\n",
    "\n",
    "    center_x = im.shape[1] // 2\n",
    "    center_y = im.shape[0] // 2\n",
    "    half_size = img_size // 2\n",
    "    new_im = im[center_y-half_size:center_y+half_size, center_x-half_size:center_x+half_size]\n",
    "    \n",
    "    return new_im\n",
    "\n",
    "def load_image_augmented(path):\n",
    "    image = cv2.imread('{}'.format(path))\n",
    "    new_image = resize_to_square(image)\n",
    "    new_image = preprocess_input(new_image)\n",
    "    return new_image\n",
    "\n",
    "def load_image(path, pet_id):\n",
    "    image = cv2.imread('{}{}-1.jpg'.format(path, pet_id))\n",
    "    new_image = resize_to_square(image)\n",
    "    new_image = preprocess_input(new_image)\n",
    "    print(new_image)\n",
    "    return new_image"
   ]
  },
  {
   "cell_type": "code",
   "execution_count": 29,
   "metadata": {},
   "outputs": [],
   "source": [
    "K.clear_session()"
   ]
  },
  {
   "cell_type": "code",
   "execution_count": 30,
   "metadata": {},
   "outputs": [],
   "source": [
    "inp = Input((256,256,3))\n",
    "backbone = DenseNet121(input_tensor = inp, \n",
    "                       weights=\"../input/densenet/DenseNet-BC-121-32-no-top.h5\",\n",
    "                       include_top = False)\n",
    "x = backbone.output\n",
    "out = GlobalAveragePooling2D()(x)\n",
    "\n",
    "m = Model(inp,out)"
   ]
  },
  {
   "cell_type": "code",
   "execution_count": 31,
   "metadata": {},
   "outputs": [
    {
     "name": "stderr",
     "output_type": "stream",
     "text": [
      "100%|██████████| 228/228 [06:23<00:00,  1.68s/it]\n"
     ]
    }
   ],
   "source": [
    "n_batches = int(np.ceil(len(train_image_files)/ batch_size))\n",
    "trn_img_ids = []\n",
    "trn_img_feats = []\n",
    "for b in tqdm(range(n_batches)):\n",
    "    start = b*batch_size\n",
    "    end = (b+1)*batch_size\n",
    "\n",
    "    batch_train_files = train_image_files[start:end]\n",
    "    batch_images = np.zeros((batch_size,img_size,img_size,3))\n",
    "    batch_ids = []\n",
    "    for i, img_path in enumerate(batch_train_files):\n",
    "        try:\n",
    "            batch_images[i] = load_image_augmented(img_path)\n",
    "            batch_ids.append(img_path.split('/')[-1].split('-')[0])\n",
    "        except:\n",
    "            pass\n",
    "    batch_preds = m.predict(batch_images)\n",
    "    for i,pet_id in enumerate(batch_ids):\n",
    "        trn_img_ids.append(pet_id)\n",
    "        trn_img_feats.append(batch_preds[i])"
   ]
  },
  {
   "cell_type": "code",
   "execution_count": 32,
   "metadata": {},
   "outputs": [],
   "source": [
    "train_feats = pd.DataFrame(trn_img_feats)\n",
    "train_feats.columns = ['pic_{}'.format(str(i)) for i in range(train_feats.shape[1])]\n",
    "train_feats.insert(loc=0, column='PetID', value=trn_img_ids)"
   ]
  },
  {
   "cell_type": "code",
   "execution_count": 33,
   "metadata": {},
   "outputs": [
    {
     "name": "stderr",
     "output_type": "stream",
     "text": [
      "100%|██████████| 59/59 [01:39<00:00,  1.69s/it]\n"
     ]
    }
   ],
   "source": [
    "n_batches = int(np.ceil(len(test_image_files) / batch_size))\n",
    "\n",
    "test_img_ids = []\n",
    "test_img_feats = []\n",
    "for b in tqdm(range(n_batches)):\n",
    "    start = b*batch_size\n",
    "    end = (b+1)*batch_size\n",
    "\n",
    "    batch_test_files = test_image_files[start:end]\n",
    "    batch_images = np.zeros((batch_size,img_size,img_size,3))\n",
    "    batch_ids = []\n",
    "    for i, img_path in enumerate(batch_test_files):\n",
    "        try:\n",
    "            batch_images[i] = load_image_augmented(img_path)\n",
    "            batch_ids.append(img_path.split('/')[-1].split('-')[0])\n",
    "        except:\n",
    "            pass\n",
    "    batch_preds = m.predict(batch_images)\n",
    "    for i,pet_id in enumerate(batch_ids):\n",
    "        test_img_ids.append(pet_id)\n",
    "        test_img_feats.append(batch_preds[i])"
   ]
  },
  {
   "cell_type": "code",
   "execution_count": 34,
   "metadata": {},
   "outputs": [],
   "source": [
    "test_feats = pd.DataFrame(test_img_feats)\n",
    "test_feats.columns = ['pic_{}'.format(str(i)) for i in range(test_feats.shape[1])]\n",
    "test_feats.insert(loc=0, column='PetID', value=test_img_ids)"
   ]
  },
  {
   "cell_type": "code",
   "execution_count": 35,
   "metadata": {},
   "outputs": [],
   "source": [
    "K.clear_session()\n",
    "# del m\n",
    "# gc.collect()\n",
    "\n",
    "# cuda.select_device(0)\n",
    "# cuda.close()"
   ]
  },
  {
   "cell_type": "code",
   "execution_count": 36,
   "metadata": {},
   "outputs": [],
   "source": [
    "img_features = pd.concat([train_feats, test_feats], axis=0)"
   ]
  },
  {
   "cell_type": "code",
   "execution_count": 37,
   "metadata": {},
   "outputs": [],
   "source": [
    "label_df = pd.DataFrame.from_dict(dict({'PetID':train.PetID, 'AdoptionSpeed': y_trn}))"
   ]
  },
  {
   "cell_type": "code",
   "execution_count": 38,
   "metadata": {},
   "outputs": [],
   "source": [
    "y_nn = train_feats.merge(label_df, on='PetID', how='left')['AdoptionSpeed']"
   ]
  },
  {
   "cell_type": "code",
   "execution_count": 39,
   "metadata": {},
   "outputs": [],
   "source": [
    "img_cols = []\n",
    "for c in img_features.columns:\n",
    "    if c != 'PetID':\n",
    "        img_cols.append(c)"
   ]
  },
  {
   "cell_type": "code",
   "execution_count": 40,
   "metadata": {},
   "outputs": [],
   "source": [
    "X_nn = img_features"
   ]
  },
  {
   "cell_type": "code",
   "execution_count": 41,
   "metadata": {},
   "outputs": [],
   "source": [
    "X_nn_trn = img_features[:len(train_feats)]\n",
    "X_nn_test = img_features[len(train_feats):]"
   ]
  },
  {
   "cell_type": "code",
   "execution_count": 42,
   "metadata": {},
   "outputs": [
    {
     "data": {
      "text/plain": [
       "(58311, 1025)"
      ]
     },
     "execution_count": 42,
     "metadata": {},
     "output_type": "execute_result"
    }
   ],
   "source": [
    "X_nn_trn.shape"
   ]
  },
  {
   "cell_type": "code",
   "execution_count": 43,
   "metadata": {},
   "outputs": [
    {
     "data": {
      "text/plain": [
       "(15040, 1025)"
      ]
     },
     "execution_count": 43,
     "metadata": {},
     "output_type": "execute_result"
    }
   ],
   "source": [
    "X_nn_test.shape"
   ]
  },
  {
   "cell_type": "markdown",
   "metadata": {},
   "source": [
    "<a id=\"data_cleaning\"></a>\n",
    "## Data Cleaning"
   ]
  },
  {
   "cell_type": "code",
   "execution_count": 44,
   "metadata": {
    "scrolled": false
   },
   "outputs": [],
   "source": [
    "to_drop_columns = ['Name', 'RescuerID', 'Breed1', 'Breed2', 'metadata_annots_top_desc_FIRST', 'metadata_is_first_img_FIRST']\n",
    "X = X.drop(to_drop_columns, axis=1)\n",
    "\n",
    "for c in X.columns:\n",
    "    if X[c].isnull().sum() > 1000:\n",
    "        X = X.drop(c, axis=1)\n",
    "        print('Dropped {}'.format(c))\n",
    "        \n",
    "for col in X.columns:\n",
    "    X[col] = X[col].fillna(0)"
   ]
  },
  {
   "cell_type": "code",
   "execution_count": 45,
   "metadata": {},
   "outputs": [],
   "source": [
    "# X.to_csv('processed_data.csv')"
   ]
  },
  {
   "cell_type": "code",
   "execution_count": 46,
   "metadata": {},
   "outputs": [],
   "source": [
    "# to_drop_columns = ['PetID']\n",
    "# X = X.drop(to_drop_columns, axis=1)\n",
    "\n",
    "cat_cols = ['Type', 'Gender', 'MaturitySize', 'FurLength', 'Vaccinated', 'Dewormed', \n",
    "            'Sterilized', 'Health', 'State', #'primary_BreedName', 'secondary_BreedName',\n",
    "            'Color1', 'Color2', 'Color3']\n",
    "\n",
    "for c in cat_cols:\n",
    "    X = X.join(pd.get_dummies(X[c], prefix=c))\n",
    "# X = X.drop(cat_cols, axis=1)\n",
    "X_trn = X[:len(train)]\n",
    "X_test = X[len(train):]"
   ]
  },
  {
   "cell_type": "code",
   "execution_count": 47,
   "metadata": {},
   "outputs": [],
   "source": [
    "text_cols = []\n",
    "num_cols = []\n",
    "cat_cols = ['Type', 'Gender', 'MaturitySize', 'FurLength', 'Vaccinated', 'Dewormed', \n",
    "            'Sterilized', 'Health', 'State', 'primary_BreedName', 'secondary_BreedName',\n",
    "            'Color1', 'Color2', 'Color3']\n",
    "\n",
    "for c in X_trn.columns:\n",
    "    if c.startswith('TFIDF_'):\n",
    "        text_cols.append(c)\n",
    "    elif c not in cat_cols + text_cols + ['PetID']:\n",
    "        num_cols.append(c)"
   ]
  },
  {
   "cell_type": "code",
   "execution_count": 48,
   "metadata": {},
   "outputs": [
    {
     "data": {
      "text/plain": [
       "Index(['Type', 'Age', 'Gender', 'Color1', 'Color2', 'Color3', 'MaturitySize',\n",
       "       'FurLength', 'Vaccinated', 'Dewormed',\n",
       "       ...\n",
       "       'Color2_4', 'Color2_5', 'Color2_6', 'Color2_7', 'Color3_0', 'Color3_3',\n",
       "       'Color3_4', 'Color3_5', 'Color3_6', 'Color3_7'],\n",
       "      dtype='object', length=257)"
      ]
     },
     "execution_count": 48,
     "metadata": {},
     "output_type": "execute_result"
    }
   ],
   "source": [
    "X_trn.columns"
   ]
  },
  {
   "cell_type": "markdown",
   "metadata": {},
   "source": [
    "## Aversarial validation"
   ]
  },
  {
   "cell_type": "code",
   "execution_count": 49,
   "metadata": {},
   "outputs": [],
   "source": [
    "# av_trn = X_trn.copy()\n",
    "# av_test = X_test.copy()\n",
    "# av_trn['lab'] = 1\n",
    "# av_test['lab'] = 0\n",
    "\n",
    "# av_comb = pd.concat([av_trn, av_test])\n",
    "# av_lab = av_comb['lab'].values\n",
    "# av_comb = av_comb.drop('lab', axis=1)\n",
    "# av_dat = lgb.Dataset(av_comb, label=av_lab)\n",
    "\n",
    "# av_mod = lgb.train(lgb_params, av_dat)\n",
    "# av_df = pd.DataFrame({'feature': av_comb.columns, 'importance': av_mod.feature_importance()})"
   ]
  },
  {
   "cell_type": "markdown",
   "metadata": {},
   "source": [
    "<a id='training'></a>\n",
    "## Training"
   ]
  },
  {
   "cell_type": "code",
   "execution_count": 50,
   "metadata": {},
   "outputs": [],
   "source": [
    "# FROM: https://www.kaggle.com/myltykritik/simple-lgbm-image-features\n",
    "\n",
    "# The following 3 functions have been taken from Ben Hamner's github repository\n",
    "# https://github.com/benhamner/Metrics\n",
    "def confusion_matrix(rater_a, rater_b, min_rating=None, max_rating=None):\n",
    "    \"\"\"\n",
    "    Returns the confusion matrix between rater's ratings\n",
    "    \"\"\"\n",
    "    assert(len(rater_a) == len(rater_b))\n",
    "    if min_rating is None:\n",
    "        min_rating = min(rater_a + rater_b)\n",
    "    if max_rating is None:\n",
    "        max_rating = max(rater_a + rater_b)\n",
    "    num_ratings = int(max_rating - min_rating + 1)\n",
    "    conf_mat = [[0 for i in range(num_ratings)]\n",
    "                for j in range(num_ratings)]\n",
    "    for a, b in zip(rater_a, rater_b):\n",
    "        conf_mat[a - min_rating][b - min_rating] += 1\n",
    "    return conf_mat\n",
    "\n",
    "\n",
    "def histogram(ratings, min_rating=None, max_rating=None):\n",
    "    \"\"\"\n",
    "    Returns the counts of each type of rating that a rater made\n",
    "    \"\"\"\n",
    "    if min_rating is None:\n",
    "        min_rating = min(ratings)\n",
    "    if max_rating is None:\n",
    "        max_rating = max(ratings)\n",
    "    num_ratings = int(max_rating - min_rating + 1)\n",
    "    hist_ratings = [0 for x in range(num_ratings)]\n",
    "    for r in ratings:\n",
    "        hist_ratings[r - min_rating] += 1\n",
    "    return hist_ratings\n",
    "\n",
    "\n",
    "def quadratic_weighted_kappa(y, y_pred):\n",
    "    \"\"\"\n",
    "    Calculates the quadratic weighted kappa\n",
    "    axquadratic_weighted_kappa calculates the quadratic weighted kappa\n",
    "    value, which is a measure of inter-rater agreement between two raters\n",
    "    that provide discrete numeric ratings.  Potential values range from -1\n",
    "    (representing complete disagreement) to 1 (representing complete\n",
    "    agreement).  A kappa value of 0 is expected if all agreement is due to\n",
    "    chance.\n",
    "    quadratic_weighted_kappa(rater_a, rater_b), where rater_a and rater_b\n",
    "    each correspond to a list of integer ratings.  These lists must have the\n",
    "    same length.\n",
    "    The ratings should be integers, and it is assumed that they contain\n",
    "    the complete range of possible ratings.\n",
    "    quadratic_weighted_kappa(X, min_rating, max_rating), where min_rating\n",
    "    is the minimum possible rating, and max_rating is the maximum possible\n",
    "    rating\n",
    "    \"\"\"\n",
    "    rater_a = y\n",
    "    rater_b = y_pred\n",
    "    min_rating=None\n",
    "    max_rating=None\n",
    "    rater_a = np.array(rater_a, dtype=int)\n",
    "    rater_b = np.array(rater_b, dtype=int)\n",
    "    assert(len(rater_a) == len(rater_b))\n",
    "    if min_rating is None:\n",
    "        min_rating = min(min(rater_a), min(rater_b))\n",
    "    if max_rating is None:\n",
    "        max_rating = max(max(rater_a), max(rater_b))\n",
    "    conf_mat = confusion_matrix(rater_a, rater_b,\n",
    "                                min_rating, max_rating)\n",
    "    num_ratings = len(conf_mat)\n",
    "    num_scored_items = float(len(rater_a))\n",
    "\n",
    "    hist_rater_a = histogram(rater_a, min_rating, max_rating)\n",
    "    hist_rater_b = histogram(rater_b, min_rating, max_rating)\n",
    "\n",
    "    numerator = 0.0\n",
    "    denominator = 0.0\n",
    "\n",
    "    for i in range(num_ratings):\n",
    "        for j in range(num_ratings):\n",
    "            expected_count = (hist_rater_a[i] * hist_rater_b[j]\n",
    "                              / num_scored_items)\n",
    "            d = pow(i - j, 2.0) / pow(num_ratings - 1, 2.0)\n",
    "            numerator += d * conf_mat[i][j] / num_scored_items\n",
    "            denominator += d * expected_count / num_scored_items\n",
    "\n",
    "    return (1.0 - numerator / denominator)"
   ]
  },
  {
   "cell_type": "code",
   "execution_count": 51,
   "metadata": {},
   "outputs": [],
   "source": [
    "def stratified_group_k_fold(X, y, groups, k, seed=None):\n",
    "    labels_num = np.max(y) + 1\n",
    "    y_counts_per_group = defaultdict(lambda: np.zeros(labels_num))\n",
    "    y_distr = Counter()\n",
    "    for label, g in zip(y, groups):\n",
    "        y_counts_per_group[g][label] += 1\n",
    "        y_distr[label] += 1\n",
    "\n",
    "    y_counts_per_fold = defaultdict(lambda: np.zeros(labels_num))\n",
    "    groups_per_fold = defaultdict(set)\n",
    "\n",
    "    def eval_y_counts_per_fold(y_counts, fold):\n",
    "        y_counts_per_fold[fold] += y_counts\n",
    "        std_per_label = []\n",
    "        for label in range(labels_num):\n",
    "            label_std = np.std([y_counts_per_fold[i][label] / y_distr[label] for i in range(k)])\n",
    "            std_per_label.append(label_std)\n",
    "        y_counts_per_fold[fold] -= y_counts\n",
    "        return np.mean(std_per_label)\n",
    "    \n",
    "    groups_and_y_counts = list(y_counts_per_group.items())\n",
    "    random.Random(seed).shuffle(groups_and_y_counts)\n",
    "\n",
    "    for g, y_counts in sorted(groups_and_y_counts, key=lambda x: -np.std(x[1])):\n",
    "        best_fold = None\n",
    "        min_eval = None\n",
    "        for i in range(k):\n",
    "            fold_eval = eval_y_counts_per_fold(y_counts, i)\n",
    "            if min_eval is None or fold_eval < min_eval:\n",
    "                min_eval = fold_eval\n",
    "                best_fold = i\n",
    "        y_counts_per_fold[best_fold] += y_counts\n",
    "        groups_per_fold[best_fold].add(g)\n",
    "\n",
    "    all_groups = set(groups)\n",
    "    for i in range(k):\n",
    "        train_groups = all_groups - groups_per_fold[i]\n",
    "        test_groups = groups_per_fold[i]\n",
    "\n",
    "        train_indices = [i for i, g in enumerate(groups) if g in train_groups]\n",
    "        test_indices = [i for i, g in enumerate(groups) if g in test_groups]\n",
    "\n",
    "        yield train_indices, test_indices"
   ]
  },
  {
   "cell_type": "code",
   "execution_count": 52,
   "metadata": {},
   "outputs": [],
   "source": [
    "class OptimizedRounder(object):\n",
    "    def __init__(self):\n",
    "        self.coef_ = 0\n",
    "    \n",
    "    def _kappa_loss(self, coef, X, y):\n",
    "        preds = pd.cut(X, [-np.inf] + list(np.sort(coef)) + [np.inf], labels = [0, 1, 2, 3, 4])\n",
    "        return -cohen_kappa_score(y, preds, weights='quadratic')\n",
    "    \n",
    "    def fit(self, X, y):\n",
    "        loss_partial = partial(self._kappa_loss, X = X, y = y)\n",
    "        initial_coef = [0.5, 1.5, 2.5, 3.5]\n",
    "        self.coef_ = sp.optimize.minimize(loss_partial, initial_coef, method='nelder-mead')\n",
    "    \n",
    "    def predict(self, X, coef):\n",
    "        preds = pd.cut(X, [-np.inf] + list(np.sort(coef)) + [np.inf], labels = [0, 1, 2, 3, 4])\n",
    "        return preds\n",
    "    \n",
    "    def coefficients(self):\n",
    "        return self.coef_['x']"
   ]
  },
  {
   "cell_type": "code",
   "execution_count": 53,
   "metadata": {},
   "outputs": [],
   "source": [
    "def dense_block(x, dense_dim, dropout, activation):\n",
    "    x = Dense(dense_dim)(x)\n",
    "    x = BatchNormalization()(x)\n",
    "    x = Activation(activation)(x)\n",
    "    x = Dropout(dropout)(x)\n",
    "    return x\n",
    "\n",
    "def root_mean_squared_error(y_true, y_pred):\n",
    "    return K.sqrt(K.mean(K.square(y_pred - y_true), axis=-1))\n",
    "\n",
    "def create_model(img_size, dense_dim, dropout, embed_factor, activation):\n",
    "    \n",
    "    img_inp = Input(shape=(img_size,))\n",
    "\n",
    "    x = dense_block(img_inp, dense_dim, dropout, activation)\n",
    "    x = dense_block(x, dense_dim, dropout, activation)\n",
    "    x = Dense(1, activation='sigmoid')(x)\n",
    "    \n",
    "    model = Model(inputs=img_inp, outputs=x)\n",
    "    model.compile(optimizer=RMSprop(lr=0.0002), loss='binary_crossentropy', metrics=['accuracy'])\n",
    "    \n",
    "    return model\n",
    "\n",
    "def plot_pred(pred):\n",
    "    sns.distplot(pred, kde=True, hist_kws={'range': [0, 5]})"
   ]
  },
  {
   "cell_type": "code",
   "execution_count": 144,
   "metadata": {},
   "outputs": [],
   "source": [
    "def create_nffm_model(df, text_size, num_size, categorical_cols, dense_dim, \n",
    "                 dropout, embed_factor, activation):\n",
    "    \n",
    "    inputs = []\n",
    "    \n",
    "    # text \n",
    "    text_inp = Input(shape=(text_size,))\n",
    "    inputs.append(text_inp)\n",
    "    text_x = dense_block(text_inp, dense_dim, dropout, activation)\n",
    "\n",
    "    \n",
    "    # numerical\n",
    "    num_inp = Input(shape=(num_size,))\n",
    "    inputs.append(num_inp)\n",
    "    num_x = dense_block(num_inp, dense_dim, dropout, activation)\n",
    "    \n",
    "    # categorical\n",
    "    cat_in = []\n",
    "    cat_out = []\n",
    "    for col in categorical_cols:\n",
    "        cat_inp = Input((1,))\n",
    "        cat_in.append(cat_inp)\n",
    "        num_unique = df[col].nunique()\n",
    "        emb_size = max(num_unique//embed_factor, 2)\n",
    "        cat_emb = Embedding(num_unique, emb_size)(cat_inp)\n",
    "        cat_emb = Reshape(target_shape=(emb_size,))(cat_emb)\n",
    "        cat_out.append(cat_emb)\n",
    "    inputs += cat_in\n",
    "    cat_x = concatenate(cat_out)\n",
    "    cat_x = dense_block(cat_x, dense_dim, dropout, activation)\n",
    "\n",
    "    \n",
    "    # merge\n",
    "    x = concatenate([text_x, num_x, cat_x])\n",
    "    x = dense_block(x, dense_dim, dropout, activation)\n",
    "    \n",
    "#     x = Dense(5, activation='sigmoid')(x)\n",
    "#     model = Model(inputs=inputs, outputs=x)  \n",
    "#     model.compile(optimizer=RMSprop(lr=0.0002), loss='categorical_crossentropy', metrics=['accuracy'])\n",
    "    \n",
    "    x = Dense(1, activation='linear')(x)\n",
    "    model = Model(inputs=inputs, outputs=x)\n",
    "    model.compile(optimizer=RMSprop(lr=0.001), loss=root_mean_squared_error, metrics=['accuracy'])\n",
    "    \n",
    "    return model"
   ]
  },
  {
   "cell_type": "code",
   "execution_count": 145,
   "metadata": {},
   "outputs": [],
   "source": [
    "drop_cols = cat_cols + ['PetID']"
   ]
  },
  {
   "cell_type": "code",
   "execution_count": 146,
   "metadata": {},
   "outputs": [],
   "source": [
    "\n",
    "def train_and_test_model(X, y, X_test, num_folds=5, plot_feature_importance=True, use_group_kfold=False, nn_batch=128,\n",
    "                         model_type='lgb'):\n",
    "    result_dict = {}\n",
    "    \n",
    "    if X_test is not None:\n",
    "        result_dict['averaged_prediction'] =  np.zeros(len(X_test))\n",
    "        result_dict['xgb_averaged_prediction'] =  np.zeros(len(X_test))\n",
    "        result_dict['nn_averaged_prediction'] =  np.zeros(len(X_test))\n",
    "    else:\n",
    "        result_dict['averaged_prediction'] =  np.zeros(1)\n",
    "        result_dict['xgb_averaged_prediction'] =  np.zeros(1)\n",
    "        result_dict['nn_averaged_prediction'] =  np.zeros(1)\n",
    "\n",
    "    result_dict['feature_importance'] = []\n",
    "    result_dict['predictions'] = []\n",
    "    result_dict['xgb_predictions'] = []\n",
    "    result_dict['nn_predictions'] = []\n",
    "    \n",
    "    if use_group_kfold:\n",
    "        fold_split = stratified_group_k_fold(X, y, train['RescuerID'], num_folds, seed=1)\n",
    "#         folds = GroupKFold(n_splits=num_folds)\n",
    "#         fold_split = folds.split(X, y, train['RescuerID'])\n",
    "    else:\n",
    "        folds = StratifiedKFold(n_splits=num_folds, shuffle=True, random_state=1)\n",
    "        fold_split = folds.split(X, y)\n",
    "        \n",
    "    idx_trns = []\n",
    "    idx_vals = []\n",
    "    for idx_trn, idx_val in fold_split:\n",
    "        idx_trns.append(idx_trn)\n",
    "        idx_vals.append(idx_val)\n",
    "    \n",
    "    nn_fold_features = []\n",
    "    nn_test_pred = []\n",
    "    \n",
    "    # nn\n",
    "    \n",
    "    for fold_n, (idx_trn, idx_val) in enumerate(zip(idx_trns, idx_vals)):\n",
    "\n",
    "        print('\\nFold {} for neural net feature generation\\n'.\n",
    "              format(fold_n + 1))\n",
    "         \n",
    "        X_trn = X.iloc[idx_trn]\n",
    "        X_val = X.iloc[idx_val]\n",
    "        y_trn, y_val = y[idx_trn], y[idx_val]\n",
    "        \n",
    "        X_nn_tr = X_nn_trn[X_nn_trn['PetID'].isin(X_trn['PetID'])]\n",
    "        X_nn_val = X_nn_trn[X_nn_trn['PetID'].isin(X_val['PetID'])]\n",
    "        y_nn_tr = y_nn[X_nn_trn['PetID'].isin(X_trn['PetID'])]\n",
    "        y_nn_val = y_nn[X_nn_trn['PetID'].isin(X_val['PetID'])]\n",
    "        \n",
    "        y_nn_tr_bin = np.zeros(y_nn_tr.shape)\n",
    "        \n",
    "        y_nn_tr_bin[y_nn_tr == 4] = 1\n",
    "        \n",
    "        y_nn_val_bin = np.zeros(y_nn_val.shape)\n",
    "        y_nn_val_bin[y_nn_val == 4] = 1\n",
    "    \n",
    "        \n",
    "        # NN\n",
    "        \n",
    "        nn_model = create_model(len(X_nn_tr.columns)-1, dense_dim=256, \n",
    "             dropout=0.5, embed_factor=2, activation='relu')\n",
    "\n",
    "        nn_model.fit(X_nn_tr.drop('PetID',axis=1), y_nn_tr_bin, batch_size=nn_batch, \n",
    "                     epochs=8, verbose=2, validation_data=(X_nn_val.drop('PetID', axis=1), y_nn_val_bin))\n",
    "\n",
    "        y_nn_val_hat = nn_model.predict(X_nn_val.drop('PetID', axis=1), batch_size=nn_batch)\n",
    "        nn_feat_df = pd.DataFrame.from_dict({'PetID': X_nn_val['PetID'], 'nn': y_nn_val_hat[:,0]})\n",
    "        \n",
    "        plot_pred( y_nn_val_hat[:,0])\n",
    "        \n",
    "        nn_trn_agg = nn_feat_df.groupby('PetID').agg({'nn': ['sum', 'mean', 'max']}).reset_index()\n",
    "        nn_trn_agg.columns = ['PetID', 'nn_sum', 'nn_mean', 'nn_max']\n",
    "\n",
    "        nn_fold_features.append(nn_trn_agg)\n",
    "        \n",
    "        y_nn_test_hat = nn_model.predict(X_nn_test.drop('PetID', axis=1), batch_size=nn_batch)\n",
    "        nn_feat_df_test = pd.DataFrame.from_dict({'PetID': X_nn_test['PetID'], 'nn': y_nn_test_hat[:,0]})\n",
    "        \n",
    "        plot_pred( y_nn_test_hat[:,0])\n",
    "        nn_test_agg = nn_feat_df_test.groupby('PetID').agg({'nn': ['sum', 'mean', 'max']}).reset_index()\n",
    "        nn_test_agg.columns = ['PetID', 'nn_sum', 'nn_mean', 'nn_max']\n",
    "        nn_test_pred.append(nn_test_agg)\n",
    "        \n",
    "        \n",
    "    K.clear_session()\n",
    "    nn_features = pd.concat(nn_fold_features)\n",
    "    X = X.merge(nn_features, on='PetID', how='left')\n",
    "    X = X.fillna(X.median())\n",
    "    \n",
    "    nn_test_pred = pd.concat(nn_test_pred).groupby('PetID').mean().reset_index()\n",
    "    X_test = X_test.merge(nn_test_pred, on='PetID', how='left')\n",
    "    \n",
    "    X_test = X_test.fillna(X_test.median())\n",
    "    \n",
    "    feature_importance = pd.DataFrame()\n",
    "    fold_predictions = []\n",
    "    val_preds = np.zeros((X.shape[0]))\n",
    "    xgb_val_preds = np.zeros((X.shape[0]))\n",
    "    nn_val_preds = np.zeros((X.shape[0]))\n",
    "\n",
    "    for fold_n, (idx_trn, idx_val) in enumerate(zip(idx_trns, idx_vals)):\n",
    "\n",
    "        print('Fold {} for boosting model\\n'.\n",
    "              format(fold_n + 1))\n",
    "         \n",
    "        X_trn = X.iloc[idx_trn]\n",
    "        X_val = X.iloc[idx_val]\n",
    "        y_trn, y_val = y[idx_trn], y[idx_val]\n",
    "        \n",
    "    \n",
    "        if model_type == 'lgb' or model_type == 'boost':\n",
    "            dat_trn = lgb.Dataset(X_trn.drop(drop_cols, axis=1), label=y_trn)\n",
    "            dat_val = lgb.Dataset(X_val.drop(drop_cols, axis=1), label=y_val)\n",
    "\n",
    "            print('Beginning training...')\n",
    "            start_time = time.time()\n",
    "            \n",
    "\n",
    "            \n",
    "            model = lgb.train(lgb_params, dat_trn, valid_sets = [dat_trn, dat_val], verbose_eval=100, num_boost_round=2000, early_stopping_rounds=50)\n",
    "            print('Training took {0:.2f} minutes.'.format((time.time()-start_time)/60))\n",
    "\n",
    "            y_val_hat = model.predict(X_val.drop(drop_cols, axis=1), num_iteration=model.best_iteration)\n",
    "            val_preds[idx_val] = y_val_hat\n",
    "            \n",
    "            if X_test is not None:\n",
    "                start_time = time.time()\n",
    "                y_hat = model.predict(X_test.drop(drop_cols, axis=1), num_iteration=model.best_iteration)\n",
    "                result_dict['predictions'].append(y_hat)\n",
    "                result_dict['averaged_prediction'] += y_hat\n",
    "                print('Prediction took {0:.2f} minutes.'.format((time.time()-start_time)/60))\n",
    "                \n",
    "            feature_df = pd.DataFrame({'feature': X.drop(drop_cols, axis=1).columns, 'importance': model.feature_importance()})\n",
    "            result_dict['feature_importance'].append(feature_df)\n",
    "            sorted_feat = feature_df.sort_values(by='importance', ascending=False)\n",
    "            plt.figure(figsize=(10, 10))\n",
    "            sns.barplot(x='importance', y='feature', data=sorted_feat[:50])\n",
    "#             print('Most useless features: ')\n",
    "#             print(sorted_feat[-20:])\n",
    "            plt.title('LGB Features for fold')\n",
    "            plt.show()\n",
    "            \n",
    "            gc.collect()\n",
    "            \n",
    "        if model_type == 'boost' or model_type == 'xgb':\n",
    "            dat_trn = xgb.DMatrix(data=X_trn.drop(drop_cols, axis=1), label=y_trn, feature_names=X_trn.drop(drop_cols, axis=1).columns)\n",
    "            dat_val = xgb.DMatrix(data=X_val.drop(drop_cols, axis=1), label=y_val, feature_names=X_val.drop(drop_cols, axis=1).columns)\n",
    "\n",
    "            watchlist = [(dat_trn, 'train'), (dat_val, 'valid')]\n",
    "            model = xgb.train(dtrain=dat_trn, num_boost_round=2000, evals=watchlist,\n",
    "                             early_stopping_rounds=100, verbose_eval=100, params=xgb_params)\n",
    "\n",
    "            y_hat_val = model.predict(xgb.DMatrix(X_val.drop(drop_cols, axis=1), feature_names=X_val.drop(drop_cols, axis=1).columns), ntree_limit=model.best_ntree_limit)\n",
    "            xgb_val_preds[idx_val] = y_hat_val\n",
    "            \n",
    "            y_hat = model.predict(xgb.DMatrix(X_test.drop(drop_cols, axis=1), feature_names=X_test.drop(drop_cols, axis=1).columns), ntree_limit=model.best_ntree_limit)\n",
    "            result_dict['xgb_predictions'].append(y_hat)\n",
    "            result_dict['xgb_averaged_prediction'] += y_hat\n",
    "#             xgb.plot_importance(model, height=1.0, ax=ax, max_num_features=30)\n",
    "\n",
    "        if model_type == 'boost' or model_type == 'nn':\n",
    "            nffm_model = create_nffm_model(X_trn, len(text_cols), len(num_cols), cat_cols, 128, \n",
    "                             0.5, 2, 'relu')\n",
    "            \n",
    "            inp_trn = [X_trn[text_cols]] + [X_trn[num_cols]] + [X_trn[col] for col in cat_cols]\n",
    "            inp_val = [X_val[text_cols]] + [X_val[num_cols]] + [X_val[col] for col in cat_cols]\n",
    "            inp_test = [X_test[text_cols]] + [X_test[num_cols]] + [X_test[col] for col in cat_cols]\n",
    "\n",
    "            nffm_model.fit(inp_trn, y_trn, batch_size=256, epochs=15, verbose=2, validation_data=(inp_val, y_val))\n",
    "        \n",
    "            y_val_hat = nffm_model.predict(inp_val, batch_size=256)\n",
    "            nn_val_preds[idx_val] = y_val_hat[:,0]\n",
    "            y_hat = nffm_model.predict(inp_test, batch_size=256)\n",
    "            result_dict['nn_predictions'].append(y_hat)\n",
    "            result_dict['nn_averaged_prediction'] += y_hat[:,0]\n",
    "            \n",
    "            \n",
    "            del inp_trn, inp_val, inp_test\n",
    "\n",
    "        del dat_trn, dat_val, X_trn, X_val\n",
    "\n",
    "            \n",
    "    \n",
    "    result_dict['val_preds'] = val_preds\n",
    "    result_dict['xgb_val_preds'] = xgb_val_preds\n",
    "    result_dict['nn_val_preds'] = nn_val_preds\n",
    "    \n",
    "    if X_test is not None:\n",
    "\n",
    "        result_dict['averaged_prediction'] /= num_folds\n",
    "        result_dict['xgb_averaged_prediction'] /= num_folds\n",
    "        \n",
    "    return result_dict\n"
   ]
  },
  {
   "cell_type": "code",
   "execution_count": 147,
   "metadata": {},
   "outputs": [],
   "source": [
    "lgb_params = {\n",
    "    'learning_rate': 0.005,\n",
    "    'max_depth': -1, # smaller max depth for less overfitting\n",
    "    'num_leaves': 15, # smaller num leaves for less overfitting\n",
    "    'min_data_in_leaf': 50, # larger min data for less overfitting\n",
    "    'max_bin': 15, # smaller max bin for less overfitting\n",
    "    'feature_fraction': 0.8, # smaller for less overfitting\n",
    "    'bagging_fraction': 0.7, # smaller for less overfitting\n",
    "    'bagging_freq': 20, # smaller for less overfitting\n",
    "    'lambda_l1': 1, # larger for less overfitting\n",
    "    'lambda_l2': 2, # larger for less overfitting\n",
    "    'objective': 'regression_l2',\n",
    "}\n",
    "bin_params = {\n",
    "    'learning_rate': 0.001,\n",
    "    'max_depth': -1, # smaller max depth for less overfitting\n",
    "    'num_leaves': 31, # smaller num leaves for less overfitting\n",
    "    'min_data_in_leaf': 100, # larger min data for less overfitting\n",
    "    'max_bin': 15, # smaller max bin for less overfitting\n",
    "    'feature_fraction': 0.5, # smaller for less overfitting\n",
    "    'bagging_fraction': 0.5 , # smaller for less overfitting\n",
    "    'bagging_freq': 20, # smaller for less overfitting\n",
    "    'lambda_l1': 3, # larger for less overfitting\n",
    "    'lambda_l2': 3, # larger for less overfitting\n",
    "    'objective': 'binary'\n",
    "}\n",
    "\n",
    "xgb_params = {\n",
    "    'eval_metric': 'rmse',\n",
    "    'booster': 'gbtree',\n",
    "    'seed': 1,\n",
    "    'max_depth': 5,\n",
    "    'min_child_weight': 2,\n",
    "    'eta': 0.02,\n",
    "    'subsample': 0.8,\n",
    "    'colsample_bytree': 0.85, \n",
    "    'colsample_bylevel': 0.85,\n",
    "    'max_bin': 31,\n",
    "    'tree_method': 'auto',\n",
    "    'silent': 1,\n",
    "}"
   ]
  },
  {
   "cell_type": "code",
   "execution_count": 148,
   "metadata": {},
   "outputs": [
    {
     "data": {
      "text/plain": [
       "8"
      ]
     },
     "execution_count": 148,
     "metadata": {},
     "output_type": "execute_result"
    }
   ],
   "source": [
    "gc.collect()"
   ]
  },
  {
   "cell_type": "code",
   "execution_count": 149,
   "metadata": {},
   "outputs": [
    {
     "name": "stdout",
     "output_type": "stream",
     "text": [
      "\n",
      "Fold 1 for neural net feature generation\n",
      "\n",
      "Train on 28777 samples, validate on 29534 samples\n",
      "Epoch 1/8\n",
      " - 2s - loss: 0.6285 - acc: 0.6939 - val_loss: 0.5234 - val_acc: 0.7611\n",
      "Epoch 2/8\n",
      " - 1s - loss: 0.5682 - acc: 0.7384 - val_loss: 0.5251 - val_acc: 0.7556\n",
      "Epoch 3/8\n",
      " - 1s - loss: 0.5462 - acc: 0.7457 - val_loss: 0.5260 - val_acc: 0.7558\n",
      "Epoch 4/8\n",
      " - 1s - loss: 0.5291 - acc: 0.7549 - val_loss: 0.5256 - val_acc: 0.7557\n",
      "Epoch 5/8\n",
      " - 1s - loss: 0.5193 - acc: 0.7588 - val_loss: 0.5268 - val_acc: 0.7544\n",
      "Epoch 6/8\n",
      " - 1s - loss: 0.5096 - acc: 0.7615 - val_loss: 0.5288 - val_acc: 0.7520\n",
      "Epoch 7/8\n",
      " - 1s - loss: 0.4978 - acc: 0.7676 - val_loss: 0.5281 - val_acc: 0.7530\n",
      "Epoch 8/8\n",
      " - 1s - loss: 0.4908 - acc: 0.7697 - val_loss: 0.5299 - val_acc: 0.7509\n",
      "\n",
      "Fold 2 for neural net feature generation\n",
      "\n",
      "Train on 29534 samples, validate on 28777 samples\n",
      "Epoch 1/8\n",
      " - 2s - loss: 0.6343 - acc: 0.6934 - val_loss: 0.5283 - val_acc: 0.7572\n",
      "Epoch 2/8\n",
      " - 1s - loss: 0.5752 - acc: 0.7387 - val_loss: 0.5230 - val_acc: 0.7583\n",
      "Epoch 3/8\n",
      " - 1s - loss: 0.5545 - acc: 0.7466 - val_loss: 0.5214 - val_acc: 0.7594\n",
      "Epoch 4/8\n",
      " - 1s - loss: 0.5375 - acc: 0.7538 - val_loss: 0.5202 - val_acc: 0.7590\n",
      "Epoch 5/8\n",
      " - 1s - loss: 0.5239 - acc: 0.7571 - val_loss: 0.5219 - val_acc: 0.7601\n",
      "Epoch 6/8\n",
      " - 1s - loss: 0.5141 - acc: 0.7625 - val_loss: 0.5226 - val_acc: 0.7582\n",
      "Epoch 7/8\n",
      " - 1s - loss: 0.5054 - acc: 0.7681 - val_loss: 0.5213 - val_acc: 0.7567\n",
      "Epoch 8/8\n",
      " - 1s - loss: 0.4970 - acc: 0.7713 - val_loss: 0.5233 - val_acc: 0.7551\n",
      "Fold 1 for boosting model\n",
      "\n",
      "Beginning training...\n",
      "Training until validation scores don't improve for 50 rounds.\n",
      "[100]\ttraining's l2: 1.23637\tvalid_1's l2: 1.25662\n",
      "[200]\ttraining's l2: 1.15245\tvalid_1's l2: 1.19373\n",
      "[300]\ttraining's l2: 1.09648\tvalid_1's l2: 1.1623\n",
      "[400]\ttraining's l2: 1.053\tvalid_1's l2: 1.14249\n",
      "[500]\ttraining's l2: 1.0174\tvalid_1's l2: 1.12904\n",
      "[600]\ttraining's l2: 0.988351\tvalid_1's l2: 1.1206\n",
      "[700]\ttraining's l2: 0.962268\tvalid_1's l2: 1.1151\n",
      "[800]\ttraining's l2: 0.937571\tvalid_1's l2: 1.11069\n",
      "[900]\ttraining's l2: 0.91649\tvalid_1's l2: 1.10838\n",
      "[1000]\ttraining's l2: 0.895776\tvalid_1's l2: 1.10613\n",
      "[1100]\ttraining's l2: 0.877271\tvalid_1's l2: 1.105\n",
      "[1200]\ttraining's l2: 0.860293\tvalid_1's l2: 1.10434\n",
      "Early stopping, best iteration is:\n",
      "[1178]\ttraining's l2: 0.864174\tvalid_1's l2: 1.10427\n",
      "Training took 0.04 minutes.\n",
      "Prediction took 0.00 minutes.\n"
     ]
    },
    {
     "data": {
      "image/png": "[encoded data removed]",
      "text/plain": [
       "<matplotlib.figure.Figure at 0x7fb99295da90>"
      ]
     },
     "metadata": {
      "needs_background": "light"
     },
     "output_type": "display_data"
    },
    {
     "data": {
      "image/png": "[encoded data removed]",
      "text/plain": [
       "<matplotlib.figure.Figure at 0x7fb993adce10>"
      ]
     },
     "metadata": {
      "needs_background": "light"
     },
     "output_type": "display_data"
    },
    {
     "name": "stdout",
     "output_type": "stream",
     "text": [
      "[0]\ttrain-rmse:2.29783\tvalid-rmse:2.29791\n",
      "Multiple eval metrics have been passed: 'valid-rmse' will be used for early stopping.\n",
      "\n",
      "Will train until valid-rmse hasn't improved in 100 rounds.\n",
      "[100]\ttrain-rmse:1.0063\tvalid-rmse:1.09401\n",
      "[200]\ttrain-rmse:0.88735\tvalid-rmse:1.05425\n",
      "[300]\ttrain-rmse:0.829181\tvalid-rmse:1.05294\n",
      "[400]\ttrain-rmse:0.784604\tvalid-rmse:1.05299\n",
      "Stopping. Best iteration:\n",
      "[370]\ttrain-rmse:0.798064\tvalid-rmse:1.05239\n",
      "\n",
      "Train on 7496 samples, validate on 7497 samples\n",
      "Epoch 1/15\n",
      " - 2s - loss: 1.5123 - acc: 0.2062 - val_loss: 1.3443 - val_acc: 0.2514\n",
      "Epoch 2/15\n",
      " - 0s - loss: 1.2305 - acc: 0.2447 - val_loss: 1.2398 - val_acc: 0.2564\n",
      "Epoch 3/15\n",
      " - 0s - loss: 1.1617 - acc: 0.2583 - val_loss: 1.2658 - val_acc: 0.2568\n",
      "Epoch 4/15\n",
      " - 0s - loss: 1.1100 - acc: 0.2696 - val_loss: 1.1486 - val_acc: 0.2694\n",
      "Epoch 5/15\n",
      " - 0s - loss: 1.0713 - acc: 0.2785 - val_loss: 1.1979 - val_acc: 0.2645\n",
      "Epoch 6/15\n",
      " - 0s - loss: 1.0389 - acc: 0.2876 - val_loss: 1.1123 - val_acc: 0.2792\n",
      "Epoch 7/15\n",
      " - 0s - loss: 1.0274 - acc: 0.2797 - val_loss: 1.1200 - val_acc: 0.2826\n",
      "Epoch 8/15\n",
      " - 0s - loss: 1.0035 - acc: 0.2942 - val_loss: 1.1106 - val_acc: 0.2842\n",
      "Epoch 9/15\n",
      " - 0s - loss: 0.9996 - acc: 0.2887 - val_loss: 1.0874 - val_acc: 0.2806\n",
      "Epoch 10/15\n",
      " - 0s - loss: 0.9719 - acc: 0.3034 - val_loss: 1.0850 - val_acc: 0.2792\n",
      "Epoch 11/15\n",
      " - 0s - loss: 0.9612 - acc: 0.3052 - val_loss: 1.0880 - val_acc: 0.2857\n",
      "Epoch 12/15\n",
      " - 0s - loss: 0.9593 - acc: 0.3036 - val_loss: 1.0580 - val_acc: 0.2878\n",
      "Epoch 13/15\n",
      " - 0s - loss: 0.9543 - acc: 0.3104 - val_loss: 1.1014 - val_acc: 0.2837\n",
      "Epoch 14/15\n",
      " - 0s - loss: 0.9428 - acc: 0.3146 - val_loss: 1.0791 - val_acc: 0.2809\n",
      "Epoch 15/15\n",
      " - 0s - loss: 0.9332 - acc: 0.3114 - val_loss: 1.0720 - val_acc: 0.2825\n",
      "Fold 2 for boosting model\n",
      "\n",
      "Beginning training...\n",
      "Training until validation scores don't improve for 50 rounds.\n",
      "[100]\ttraining's l2: 1.22657\tvalid_1's l2: 1.25723\n",
      "[200]\ttraining's l2: 1.13716\tvalid_1's l2: 1.19499\n",
      "[300]\ttraining's l2: 1.0801\tvalid_1's l2: 1.16476\n",
      "[400]\ttraining's l2: 1.03701\tvalid_1's l2: 1.14541\n",
      "[500]\ttraining's l2: 1.00175\tvalid_1's l2: 1.13402\n",
      "[600]\ttraining's l2: 0.972382\tvalid_1's l2: 1.12817\n",
      "[700]\ttraining's l2: 0.946613\tvalid_1's l2: 1.12461\n",
      "[800]\ttraining's l2: 0.923052\tvalid_1's l2: 1.12215\n",
      "[900]\ttraining's l2: 0.90181\tvalid_1's l2: 1.11999\n",
      "[1000]\ttraining's l2: 0.882069\tvalid_1's l2: 1.11777\n",
      "[1100]\ttraining's l2: 0.863261\tvalid_1's l2: 1.11695\n",
      "Early stopping, best iteration is:\n",
      "[1090]\ttraining's l2: 0.86521\tvalid_1's l2: 1.11684\n",
      "Training took 0.03 minutes.\n",
      "Prediction took 0.00 minutes.\n"
     ]
    },
    {
     "data": {
      "image/png": "[encoded data removed]",
      "text/plain": [
       "<matplotlib.figure.Figure at 0x7fb993adc710>"
      ]
     },
     "metadata": {
      "needs_background": "light"
     },
     "output_type": "display_data"
    },
    {
     "name": "stdout",
     "output_type": "stream",
     "text": [
      "[0]\ttrain-rmse:2.29818\tvalid-rmse:2.29909\n",
      "Multiple eval metrics have been passed: 'valid-rmse' will be used for early stopping.\n",
      "\n",
      "Will train until valid-rmse hasn't improved in 100 rounds.\n",
      "[100]\ttrain-rmse:0.99985\tvalid-rmse:1.10687\n",
      "[200]\ttrain-rmse:0.876004\tvalid-rmse:1.05804\n",
      "[300]\ttrain-rmse:0.815074\tvalid-rmse:1.05669\n",
      "[400]\ttrain-rmse:0.76578\tvalid-rmse:1.05814\n",
      "Stopping. Best iteration:\n",
      "[305]\ttrain-rmse:0.81234\tvalid-rmse:1.05646\n",
      "\n",
      "Train on 7497 samples, validate on 7496 samples\n",
      "Epoch 1/15\n",
      " - 2s - loss: 1.8545 - acc: 0.1663 - val_loss: 1.5899 - val_acc: 0.2090\n",
      "Epoch 2/15\n",
      " - 0s - loss: 1.2755 - acc: 0.2436 - val_loss: 1.5040 - val_acc: 0.2174\n",
      "Epoch 3/15\n",
      " - 0s - loss: 1.2037 - acc: 0.2534 - val_loss: 1.4056 - val_acc: 0.2216\n",
      "Epoch 4/15\n",
      " - 0s - loss: 1.1285 - acc: 0.2704 - val_loss: 1.1472 - val_acc: 0.2601\n",
      "Epoch 5/15\n",
      " - 0s - loss: 1.0891 - acc: 0.2673 - val_loss: 1.1714 - val_acc: 0.2604\n",
      "Epoch 6/15\n",
      " - 0s - loss: 1.0602 - acc: 0.2780 - val_loss: 1.1489 - val_acc: 0.2648\n",
      "Epoch 7/15\n",
      " - 0s - loss: 1.0330 - acc: 0.2933 - val_loss: 1.2161 - val_acc: 0.2584\n",
      "Epoch 8/15\n",
      " - 0s - loss: 1.0187 - acc: 0.2897 - val_loss: 1.2439 - val_acc: 0.2428\n",
      "Epoch 9/15\n",
      " - 0s - loss: 0.9838 - acc: 0.3044 - val_loss: 1.1018 - val_acc: 0.2633\n",
      "Epoch 10/15\n",
      " - 0s - loss: 0.9920 - acc: 0.2999 - val_loss: 1.1130 - val_acc: 0.2667\n",
      "Epoch 11/15\n",
      " - 0s - loss: 0.9651 - acc: 0.3059 - val_loss: 1.1183 - val_acc: 0.2611\n",
      "Epoch 12/15\n",
      " - 0s - loss: 0.9632 - acc: 0.3032 - val_loss: 1.0701 - val_acc: 0.2639\n",
      "Epoch 13/15\n",
      " - 0s - loss: 0.9461 - acc: 0.3148 - val_loss: 1.1085 - val_acc: 0.2568\n",
      "Epoch 14/15\n",
      " - 0s - loss: 0.9432 - acc: 0.3104 - val_loss: 1.0834 - val_acc: 0.2661\n",
      "Epoch 15/15\n",
      " - 0s - loss: 0.9293 - acc: 0.3209 - val_loss: 1.0715 - val_acc: 0.2657\n"
     ]
    }
   ],
   "source": [
    "res = train_and_test_model(X_trn, y_trn, X_test, num_folds=2, model_type='boost', use_group_kfold=True)\n"
   ]
  },
  {
   "cell_type": "code",
   "execution_count": null,
   "metadata": {},
   "outputs": [],
   "source": [
    "# y_bin = np.zeros(y_trn.shape)\n",
    "# y_bin[y_trn == 4] = 1"
   ]
  },
  {
   "cell_type": "code",
   "execution_count": null,
   "metadata": {},
   "outputs": [],
   "source": [
    "# bin_res = train_and_test_model(X_trn, y_bin, X_test, bin_params, num_folds=10, use_group_kfold=True)"
   ]
  },
  {
   "cell_type": "code",
   "execution_count": 150,
   "metadata": {},
   "outputs": [],
   "source": [
    "coef_1 = 0\n",
    "coef_2 = 0\n",
    "coef_3 = 1\n",
    "\n",
    "vp = coef_1*res['val_preds'] + coef_2*res['xgb_val_preds'] + coef_3*res['nn_val_preds']\n",
    "tp = coef_1*res['averaged_prediction'] + coef_2*res['xgb_averaged_prediction'] + coef_3*res['nn_averaged_prediction']"
   ]
  },
  {
   "cell_type": "code",
   "execution_count": 151,
   "metadata": {},
   "outputs": [
    {
     "name": "stdout",
     "output_type": "stream",
     "text": [
      "QWK =  0.2734165155018664\n",
      "[ 0.5516243   1.55970031  1.89793009  3.55814354]\n",
      "QWK =  0.25104294651073045\n"
     ]
    }
   ],
   "source": [
    "optR = OptimizedRounder()\n",
    "optR.fit(vp, y_trn.values)\n",
    "coefficients = optR.coefficients()\n",
    "\n",
    "valid_pred = optR.predict(vp, coefficients)\n",
    "qwk = quadratic_weighted_kappa(y_trn.values, valid_pred)\n",
    "print(\"QWK = \", qwk)\n",
    "print(coefficients)\n",
    "coefficients_2 = (np.array(coefficients) + np.array([0.5, 1.5, 2.5, 3.5]))/2\n",
    "valid_pred = optR.predict(vp, coefficients_2)\n",
    "qwk = quadratic_weighted_kappa(y_trn.values, valid_pred)\n",
    "print(\"QWK = \", qwk)"
   ]
  },
  {
   "cell_type": "code",
   "execution_count": null,
   "metadata": {},
   "outputs": [],
   "source": [
    "# print(coefficients)"
   ]
  },
  {
   "cell_type": "code",
   "execution_count": null,
   "metadata": {},
   "outputs": [],
   "source": [
    "def plot_pred(pred):\n",
    "    sns.distplot(pred, kde=True, hist_kws={'range': [0, 5]})"
   ]
  },
  {
   "cell_type": "code",
   "execution_count": null,
   "metadata": {},
   "outputs": [],
   "source": [
    "plot_pred(y_trn)"
   ]
  },
  {
   "cell_type": "code",
   "execution_count": null,
   "metadata": {},
   "outputs": [],
   "source": [
    "plot_pred(res['val_preds'])"
   ]
  },
  {
   "cell_type": "code",
   "execution_count": null,
   "metadata": {},
   "outputs": [],
   "source": [
    "plot_pred(res['averaged_prediction'])"
   ]
  },
  {
   "cell_type": "code",
   "execution_count": null,
   "metadata": {},
   "outputs": [],
   "source": [
    "coefficients"
   ]
  },
  {
   "cell_type": "code",
   "execution_count": null,
   "metadata": {},
   "outputs": [],
   "source": [
    "coefficients_ = coefficients.copy()\n",
    "\n",
    "train_predictions = optR.predict(res['val_preds'], coefficients_).astype(np.int8)\n",
    "print('train pred distribution: {}'.format(Counter(train_predictions)))\n",
    "test_predictions = optR.predict(res['averaged_prediction'], coefficients_).astype(np.int8)\n",
    "print('test pred distribution: {}'.format(Counter(test_predictions)))"
   ]
  },
  {
   "cell_type": "code",
   "execution_count": null,
   "metadata": {},
   "outputs": [],
   "source": [
    "Counter(train_predictions)"
   ]
  },
  {
   "cell_type": "code",
   "execution_count": null,
   "metadata": {},
   "outputs": [],
   "source": [
    "Counter(test_predictions)"
   ]
  },
  {
   "cell_type": "code",
   "execution_count": null,
   "metadata": {},
   "outputs": [],
   "source": [
    "submission = pd.DataFrame({'PetID': test['PetID'].values, 'AdoptionSpeed': test_predictions})\n",
    "submission.to_csv('submission.csv', index=False)\n",
    "submission.head()"
   ]
  },
  {
   "cell_type": "code",
   "execution_count": null,
   "metadata": {},
   "outputs": [],
   "source": []
  },
  {
   "cell_type": "code",
   "execution_count": null,
   "metadata": {},
   "outputs": [],
   "source": []
  }
 ],
 "metadata": {
  "kernelspec": {
   "display_name": "Python 3",
   "language": "python",
   "name": "python3"
  },
  "language_info": {
   "codemirror_mode": {
    "name": "ipython",
    "version": 3
   },
   "file_extension": ".py",
   "mimetype": "text/x-python",
   "name": "python",
   "nbconvert_exporter": "python",
   "pygments_lexer": "ipython3",
   "version": "3.5.2"
  }
 },
 "nbformat": 4,
 "nbformat_minor": 2
}
