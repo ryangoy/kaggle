{
 "cells": [
  {
   "cell_type": "markdown",
   "metadata": {},
   "source": [
    "# Two Sigma Financial Modeling #"
   ]
  },
  {
   "cell_type": "markdown",
   "metadata": {},
   "source": [
    "## Ideas ##\n",
    "* Impute with local mean\n",
    "* keep track of moving averages of features\n",
    "* single and double derivative as features\n",
    "* use a moving average of past y values weighted with reward\n",
    "* use difference from expected time series value for feature as a feature"
   ]
  },
  {
   "cell_type": "code",
   "execution_count": 1,
   "metadata": {
    "collapsed": false
   },
   "outputs": [],
   "source": [
    "from kagglegym import make\n",
    "import kagglegym\n",
    "import numpy as np\n",
    "import pandas as pd\n",
    "import random\n",
    "import xgboost as xgb\n",
    "from sklearn import ensemble, linear_model, metrics\n",
    "from sklearn.linear_model import LinearRegression, ElasticNetCV, RANSACRegressor, Ridge \n",
    "from sklearn.preprocessing import Imputer, normalize\n",
    "from sklearn.feature_selection import RFE\n",
    "from sklearn import feature_selection\n",
    "import time\n",
    "import operator\n",
    "import math\n",
    "import matplotlib.pyplot as plt\n",
    "%matplotlib inline"
   ]
  },
  {
   "cell_type": "code",
   "execution_count": 2,
   "metadata": {
    "collapsed": true
   },
   "outputs": [],
   "source": [
    "# constants\n",
    "# random seed\n",
    "rnd = 0\n",
    "# timestamp of train/validation split\n",
    "train_split = 700"
   ]
  },
  {
   "cell_type": "code",
   "execution_count": 3,
   "metadata": {
    "collapsed": true
   },
   "outputs": [],
   "source": [
    "# A custom function to compute the R score\n",
    "def get_reward(y_true, y_fit):\n",
    "    R2 = 1 - np.sum((y_true - y_fit)**2) / np.sum((y_true - np.mean(y_true))**2)\n",
    "    R = np.sign(R2) * math.sqrt(abs(R2))\n",
    "    return(R)"
   ]
  },
  {
   "cell_type": "code",
   "execution_count": 4,
   "metadata": {
    "collapsed": true
   },
   "outputs": [],
   "source": [
    "class Model():\n",
    "    def __init__(self, model, train, validation, columns):\n",
    "\n",
    "        # first save the model ...\n",
    "        self.model   = model\n",
    "        self.columns = columns\n",
    "        \n",
    "        # Get the X, and y values, \n",
    "        X_train = train[columns]\n",
    "        y_train = np.array(train.y)\n",
    "        X_val = validation[columns]\n",
    "        y_val = np.array(validation.y)\n",
    "        \n",
    "        # fit the model\n",
    "        self.model.fit(X_train, y_train)\n",
    "        reward = get_reward(y_val, self.model.predict(X_val))\n",
    "        score = self.model.score(X_val, y_val)\n",
    "        \n",
    "        print \"{} columns: {} validation: {} score: {}\".format(\n",
    "            str(self.model).split('(')[0], \n",
    "            str(columns),\n",
    "            \"{0:.8f}\".format(reward),\n",
    "            \"{0:.8f}\".format(score))\n",
    "    \n",
    "    def predict(self, features):   \n",
    "        return self.model.predict(features)"
   ]
  },
  {
   "cell_type": "code",
   "execution_count": 5,
   "metadata": {
    "collapsed": true
   },
   "outputs": [],
   "source": [
    "def checkModel(modelToUse, columns):\n",
    "    '''\n",
    "        This  function checks and makes sure that the \n",
    "        model provided is doing what it is supposed to\n",
    "        do. This is a sanity check ...\n",
    "    '''\n",
    "    \n",
    "    rewards = []\n",
    "    env = kagglegym.make()\n",
    "    observation = env.reset()\n",
    "    \n",
    "    train = observation.train\n",
    "    \n",
    "    # Just to make things easier to visualize\n",
    "    # and also to speed things up ...\n",
    "    # -----------------------------------------\n",
    "    train   = train[['timestamp', 'y'] + columns]\n",
    "    train   = train.groupby('timestamp').aggregate(np.mean)\n",
    "    train.y = np.cumsum(train.y) # easier to visualize\n",
    "    \n",
    "    print('fitting a model')\n",
    "    model = fitModel(modelToUse, train, columns)\n",
    "    \n",
    "    print('predict the same data')\n",
    "    yHat = model.predict(train) # We already select required columns\n",
    "    \n",
    "    plt.figure()\n",
    "    plt.plot(yHat, color='black', lw=2, label='predicted')\n",
    "    plt.plot(train.y, '.', mec='None', mfc='orange', label='original')\n",
    "    plt.legend(loc='lower right')\n",
    "    \n",
    "    return\n",
    "\n"
   ]
  },
  {
   "cell_type": "code",
   "execution_count": 5,
   "metadata": {
    "collapsed": false
   },
   "outputs": [
    {
     "name": "stdout",
     "output_type": "stream",
     "text": [
      "fitting a model\n",
      "Model score: 0.660532356677\n",
      "predict the same data\n",
      "fitting a model\n",
      "Model score: 0.991680552331\n",
      "predict the same data\n",
      "fitting a model\n",
      "Model score: 0.963758309785\n",
      "predict the same data\n"
     ]
    },
    {
     "data": {
      "text/plain": [
       "<matplotlib.text.Text at 0x7f443c06a490>"
      ]
     },
     "execution_count": 5,
     "metadata": {},
     "output_type": "execute_result"
    },
    {
     "data": {
      "image/png": "[encoded data removed]",
      "text/plain": [
       "<matplotlib.figure.Figure at 0x7f4452025110>"
      ]
     },
     "metadata": {},
     "output_type": "display_data"
    },
    {
     "data": {
      "image/png": "[encoded data removed]",
      "text/plain": [
       "<matplotlib.figure.Figure at 0x7f4440929c10>"
      ]
     },
     "metadata": {},
     "output_type": "display_data"
    },
    {
     "data": {
      "image/png": "[encoded data removed]",
      "text/plain": [
       "<matplotlib.figure.Figure at 0x7f443c969e10>"
      ]
     },
     "metadata": {},
     "output_type": "display_data"
    }
   ],
   "source": [
    "columns = ['technical_30', 'technical_20', 'fundamental_11', 'technical_19']\n",
    "checkModel(LinearRegression(), columns)\n",
    "plt.title('four columns')\n",
    "    \n",
    "# Get all columns here \n",
    "env     = kagglegym.make()\n",
    "allCols = env.reset().train.columns\n",
    "\n",
    "checkModel(LinearRegression(), [c for c in allCols if 'fundamental' in c])\n",
    "plt.title('fundamentals')\n",
    "\n",
    "checkModel(LinearRegression(), [c for c in allCols if 'technical' in c])\n",
    "plt.title('technicals')"
   ]
  },
  {
   "cell_type": "code",
   "execution_count": 6,
   "metadata": {
    "collapsed": true
   },
   "outputs": [],
   "source": [
    "def getScore(modelToUse, columns):\n",
    "    \n",
    "    print('Starting a new calculation for score')\n",
    "    rewards = []\n",
    "    env = kagglegym.make()\n",
    "    observation = env.reset()\n",
    "    \n",
    "    print('fitting a model')\n",
    "    model = fitModel(modelToUse, observation.train.copy(), columns)\n",
    "\n",
    "    print('Starting to fit a model')\n",
    "    while True:\n",
    "        \n",
    "        prediction  = model.predict(observation.features.copy())\n",
    "        target      = observation.target\n",
    "        target['y'] = prediction\n",
    "        \n",
    "        timestamp = observation.features[\"timestamp\"][0]\n",
    "        if timestamp % 100 == 0:\n",
    "            print(timestamp)\n",
    "\n",
    "        observation, reward, done, info = env.step(target)\n",
    "        rewards.append(reward)\n",
    "        if done: break\n",
    "            \n",
    "    return info['public_score'], rewards"
   ]
  },
  {
   "cell_type": "code",
   "execution_count": 7,
   "metadata": {
    "collapsed": true
   },
   "outputs": [],
   "source": [
    "# initialize kaggle gym environment\n",
    "env = make()\n",
    "o = env.reset()"
   ]
  },
  {
   "cell_type": "code",
   "execution_count": 8,
   "metadata": {
    "collapsed": false
   },
   "outputs": [],
   "source": [
    "raw_train = o.train\n",
    "raw_train[\"nbnulls\"]=raw_train.isnull().sum(axis=1)"
   ]
  },
  {
   "cell_type": "code",
   "execution_count": null,
   "metadata": {
    "collapsed": false
   },
   "outputs": [],
   "source": []
  },
  {
   "cell_type": "code",
   "execution_count": 11,
   "metadata": {
    "collapsed": false
   },
   "outputs": [],
   "source": [
    "# averages_by_ts = raw_train.groupby('timestamp').aggregate(np.mean)\n",
    "# offset_averages = averages_by_ts.shift(1)\n",
    "# added_features = averages_by_ts.join(offset_averages, how='inner', rsuffix='_offset')\n",
    "# raw_train = raw_train.join(added_features, on='timestamp', how='left', rsuffix='_rolling')"
   ]
  },
  {
   "cell_type": "code",
   "execution_count": 12,
   "metadata": {
    "collapsed": false
   },
   "outputs": [],
   "source": [
    "averages_by_ts.shape\n",
    "raw_train = raw_train.join(added_features, on='timestamp', how='left', rsuffix='_rolling')"
   ]
  },
  {
   "cell_type": "code",
   "execution_count": 19,
   "metadata": {
    "collapsed": false
   },
   "outputs": [],
   "source": [
    "raw_train.shape\n",
    "raw_train = raw_train.fillna(0)"
   ]
  },
  {
   "cell_type": "code",
   "execution_count": 22,
   "metadata": {
    "collapsed": false
   },
   "outputs": [
    {
     "name": "stdout",
     "output_type": "stream",
     "text": [
      "technical_20    object\n",
      "technical_30    object\n",
      "dtype: object\n"
     ]
    }
   ],
   "source": [
    "print raw_train[['technical_20', 'technical_30']].dtypes"
   ]
  },
  {
   "cell_type": "code",
   "execution_count": 21,
   "metadata": {
    "collapsed": false
   },
   "outputs": [
    {
     "name": "stderr",
     "output_type": "stream",
     "text": [
      "/home/ryan/Libraries/anaconda2/lib/python2.7/site-packages/ipykernel/__main__.py:1: FutureWarning: convert_objects is deprecated.  Use the data-type specific converters pd.to_datetime, pd.to_timedelta and pd.to_numeric.\n",
      "  if __name__ == '__main__':\n"
     ]
    },
    {
     "data": {
      "text/plain": [
       "technical_20    float64\n",
       "dtype: object"
      ]
     },
     "execution_count": 21,
     "metadata": {},
     "output_type": "execute_result"
    }
   ],
   "source": [
    "raw_train[['technical_20']].convert_objects(convert_numeric=True).dtypes"
   ]
  },
  {
   "cell_type": "code",
   "execution_count": 15,
   "metadata": {
    "collapsed": false
   },
   "outputs": [
    {
     "name": "stdout",
     "output_type": "stream",
     "text": [
      "technical_20    object\n",
      "dtype: object\n",
      "0        -0.011753\n",
      "1        -0.001240\n",
      "2        -0.020940\n",
      "3        -0.015959\n",
      "4        -0.007338\n",
      "5         0.031425\n",
      "6        -0.032895\n",
      "7         0.015803\n",
      "8        -0.027593\n",
      "9         0.006662\n",
      "10       -0.001899\n",
      "11        0.050219\n",
      "12       -0.018991\n",
      "13       -0.005203\n",
      "14       -0.006369\n",
      "15        0.017768\n",
      "16       -0.001089\n",
      "17       -0.008794\n",
      "18        0.040724\n",
      "19       -0.003921\n",
      "20       -0.011317\n",
      "21        0.044167\n",
      "22        0.001395\n",
      "23       -0.012101\n",
      "24       -0.070837\n",
      "25       -0.001766\n",
      "26       -0.012542\n",
      "27        0.029697\n",
      "28        0.030815\n",
      "29       -0.016336\n",
      "            ...   \n",
      "806268   -0.019695\n",
      "806269   -0.002233\n",
      "806270    0.003430\n",
      "806271    0.015341\n",
      "806272    0.001687\n",
      "806273   -0.009780\n",
      "806274    0.002069\n",
      "806275   -0.002455\n",
      "806276   -0.014750\n",
      "806277   -0.001223\n",
      "806278    0.001871\n",
      "806279   -0.017363\n",
      "806280    0.020699\n",
      "806281    0.014171\n",
      "806282    0.005206\n",
      "806283   -0.001401\n",
      "806284    0.018129\n",
      "806285    0.019033\n",
      "806286    0.026371\n",
      "806287    0.009888\n",
      "806288    0.001752\n",
      "806289   -0.003940\n",
      "806290   -0.001419\n",
      "806291   -0.005010\n",
      "806292    0.002049\n",
      "806293   -0.000085\n",
      "806294    0.003454\n",
      "806295   -0.015339\n",
      "806296   -0.004906\n",
      "806297    0.001540\n",
      "Name: y, dtype: float32\n"
     ]
    }
   ],
   "source": [
    "m = linear_model.LinearRegression()\n",
    "\n",
    "print raw_train[['technical_20']].dtypes\n",
    "print raw_train.y"
   ]
  },
  {
   "cell_type": "code",
   "execution_count": 14,
   "metadata": {
    "collapsed": false
   },
   "outputs": [
    {
     "ename": "TypeError",
     "evalue": "float() argument must be a string or a number",
     "output_type": "error",
     "traceback": [
      "\u001b[0;31m---------------------------------------------------------------------------\u001b[0m",
      "\u001b[0;31mTypeError\u001b[0m                                 Traceback (most recent call last)",
      "\u001b[0;32m<ipython-input-14-2326b79ce916>\u001b[0m in \u001b[0;36m<module>\u001b[0;34m()\u001b[0m\n\u001b[0;32m----> 1\u001b[0;31m \u001b[0mm\u001b[0m\u001b[0;34m.\u001b[0m\u001b[0mfit\u001b[0m\u001b[0;34m(\u001b[0m\u001b[0mraw_train\u001b[0m\u001b[0;34m[\u001b[0m\u001b[0;34m[\u001b[0m\u001b[0;34m'technical_20'\u001b[0m\u001b[0;34m]\u001b[0m\u001b[0;34m]\u001b[0m\u001b[0;34m,\u001b[0m \u001b[0mraw_train\u001b[0m\u001b[0;34m.\u001b[0m\u001b[0my\u001b[0m\u001b[0;34m.\u001b[0m\u001b[0mvalues\u001b[0m\u001b[0;34m)\u001b[0m\u001b[0;34m\u001b[0m\u001b[0m\n\u001b[0m",
      "\u001b[0;32m/home/ryan/Libraries/anaconda2/lib/python2.7/site-packages/sklearn/linear_model/base.pyc\u001b[0m in \u001b[0;36mfit\u001b[0;34m(self, X, y, sample_weight)\u001b[0m\n\u001b[1;32m    510\u001b[0m         \u001b[0mn_jobs_\u001b[0m \u001b[0;34m=\u001b[0m \u001b[0mself\u001b[0m\u001b[0;34m.\u001b[0m\u001b[0mn_jobs\u001b[0m\u001b[0;34m\u001b[0m\u001b[0m\n\u001b[1;32m    511\u001b[0m         X, y = check_X_y(X, y, accept_sparse=['csr', 'csc', 'coo'],\n\u001b[0;32m--> 512\u001b[0;31m                          y_numeric=True, multi_output=True)\n\u001b[0m\u001b[1;32m    513\u001b[0m \u001b[0;34m\u001b[0m\u001b[0m\n\u001b[1;32m    514\u001b[0m         \u001b[0;32mif\u001b[0m \u001b[0msample_weight\u001b[0m \u001b[0;32mis\u001b[0m \u001b[0;32mnot\u001b[0m \u001b[0mNone\u001b[0m \u001b[0;32mand\u001b[0m \u001b[0mnp\u001b[0m\u001b[0;34m.\u001b[0m\u001b[0matleast_1d\u001b[0m\u001b[0;34m(\u001b[0m\u001b[0msample_weight\u001b[0m\u001b[0;34m)\u001b[0m\u001b[0;34m.\u001b[0m\u001b[0mndim\u001b[0m \u001b[0;34m>\u001b[0m \u001b[0;36m1\u001b[0m\u001b[0;34m:\u001b[0m\u001b[0;34m\u001b[0m\u001b[0m\n",
      "\u001b[0;32m/home/ryan/Libraries/anaconda2/lib/python2.7/site-packages/sklearn/utils/validation.pyc\u001b[0m in \u001b[0;36mcheck_X_y\u001b[0;34m(X, y, accept_sparse, dtype, order, copy, force_all_finite, ensure_2d, allow_nd, multi_output, ensure_min_samples, ensure_min_features, y_numeric, warn_on_dtype, estimator)\u001b[0m\n\u001b[1;32m    519\u001b[0m     X = check_array(X, accept_sparse, dtype, order, copy, force_all_finite,\n\u001b[1;32m    520\u001b[0m                     \u001b[0mensure_2d\u001b[0m\u001b[0;34m,\u001b[0m \u001b[0mallow_nd\u001b[0m\u001b[0;34m,\u001b[0m \u001b[0mensure_min_samples\u001b[0m\u001b[0;34m,\u001b[0m\u001b[0;34m\u001b[0m\u001b[0m\n\u001b[0;32m--> 521\u001b[0;31m                     ensure_min_features, warn_on_dtype, estimator)\n\u001b[0m\u001b[1;32m    522\u001b[0m     \u001b[0;32mif\u001b[0m \u001b[0mmulti_output\u001b[0m\u001b[0;34m:\u001b[0m\u001b[0;34m\u001b[0m\u001b[0m\n\u001b[1;32m    523\u001b[0m         y = check_array(y, 'csr', force_all_finite=True, ensure_2d=False,\n",
      "\u001b[0;32m/home/ryan/Libraries/anaconda2/lib/python2.7/site-packages/sklearn/utils/validation.pyc\u001b[0m in \u001b[0;36mcheck_array\u001b[0;34m(array, accept_sparse, dtype, order, copy, force_all_finite, ensure_2d, allow_nd, ensure_min_samples, ensure_min_features, warn_on_dtype, estimator)\u001b[0m\n\u001b[1;32m    400\u001b[0m         \u001b[0;31m# make sure we actually converted to numeric:\u001b[0m\u001b[0;34m\u001b[0m\u001b[0;34m\u001b[0m\u001b[0m\n\u001b[1;32m    401\u001b[0m         \u001b[0;32mif\u001b[0m \u001b[0mdtype_numeric\u001b[0m \u001b[0;32mand\u001b[0m \u001b[0marray\u001b[0m\u001b[0;34m.\u001b[0m\u001b[0mdtype\u001b[0m\u001b[0;34m.\u001b[0m\u001b[0mkind\u001b[0m \u001b[0;34m==\u001b[0m \u001b[0;34m\"O\"\u001b[0m\u001b[0;34m:\u001b[0m\u001b[0;34m\u001b[0m\u001b[0m\n\u001b[0;32m--> 402\u001b[0;31m             \u001b[0marray\u001b[0m \u001b[0;34m=\u001b[0m \u001b[0marray\u001b[0m\u001b[0;34m.\u001b[0m\u001b[0mastype\u001b[0m\u001b[0;34m(\u001b[0m\u001b[0mnp\u001b[0m\u001b[0;34m.\u001b[0m\u001b[0mfloat64\u001b[0m\u001b[0;34m)\u001b[0m\u001b[0;34m\u001b[0m\u001b[0m\n\u001b[0m\u001b[1;32m    403\u001b[0m         \u001b[0;32mif\u001b[0m \u001b[0;32mnot\u001b[0m \u001b[0mallow_nd\u001b[0m \u001b[0;32mand\u001b[0m \u001b[0marray\u001b[0m\u001b[0;34m.\u001b[0m\u001b[0mndim\u001b[0m \u001b[0;34m>=\u001b[0m \u001b[0;36m3\u001b[0m\u001b[0;34m:\u001b[0m\u001b[0;34m\u001b[0m\u001b[0m\n\u001b[1;32m    404\u001b[0m             raise ValueError(\"Found array with dim %d. %s expected <= 2.\"\n",
      "\u001b[0;31mTypeError\u001b[0m: float() argument must be a string or a number"
     ]
    }
   ],
   "source": [
    "m.fit(raw_train[['technical_20']], raw_train.y.values)"
   ]
  },
  {
   "cell_type": "code",
   "execution_count": 79,
   "metadata": {
    "collapsed": false
   },
   "outputs": [
    {
     "data": {
      "text/plain": [
       "<matplotlib.axes._subplots.AxesSubplot at 0x7f67fbffebd0>"
      ]
     },
     "execution_count": 79,
     "metadata": {},
     "output_type": "execute_result"
    },
    {
     "data": {
      "image/png": "[encoded data removed]",
      "text/plain": [
       "<matplotlib.figure.Figure at 0x7f680fbf9c50>"
      ]
     },
     "metadata": {},
     "output_type": "display_data"
    }
   ],
   "source": [
    "raw_train['technical_20_rolling'].plot()"
   ]
  },
  {
   "cell_type": "code",
   "execution_count": 14,
   "metadata": {
    "collapsed": false
   },
   "outputs": [
    {
     "data": {
      "text/plain": [
       "0    0.002632\n",
       "1    0.002632\n",
       "2    0.002632\n",
       "3    0.002632\n",
       "4    0.002632\n",
       "5    0.002632\n",
       "6    0.002632\n",
       "7    0.002632\n",
       "8    0.002632\n",
       "9    0.002632\n",
       "Name: technical_20_rolling, dtype: float32"
      ]
     },
     "execution_count": 14,
     "metadata": {},
     "output_type": "execute_result"
    }
   ],
   "source": [
    "raw_train['technical_20_rolling'][:10]"
   ]
  },
  {
   "cell_type": "code",
   "execution_count": 9,
   "metadata": {
    "collapsed": false
   },
   "outputs": [
    {
     "name": "stdout",
     "output_type": "stream",
     "text": [
      "CPU times: user 5.68 s, sys: 428 ms, total: 6.11 s\n",
      "Wall time: 6.12 s\n"
     ]
    }
   ],
   "source": [
    "#%time raw_train = o.train.fillna(o.train.rolling(min_periods=0, window=100).median())\n",
    "%time raw_train = raw_train.fillna(np.median)"
   ]
  },
  {
   "cell_type": "code",
   "execution_count": 129,
   "metadata": {
    "collapsed": false
   },
   "outputs": [],
   "source": [
    "estimator = xgb.XGBRegressor()\n",
    "selector = RFE(estimator, 4, step=25, verbose=1)\n",
    "#selector = feature_selection.SelectFromModel(estimator)"
   ]
  },
  {
   "cell_type": "code",
   "execution_count": 130,
   "metadata": {
    "collapsed": false
   },
   "outputs": [
    {
     "name": "stdout",
     "output_type": "stream",
     "text": [
      "Fitting estimator with 111 features.\n",
      "Fitting estimator with 86 features.\n",
      "Fitting estimator with 61 features.\n",
      "Fitting estimator with 36 features.\n",
      "Fitting estimator with 11 features.\n"
     ]
    }
   ],
   "source": [
    "fr = selector.fit(raw_train.drop('y',1), raw_train.y.values)"
   ]
  },
  {
   "cell_type": "code",
   "execution_count": 131,
   "metadata": {
    "collapsed": false
   },
   "outputs": [
    {
     "name": "stdout",
     "output_type": "stream",
     "text": [
      "[u'timestamp' u'fundamental_53' u'technical_3' u'technical_30']\n"
     ]
    }
   ],
   "source": [
    "selections = [i for i, x in enumerate(fr.get_support()) if x]\n",
    "print np.array(raw_train.columns.get_values())[selections]"
   ]
  },
  {
   "cell_type": "code",
   "execution_count": 132,
   "metadata": {
    "collapsed": false
   },
   "outputs": [
    {
     "name": "stdout",
     "output_type": "stream",
     "text": [
      "Fitting estimator with 111 features.\n"
     ]
    },
    {
     "ename": "RuntimeError",
     "evalue": "The classifier does not expose \"coef_\" or \"feature_importances_\" attributes",
     "output_type": "error",
     "traceback": [
      "\u001b[0;31m---------------------------------------------------------------------------\u001b[0m",
      "\u001b[0;31mRuntimeError\u001b[0m                              Traceback (most recent call last)",
      "\u001b[0;32m<ipython-input-132-81ff1157508e>\u001b[0m in \u001b[0;36m<module>\u001b[0;34m()\u001b[0m\n\u001b[1;32m      2\u001b[0m \u001b[0mselector\u001b[0m \u001b[0;34m=\u001b[0m \u001b[0mRFE\u001b[0m\u001b[0;34m(\u001b[0m\u001b[0mestimator\u001b[0m\u001b[0;34m,\u001b[0m \u001b[0;36m4\u001b[0m\u001b[0;34m,\u001b[0m \u001b[0mstep\u001b[0m\u001b[0;34m=\u001b[0m\u001b[0;36m25\u001b[0m\u001b[0;34m,\u001b[0m \u001b[0mverbose\u001b[0m\u001b[0;34m=\u001b[0m\u001b[0;36m1\u001b[0m\u001b[0;34m)\u001b[0m\u001b[0;34m\u001b[0m\u001b[0m\n\u001b[1;32m      3\u001b[0m \u001b[0;31m#selector = feature_selection.SelectFromModel(estimator)\u001b[0m\u001b[0;34m\u001b[0m\u001b[0;34m\u001b[0m\u001b[0m\n\u001b[0;32m----> 4\u001b[0;31m \u001b[0mfr\u001b[0m \u001b[0;34m=\u001b[0m \u001b[0mselector\u001b[0m\u001b[0;34m.\u001b[0m\u001b[0mfit\u001b[0m\u001b[0;34m(\u001b[0m\u001b[0mraw_train\u001b[0m\u001b[0;34m.\u001b[0m\u001b[0mdrop\u001b[0m\u001b[0;34m(\u001b[0m\u001b[0;34m'y'\u001b[0m\u001b[0;34m,\u001b[0m\u001b[0;36m1\u001b[0m\u001b[0;34m)\u001b[0m\u001b[0;34m,\u001b[0m \u001b[0mraw_train\u001b[0m\u001b[0;34m.\u001b[0m\u001b[0my\u001b[0m\u001b[0;34m.\u001b[0m\u001b[0mvalues\u001b[0m\u001b[0;34m)\u001b[0m\u001b[0;34m\u001b[0m\u001b[0m\n\u001b[0m\u001b[1;32m      5\u001b[0m \u001b[0mselections\u001b[0m \u001b[0;34m=\u001b[0m \u001b[0;34m[\u001b[0m\u001b[0mi\u001b[0m \u001b[0;32mfor\u001b[0m \u001b[0mi\u001b[0m\u001b[0;34m,\u001b[0m \u001b[0mx\u001b[0m \u001b[0;32min\u001b[0m \u001b[0menumerate\u001b[0m\u001b[0;34m(\u001b[0m\u001b[0mfr\u001b[0m\u001b[0;34m.\u001b[0m\u001b[0mget_support\u001b[0m\u001b[0;34m(\u001b[0m\u001b[0;34m)\u001b[0m\u001b[0;34m)\u001b[0m \u001b[0;32mif\u001b[0m \u001b[0mx\u001b[0m\u001b[0;34m]\u001b[0m\u001b[0;34m\u001b[0m\u001b[0m\n\u001b[1;32m      6\u001b[0m \u001b[0;32mprint\u001b[0m \u001b[0mnp\u001b[0m\u001b[0;34m.\u001b[0m\u001b[0marray\u001b[0m\u001b[0;34m(\u001b[0m\u001b[0mraw_train\u001b[0m\u001b[0;34m.\u001b[0m\u001b[0mcolumns\u001b[0m\u001b[0;34m.\u001b[0m\u001b[0mget_values\u001b[0m\u001b[0;34m(\u001b[0m\u001b[0;34m)\u001b[0m\u001b[0;34m)\u001b[0m\u001b[0;34m[\u001b[0m\u001b[0mselections\u001b[0m\u001b[0;34m]\u001b[0m\u001b[0;34m\u001b[0m\u001b[0m\n",
      "\u001b[0;32m/home/ryan/Libraries/anaconda2/lib/python2.7/site-packages/sklearn/feature_selection/rfe.pyc\u001b[0m in \u001b[0;36mfit\u001b[0;34m(self, X, y)\u001b[0m\n\u001b[1;32m    133\u001b[0m             \u001b[0mThe\u001b[0m \u001b[0mtarget\u001b[0m \u001b[0mvalues\u001b[0m\u001b[0;34m.\u001b[0m\u001b[0;34m\u001b[0m\u001b[0m\n\u001b[1;32m    134\u001b[0m         \"\"\"\n\u001b[0;32m--> 135\u001b[0;31m         \u001b[0;32mreturn\u001b[0m \u001b[0mself\u001b[0m\u001b[0;34m.\u001b[0m\u001b[0m_fit\u001b[0m\u001b[0;34m(\u001b[0m\u001b[0mX\u001b[0m\u001b[0;34m,\u001b[0m \u001b[0my\u001b[0m\u001b[0;34m)\u001b[0m\u001b[0;34m\u001b[0m\u001b[0m\n\u001b[0m\u001b[1;32m    136\u001b[0m \u001b[0;34m\u001b[0m\u001b[0m\n\u001b[1;32m    137\u001b[0m     \u001b[0;32mdef\u001b[0m \u001b[0m_fit\u001b[0m\u001b[0;34m(\u001b[0m\u001b[0mself\u001b[0m\u001b[0;34m,\u001b[0m \u001b[0mX\u001b[0m\u001b[0;34m,\u001b[0m \u001b[0my\u001b[0m\u001b[0;34m,\u001b[0m \u001b[0mstep_score\u001b[0m\u001b[0;34m=\u001b[0m\u001b[0mNone\u001b[0m\u001b[0;34m)\u001b[0m\u001b[0;34m:\u001b[0m\u001b[0;34m\u001b[0m\u001b[0m\n",
      "\u001b[0;32m/home/ryan/Libraries/anaconda2/lib/python2.7/site-packages/sklearn/feature_selection/rfe.pyc\u001b[0m in \u001b[0;36m_fit\u001b[0;34m(self, X, y, step_score)\u001b[0m\n\u001b[1;32m    175\u001b[0m                 \u001b[0mcoefs\u001b[0m \u001b[0;34m=\u001b[0m \u001b[0mgetattr\u001b[0m\u001b[0;34m(\u001b[0m\u001b[0mestimator\u001b[0m\u001b[0;34m,\u001b[0m \u001b[0;34m'feature_importances_'\u001b[0m\u001b[0;34m,\u001b[0m \u001b[0mNone\u001b[0m\u001b[0;34m)\u001b[0m\u001b[0;34m\u001b[0m\u001b[0m\n\u001b[1;32m    176\u001b[0m             \u001b[0;32mif\u001b[0m \u001b[0mcoefs\u001b[0m \u001b[0;32mis\u001b[0m \u001b[0mNone\u001b[0m\u001b[0;34m:\u001b[0m\u001b[0;34m\u001b[0m\u001b[0m\n\u001b[0;32m--> 177\u001b[0;31m                 raise RuntimeError('The classifier does not expose '\n\u001b[0m\u001b[1;32m    178\u001b[0m                                    \u001b[0;34m'\"coef_\" or \"feature_importances_\" '\u001b[0m\u001b[0;34m\u001b[0m\u001b[0m\n\u001b[1;32m    179\u001b[0m                                    'attributes')\n",
      "\u001b[0;31mRuntimeError\u001b[0m: The classifier does not expose \"coef_\" or \"feature_importances_\" attributes"
     ]
    }
   ],
   "source": [
    "estimator = linear_model.RANSACRegressor()\n",
    "selector = RFE(estimator, 4, step=25, verbose=1)\n",
    "#selector = feature_selection.SelectFromModel(estimator)\n",
    "fr = selector.fit(raw_train.drop('y',1), raw_train.y.values)\n",
    "selections = [i for i, x in enumerate(fr.get_support()) if x]\n",
    "print np.array(raw_train.columns.get_values())[selections]"
   ]
  },
  {
   "cell_type": "code",
   "execution_count": null,
   "metadata": {
    "collapsed": true
   },
   "outputs": [],
   "source": []
  },
  {
   "cell_type": "code",
   "execution_count": null,
   "metadata": {
    "collapsed": true
   },
   "outputs": [],
   "source": []
  },
  {
   "cell_type": "code",
   "execution_count": 109,
   "metadata": {
    "collapsed": true
   },
   "outputs": [],
   "source": [
    "# split train and validation sets\n",
    "train = raw_train[raw_train['timestamp'] < train_split]\n",
    "val = raw_train[raw_train['timestamp'] > train_split]"
   ]
  },
  {
   "cell_type": "code",
   "execution_count": 21,
   "metadata": {
    "collapsed": true
   },
   "outputs": [],
   "source": [
    "model_dict = {}"
   ]
  },
  {
   "cell_type": "code",
   "execution_count": 40,
   "metadata": {
    "collapsed": false
   },
   "outputs": [
    {
     "name": "stdout",
     "output_type": "stream",
     "text": [
      "RANSACRegressor columns: ['technical_20'] validation: -0.11737439 score: -0.01377666\n"
     ]
    }
   ],
   "source": [
    "columns = ['technical_30', 'technical_20', 'technical_40']\n",
    "#columns = ['technical_30', 'technical_20', 'technical_44', 'fundamental_11' ,'fundamental_18' ,'fundamental_19' ,'fundamental_20'\n",
    "# ,'fundamental_22' ,'fundamental_24', 'nbnulls']\n",
    "#columns = ['fundamental_11' ,'fundamental_20' ,'fundamental_53' ,'technical_20'\n",
    "\n",
    "\n",
    "\n",
    "#columns = raw_train.columns[selections]\n",
    "model_dict['elasticNet'] = Model(linear_model.RANSACRegressor(), train, val, columns)"
   ]
  },
  {
   "cell_type": "code",
   "execution_count": null,
   "metadata": {
    "collapsed": false
   },
   "outputs": [],
   "source": []
  },
  {
   "cell_type": "code",
   "execution_count": 163,
   "metadata": {
    "collapsed": false
   },
   "outputs": [
    {
     "name": "stdout",
     "output_type": "stream",
     "text": [
      "Starting a new calculation for score\n",
      "fitting a model\n"
     ]
    },
    {
     "ename": "NameError",
     "evalue": "global name 'fitModel' is not defined",
     "output_type": "error",
     "traceback": [
      "\u001b[0;31m---------------------------------------------------------------------------\u001b[0m",
      "\u001b[0;31mNameError\u001b[0m                                 Traceback (most recent call last)",
      "\u001b[0;32m<ipython-input-163-6b564fea5ff8>\u001b[0m in \u001b[0;36m<module>\u001b[0;34m()\u001b[0m\n\u001b[1;32m      1\u001b[0m \u001b[0;34m\u001b[0m\u001b[0m\n\u001b[0;32m----> 2\u001b[0;31m \u001b[0mgetScore\u001b[0m\u001b[0;34m(\u001b[0m\u001b[0mElasticNetCV\u001b[0m\u001b[0;34m(\u001b[0m\u001b[0;34m)\u001b[0m\u001b[0;34m,\u001b[0m \u001b[0mcolumns\u001b[0m\u001b[0;34m)\u001b[0m\u001b[0;34m[\u001b[0m\u001b[0;36m0\u001b[0m\u001b[0;34m]\u001b[0m\u001b[0;34m\u001b[0m\u001b[0m\n\u001b[0m",
      "\u001b[0;32m<ipython-input-8-a529819b6147>\u001b[0m in \u001b[0;36mgetScore\u001b[0;34m(modelToUse, columns)\u001b[0m\n\u001b[1;32m      7\u001b[0m \u001b[0;34m\u001b[0m\u001b[0m\n\u001b[1;32m      8\u001b[0m     \u001b[0;32mprint\u001b[0m\u001b[0;34m(\u001b[0m\u001b[0;34m'fitting a model'\u001b[0m\u001b[0;34m)\u001b[0m\u001b[0;34m\u001b[0m\u001b[0m\n\u001b[0;32m----> 9\u001b[0;31m     \u001b[0mmodel\u001b[0m \u001b[0;34m=\u001b[0m \u001b[0mfitModel\u001b[0m\u001b[0;34m(\u001b[0m\u001b[0mmodelToUse\u001b[0m\u001b[0;34m,\u001b[0m \u001b[0mobservation\u001b[0m\u001b[0;34m.\u001b[0m\u001b[0mtrain\u001b[0m\u001b[0;34m.\u001b[0m\u001b[0mcopy\u001b[0m\u001b[0;34m(\u001b[0m\u001b[0;34m)\u001b[0m\u001b[0;34m,\u001b[0m \u001b[0mcolumns\u001b[0m\u001b[0;34m)\u001b[0m\u001b[0;34m\u001b[0m\u001b[0m\n\u001b[0m\u001b[1;32m     10\u001b[0m \u001b[0;34m\u001b[0m\u001b[0m\n\u001b[1;32m     11\u001b[0m     \u001b[0;32mprint\u001b[0m\u001b[0;34m(\u001b[0m\u001b[0;34m'Starting to fit a model'\u001b[0m\u001b[0;34m)\u001b[0m\u001b[0;34m\u001b[0m\u001b[0m\n",
      "\u001b[0;31mNameError\u001b[0m: global name 'fitModel' is not defined"
     ]
    }
   ],
   "source": [
    "\n",
    "getScore(ElasticNetCV(), columns)[0]"
   ]
  },
  {
   "cell_type": "code",
   "execution_count": 3,
   "metadata": {
    "collapsed": true
   },
   "outputs": [],
   "source": []
  },
  {
   "cell_type": "code",
   "execution_count": 4,
   "metadata": {
    "collapsed": false
   },
   "outputs": [
    {
     "name": "stdout",
     "output_type": "stream",
     "text": [
      "['train', 'target', 'features']\n"
     ]
    }
   ],
   "source": [
    "# see which instance variables we have access to\n",
    "print o.__dict__.keys()"
   ]
  },
  {
   "cell_type": "code",
   "execution_count": 5,
   "metadata": {
    "collapsed": false
   },
   "outputs": [],
   "source": [
    "d_median = o.train.median(axis=0)\n",
    "fill_NaN = Imputer(missing_values=np.nan, strategy='median', axis=1)\n",
    "raw_train = pd.DataFrame(fill_NaN.fit_transform(o.train))\n",
    "raw_train.columns = o.train.columns\n",
    "raw_train.index = o.train.index"
   ]
  },
  {
   "cell_type": "code",
   "execution_count": 83,
   "metadata": {
    "collapsed": false
   },
   "outputs": [],
   "source": [
    "raw_train['cumsum'] = raw_train['y'].cumsum()\n",
    "raw_train['y_prev'] = raw_train['y'].shift(1)\n",
    "raw_train = raw_train.fillna(0)"
   ]
  },
  {
   "cell_type": "code",
   "execution_count": 84,
   "metadata": {
    "collapsed": false
   },
   "outputs": [],
   "source": [
    "# split train and validation sets\n",
    "train = raw_train[raw_train['timestamp'] < train_split]\n",
    "val = raw_train[raw_train['timestamp'] > train_split]"
   ]
  },
  {
   "cell_type": "code",
   "execution_count": 85,
   "metadata": {
    "collapsed": false
   },
   "outputs": [],
   "source": [
    "scores = []\n",
    "models = {}\n",
    "for i in range(len(train.columns)):\n",
    "    model = linear_model.Ridge(fit_intercept=False, normalize=True, copy_X=True)\n",
    "    model.fit(train.ix[:,i].to_frame(), train.y.values)\n",
    "    models[train.columns[i]] = model\n",
    "    scores.append(model.score(val.ix[:,i].to_frame(), val.y.values))\n",
    "scores = np.array(scores)"
   ]
  },
  {
   "cell_type": "code",
   "execution_count": 93,
   "metadata": {
    "collapsed": false
   },
   "outputs": [],
   "source": [
    "y_prev_model=  linear_model.ElasticNetCV(normalize=True)\n",
    "y_prev_model.fit(train['y_prev'].to_frame(), train.y.values)\n",
    "predz = y_prev_model.predict(val['y_prev'].to_frame())"
   ]
  },
  {
   "cell_type": "code",
   "execution_count": 86,
   "metadata": {
    "collapsed": false
   },
   "outputs": [
    {
     "name": "stdout",
     "output_type": "stream",
     "text": [
      "[ -4.64790085e-04  -1.17527007e-04  -4.37854630e-05  -3.81959791e-04]\n"
     ]
    }
   ],
   "source": [
    "np.sort(scores)\n",
    "print scores[-4:]"
   ]
  },
  {
   "cell_type": "code",
   "execution_count": 87,
   "metadata": {
    "collapsed": false
   },
   "outputs": [],
   "source": [
    "sorted_scores = scores.argsort()"
   ]
  },
  {
   "cell_type": "code",
   "execution_count": 88,
   "metadata": {
    "collapsed": false
   },
   "outputs": [
    {
     "name": "stdout",
     "output_type": "stream",
     "text": [
      "[225 114   3 242 131 123 234 268 157 284  20 173 136 247  45 250 139 262\n",
      "  28 184 151 295 100 101 179 290  68 204 159 270 315 318 207  62  88  40\n",
      "  99  59  87  25 220  65  58  78 331  92  22  98 255  17  18  37  71  86\n",
      "  55  82   9 144 199 332  57  93 202  15 310  38 162 137  49  89 273 248\n",
      " 134  47  73   7 226 313 115  11  23  90   4  64  74  10 117 228  36  83\n",
      " 106 109   5 264 153  54 150 261   6  42  39 289 178  67   8 230 119  32\n",
      "  13  26  51 143 254 293 182 235 124   2  56  29  24  35  46  41  44  91\n",
      "  16  53  96  33  61  50 118 229 245  31  12  63 116 251 278 227 224 113\n",
      "  48  81  21 168 192 296 167  30 140  94 103  43 102  77  27  34 279 276\n",
      " 107  60  66 303 188  70 322 185 165  85 211 104 269 299  19  97 111 335\n",
      " 323 105 158 212  69 266  14  52 197 155 308  80 206  76 170 281 128 108\n",
      " 203 121 232 239 314 208 210 317 283 258 172 319 216 200 148  72 145 259\n",
      " 147 198 320 256 146 309 257 321 327 195 306  84 209 183 311 120  79 263\n",
      " 294 138 231 249 152  75 246 161 163 328 274 272 267 222 217 156 316 135\n",
      " 333 205 171   0 122 282  95 233 190 286 175 301 160 164 271 275 237 280\n",
      " 169 125 126 300 189 236 112 223 176 141 252 287 265 334 187 154 291 180\n",
      " 325 130 127 298 241 238 240 253 129 142 133 244 186 214   1 149 260 304\n",
      " 193 292 297 277 166 288 181 177 324 307 213 326 196 312 243 215 201 219\n",
      " 330 174 285 132 194 305 302 191 329 218 221 110]\n",
      "Index([      u'derived_1_offset',      u'derived_1_rolling',\n",
      "                    u'derived_1',  u'fundamental_14_offset',\n",
      "       u'fundamental_14_rolling',  u'fundamental_6_rolling',\n",
      "         u'fundamental_6_offset',  u'fundamental_40_offset',\n",
      "       u'fundamental_40_rolling',  u'fundamental_56_offset',\n",
      "       ...\n",
      "        u'fundamental_57_offset', u'fundamental_15_rolling',\n",
      "         u'technical_16_rolling',    u'technical_16_offset',\n",
      "          u'technical_12_offset',   u'technical_12_rolling',\n",
      "          u'technical_42_offset',   u'technical_42_rolling',\n",
      "                    u'y_rolling',                      u'y'],\n",
      "      dtype='object', length=336)\n"
     ]
    }
   ],
   "source": [
    "print sorted_scores\n",
    "print train.columns[sorted_scores]"
   ]
  },
  {
   "cell_type": "code",
   "execution_count": 73,
   "metadata": {
    "collapsed": false
   },
   "outputs": [],
   "source": [
    "predictions = models['derived_1' ].predict(val['derived_1'].to_frame())"
   ]
  },
  {
   "cell_type": "code",
   "execution_count": 70,
   "metadata": {
    "collapsed": false
   },
   "outputs": [
    {
     "name": "stdout",
     "output_type": "stream",
     "text": [
      "Starting a new calculation for score\n",
      "Starting to fit a model\n",
      "1000\n",
      "1100\n",
      "1200\n",
      "1300\n",
      "1400\n",
      "1500\n",
      "1600\n",
      "1700\n",
      "1800\n",
      "-0.0182640812381\n"
     ]
    }
   ],
   "source": [
    "env = make()\n",
    "o = env.reset()\n",
    "print('Starting a new calculation for score')\n",
    "rewards = []\n",
    "\n",
    "print('Starting to fit a model')\n",
    "while True:\n",
    "    features = o.features.copy().fillna(0)\n",
    "    averages_by_ts = features[['technical_42', 'timestamp']].groupby('timestamp').aggregate(np.mean)\n",
    "    features = features.join(averages_by_ts, on='timestamp', how='left', rsuffix = '_rolling')\n",
    "    features['technical_42_rolling']\n",
    "    prediction  = models['technical_42_rolling'].predict(features['technical_42_rolling'].to_frame())\n",
    "    target      = o.target\n",
    "    target['y'] = prediction\n",
    "\n",
    "    timestamp = o.features[\"timestamp\"][0]\n",
    "    if timestamp % 100 == 0:\n",
    "        print(timestamp)\n",
    "\n",
    "    o, reward, done, info = env.step(target)\n",
    "    rewards.append(reward)\n",
    "    if done: break\n",
    "\n",
    "print info['public_score']"
   ]
  },
  {
   "cell_type": "code",
   "execution_count": 74,
   "metadata": {
    "collapsed": true
   },
   "outputs": [],
   "source": [
    "def get_reward(y_true, y_fit):\n",
    "    R2 = 1 - np.sum((y_true - y_fit)**2) / np.sum((y_true - np.mean(y_true))**2)\n",
    "    R = np.sign(R2) * math.sqrt(abs(R2))\n",
    "    return(R)"
   ]
  },
  {
   "cell_type": "code",
   "execution_count": null,
   "metadata": {
    "collapsed": true
   },
   "outputs": [],
   "source": []
  },
  {
   "cell_type": "code",
   "execution_count": 94,
   "metadata": {
    "collapsed": false
   },
   "outputs": [
    {
     "name": "stdout",
     "output_type": "stream",
     "text": [
      "0.0116063756106\n"
     ]
    }
   ],
   "source": [
    "print get_reward(val.y.values, predz)"
   ]
  },
  {
   "cell_type": "code",
   "execution_count": 113,
   "metadata": {
    "collapsed": false
   },
   "outputs": [
    {
     "data": {
      "image/png": "[encoded data removed]",
      "text/plain": [
       "<matplotlib.figure.Figure at 0x7f4bf8db75d0>"
      ]
     },
     "metadata": {},
     "output_type": "display_data"
    }
   ],
   "source": [
    "x_size = 50\n",
    "s_preds = (predictions[:x_size]- np.mean(predictions[:x_size], axis=0)) / np.std(predictions[:x_size], axis=0)\n",
    "s_vals = (val_labels[:x_size] - np.mean(val_labels[:x_size], axis=0)) / np.std(val_labels[:x_size], axis=0)\n",
    "\n",
    "\n",
    "plt.plot(s_preds)\n",
    "plt.plot(s_vals)\n",
    "plt.legend(('preds', 'vals'),)\n",
    "plt.show()"
   ]
  },
  {
   "cell_type": "code",
   "execution_count": null,
   "metadata": {
    "collapsed": false
   },
   "outputs": [],
   "source": [
    "predictions[:10]\n"
   ]
  },
  {
   "cell_type": "code",
   "execution_count": null,
   "metadata": {
    "collapsed": false
   },
   "outputs": [],
   "source": [
    "val_labels[:10]"
   ]
  },
  {
   "cell_type": "code",
   "execution_count": null,
   "metadata": {
    "collapsed": true
   },
   "outputs": [],
   "source": []
  }
 ],
 "metadata": {
  "kernelspec": {
   "display_name": "Python [default]",
   "language": "python",
   "name": "python2"
  },
  "language_info": {
   "codemirror_mode": {
    "name": "ipython",
    "version": 2
   },
   "file_extension": ".py",
   "mimetype": "text/x-python",
   "name": "python",
   "nbconvert_exporter": "python",
   "pygments_lexer": "ipython2",
   "version": "2.7.13"
  }
 },
 "nbformat": 4,
 "nbformat_minor": 2
}
