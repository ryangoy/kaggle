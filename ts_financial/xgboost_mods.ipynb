{
 "cells": [
  {
   "cell_type": "code",
   "execution_count": 1,
   "metadata": {
    "collapsed": false
   },
   "outputs": [],
   "source": [
    "from kagglegym import make\n",
    "import numpy as np\n",
    "import pandas as pd\n",
    "import random\n",
    "import xgboost as xgb\n",
    "from sklearn import ensemble, linear_model, metrics\n",
    "import time"
   ]
  },
  {
   "cell_type": "code",
   "execution_count": 2,
   "metadata": {
    "collapsed": true
   },
   "outputs": [],
   "source": [
    "rnd = 0"
   ]
  },
  {
   "cell_type": "code",
   "execution_count": 3,
   "metadata": {
    "collapsed": false
   },
   "outputs": [
    {
     "name": "stdout",
     "output_type": "stream",
     "text": [
      "(806298, 111)\n"
     ]
    }
   ],
   "source": [
    "env = make()\n",
    "o = env.reset()\n",
    "train = o.train\n",
    "print(train.shape)\n",
    "d_mean= train.median(axis=0)\n",
    "train[\"nbnulls\"]=train.isnull().sum(axis=1)\n",
    "col=[x for x in train.columns if x not in ['id', 'timestamp', 'y']]"
   ]
  },
  {
   "cell_type": "code",
   "execution_count": 4,
   "metadata": {
    "collapsed": true
   },
   "outputs": [],
   "source": [
    "#keeping na information on some columns (best selected by the tree algorithms)\n",
    "add_nas_ft=True\n",
    "nas_cols=['technical_9', 'technical_0', 'technical_32', 'technical_16', 'technical_38', \n",
    "'technical_44', 'technical_20', 'technical_30', 'technical_13']\n",
    "#columns kept for evolution from one month to another (best selected by the tree algorithms)\n",
    "add_diff_ft=True\n",
    "diff_cols=['technical_22','technical_20', 'technical_30', 'technical_13', 'technical_34']"
   ]
  },
  {
   "cell_type": "code",
   "execution_count": 5,
   "metadata": {
    "collapsed": true
   },
   "outputs": [],
   "source": [
    "\n",
    "#homemade class used to infer randomly on the way the model learns\n",
    "class createLinearFeatures:\n",
    "    \n",
    "    def __init__(self, n_neighbours=1, max_elts=None, verbose=True, random_state=None):\n",
    "        self.rnd=random_state\n",
    "        self.n=n_neighbours\n",
    "        self.max_elts=max_elts\n",
    "        self.verbose=verbose\n",
    "        self.neighbours=[]\n",
    "        self.clfs=[]\n",
    "        \n",
    "    def fit(self,train,y):\n",
    "        if self.rnd!=None:\n",
    "            random.seed(self.rnd)\n",
    "        if self.max_elts==None:\n",
    "            self.max_elts=len(train.columns)\n",
    "        list_vars=list(train.columns)\n",
    "        random.shuffle(list_vars)\n",
    "        \n",
    "        lastscores=np.zeros(self.n)+1e15\n",
    "\n",
    "        for elt in list_vars[:self.n]:\n",
    "            self.neighbours.append([elt])\n",
    "        list_vars=list_vars[self.n:]\n",
    "        \n",
    "        for elt in list_vars:\n",
    "            indice=0\n",
    "            scores=[]\n",
    "            for elt2 in self.neighbours:\n",
    "                if len(elt2)<self.max_elts:\n",
    "                    clf=linear_model.LinearRegression(fit_intercept=False, normalize=True, copy_X=True, n_jobs=-1) \n",
    "                    clf.fit(train[elt2+[elt]], y)\n",
    "                    scores.append(metrics.mean_squared_error(y,clf.predict(train[elt2 + [elt]])))\n",
    "                    indice=indice+1\n",
    "                else:\n",
    "                    scores.append(lastscores[indice])\n",
    "                    indice=indice+1\n",
    "            gains=lastscores-scores\n",
    "            if gains.max()>0:\n",
    "                temp=gains.argmax()\n",
    "                lastscores[temp]=scores[temp]\n",
    "                self.neighbours[temp].append(elt)\n",
    "\n",
    "        indice=0\n",
    "        for elt in self.neighbours:\n",
    "            clf=linear_model.LinearRegression(fit_intercept=False, normalize=True, copy_X=True, n_jobs=-1) \n",
    "            clf.fit(train[elt], y)\n",
    "            self.clfs.append(clf)\n",
    "            if self.verbose:\n",
    "                print(indice, lastscores[indice], elt)\n",
    "            indice=indice+1\n",
    "                    \n",
    "    def transform(self, train):\n",
    "        indice=0\n",
    "        for elt in self.neighbours:\n",
    "            #this line generates a warning. Could be avoided by working and returning\n",
    "            #with a copy of train.\n",
    "            #kept this way for memory management\n",
    "            train['neighbour'+str(indice)]=self.clfs[indice].predict(train[elt])\n",
    "            indice=indice+1\n",
    "        return train\n",
    "    \n",
    "    def fit_transform(self, train, y):\n",
    "        self.fit(train, y)\n",
    "        return self.transform(train)"
   ]
  },
  {
   "cell_type": "code",
   "execution_count": 6,
   "metadata": {
    "collapsed": true
   },
   "outputs": [],
   "source": [
    "\n",
    "#a home-made class attempt to remove outliers by successive quantization on residuals\n",
    "class recurrent_linear_approx():\n",
    "    def __init__(self, quant=.999, limit_size_train=.9):\n",
    "        self.quant=quant\n",
    "        self.limit_size_train=limit_size_train\n",
    "        self.bestmodel=[]\n",
    "       \n",
    "    def fit(self, train, y):\n",
    "        internal_model=linear_model.Ridge(fit_intercept=False)\n",
    "        bestscore=1e15\n",
    "        better=True\n",
    "        indextrain=train.dropna().index\n",
    "        limitlen=len(train)*self.limit_size_train\n",
    "        while better:\n",
    "            internal_model.fit(train.ix[indextrain], y.ix[indextrain])\n",
    "            score=metrics.mean_squared_error(internal_model.predict(train.ix[indextrain]), y.ix[indextrain])\n",
    "            if score < bestscore:\n",
    "                bestscore=score\n",
    "                self.bestmodel=internal_model\n",
    "                residual=y.ix[indextrain]-internal_model.predict(train.ix[indextrain])\n",
    "                indextrain=residual[abs(residual)<=abs(residual).quantile(self.quant)].index\n",
    "                if len(indextrain)<limitlen:\n",
    "                    better=False\n",
    "            else:\n",
    "                better=False\n",
    "                self.bestmodel=internal_model\n",
    "\n",
    "    def predict(self, test):\n",
    "        return self.bestmodel.predict(test)"
   ]
  },
  {
   "cell_type": "code",
   "execution_count": 7,
   "metadata": {
    "collapsed": false
   },
   "outputs": [],
   "source": [
    "\n",
    "if add_nas_ft:\n",
    "    for elt in nas_cols:\n",
    "        train[elt + '_na'] = pd.isnull(train[elt]).apply(lambda x: 1 if x else 0)\n",
    "        #no need to keep columns with no information\n",
    "        if len(train[elt + '_na'].unique())==1:\n",
    "            print(\"removed:\", elt, '_na')\n",
    "            del train[elt + '_na']\n",
    "            nas_cols.remove(elt)"
   ]
  },
  {
   "cell_type": "code",
   "execution_count": 8,
   "metadata": {
    "collapsed": false
   },
   "outputs": [
    {
     "name": "stdout",
     "output_type": "stream",
     "text": [
      "(805548, 126)\n"
     ]
    }
   ],
   "source": [
    "if add_diff_ft:\n",
    "    train=train.sort_values(by=['id','timestamp'])\n",
    "    for elt in diff_cols:\n",
    "        #a quick way to obtain deltas from one month to another but it is false on the first\n",
    "        #month of each id\n",
    "        train[elt+\"_d\"]= train[elt].rolling(2).apply(lambda x:x[1]-x[0]).fillna(0)\n",
    "    #removing month 0 to reduce the impact of erroneous deltas\n",
    "    train=train[train.timestamp!=0]\n",
    "\n",
    "print(train.shape)\n",
    "cols=[x for x in train.columns if x not in ['id', 'timestamp', 'y']]"
   ]
  },
  {
   "cell_type": "code",
   "execution_count": 9,
   "metadata": {
    "collapsed": false
   },
   "outputs": [
    {
     "name": "stdout",
     "output_type": "stream",
     "text": [
      "('fitting linear model on ', 'technical_22')\n",
      "('fitting linear model on ', 'technical_20')\n",
      "('fitting linear model on ', 'technical_30_d')\n",
      "('fitting linear model on ', 'technical_20_d')\n",
      "('fitting linear model on ', 'technical_30')\n",
      "('fitting linear model on ', 'technical_13')\n",
      "('fitting linear model on ', 'technical_34')\n"
     ]
    }
   ],
   "source": [
    "\n",
    "#generation of linear models\n",
    "cols2fit=['technical_22','technical_20', 'technical_30_d', 'technical_20_d', 'technical_30', \n",
    "'technical_13', 'technical_34']\n",
    "models=[]\n",
    "columns=[]\n",
    "residuals=[]\n",
    "for elt in cols2fit:\n",
    "    print(\"fitting linear model on \", elt)\n",
    "    model=recurrent_linear_approx(quant=.99, limit_size_train=.9)\n",
    "    model.fit(train.loc[:,[elt]],train.loc[:, 'y'])\n",
    "    models.append(model)\n",
    "    columns.append([elt])\n",
    "    residuals.append(abs(model.predict(train[[elt]].fillna(d_mean))-train.y))"
   ]
  },
  {
   "cell_type": "code",
   "execution_count": 10,
   "metadata": {
    "collapsed": false
   },
   "outputs": [
    {
     "name": "stdout",
     "output_type": "stream",
     "text": [
      "adding new features\n",
      "(0, 0.00037784251617267728, [u'fundamental_1', u'fundamental_9'])\n",
      "(1, 0.00037784251617267728, [u'technical_31', u'fundamental_14'])\n",
      "(2, 0.00037783913025333236, [u'fundamental_25', 'technical_22_d'])\n",
      "(3, 0.00037783940206281841, [u'fundamental_22', u'fundamental_16'])\n",
      "(4, 0.00037779127560153377, [u'technical_38', 'technical_30_d'])\n",
      "(5, 0.00037782202707603574, [u'technical_9', u'fundamental_55'])\n",
      "(6, 0.0003778045647777617, ['technical_38_na', u'fundamental_26'])\n",
      "(7, 0.00037783448351547122, ['technical_13_na', u'fundamental_48'])\n",
      "(8, 0.00037784266169182956, [u'technical_24', u'technical_44'])\n",
      "(9, 0.0003778428363148123, [u'fundamental_20', u'fundamental_49'])\n",
      "(10, 0.00037783599691465497, [u'technical_17', u'technical_1'])\n",
      "(11, 0.00037784263258799911, [u'fundamental_3', u'technical_33'])\n",
      "(12, 0.00037784242886118591, [u'fundamental_12', u'fundamental_34'])\n",
      "(13, 0.00037778879050165415, [u'technical_22', u'fundamental_33'])\n",
      "(14, 0.00037783512379974127, [u'fundamental_8', u'fundamental_37'])\n",
      "(15, 0.00037780421553179622, ['technical_9_na', u'technical_16'])\n",
      "(16, 0.00037781088030897081, [u'technical_35', u'technical_11'])\n",
      "(17, 0.00037784050800837576, [u'derived_3', u'derived_4'])\n",
      "(18, 0.00037783439210064803, ['technical_13_d', 'technical_34_d'])\n",
      "(19, 0.00037782287108711898, [u'fundamental_60', u'technical_6'])\n",
      "(20, 0.00037783445441164076, [u'technical_14', 'technical_44_na'])\n",
      "(21, 0.00037783681182190776, [u'fundamental_45', u'technical_43'])\n",
      "(22, 0.0003778410900849849, [u'technical_10', u'fundamental_6'])\n",
      "(23, 0.0003778298560064286, [u'fundamental_7', u'fundamental_11'])\n",
      "(24, 0.00037780540878884494, [u'fundamental_35', 'technical_16_na'])\n",
      "(25, 0.00037784167216159403, [u'derived_2', u'fundamental_17'])\n",
      "(26, 0.00037784071173518896, [u'fundamental_51', u'fundamental_57'])\n",
      "(27, 0.00037778870319016278, [u'fundamental_53', u'technical_12'])\n",
      "(28, 0.000377833959646523, [u'fundamental_24', u'technical_42'])\n",
      "(29, 0.00037784251617267728, ['technical_30_na', u'fundamental_61'])\n"
     ]
    },
    {
     "name": "stderr",
     "output_type": "stream",
     "text": [
      "/home/ryan/Libraries/anaconda2/lib/python2.7/site-packages/ipykernel/__main__.py:60: SettingWithCopyWarning: \n",
      "A value is trying to be set on a copy of a slice from a DataFrame.\n",
      "Try using .loc[row_indexer,col_indexer] = value instead\n",
      "\n",
      "See the caveats in the documentation: http://pandas.pydata.org/pandas-docs/stable/indexing.html#indexing-view-versus-copy\n"
     ]
    }
   ],
   "source": [
    "train=train.fillna(d_mean)\n",
    "    \n",
    "#adding all trees generated by a tree regressor\n",
    "print(\"adding new features\")\n",
    "featureexpander=createLinearFeatures(n_neighbours=30, max_elts=2, verbose=True, random_state=rnd)\n",
    "index2use=train[abs(train.y)<0.086].index\n",
    "featureexpander.fit(train.ix[index2use,cols],train.ix[index2use,'y'])\n",
    "trainer=featureexpander.transform(train[cols])\n",
    "treecols=trainer.columns"
   ]
  },
  {
   "cell_type": "code",
   "execution_count": 11,
   "metadata": {
    "collapsed": false
   },
   "outputs": [
    {
     "name": "stdout",
     "output_type": "stream",
     "text": [
      "training trees\n"
     ]
    }
   ],
   "source": [
    "param = {\n",
    "#          'bst:max_depth':2, \n",
    "#          'bst:eta':1, \n",
    "         'silent':0, # 0 => verbose \n",
    "         'objective':'reg:linear',\n",
    "         'nthread':8,\n",
    "         #'eval_metric':'rmse',\n",
    "        }\n",
    "\n",
    "print(\"training trees\")\n",
    "dmatrix = xgb.DMatrix(trainer, label=train.y)\n",
    "#model = ensemble.ExtraTreesRegressor(n_estimators=100, max_depth=4, n_jobs=-1, random_state=rnd, verbose=0)\n",
    "#model.fit(trainer,train.y)\n",
    "model = xgb.train(param, dmatrix, num_boost_round=10)\n",
    "#print(pd.DataFrame(model.feature_importances_,index=treecols).sort_values(by=[0]).tail(30))\n"
   ]
  },
  {
   "cell_type": "code",
   "execution_count": null,
   "metadata": {
    "collapsed": true
   },
   "outputs": [],
   "source": []
  },
  {
   "cell_type": "code",
   "execution_count": 12,
   "metadata": {
    "collapsed": false
   },
   "outputs": [
    {
     "name": "stdout",
     "output_type": "stream",
     "text": [
      "Index([             u'id',       u'timestamp',       u'derived_0',\n",
      "             u'derived_1',       u'derived_2',       u'derived_3',\n",
      "             u'derived_4',   u'fundamental_0',   u'fundamental_1',\n",
      "         u'fundamental_2',\n",
      "       ...\n",
      "       u'technical_38_na', u'technical_44_na', u'technical_20_na',\n",
      "       u'technical_30_na', u'technical_13_na',  u'technical_22_d',\n",
      "        u'technical_20_d',  u'technical_30_d',  u'technical_13_d',\n",
      "        u'technical_34_d'],\n",
      "      dtype='object', length=126)\n"
     ]
    }
   ],
   "source": [
    "print train.columns"
   ]
  },
  {
   "cell_type": "code",
   "execution_count": 13,
   "metadata": {
    "collapsed": false
   },
   "outputs": [
    {
     "name": "stdout",
     "output_type": "stream",
     "text": [
      "selecting best models:\n",
      "0    288446\n",
      "1    151625\n",
      "2    108203\n",
      "6     86043\n",
      "3     77312\n",
      "4     52441\n",
      "5     41478\n",
      "dtype: int64\n"
     ]
    }
   ],
   "source": [
    "#model selection : create a new target selecting models with lowest asolute residual for each line\n",
    "#the objective at this step is to keep only the few best elements which should\n",
    "#lead to a better generalization\n",
    "num_to_keep=10\n",
    "targetselector=np.array(residuals).T\n",
    "targetselector=np.argmin(targetselector, axis=1)\n",
    "print(\"selecting best models:\")\n",
    "print(pd.Series(targetselector).value_counts().head(num_to_keep))\n",
    "\n",
    "tokeep=pd.Series(targetselector).value_counts().head(num_to_keep).index\n",
    "tokeepmodels=[]\n",
    "tokeepcolumns=[]\n",
    "tokeepresiduals=[]\n",
    "for elt in tokeep:\n",
    "    tokeepmodels.append(models[elt])\n",
    "    tokeepcolumns.append(columns[elt])\n",
    "    tokeepresiduals.append(residuals[elt])"
   ]
  },
  {
   "cell_type": "code",
   "execution_count": 14,
   "metadata": {
    "collapsed": true
   },
   "outputs": [],
   "source": [
    "\n",
    "#creating a new target for a model in charge of predicting which model is best for the current line\n",
    "targetselector=np.array(tokeepresiduals).T\n",
    "targetselector=np.argmin(targetselector, axis=1)"
   ]
  },
  {
   "cell_type": "code",
   "execution_count": 15,
   "metadata": {
    "collapsed": false
   },
   "outputs": [
    {
     "name": "stdout",
     "output_type": "stream",
     "text": [
      "training selection model\n",
      "                       0\n",
      "technical_14    0.005686\n",
      "technical_12    0.005951\n",
      "technical_27    0.006126\n",
      "technical_29    0.006325\n",
      "technical_39    0.007406\n",
      "technical_6     0.007577\n",
      "fundamental_21  0.009345\n",
      "fundamental_0   0.009535\n",
      "neighbour18     0.010082\n",
      "technical_32    0.010626\n",
      "neighbour10     0.010674\n",
      "fundamental_59  0.011042\n",
      "technical_37    0.011807\n",
      "neighbour4      0.012927\n",
      "nbnulls         0.013760\n",
      "technical_38    0.014425\n",
      "technical_17    0.018520\n",
      "technical_11    0.019415\n",
      "technical_2     0.020817\n",
      "technical_13_d  0.022886\n",
      "technical_20_d  0.023922\n",
      "technical_7     0.026224\n",
      "technical_30_d  0.026827\n",
      "technical_40    0.034245\n",
      "technical_30    0.041481\n",
      "technical_13    0.046331\n",
      "technical_20    0.046564\n",
      "technical_34    0.121276\n",
      "neighbour13     0.126897\n",
      "technical_22    0.214560\n"
     ]
    }
   ],
   "source": [
    "print(\"training selection model\")\n",
    "modelselector = ensemble.ExtraTreesClassifier(n_estimators=100, max_depth=4, n_jobs=-1, random_state=rnd, verbose=0)\n",
    "modelselector.fit(trainer, targetselector)\n",
    "print(pd.DataFrame(modelselector.feature_importances_,index=treecols).sort_values(by=[0]).tail(30))\n",
    "\n",
    "lastvalues=train[train.timestamp==905][['id']+diff_cols].copy()"
   ]
  },
  {
   "cell_type": "code",
   "execution_count": null,
   "metadata": {
    "collapsed": true
   },
   "outputs": [],
   "source": []
  }
 ],
 "metadata": {
  "kernelspec": {
   "display_name": "Python [default]",
   "language": "python",
   "name": "python2"
  },
  "language_info": {
   "codemirror_mode": {
    "name": "ipython",
    "version": 2
   },
   "file_extension": ".py",
   "mimetype": "text/x-python",
   "name": "python",
   "nbconvert_exporter": "python",
   "pygments_lexer": "ipython2",
   "version": "2.7.13"
  }
 },
 "nbformat": 4,
 "nbformat_minor": 2
}
