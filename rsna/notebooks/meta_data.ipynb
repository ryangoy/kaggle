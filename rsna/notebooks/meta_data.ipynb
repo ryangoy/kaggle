{
 "cells": [
  {
   "cell_type": "code",
   "execution_count": 1,
   "metadata": {},
   "outputs": [],
   "source": [
    "from functools import partial\n",
    "from collections import defaultdict\n",
    "import pydicom\n",
    "import os\n",
    "import glob\n",
    "import numpy as np\n",
    "import pandas as pd\n",
    "import matplotlib.pyplot as plt\n",
    "import matplotlib.patches as patches\n",
    "import seaborn as sns\n",
    "sns.set_style('whitegrid')\n",
    "%matplotlib inline\n",
    "\n",
    "np.warnings.filterwarnings('ignore')"
   ]
  },
  {
   "cell_type": "code",
   "execution_count": 2,
   "metadata": {},
   "outputs": [],
   "source": [
    "labels = pd.read_csv('/home/ryan/cs/datasets/rsna/stage_1_train_labels.csv')\n",
    "details = pd.read_csv('/home/ryan/cs/datasets/rsna/stage_1_detailed_class_info.csv')\n",
    "# duplicates in details just have the same class so can be safely dropped\n",
    "details = details.drop_duplicates('patientId').reset_index(drop=True)\n",
    "labels_w_class = labels.merge(details, how='inner', on='patientId')"
   ]
  },
  {
   "cell_type": "code",
   "execution_count": 4,
   "metadata": {},
   "outputs": [
    {
     "data": {
      "text/html": [
       "<div>\n",
       "<style scoped>\n",
       "    .dataframe tbody tr th:only-of-type {\n",
       "        vertical-align: middle;\n",
       "    }\n",
       "\n",
       "    .dataframe tbody tr th {\n",
       "        vertical-align: top;\n",
       "    }\n",
       "\n",
       "    .dataframe thead th {\n",
       "        text-align: right;\n",
       "    }\n",
       "</style>\n",
       "<table border=\"1\" class=\"dataframe\">\n",
       "  <thead>\n",
       "    <tr style=\"text-align: right;\">\n",
       "      <th></th>\n",
       "      <th>patientId</th>\n",
       "      <th>class</th>\n",
       "    </tr>\n",
       "  </thead>\n",
       "  <tbody>\n",
       "    <tr>\n",
       "      <th>0</th>\n",
       "      <td>0004cfab-14fd-4e49-80ba-63a80b6bddd6</td>\n",
       "      <td>No Lung Opacity / Not Normal</td>\n",
       "    </tr>\n",
       "    <tr>\n",
       "      <th>1</th>\n",
       "      <td>00313ee0-9eaa-42f4-b0ab-c148ed3241cd</td>\n",
       "      <td>No Lung Opacity / Not Normal</td>\n",
       "    </tr>\n",
       "    <tr>\n",
       "      <th>2</th>\n",
       "      <td>00322d4d-1c29-4943-afc9-b6754be640eb</td>\n",
       "      <td>No Lung Opacity / Not Normal</td>\n",
       "    </tr>\n",
       "    <tr>\n",
       "      <th>3</th>\n",
       "      <td>003d8fa0-6bf1-40ed-b54c-ac657f8495c5</td>\n",
       "      <td>Normal</td>\n",
       "    </tr>\n",
       "    <tr>\n",
       "      <th>4</th>\n",
       "      <td>00436515-870c-4b36-a041-de91049b9ab4</td>\n",
       "      <td>Lung Opacity</td>\n",
       "    </tr>\n",
       "  </tbody>\n",
       "</table>\n",
       "</div>"
      ],
      "text/plain": [
       "                              patientId                         class\n",
       "0  0004cfab-14fd-4e49-80ba-63a80b6bddd6  No Lung Opacity / Not Normal\n",
       "1  00313ee0-9eaa-42f4-b0ab-c148ed3241cd  No Lung Opacity / Not Normal\n",
       "2  00322d4d-1c29-4943-afc9-b6754be640eb  No Lung Opacity / Not Normal\n",
       "3  003d8fa0-6bf1-40ed-b54c-ac657f8495c5                        Normal\n",
       "4  00436515-870c-4b36-a041-de91049b9ab4                  Lung Opacity"
      ]
     },
     "execution_count": 4,
     "metadata": {},
     "output_type": "execute_result"
    }
   ],
   "source": [
    "details.head()"
   ]
  },
  {
   "cell_type": "code",
   "execution_count": 3,
   "metadata": {},
   "outputs": [],
   "source": [
    "# get lists of all train/test dicom filepaths\n",
    "train_dcm_fps = glob.glob('/home/ryan/cs/datasets/rsna/stage_1_train_images/*.dcm')\n",
    "test_dcm_fps = glob.glob('/home/ryan/cs/datasets/rsna/stage_1_test_images/*.dcm')\n",
    "\n",
    "# read each file into a list (using stop_before_pixels to avoid reading the image for speed and memory savings)\n",
    "train_dcms = [pydicom.read_file(x, stop_before_pixels=True) for x in train_dcm_fps]\n",
    "test_dcms = [pydicom.read_file(x, stop_before_pixels=True) for x in test_dcm_fps]"
   ]
  },
  {
   "cell_type": "code",
   "execution_count": 4,
   "metadata": {},
   "outputs": [],
   "source": [
    "def parse_dcm_metadata(dcm):\n",
    "    unpacked_data = {}\n",
    "    group_elem_to_keywords = {}\n",
    "    # iterating here to force conversion from lazy RawDataElement to DataElement\n",
    "    for d in dcm:\n",
    "        pass\n",
    "    # keys are pydicom.tag.BaseTag, values are pydicom.dataelem.DataElement\n",
    "    for tag, elem in dcm.items():\n",
    "        tag_group = tag.group\n",
    "        tag_elem = tag.elem\n",
    "        keyword = elem.keyword\n",
    "        group_elem_to_keywords[(tag_group, tag_elem)] = keyword\n",
    "        value = elem.value\n",
    "        unpacked_data[keyword] = value\n",
    "    return unpacked_data, group_elem_to_keywords\n",
    "\n",
    "train_meta_dicts, tag_to_keyword_train = zip(*[parse_dcm_metadata(x) for x in train_dcms])\n",
    "test_meta_dicts, tag_to_keyword_test = zip(*[parse_dcm_metadata(x) for x in test_dcms])"
   ]
  },
  {
   "cell_type": "code",
   "execution_count": 5,
   "metadata": {},
   "outputs": [
    {
     "data": {
      "text/plain": [
       "{(8, 5): 'SpecificCharacterSet',\n",
       " (8, 22): 'SOPClassUID',\n",
       " (8, 24): 'SOPInstanceUID',\n",
       " (8, 32): 'StudyDate',\n",
       " (8, 48): 'StudyTime',\n",
       " (8, 80): 'AccessionNumber',\n",
       " (8, 96): 'Modality',\n",
       " (8, 100): 'ConversionType',\n",
       " (8, 144): 'ReferringPhysicianName',\n",
       " (8, 4158): 'SeriesDescription',\n",
       " (16, 16): 'PatientName',\n",
       " (16, 32): 'PatientID',\n",
       " (16, 48): 'PatientBirthDate',\n",
       " (16, 64): 'PatientSex',\n",
       " (16, 4112): 'PatientAge',\n",
       " (24, 21): 'BodyPartExamined',\n",
       " (24, 20737): 'ViewPosition',\n",
       " (32, 13): 'StudyInstanceUID',\n",
       " (32, 14): 'SeriesInstanceUID',\n",
       " (32, 16): 'StudyID',\n",
       " (32, 17): 'SeriesNumber',\n",
       " (32, 19): 'InstanceNumber',\n",
       " (32, 32): 'PatientOrientation',\n",
       " (40, 2): 'SamplesPerPixel',\n",
       " (40, 4): 'PhotometricInterpretation',\n",
       " (40, 16): 'Rows',\n",
       " (40, 17): 'Columns',\n",
       " (40, 48): 'PixelSpacing',\n",
       " (40, 256): 'BitsAllocated',\n",
       " (40, 257): 'BitsStored',\n",
       " (40, 258): 'HighBit',\n",
       " (40, 259): 'PixelRepresentation',\n",
       " (40, 8464): 'LossyImageCompression',\n",
       " (40, 8468): 'LossyImageCompressionMethod'}"
      ]
     },
     "execution_count": 5,
     "metadata": {},
     "output_type": "execute_result"
    }
   ],
   "source": [
    "# join all the dicts\n",
    "unified_tag_to_key_train = {k:v for dict_ in tag_to_keyword_train for k,v in dict_.items()}\n",
    "unified_tag_to_key_test = {k:v for dict_ in tag_to_keyword_test for k,v in dict_.items()}\n",
    "\n",
    "# quick check to make sure there are no different keys between test/train\n",
    "assert len(set(unified_tag_to_key_test.keys()).symmetric_difference(set(unified_tag_to_key_train.keys()))) == 0\n",
    "\n",
    "tag_to_key = {**unified_tag_to_key_test, **unified_tag_to_key_train}\n",
    "tag_to_key"
   ]
  },
  {
   "cell_type": "code",
   "execution_count": 6,
   "metadata": {},
   "outputs": [],
   "source": [
    "# using from_records here since some values in the dicts will be iterables and some are constants\n",
    "train_df = pd.DataFrame.from_records(data=train_meta_dicts)\n",
    "test_df = pd.DataFrame.from_records(data=test_meta_dicts)\n",
    "train_df['dataset'] = 'train'\n",
    "test_df['dataset'] = 'test'\n",
    "df = pd.concat([train_df, test_df])"
   ]
  },
  {
   "cell_type": "code",
   "execution_count": 7,
   "metadata": {},
   "outputs": [],
   "source": [
    "# separating PixelSpacing list to single values\n",
    "df['PixelSpacing_x'] = df['PixelSpacing'].apply(lambda x: x[0])\n",
    "df['PixelSpacing_y'] = df['PixelSpacing'].apply(lambda x: x[1])\n",
    "df = df.drop(['PixelSpacing'], axis='columns')\n",
    "\n",
    "# x and y are always the same\n",
    "assert sum(df['PixelSpacing_x'] != df['PixelSpacing_y']) == 0"
   ]
  },
  {
   "cell_type": "code",
   "execution_count": 8,
   "metadata": {},
   "outputs": [
    {
     "data": {
      "text/plain": [
       "{'view: AP', 'view: PA'}"
      ]
     },
     "execution_count": 8,
     "metadata": {},
     "output_type": "execute_result"
    }
   ],
   "source": [
    "# ReferringPhysicianName appears to just be empty strings\n",
    "assert sum(df['ReferringPhysicianName'] != '') == 0\n",
    "\n",
    "# SeriesDescription appears to be 'view: {}'.format(ViewPosition)\n",
    "set(df['SeriesDescription'].unique())\n",
    "\n",
    "# so these two columns don't have any useful info and can be safely dropped"
   ]
  },
  {
   "cell_type": "code",
   "execution_count": 9,
   "metadata": {},
   "outputs": [
    {
     "data": {
      "text/plain": [
       "AccessionNumber                    1\n",
       "BitsAllocated                      1\n",
       "BitsStored                         1\n",
       "BodyPartExamined                   1\n",
       "Columns                            1\n",
       "ConversionType                     1\n",
       "HighBit                            1\n",
       "InstanceNumber                     1\n",
       "LossyImageCompression              1\n",
       "LossyImageCompressionMethod        1\n",
       "Modality                           1\n",
       "PatientAge                        97\n",
       "PatientBirthDate                   1\n",
       "PatientID                      26684\n",
       "PatientName                    26684\n",
       "PatientOrientation                 1\n",
       "PatientSex                         2\n",
       "PhotometricInterpretation          1\n",
       "PixelRepresentation                1\n",
       "ReferringPhysicianName          8714\n",
       "Rows                               1\n",
       "SOPClassUID                        1\n",
       "SOPInstanceUID                 26684\n",
       "SamplesPerPixel                    1\n",
       "SeriesDescription                  2\n",
       "SeriesInstanceUID              26684\n",
       "SeriesNumber                       1\n",
       "SpecificCharacterSet               1\n",
       "StudyDate                          1\n",
       "StudyID                            1\n",
       "StudyInstanceUID               26684\n",
       "StudyTime                          1\n",
       "ViewPosition                       2\n",
       "dataset                            2\n",
       "PixelSpacing_x                    18\n",
       "PixelSpacing_y                    18\n",
       "dtype: int64"
      ]
     },
     "execution_count": 9,
     "metadata": {},
     "output_type": "execute_result"
    }
   ],
   "source": [
    "nunique_all = df.aggregate('nunique')\n",
    "nunique_all"
   ]
  },
  {
   "cell_type": "code",
   "execution_count": 10,
   "metadata": {},
   "outputs": [],
   "source": [
    "# drop constant cols and other two from above\n",
    "df = df.drop(nunique_all[nunique_all == 1].index.tolist() + ['ReferringPhysicianName', 'SeriesDescription'], axis='columns')\n",
    "\n",
    "# now that we have a clean metadata dataframe we can merge back to our initial tabular data with target and class info\n",
    "df = df.merge(labels_w_class, how='left', left_on='PatientID', right_on='patientId')\n",
    "\n",
    "df['PatientAge'] = df['PatientAge'].astype(int)"
   ]
  },
  {
   "cell_type": "code",
   "execution_count": 11,
   "metadata": {},
   "outputs": [],
   "source": [
    "# df now has multiple rows for some patients (those with multiple bounding boxes in label_w_class)\n",
    "# so creating one with no duplicates for patients\n",
    "df_deduped = df.drop_duplicates('PatientID', keep='first')"
   ]
  },
  {
   "cell_type": "code",
   "execution_count": 12,
   "metadata": {},
   "outputs": [
    {
     "data": {
      "text/html": [
       "<div>\n",
       "<style scoped>\n",
       "    .dataframe tbody tr th:only-of-type {\n",
       "        vertical-align: middle;\n",
       "    }\n",
       "\n",
       "    .dataframe tbody tr th {\n",
       "        vertical-align: top;\n",
       "    }\n",
       "\n",
       "    .dataframe thead th {\n",
       "        text-align: right;\n",
       "    }\n",
       "</style>\n",
       "<table border=\"1\" class=\"dataframe\">\n",
       "  <thead>\n",
       "    <tr style=\"text-align: right;\">\n",
       "      <th></th>\n",
       "      <th>PatientAge</th>\n",
       "      <th>PatientID</th>\n",
       "      <th>PatientName</th>\n",
       "      <th>PatientSex</th>\n",
       "      <th>SOPInstanceUID</th>\n",
       "      <th>SeriesInstanceUID</th>\n",
       "      <th>StudyInstanceUID</th>\n",
       "      <th>ViewPosition</th>\n",
       "      <th>dataset</th>\n",
       "      <th>PixelSpacing_x</th>\n",
       "      <th>PixelSpacing_y</th>\n",
       "      <th>patientId</th>\n",
       "      <th>x</th>\n",
       "      <th>y</th>\n",
       "      <th>width</th>\n",
       "      <th>height</th>\n",
       "      <th>Target</th>\n",
       "      <th>class</th>\n",
       "    </tr>\n",
       "  </thead>\n",
       "  <tbody>\n",
       "    <tr>\n",
       "      <th>0</th>\n",
       "      <td>38</td>\n",
       "      <td>5eaceedc-ba7d-49aa-91f4-2029dfddb831</td>\n",
       "      <td>5eaceedc-ba7d-49aa-91f4-2029dfddb831</td>\n",
       "      <td>F</td>\n",
       "      <td>1.2.276.0.7230010.3.1.4.8323329.17926.15178744...</td>\n",
       "      <td>1.2.276.0.7230010.3.1.3.8323329.17926.15178744...</td>\n",
       "      <td>1.2.276.0.7230010.3.1.2.8323329.17926.15178744...</td>\n",
       "      <td>AP</td>\n",
       "      <td>train</td>\n",
       "      <td>0.168</td>\n",
       "      <td>0.168</td>\n",
       "      <td>5eaceedc-ba7d-49aa-91f4-2029dfddb831</td>\n",
       "      <td>NaN</td>\n",
       "      <td>NaN</td>\n",
       "      <td>NaN</td>\n",
       "      <td>NaN</td>\n",
       "      <td>0.0</td>\n",
       "      <td>Normal</td>\n",
       "    </tr>\n",
       "    <tr>\n",
       "      <th>1</th>\n",
       "      <td>23</td>\n",
       "      <td>daeccecd-b911-4da9-b484-c03057e7e883</td>\n",
       "      <td>daeccecd-b911-4da9-b484-c03057e7e883</td>\n",
       "      <td>M</td>\n",
       "      <td>1.2.276.0.7230010.3.1.4.8323329.27941.15178744...</td>\n",
       "      <td>1.2.276.0.7230010.3.1.3.8323329.27941.15178744...</td>\n",
       "      <td>1.2.276.0.7230010.3.1.2.8323329.27941.15178744...</td>\n",
       "      <td>PA</td>\n",
       "      <td>train</td>\n",
       "      <td>0.143</td>\n",
       "      <td>0.143</td>\n",
       "      <td>daeccecd-b911-4da9-b484-c03057e7e883</td>\n",
       "      <td>NaN</td>\n",
       "      <td>NaN</td>\n",
       "      <td>NaN</td>\n",
       "      <td>NaN</td>\n",
       "      <td>0.0</td>\n",
       "      <td>No Lung Opacity / Not Normal</td>\n",
       "    </tr>\n",
       "    <tr>\n",
       "      <th>2</th>\n",
       "      <td>40</td>\n",
       "      <td>c57a1cc3-5122-4c6d-a022-743f96e9332f</td>\n",
       "      <td>c57a1cc3-5122-4c6d-a022-743f96e9332f</td>\n",
       "      <td>M</td>\n",
       "      <td>1.2.276.0.7230010.3.1.4.8323329.5685.151787431...</td>\n",
       "      <td>1.2.276.0.7230010.3.1.3.8323329.5685.151787431...</td>\n",
       "      <td>1.2.276.0.7230010.3.1.2.8323329.5685.151787431...</td>\n",
       "      <td>AP</td>\n",
       "      <td>train</td>\n",
       "      <td>0.139</td>\n",
       "      <td>0.139</td>\n",
       "      <td>c57a1cc3-5122-4c6d-a022-743f96e9332f</td>\n",
       "      <td>NaN</td>\n",
       "      <td>NaN</td>\n",
       "      <td>NaN</td>\n",
       "      <td>NaN</td>\n",
       "      <td>0.0</td>\n",
       "      <td>No Lung Opacity / Not Normal</td>\n",
       "    </tr>\n",
       "    <tr>\n",
       "      <th>3</th>\n",
       "      <td>79</td>\n",
       "      <td>eb14c72c-7645-4e79-bfc9-6eba7e2d6dbe</td>\n",
       "      <td>eb14c72c-7645-4e79-bfc9-6eba7e2d6dbe</td>\n",
       "      <td>M</td>\n",
       "      <td>1.2.276.0.7230010.3.1.4.8323329.2254.151787429...</td>\n",
       "      <td>1.2.276.0.7230010.3.1.3.8323329.2254.151787429...</td>\n",
       "      <td>1.2.276.0.7230010.3.1.2.8323329.2254.151787429...</td>\n",
       "      <td>PA</td>\n",
       "      <td>train</td>\n",
       "      <td>0.171</td>\n",
       "      <td>0.171</td>\n",
       "      <td>eb14c72c-7645-4e79-bfc9-6eba7e2d6dbe</td>\n",
       "      <td>NaN</td>\n",
       "      <td>NaN</td>\n",
       "      <td>NaN</td>\n",
       "      <td>NaN</td>\n",
       "      <td>0.0</td>\n",
       "      <td>No Lung Opacity / Not Normal</td>\n",
       "    </tr>\n",
       "    <tr>\n",
       "      <th>4</th>\n",
       "      <td>61</td>\n",
       "      <td>163b3240-2726-45f0-9054-9119bab7fd88</td>\n",
       "      <td>163b3240-2726-45f0-9054-9119bab7fd88</td>\n",
       "      <td>F</td>\n",
       "      <td>1.2.276.0.7230010.3.1.4.8323329.13360.15178743...</td>\n",
       "      <td>1.2.276.0.7230010.3.1.3.8323329.13360.15178743...</td>\n",
       "      <td>1.2.276.0.7230010.3.1.2.8323329.13360.15178743...</td>\n",
       "      <td>PA</td>\n",
       "      <td>train</td>\n",
       "      <td>0.171</td>\n",
       "      <td>0.171</td>\n",
       "      <td>163b3240-2726-45f0-9054-9119bab7fd88</td>\n",
       "      <td>NaN</td>\n",
       "      <td>NaN</td>\n",
       "      <td>NaN</td>\n",
       "      <td>NaN</td>\n",
       "      <td>0.0</td>\n",
       "      <td>Normal</td>\n",
       "    </tr>\n",
       "  </tbody>\n",
       "</table>\n",
       "</div>"
      ],
      "text/plain": [
       "   PatientAge                             PatientID  \\\n",
       "0          38  5eaceedc-ba7d-49aa-91f4-2029dfddb831   \n",
       "1          23  daeccecd-b911-4da9-b484-c03057e7e883   \n",
       "2          40  c57a1cc3-5122-4c6d-a022-743f96e9332f   \n",
       "3          79  eb14c72c-7645-4e79-bfc9-6eba7e2d6dbe   \n",
       "4          61  163b3240-2726-45f0-9054-9119bab7fd88   \n",
       "\n",
       "                            PatientName PatientSex  \\\n",
       "0  5eaceedc-ba7d-49aa-91f4-2029dfddb831          F   \n",
       "1  daeccecd-b911-4da9-b484-c03057e7e883          M   \n",
       "2  c57a1cc3-5122-4c6d-a022-743f96e9332f          M   \n",
       "3  eb14c72c-7645-4e79-bfc9-6eba7e2d6dbe          M   \n",
       "4  163b3240-2726-45f0-9054-9119bab7fd88          F   \n",
       "\n",
       "                                      SOPInstanceUID  \\\n",
       "0  1.2.276.0.7230010.3.1.4.8323329.17926.15178744...   \n",
       "1  1.2.276.0.7230010.3.1.4.8323329.27941.15178744...   \n",
       "2  1.2.276.0.7230010.3.1.4.8323329.5685.151787431...   \n",
       "3  1.2.276.0.7230010.3.1.4.8323329.2254.151787429...   \n",
       "4  1.2.276.0.7230010.3.1.4.8323329.13360.15178743...   \n",
       "\n",
       "                                   SeriesInstanceUID  \\\n",
       "0  1.2.276.0.7230010.3.1.3.8323329.17926.15178744...   \n",
       "1  1.2.276.0.7230010.3.1.3.8323329.27941.15178744...   \n",
       "2  1.2.276.0.7230010.3.1.3.8323329.5685.151787431...   \n",
       "3  1.2.276.0.7230010.3.1.3.8323329.2254.151787429...   \n",
       "4  1.2.276.0.7230010.3.1.3.8323329.13360.15178743...   \n",
       "\n",
       "                                    StudyInstanceUID ViewPosition dataset  \\\n",
       "0  1.2.276.0.7230010.3.1.2.8323329.17926.15178744...           AP   train   \n",
       "1  1.2.276.0.7230010.3.1.2.8323329.27941.15178744...           PA   train   \n",
       "2  1.2.276.0.7230010.3.1.2.8323329.5685.151787431...           AP   train   \n",
       "3  1.2.276.0.7230010.3.1.2.8323329.2254.151787429...           PA   train   \n",
       "4  1.2.276.0.7230010.3.1.2.8323329.13360.15178743...           PA   train   \n",
       "\n",
       "   PixelSpacing_x  PixelSpacing_y                             patientId   x  \\\n",
       "0           0.168           0.168  5eaceedc-ba7d-49aa-91f4-2029dfddb831 NaN   \n",
       "1           0.143           0.143  daeccecd-b911-4da9-b484-c03057e7e883 NaN   \n",
       "2           0.139           0.139  c57a1cc3-5122-4c6d-a022-743f96e9332f NaN   \n",
       "3           0.171           0.171  eb14c72c-7645-4e79-bfc9-6eba7e2d6dbe NaN   \n",
       "4           0.171           0.171  163b3240-2726-45f0-9054-9119bab7fd88 NaN   \n",
       "\n",
       "    y  width  height  Target                         class  \n",
       "0 NaN    NaN     NaN     0.0                        Normal  \n",
       "1 NaN    NaN     NaN     0.0  No Lung Opacity / Not Normal  \n",
       "2 NaN    NaN     NaN     0.0  No Lung Opacity / Not Normal  \n",
       "3 NaN    NaN     NaN     0.0  No Lung Opacity / Not Normal  \n",
       "4 NaN    NaN     NaN     0.0                        Normal  "
      ]
     },
     "execution_count": 12,
     "metadata": {},
     "output_type": "execute_result"
    }
   ],
   "source": [
    "df.head()"
   ]
  },
  {
   "cell_type": "code",
   "execution_count": 13,
   "metadata": {
    "scrolled": true
   },
   "outputs": [],
   "source": [
    "df_features = df[['PatientAge', 'PatientSex', 'ViewPosition', 'dataset', 'PixelSpacing_x', 'x', 'y', 'width', 'height', 'Target', 'class']]"
   ]
  },
  {
   "cell_type": "code",
   "execution_count": 33,
   "metadata": {},
   "outputs": [
    {
     "data": {
      "text/html": [
       "<div>\n",
       "<style scoped>\n",
       "    .dataframe tbody tr th:only-of-type {\n",
       "        vertical-align: middle;\n",
       "    }\n",
       "\n",
       "    .dataframe tbody tr th {\n",
       "        vertical-align: top;\n",
       "    }\n",
       "\n",
       "    .dataframe thead th {\n",
       "        text-align: right;\n",
       "    }\n",
       "</style>\n",
       "<table border=\"1\" class=\"dataframe\">\n",
       "  <thead>\n",
       "    <tr style=\"text-align: right;\">\n",
       "      <th></th>\n",
       "      <th>PatientAge</th>\n",
       "      <th>PatientSex</th>\n",
       "      <th>ViewPosition</th>\n",
       "      <th>dataset</th>\n",
       "      <th>PixelSpacing_x</th>\n",
       "      <th>x</th>\n",
       "      <th>y</th>\n",
       "      <th>width</th>\n",
       "      <th>height</th>\n",
       "      <th>Target</th>\n",
       "      <th>class</th>\n",
       "    </tr>\n",
       "  </thead>\n",
       "  <tbody>\n",
       "    <tr>\n",
       "      <th>0</th>\n",
       "      <td>38</td>\n",
       "      <td>F</td>\n",
       "      <td>AP</td>\n",
       "      <td>train</td>\n",
       "      <td>0.168</td>\n",
       "      <td>NaN</td>\n",
       "      <td>NaN</td>\n",
       "      <td>NaN</td>\n",
       "      <td>NaN</td>\n",
       "      <td>0.0</td>\n",
       "      <td>Normal</td>\n",
       "    </tr>\n",
       "    <tr>\n",
       "      <th>1</th>\n",
       "      <td>23</td>\n",
       "      <td>M</td>\n",
       "      <td>PA</td>\n",
       "      <td>train</td>\n",
       "      <td>0.143</td>\n",
       "      <td>NaN</td>\n",
       "      <td>NaN</td>\n",
       "      <td>NaN</td>\n",
       "      <td>NaN</td>\n",
       "      <td>0.0</td>\n",
       "      <td>No Lung Opacity / Not Normal</td>\n",
       "    </tr>\n",
       "    <tr>\n",
       "      <th>2</th>\n",
       "      <td>40</td>\n",
       "      <td>M</td>\n",
       "      <td>AP</td>\n",
       "      <td>train</td>\n",
       "      <td>0.139</td>\n",
       "      <td>NaN</td>\n",
       "      <td>NaN</td>\n",
       "      <td>NaN</td>\n",
       "      <td>NaN</td>\n",
       "      <td>0.0</td>\n",
       "      <td>No Lung Opacity / Not Normal</td>\n",
       "    </tr>\n",
       "    <tr>\n",
       "      <th>3</th>\n",
       "      <td>79</td>\n",
       "      <td>M</td>\n",
       "      <td>PA</td>\n",
       "      <td>train</td>\n",
       "      <td>0.171</td>\n",
       "      <td>NaN</td>\n",
       "      <td>NaN</td>\n",
       "      <td>NaN</td>\n",
       "      <td>NaN</td>\n",
       "      <td>0.0</td>\n",
       "      <td>No Lung Opacity / Not Normal</td>\n",
       "    </tr>\n",
       "    <tr>\n",
       "      <th>4</th>\n",
       "      <td>61</td>\n",
       "      <td>F</td>\n",
       "      <td>PA</td>\n",
       "      <td>train</td>\n",
       "      <td>0.171</td>\n",
       "      <td>NaN</td>\n",
       "      <td>NaN</td>\n",
       "      <td>NaN</td>\n",
       "      <td>NaN</td>\n",
       "      <td>0.0</td>\n",
       "      <td>Normal</td>\n",
       "    </tr>\n",
       "  </tbody>\n",
       "</table>\n",
       "</div>"
      ],
      "text/plain": [
       "   PatientAge PatientSex ViewPosition dataset  PixelSpacing_x   x   y  width  \\\n",
       "0          38          F           AP   train           0.168 NaN NaN    NaN   \n",
       "1          23          M           PA   train           0.143 NaN NaN    NaN   \n",
       "2          40          M           AP   train           0.139 NaN NaN    NaN   \n",
       "3          79          M           PA   train           0.171 NaN NaN    NaN   \n",
       "4          61          F           PA   train           0.171 NaN NaN    NaN   \n",
       "\n",
       "   height  Target                         class  \n",
       "0     NaN     0.0                        Normal  \n",
       "1     NaN     0.0  No Lung Opacity / Not Normal  \n",
       "2     NaN     0.0  No Lung Opacity / Not Normal  \n",
       "3     NaN     0.0  No Lung Opacity / Not Normal  \n",
       "4     NaN     0.0                        Normal  "
      ]
     },
     "execution_count": 33,
     "metadata": {},
     "output_type": "execute_result"
    }
   ],
   "source": [
    "df_features.head()"
   ]
  },
  {
   "cell_type": "code",
   "execution_count": 37,
   "metadata": {},
   "outputs": [],
   "source": [
    "X = df_features[df_features.dataset=='train'][['PatientAge', 'PatientSex', 'ViewPosition', 'PixelSpacing_x']]\n",
    "y = df_features[df_features.dataset=='train'][['Target']]"
   ]
  },
  {
   "cell_type": "code",
   "execution_count": 38,
   "metadata": {},
   "outputs": [
    {
     "data": {
      "text/html": [
       "<div>\n",
       "<style scoped>\n",
       "    .dataframe tbody tr th:only-of-type {\n",
       "        vertical-align: middle;\n",
       "    }\n",
       "\n",
       "    .dataframe tbody tr th {\n",
       "        vertical-align: top;\n",
       "    }\n",
       "\n",
       "    .dataframe thead th {\n",
       "        text-align: right;\n",
       "    }\n",
       "</style>\n",
       "<table border=\"1\" class=\"dataframe\">\n",
       "  <thead>\n",
       "    <tr style=\"text-align: right;\">\n",
       "      <th></th>\n",
       "      <th>PatientAge</th>\n",
       "      <th>PatientSex</th>\n",
       "      <th>ViewPosition</th>\n",
       "      <th>PixelSpacing_x</th>\n",
       "    </tr>\n",
       "  </thead>\n",
       "  <tbody>\n",
       "    <tr>\n",
       "      <th>0</th>\n",
       "      <td>38</td>\n",
       "      <td>F</td>\n",
       "      <td>AP</td>\n",
       "      <td>0.168</td>\n",
       "    </tr>\n",
       "    <tr>\n",
       "      <th>1</th>\n",
       "      <td>23</td>\n",
       "      <td>M</td>\n",
       "      <td>PA</td>\n",
       "      <td>0.143</td>\n",
       "    </tr>\n",
       "    <tr>\n",
       "      <th>2</th>\n",
       "      <td>40</td>\n",
       "      <td>M</td>\n",
       "      <td>AP</td>\n",
       "      <td>0.139</td>\n",
       "    </tr>\n",
       "    <tr>\n",
       "      <th>3</th>\n",
       "      <td>79</td>\n",
       "      <td>M</td>\n",
       "      <td>PA</td>\n",
       "      <td>0.171</td>\n",
       "    </tr>\n",
       "    <tr>\n",
       "      <th>4</th>\n",
       "      <td>61</td>\n",
       "      <td>F</td>\n",
       "      <td>PA</td>\n",
       "      <td>0.171</td>\n",
       "    </tr>\n",
       "  </tbody>\n",
       "</table>\n",
       "</div>"
      ],
      "text/plain": [
       "   PatientAge PatientSex ViewPosition  PixelSpacing_x\n",
       "0          38          F           AP           0.168\n",
       "1          23          M           PA           0.143\n",
       "2          40          M           AP           0.139\n",
       "3          79          M           PA           0.171\n",
       "4          61          F           PA           0.171"
      ]
     },
     "execution_count": 38,
     "metadata": {},
     "output_type": "execute_result"
    }
   ],
   "source": [
    "X.head()"
   ]
  },
  {
   "cell_type": "code",
   "execution_count": 39,
   "metadata": {},
   "outputs": [
    {
     "data": {
      "text/plain": [
       "Index(['PatientAge', 'PatientSex', 'ViewPosition', 'PixelSpacing_x'], dtype='object')"
      ]
     },
     "execution_count": 39,
     "metadata": {},
     "output_type": "execute_result"
    }
   ],
   "source": [
    "X.columns"
   ]
  },
  {
   "cell_type": "code",
   "execution_count": 40,
   "metadata": {},
   "outputs": [],
   "source": [
    "X_one_hot = pd.get_dummies(X)"
   ]
  },
  {
   "cell_type": "code",
   "execution_count": 41,
   "metadata": {},
   "outputs": [
    {
     "data": {
      "text/html": [
       "<div>\n",
       "<style scoped>\n",
       "    .dataframe tbody tr th:only-of-type {\n",
       "        vertical-align: middle;\n",
       "    }\n",
       "\n",
       "    .dataframe tbody tr th {\n",
       "        vertical-align: top;\n",
       "    }\n",
       "\n",
       "    .dataframe thead th {\n",
       "        text-align: right;\n",
       "    }\n",
       "</style>\n",
       "<table border=\"1\" class=\"dataframe\">\n",
       "  <thead>\n",
       "    <tr style=\"text-align: right;\">\n",
       "      <th></th>\n",
       "      <th>PatientAge</th>\n",
       "      <th>PixelSpacing_x</th>\n",
       "      <th>PatientSex_F</th>\n",
       "      <th>PatientSex_M</th>\n",
       "      <th>ViewPosition_AP</th>\n",
       "      <th>ViewPosition_PA</th>\n",
       "    </tr>\n",
       "  </thead>\n",
       "  <tbody>\n",
       "    <tr>\n",
       "      <th>0</th>\n",
       "      <td>38</td>\n",
       "      <td>0.168</td>\n",
       "      <td>1</td>\n",
       "      <td>0</td>\n",
       "      <td>1</td>\n",
       "      <td>0</td>\n",
       "    </tr>\n",
       "    <tr>\n",
       "      <th>1</th>\n",
       "      <td>23</td>\n",
       "      <td>0.143</td>\n",
       "      <td>0</td>\n",
       "      <td>1</td>\n",
       "      <td>0</td>\n",
       "      <td>1</td>\n",
       "    </tr>\n",
       "    <tr>\n",
       "      <th>2</th>\n",
       "      <td>40</td>\n",
       "      <td>0.139</td>\n",
       "      <td>0</td>\n",
       "      <td>1</td>\n",
       "      <td>1</td>\n",
       "      <td>0</td>\n",
       "    </tr>\n",
       "    <tr>\n",
       "      <th>3</th>\n",
       "      <td>79</td>\n",
       "      <td>0.171</td>\n",
       "      <td>0</td>\n",
       "      <td>1</td>\n",
       "      <td>0</td>\n",
       "      <td>1</td>\n",
       "    </tr>\n",
       "    <tr>\n",
       "      <th>4</th>\n",
       "      <td>61</td>\n",
       "      <td>0.171</td>\n",
       "      <td>1</td>\n",
       "      <td>0</td>\n",
       "      <td>0</td>\n",
       "      <td>1</td>\n",
       "    </tr>\n",
       "  </tbody>\n",
       "</table>\n",
       "</div>"
      ],
      "text/plain": [
       "   PatientAge  PixelSpacing_x  PatientSex_F  PatientSex_M  ViewPosition_AP  \\\n",
       "0          38           0.168             1             0                1   \n",
       "1          23           0.143             0             1                0   \n",
       "2          40           0.139             0             1                1   \n",
       "3          79           0.171             0             1                0   \n",
       "4          61           0.171             1             0                0   \n",
       "\n",
       "   ViewPosition_PA  \n",
       "0                0  \n",
       "1                1  \n",
       "2                0  \n",
       "3                1  \n",
       "4                1  "
      ]
     },
     "execution_count": 41,
     "metadata": {},
     "output_type": "execute_result"
    }
   ],
   "source": [
    "X_one_hot.head()"
   ]
  },
  {
   "cell_type": "code",
   "execution_count": null,
   "metadata": {},
   "outputs": [],
   "source": []
  },
  {
   "cell_type": "code",
   "execution_count": 42,
   "metadata": {},
   "outputs": [],
   "source": [
    "from xgboost import XGBRegressor"
   ]
  },
  {
   "cell_type": "code",
   "execution_count": 43,
   "metadata": {},
   "outputs": [],
   "source": [
    "split = int(0.9 * len(X))\n",
    "X_trn = X_one_hot[:split]\n",
    "X_val = X_one_hot[split:]\n",
    "y_trn = y[:split]\n",
    "y_val = y[split:]"
   ]
  },
  {
   "cell_type": "code",
   "execution_count": 81,
   "metadata": {},
   "outputs": [],
   "source": [
    "model = XGBRegressor(n_estimators=100, min_child_weight=1, objective='reg:logistic')"
   ]
  },
  {
   "cell_type": "code",
   "execution_count": 82,
   "metadata": {},
   "outputs": [
    {
     "data": {
      "text/plain": [
       "XGBRegressor(base_score=0.5, booster='gbtree', colsample_bylevel=1,\n",
       "       colsample_bytree=1, gamma=0, learning_rate=0.1, max_delta_step=0,\n",
       "       max_depth=3, min_child_weight=1, missing=None, n_estimators=100,\n",
       "       n_jobs=1, nthread=None, objective='reg:logistic', random_state=0,\n",
       "       reg_alpha=0, reg_lambda=1, scale_pos_weight=1, seed=None,\n",
       "       silent=True, subsample=1)"
      ]
     },
     "execution_count": 82,
     "metadata": {},
     "output_type": "execute_result"
    }
   ],
   "source": [
    "model.fit(X_trn, y_trn)"
   ]
  },
  {
   "cell_type": "code",
   "execution_count": 83,
   "metadata": {},
   "outputs": [
    {
     "data": {
      "text/plain": [
       "array([0.51393807, 0.51393807, 0.5303191 , ..., 0.13734649, 0.49654263,\n",
       "       0.11519517], dtype=float32)"
      ]
     },
     "execution_count": 83,
     "metadata": {},
     "output_type": "execute_result"
    }
   ],
   "source": [
    "model.predict(X_val)"
   ]
  },
  {
   "cell_type": "code",
   "execution_count": 84,
   "metadata": {},
   "outputs": [
    {
     "name": "stdout",
     "output_type": "stream",
     "text": [
      "(2899, 1)\n"
     ]
    }
   ],
   "source": [
    "print(y_val.shape)"
   ]
  },
  {
   "cell_type": "code",
   "execution_count": 85,
   "metadata": {},
   "outputs": [
    {
     "name": "stdout",
     "output_type": "stream",
     "text": [
      "<class 'numpy.ndarray'>\n"
     ]
    }
   ],
   "source": [
    "print(type(model.predict(X_val)))"
   ]
  },
  {
   "cell_type": "code",
   "execution_count": 86,
   "metadata": {},
   "outputs": [
    {
     "name": "stdout",
     "output_type": "stream",
     "text": [
      "0.3482319433711117\n"
     ]
    }
   ],
   "source": [
    "print(np.mean(np.abs(y_val.values[:, 0] - model.predict(X_val))))"
   ]
  },
  {
   "cell_type": "code",
   "execution_count": 50,
   "metadata": {},
   "outputs": [
    {
     "data": {
      "text/plain": [
       "array([0.5203189 , 0.5203189 , 0.520746  , ..., 0.1353971 , 0.49521974,\n",
       "       0.12526909], dtype=float32)"
      ]
     },
     "execution_count": 50,
     "metadata": {},
     "output_type": "execute_result"
    }
   ],
   "source": [
    "model.predict(X_val)"
   ]
  },
  {
   "cell_type": "code",
   "execution_count": null,
   "metadata": {},
   "outputs": [],
   "source": []
  }
 ],
 "metadata": {
  "kernelspec": {
   "display_name": "Python 3",
   "language": "python",
   "name": "python3"
  },
  "language_info": {
   "codemirror_mode": {
    "name": "ipython",
    "version": 3
   },
   "file_extension": ".py",
   "mimetype": "text/x-python",
   "name": "python",
   "nbconvert_exporter": "python",
   "pygments_lexer": "ipython3",
   "version": "3.5.2"
  }
 },
 "nbformat": 4,
 "nbformat_minor": 2
}
