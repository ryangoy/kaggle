{
 "cells": [
  {
   "cell_type": "code",
   "execution_count": 1,
   "metadata": {
    "collapsed": true
   },
   "outputs": [],
   "source": [
    "import kagglegym\n",
    "import numpy as np\n",
    "import pandas as pd\n",
    "import random\n",
    "from sklearn import ensemble, linear_model, metrics, feature_selection, neighbors\n",
    "import math"
   ]
  },
  {
   "cell_type": "code",
   "execution_count": 2,
   "metadata": {
    "collapsed": true
   },
   "outputs": [],
   "source": [
    "# Configuration\n",
    "# ========================================================================================\n",
    "\n",
    "add_na_indicators = True\n",
    "add_diff_features = True\n",
    "na_indicator_cols = ['technical_9', 'technical_0', 'technical_32', 'technical_16', \n",
    "    'technical_38', 'technical_44', 'technical_20', 'technical_30', 'technical_13'] \n",
    "    # allegedly selected by tree-based algorithms\n",
    "diff_cols = ['technical_22', 'technical_20', 'technical_30', 'technical_13', \n",
    "    'technical_34'] # also allegedly selected by tree-based algorithms\n",
    "univar_rlm_cols = ['technical_22', 'technical_20', 'technical_30_d1', 'technical_20_d1',\n",
    "    'technical_30', 'technical_13', 'technical_34']\n",
    "useful_columns = ['technical_20', 'technical_30', 'fundamental_11',\n",
    "                  'technical_40', 'technical_19', 'technical_11', \n",
    "                  'technical_7', 'fundamental_53', 'fundamental_51',\n",
    "                  'technical_22_d1', 'technical_20_d1', 'technical_30_d1', 'technical_13_d1']\n",
    "nr_l2_best_models = 10\n",
    "wrlm_quant = 0.99\n",
    "wrlm_min_trainset_fraction = 0.9\n",
    "wslm_n_covar_sets = 30\n",
    "wslm_max_nr_covars_per_set = 3\n",
    "wslm_max_abs_y = 0.086\n",
    "l1_et_n_estimators = 100\n",
    "l1_et_max_depth = 4\n",
    "l3_et_n_estimators = 100\n",
    "l3_et_max_depth = 4\n",
    "rnd_seed = 17"
   ]
  },
  {
   "cell_type": "code",
   "execution_count": 3,
   "metadata": {
    "collapsed": true
   },
   "outputs": [],
   "source": [
    "# A custom function to compute the R score\n",
    "def get_reward(y_true, y_fit):\n",
    "    R2 = 1 - np.sum((y_true - y_fit)**2) / np.sum((y_true - np.mean(y_true))**2)\n",
    "    R = np.sign(R2) * math.sqrt(abs(R2))\n",
    "    return(R)\n"
   ]
  },
  {
   "cell_type": "code",
   "execution_count": 4,
   "metadata": {
    "collapsed": false
   },
   "outputs": [],
   "source": [
    "class stepwise_regressors:\n",
    "    def __init__(self):\n",
    "        self.estimators = [ensemble.ExtraTreesRegressor(),\n",
    "                            linear_model.LinearRegression(),\n",
    "                           linear_model.LinearRegression(normalize=True),\n",
    "                             linear_model.ElasticNet(alpha = 0.0001),\n",
    "                             linear_model.ElasticNet(normalize=True),\n",
    "                            linear_model.Lasso(),\n",
    "                            linear_model.Lasso(normalize=True),\n",
    "                            linear_model.Ridge(),\n",
    "                            linear_model.Ridge(normalize=True),\n",
    "                            linear_model.LassoLars(),\n",
    "                            linear_model.BayesianRidge(),\n",
    "                          ]\n",
    "        self.models = []\n",
    "        self.selected_features = []\n",
    "        self.ts_intervals = [0, 300, 600, 1000]\n",
    "        \n",
    "    def fit(self, data):\n",
    "        for i in range(len(self.ts_intervals)-1):\n",
    "            for estimator in self.estimators:\n",
    "                selector = feature_selection.RFE(estimator, step=2,  \n",
    "                                 verbose=0,n_features_to_select=3,\n",
    "                                 #scoring=metrics.make_scorer(metrics.r2_score)\n",
    "                                                  )\n",
    "                \n",
    "                train = data[data['timestamp'] > self.ts_intervals[i]]\n",
    "                train = train[train['timestamp'] < self.ts_intervals[i+1]]\n",
    "                sinput = train.drop('y',1)\n",
    "                selector = selector.fit(sinput, train.y.values)\n",
    "                selected_indices = [k for k in range(len(selector.support_)) if selector.support_[k]]\n",
    "                selected_columns = sinput.columns[selector.support_]\n",
    "                self.selected_features.append(selected_columns)\n",
    "                self.models.append(estimator.fit(train[selected_columns], train.y.values))\n",
    "                print(\"Fit estimator {} with features {} for ts {} to {}\".format(\n",
    "                    estimator, selected_columns, self.ts_intervals[i], self.ts_intervals[i+1]))\n",
    "\n",
    "    def predict(self, X):\n",
    "        stacked = pd.DataFrame()\n",
    "        index = 0\n",
    "        for model in self.models:\n",
    "            stacked['stacked_'+str(index)] = model.predict(X[self.selected_features[index]])\n",
    "            index += 1\n",
    "        return stacked"
   ]
  },
  {
   "cell_type": "code",
   "execution_count": 5,
   "metadata": {
    "collapsed": false
   },
   "outputs": [
    {
     "name": "stdout",
     "output_type": "stream",
     "text": [
      "Initializing\n"
     ]
    }
   ],
   "source": [
    "print('Initializing')\n",
    "random.seed(rnd_seed)\n",
    "env = kagglegym.make()\n",
    "obs = env.reset()\n",
    "\n",
    "train = obs.train"
   ]
  },
  {
   "cell_type": "code",
   "execution_count": 6,
   "metadata": {
    "collapsed": false
   },
   "outputs": [
    {
     "name": "stdout",
     "output_type": "stream",
     "text": [
      "Adding missing value counts per row\n",
      "Adding missing value indicators\n",
      "Adding diff features\n"
     ]
    }
   ],
   "source": [
    "train_median = train.median(axis=0)\n",
    "\n",
    "print('Adding missing value counts per row')\n",
    "train['nr_missing'] = train.isnull().sum(axis = 1)\n",
    "\n",
    "print('Adding missing value indicators')\n",
    "if add_na_indicators:\n",
    "    for col in na_indicator_cols:\n",
    "        train[col + '_isna'] = pd.isnull(train[col]).apply(lambda x: 1 if x else 0)\n",
    "        if len(train[col + '_isna'].unique()) == 1:\n",
    "            print('Dropped constant missingness indicator:', col, '_isna')\n",
    "            del train[col + '_isna']\n",
    "            na_indicator_cols.remove(col)\n",
    "            \n",
    "print('Adding diff features')\n",
    "if add_diff_features:\n",
    "    train = train.sort_values(by = ['id', 'timestamp'])\n",
    "    for col in diff_cols:\n",
    "        # FIXME: why not group by (id, ts)? why only a lag of 1 sample?\n",
    "        train[col + '_d1'] = train[col].rolling(2).apply(lambda x: x[1] - x[0]).fillna(0)\n",
    "    train = train[train.timestamp != 0] # Drop first timestamp that had no diffs \n",
    "    #(FIXME can be confusing; why not leave missing?)\n",
    "\n",
    "# We're going to use all of these features for modeling\n",
    "# base_features = [x for x in train.columns if x not in ['id',  'y']]\n",
    "# labels = train['y']"
   ]
  },
  {
   "cell_type": "code",
   "execution_count": 7,
   "metadata": {
    "collapsed": false
   },
   "outputs": [],
   "source": [
    "train = train.fillna(train_median)"
   ]
  },
  {
   "cell_type": "code",
   "execution_count": null,
   "metadata": {
    "collapsed": true
   },
   "outputs": [],
   "source": []
  },
  {
   "cell_type": "code",
   "execution_count": null,
   "metadata": {
    "collapsed": false
   },
   "outputs": [],
   "source": [
    "sr = stepwise_regressors()\n",
    "base_features = [x for x in train.columns if x not in ['id',  'y']]\n",
    "sr.fit(train)"
   ]
  },
  {
   "cell_type": "code",
   "execution_count": null,
   "metadata": {
    "collapsed": false
   },
   "outputs": [],
   "source": [
    "preds = sr.predict(train)\n",
    "preds[::100000]"
   ]
  },
  {
   "cell_type": "code",
   "execution_count": null,
   "metadata": {
    "collapsed": false
   },
   "outputs": [],
   "source": [
    "keep_columns = []\n",
    "for cname in preds.columns:\n",
    "    if get_reward(train.y.values, preds[cname]) > 0.0:\n",
    "        keep_columns.append(cname)\n",
    "print keep_columns\n",
    "preds = preds[keep_columns]\n",
    "train_df = preds.loc[:,preds.std()>1e-5]"
   ]
  },
  {
   "cell_type": "code",
   "execution_count": null,
   "metadata": {
    "collapsed": false
   },
   "outputs": [],
   "source": [
    "train_df[::100000]"
   ]
  },
  {
   "cell_type": "code",
   "execution_count": null,
   "metadata": {
    "collapsed": false
   },
   "outputs": [],
   "source": [
    "l1 = ensemble.ExtraTreesRegressor(n_estimators = l1_et_n_estimators, \n",
    "    max_depth = l1_et_max_depth, n_jobs = -1, random_state = rnd_seed, verbose = 0)\n",
    "l1.fit(train_df[:400000], train.y.values[:400000])\n",
    "get_reward(l1.predict(train_df[400000:]), train.y.values[400000:])"
   ]
  },
  {
   "cell_type": "code",
   "execution_count": null,
   "metadata": {
    "collapsed": false
   },
   "outputs": [],
   "source": [
    "print l1.predict(train_df[400000:400020])\n",
    "print train.y.values[400000:400020]"
   ]
  },
  {
   "cell_type": "code",
   "execution_count": null,
   "metadata": {
    "collapsed": true
   },
   "outputs": [],
   "source": [
    "start = 400000\n",
    "end =   500000\n",
    "val =   600000"
   ]
  },
  {
   "cell_type": "code",
   "execution_count": null,
   "metadata": {
    "collapsed": false
   },
   "outputs": [],
   "source": [
    "lr = linear_model.LinearRegression(normalize=True)\n",
    "lr.fit(train[['technical_20', 'technical_30']][start:end], labels[start:end])"
   ]
  },
  {
   "cell_type": "code",
   "execution_count": null,
   "metadata": {
    "collapsed": false
   },
   "outputs": [],
   "source": [
    "lr.predict(train[['technical_20', 'technical_30']])[::10000]"
   ]
  },
  {
   "cell_type": "code",
   "execution_count": null,
   "metadata": {
    "collapsed": false
   },
   "outputs": [],
   "source": [
    "print get_reward(labels[end:val], lr.predict(train[['technical_20', 'technical_30']][end:val]))"
   ]
  },
  {
   "cell_type": "code",
   "execution_count": null,
   "metadata": {
    "collapsed": true
   },
   "outputs": [],
   "source": []
  },
  {
   "cell_type": "code",
   "execution_count": null,
   "metadata": {
    "collapsed": true
   },
   "outputs": [],
   "source": []
  }
 ],
 "metadata": {
  "kernelspec": {
   "display_name": "Python [default]",
   "language": "python",
   "name": "python2"
  },
  "language_info": {
   "codemirror_mode": {
    "name": "ipython",
    "version": 2
   },
   "file_extension": ".py",
   "mimetype": "text/x-python",
   "name": "python",
   "nbconvert_exporter": "python",
   "pygments_lexer": "ipython2",
   "version": "2.7.13"
  }
 },
 "nbformat": 4,
 "nbformat_minor": 2
}
